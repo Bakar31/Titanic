{
 "cells": [
  {
   "cell_type": "code",
   "execution_count": 1,
   "id": "inside-lambda",
   "metadata": {
    "execution": {
     "iopub.execute_input": "2021-06-21T15:16:47.055035Z",
     "iopub.status.busy": "2021-06-21T15:16:47.053569Z",
     "iopub.status.idle": "2021-06-21T15:16:47.971017Z",
     "shell.execute_reply": "2021-06-21T15:16:47.972134Z",
     "shell.execute_reply.started": "2021-06-21T13:16:21.257126Z"
    },
    "papermill": {
     "duration": 1.011042,
     "end_time": "2021-06-21T15:16:47.972503",
     "exception": false,
     "start_time": "2021-06-21T15:16:46.961461",
     "status": "completed"
    },
    "tags": []
   },
   "outputs": [],
   "source": [
    "#importing basic libraries\n",
    "import numpy as np\n",
    "import pandas as pd\n",
    "import matplotlib.pyplot as plt\n",
    "import seaborn as sns\n",
    "%matplotlib inline"
   ]
  },
  {
   "cell_type": "code",
   "execution_count": 2,
   "id": "driving-florence",
   "metadata": {
    "execution": {
     "iopub.execute_input": "2021-06-21T15:16:48.222383Z",
     "iopub.status.busy": "2021-06-21T15:16:48.221814Z",
     "iopub.status.idle": "2021-06-21T15:16:48.245027Z",
     "shell.execute_reply": "2021-06-21T15:16:48.244582Z",
     "shell.execute_reply.started": "2021-06-21T13:16:37.849464Z"
    },
    "papermill": {
     "duration": 0.11963,
     "end_time": "2021-06-21T15:16:48.245139",
     "exception": false,
     "start_time": "2021-06-21T15:16:48.125509",
     "status": "completed"
    },
    "tags": []
   },
   "outputs": [],
   "source": [
    "train = pd.read_csv('../input/titanic/train.csv')\n",
    "test = pd.read_csv('../input/titanic/test.csv')"
   ]
  },
  {
   "cell_type": "code",
   "execution_count": 3,
   "id": "fleet-today",
   "metadata": {
    "execution": {
     "iopub.execute_input": "2021-06-21T15:16:48.439933Z",
     "iopub.status.busy": "2021-06-21T15:16:48.438824Z",
     "iopub.status.idle": "2021-06-21T15:16:48.450319Z",
     "shell.execute_reply": "2021-06-21T15:16:48.450730Z",
     "shell.execute_reply.started": "2021-06-21T13:16:38.069604Z"
    },
    "papermill": {
     "duration": 0.118261,
     "end_time": "2021-06-21T15:16:48.450858",
     "exception": false,
     "start_time": "2021-06-21T15:16:48.332597",
     "status": "completed"
    },
    "tags": []
   },
   "outputs": [
    {
     "data": {
      "text/html": [
       "<div>\n",
       "<style scoped>\n",
       "    .dataframe tbody tr th:only-of-type {\n",
       "        vertical-align: middle;\n",
       "    }\n",
       "\n",
       "    .dataframe tbody tr th {\n",
       "        vertical-align: top;\n",
       "    }\n",
       "\n",
       "    .dataframe thead th {\n",
       "        text-align: right;\n",
       "    }\n",
       "</style>\n",
       "<table border=\"1\" class=\"dataframe\">\n",
       "  <thead>\n",
       "    <tr style=\"text-align: right;\">\n",
       "      <th></th>\n",
       "      <th>PassengerId</th>\n",
       "      <th>Survived</th>\n",
       "      <th>Pclass</th>\n",
       "      <th>Name</th>\n",
       "      <th>Sex</th>\n",
       "      <th>Age</th>\n",
       "      <th>SibSp</th>\n",
       "      <th>Parch</th>\n",
       "      <th>Ticket</th>\n",
       "      <th>Fare</th>\n",
       "      <th>Cabin</th>\n",
       "      <th>Embarked</th>\n",
       "    </tr>\n",
       "  </thead>\n",
       "  <tbody>\n",
       "    <tr>\n",
       "      <th>0</th>\n",
       "      <td>1</td>\n",
       "      <td>0</td>\n",
       "      <td>3</td>\n",
       "      <td>Braund, Mr. Owen Harris</td>\n",
       "      <td>male</td>\n",
       "      <td>22.0</td>\n",
       "      <td>1</td>\n",
       "      <td>0</td>\n",
       "      <td>A/5 21171</td>\n",
       "      <td>7.2500</td>\n",
       "      <td>NaN</td>\n",
       "      <td>S</td>\n",
       "    </tr>\n",
       "    <tr>\n",
       "      <th>1</th>\n",
       "      <td>2</td>\n",
       "      <td>1</td>\n",
       "      <td>1</td>\n",
       "      <td>Cumings, Mrs. John Bradley (Florence Briggs Th...</td>\n",
       "      <td>female</td>\n",
       "      <td>38.0</td>\n",
       "      <td>1</td>\n",
       "      <td>0</td>\n",
       "      <td>PC 17599</td>\n",
       "      <td>71.2833</td>\n",
       "      <td>C85</td>\n",
       "      <td>C</td>\n",
       "    </tr>\n",
       "    <tr>\n",
       "      <th>2</th>\n",
       "      <td>3</td>\n",
       "      <td>1</td>\n",
       "      <td>3</td>\n",
       "      <td>Heikkinen, Miss. Laina</td>\n",
       "      <td>female</td>\n",
       "      <td>26.0</td>\n",
       "      <td>0</td>\n",
       "      <td>0</td>\n",
       "      <td>STON/O2. 3101282</td>\n",
       "      <td>7.9250</td>\n",
       "      <td>NaN</td>\n",
       "      <td>S</td>\n",
       "    </tr>\n",
       "    <tr>\n",
       "      <th>3</th>\n",
       "      <td>4</td>\n",
       "      <td>1</td>\n",
       "      <td>1</td>\n",
       "      <td>Futrelle, Mrs. Jacques Heath (Lily May Peel)</td>\n",
       "      <td>female</td>\n",
       "      <td>35.0</td>\n",
       "      <td>1</td>\n",
       "      <td>0</td>\n",
       "      <td>113803</td>\n",
       "      <td>53.1000</td>\n",
       "      <td>C123</td>\n",
       "      <td>S</td>\n",
       "    </tr>\n",
       "    <tr>\n",
       "      <th>4</th>\n",
       "      <td>5</td>\n",
       "      <td>0</td>\n",
       "      <td>3</td>\n",
       "      <td>Allen, Mr. William Henry</td>\n",
       "      <td>male</td>\n",
       "      <td>35.0</td>\n",
       "      <td>0</td>\n",
       "      <td>0</td>\n",
       "      <td>373450</td>\n",
       "      <td>8.0500</td>\n",
       "      <td>NaN</td>\n",
       "      <td>S</td>\n",
       "    </tr>\n",
       "  </tbody>\n",
       "</table>\n",
       "</div>"
      ],
      "text/plain": [
       "   PassengerId  Survived  Pclass  \\\n",
       "0            1         0       3   \n",
       "1            2         1       1   \n",
       "2            3         1       3   \n",
       "3            4         1       1   \n",
       "4            5         0       3   \n",
       "\n",
       "                                                Name     Sex   Age  SibSp  \\\n",
       "0                            Braund, Mr. Owen Harris    male  22.0      1   \n",
       "1  Cumings, Mrs. John Bradley (Florence Briggs Th...  female  38.0      1   \n",
       "2                             Heikkinen, Miss. Laina  female  26.0      0   \n",
       "3       Futrelle, Mrs. Jacques Heath (Lily May Peel)  female  35.0      1   \n",
       "4                           Allen, Mr. William Henry    male  35.0      0   \n",
       "\n",
       "   Parch            Ticket     Fare Cabin Embarked  \n",
       "0      0         A/5 21171   7.2500   NaN        S  \n",
       "1      0          PC 17599  71.2833   C85        C  \n",
       "2      0  STON/O2. 3101282   7.9250   NaN        S  \n",
       "3      0            113803  53.1000  C123        S  \n",
       "4      0            373450   8.0500   NaN        S  "
      ]
     },
     "execution_count": 3,
     "metadata": {},
     "output_type": "execute_result"
    }
   ],
   "source": [
    "train.head()"
   ]
  },
  {
   "cell_type": "code",
   "execution_count": 4,
   "id": "funky-wells",
   "metadata": {
    "execution": {
     "iopub.execute_input": "2021-06-21T15:16:48.631798Z",
     "iopub.status.busy": "2021-06-21T15:16:48.631112Z",
     "iopub.status.idle": "2021-06-21T15:16:48.634079Z",
     "shell.execute_reply": "2021-06-21T15:16:48.634506Z",
     "shell.execute_reply.started": "2021-06-21T13:16:40.985867Z"
    },
    "papermill": {
     "duration": 0.095826,
     "end_time": "2021-06-21T15:16:48.634640",
     "exception": false,
     "start_time": "2021-06-21T15:16:48.538814",
     "status": "completed"
    },
    "tags": []
   },
   "outputs": [
    {
     "data": {
      "text/plain": [
       "((891, 12), (418, 11))"
      ]
     },
     "execution_count": 4,
     "metadata": {},
     "output_type": "execute_result"
    }
   ],
   "source": [
    "train.shape, test.shape"
   ]
  },
  {
   "cell_type": "markdown",
   "id": "verbal-english",
   "metadata": {
    "papermill": {
     "duration": 0.087762,
     "end_time": "2021-06-21T15:16:48.809911",
     "exception": false,
     "start_time": "2021-06-21T15:16:48.722149",
     "status": "completed"
    },
    "tags": []
   },
   "source": [
    "## Data Preprocessing on Train data\n",
    "\n",
    "Removing columns that we don't need"
   ]
  },
  {
   "cell_type": "code",
   "execution_count": 5,
   "id": "lesbian-apparel",
   "metadata": {
    "execution": {
     "iopub.execute_input": "2021-06-21T15:16:48.994478Z",
     "iopub.status.busy": "2021-06-21T15:16:48.993130Z",
     "iopub.status.idle": "2021-06-21T15:16:48.995528Z",
     "shell.execute_reply": "2021-06-21T15:16:48.995907Z",
     "shell.execute_reply.started": "2021-06-21T13:16:43.762396Z"
    },
    "papermill": {
     "duration": 0.096153,
     "end_time": "2021-06-21T15:16:48.996071",
     "exception": false,
     "start_time": "2021-06-21T15:16:48.899918",
     "status": "completed"
    },
    "tags": []
   },
   "outputs": [],
   "source": [
    "train.drop(['PassengerId', 'Name', 'Ticket', 'Cabin'], axis = 1, inplace = True)"
   ]
  },
  {
   "cell_type": "markdown",
   "id": "indoor-nitrogen",
   "metadata": {
    "papermill": {
     "duration": 0.101646,
     "end_time": "2021-06-21T15:16:49.188356",
     "exception": false,
     "start_time": "2021-06-21T15:16:49.086710",
     "status": "completed"
    },
    "tags": []
   },
   "source": [
    "Checking for null values"
   ]
  },
  {
   "cell_type": "code",
   "execution_count": 6,
   "id": "qualified-moderator",
   "metadata": {
    "execution": {
     "iopub.execute_input": "2021-06-21T15:16:49.402115Z",
     "iopub.status.busy": "2021-06-21T15:16:49.401326Z",
     "iopub.status.idle": "2021-06-21T15:16:49.404818Z",
     "shell.execute_reply": "2021-06-21T15:16:49.405270Z",
     "shell.execute_reply.started": "2021-06-21T13:16:47.351445Z"
    },
    "papermill": {
     "duration": 0.11328,
     "end_time": "2021-06-21T15:16:49.405419",
     "exception": false,
     "start_time": "2021-06-21T15:16:49.292139",
     "status": "completed"
    },
    "tags": []
   },
   "outputs": [
    {
     "data": {
      "text/plain": [
       "Survived      0\n",
       "Pclass        0\n",
       "Sex           0\n",
       "Age         177\n",
       "SibSp         0\n",
       "Parch         0\n",
       "Fare          0\n",
       "Embarked      2\n",
       "dtype: int64"
      ]
     },
     "execution_count": 6,
     "metadata": {},
     "output_type": "execute_result"
    }
   ],
   "source": [
    "train.isna().sum()"
   ]
  },
  {
   "cell_type": "markdown",
   "id": "standing-pasta",
   "metadata": {
    "papermill": {
     "duration": 0.094071,
     "end_time": "2021-06-21T15:16:49.595766",
     "exception": false,
     "start_time": "2021-06-21T15:16:49.501695",
     "status": "completed"
    },
    "tags": []
   },
   "source": [
    "We have null values in two columns. Let's take care of this problem.\n",
    "\n",
    "Let's fill the null values of age columns with the mean values"
   ]
  },
  {
   "cell_type": "code",
   "execution_count": 7,
   "id": "radio-blood",
   "metadata": {
    "execution": {
     "iopub.execute_input": "2021-06-21T15:16:49.788713Z",
     "iopub.status.busy": "2021-06-21T15:16:49.787815Z",
     "iopub.status.idle": "2021-06-21T15:16:49.790009Z",
     "shell.execute_reply": "2021-06-21T15:16:49.790408Z",
     "shell.execute_reply.started": "2021-06-21T13:16:50.730742Z"
    },
    "papermill": {
     "duration": 0.100167,
     "end_time": "2021-06-21T15:16:49.790567",
     "exception": false,
     "start_time": "2021-06-21T15:16:49.690400",
     "status": "completed"
    },
    "tags": []
   },
   "outputs": [],
   "source": [
    "train['Age'].fillna(train['Age'].mean(), inplace = True)"
   ]
  },
  {
   "cell_type": "markdown",
   "id": "first-privacy",
   "metadata": {
    "papermill": {
     "duration": 0.09709,
     "end_time": "2021-06-21T15:16:49.979357",
     "exception": false,
     "start_time": "2021-06-21T15:16:49.882267",
     "status": "completed"
    },
    "tags": []
   },
   "source": [
    "Now we have to take care of null values of Embarked column.\n",
    "\n",
    "Let's first check which embarkation port we have most in our dataset."
   ]
  },
  {
   "cell_type": "code",
   "execution_count": 8,
   "id": "bronze-child",
   "metadata": {
    "execution": {
     "iopub.execute_input": "2021-06-21T15:16:50.170916Z",
     "iopub.status.busy": "2021-06-21T15:16:50.170353Z",
     "iopub.status.idle": "2021-06-21T15:16:50.175291Z",
     "shell.execute_reply": "2021-06-21T15:16:50.174855Z",
     "shell.execute_reply.started": "2021-06-21T13:16:53.694192Z"
    },
    "papermill": {
     "duration": 0.104534,
     "end_time": "2021-06-21T15:16:50.175403",
     "exception": false,
     "start_time": "2021-06-21T15:16:50.070869",
     "status": "completed"
    },
    "tags": []
   },
   "outputs": [
    {
     "data": {
      "text/plain": [
       "S    644\n",
       "C    168\n",
       "Q     77\n",
       "Name: Embarked, dtype: int64"
      ]
     },
     "execution_count": 8,
     "metadata": {},
     "output_type": "execute_result"
    }
   ],
   "source": [
    "train.Embarked.value_counts()"
   ]
  },
  {
   "cell_type": "markdown",
   "id": "sought-peter",
   "metadata": {
    "papermill": {
     "duration": 0.089009,
     "end_time": "2021-06-21T15:16:50.353895",
     "exception": false,
     "start_time": "2021-06-21T15:16:50.264886",
     "status": "completed"
    },
    "tags": []
   },
   "source": [
    "`Southampton` is the top port of embarkation. So, let's fill the null values with `S`"
   ]
  },
  {
   "cell_type": "code",
   "execution_count": 9,
   "id": "excited-operations",
   "metadata": {
    "execution": {
     "iopub.execute_input": "2021-06-21T15:16:50.538742Z",
     "iopub.status.busy": "2021-06-21T15:16:50.537913Z",
     "iopub.status.idle": "2021-06-21T15:16:50.540447Z",
     "shell.execute_reply": "2021-06-21T15:16:50.540027Z",
     "shell.execute_reply.started": "2021-06-21T13:16:56.496500Z"
    },
    "papermill": {
     "duration": 0.095941,
     "end_time": "2021-06-21T15:16:50.540564",
     "exception": false,
     "start_time": "2021-06-21T15:16:50.444623",
     "status": "completed"
    },
    "tags": []
   },
   "outputs": [],
   "source": [
    "train['Embarked'].fillna('S', inplace = True)"
   ]
  },
  {
   "cell_type": "markdown",
   "id": "addressed-david",
   "metadata": {
    "papermill": {
     "duration": 0.087938,
     "end_time": "2021-06-21T15:16:50.716797",
     "exception": false,
     "start_time": "2021-06-21T15:16:50.628859",
     "status": "completed"
    },
    "tags": []
   },
   "source": [
    "Let's check again for null values."
   ]
  },
  {
   "cell_type": "code",
   "execution_count": 10,
   "id": "middle-execution",
   "metadata": {
    "execution": {
     "iopub.execute_input": "2021-06-21T15:16:50.900256Z",
     "iopub.status.busy": "2021-06-21T15:16:50.899523Z",
     "iopub.status.idle": "2021-06-21T15:16:50.903094Z",
     "shell.execute_reply": "2021-06-21T15:16:50.902690Z",
     "shell.execute_reply.started": "2021-06-21T13:16:59.016744Z"
    },
    "papermill": {
     "duration": 0.097964,
     "end_time": "2021-06-21T15:16:50.903210",
     "exception": false,
     "start_time": "2021-06-21T15:16:50.805246",
     "status": "completed"
    },
    "tags": []
   },
   "outputs": [
    {
     "data": {
      "text/plain": [
       "Survived    0\n",
       "Pclass      0\n",
       "Sex         0\n",
       "Age         0\n",
       "SibSp       0\n",
       "Parch       0\n",
       "Fare        0\n",
       "Embarked    0\n",
       "dtype: int64"
      ]
     },
     "execution_count": 10,
     "metadata": {},
     "output_type": "execute_result"
    }
   ],
   "source": [
    "train.isna().sum()"
   ]
  },
  {
   "cell_type": "markdown",
   "id": "twenty-thriller",
   "metadata": {
    "papermill": {
     "duration": 0.08865,
     "end_time": "2021-06-21T15:16:51.081024",
     "exception": false,
     "start_time": "2021-06-21T15:16:50.992374",
     "status": "completed"
    },
    "tags": []
   },
   "source": [
    "**Nice!**\n",
    "\n",
    "We don't any null values now"
   ]
  },
  {
   "cell_type": "markdown",
   "id": "seeing-palestinian",
   "metadata": {
    "papermill": {
     "duration": 0.087837,
     "end_time": "2021-06-21T15:16:51.257689",
     "exception": false,
     "start_time": "2021-06-21T15:16:51.169852",
     "status": "completed"
    },
    "tags": []
   },
   "source": [
    "# Data Exploration on Train set"
   ]
  },
  {
   "cell_type": "markdown",
   "id": "separated-municipality",
   "metadata": {
    "papermill": {
     "duration": 0.087853,
     "end_time": "2021-06-21T15:16:51.434239",
     "exception": false,
     "start_time": "2021-06-21T15:16:51.346386",
     "status": "completed"
    },
    "tags": []
   },
   "source": [
    "Let's first check how many people survived"
   ]
  },
  {
   "cell_type": "code",
   "execution_count": 11,
   "id": "foster-import",
   "metadata": {
    "execution": {
     "iopub.execute_input": "2021-06-21T15:16:51.618204Z",
     "iopub.status.busy": "2021-06-21T15:16:51.617338Z",
     "iopub.status.idle": "2021-06-21T15:16:51.621828Z",
     "shell.execute_reply": "2021-06-21T15:16:51.621396Z",
     "shell.execute_reply.started": "2021-06-21T13:17:02.389858Z"
    },
    "papermill": {
     "duration": 0.097687,
     "end_time": "2021-06-21T15:16:51.621941",
     "exception": false,
     "start_time": "2021-06-21T15:16:51.524254",
     "status": "completed"
    },
    "tags": []
   },
   "outputs": [
    {
     "data": {
      "text/plain": [
       "0    549\n",
       "1    342\n",
       "Name: Survived, dtype: int64"
      ]
     },
     "execution_count": 11,
     "metadata": {},
     "output_type": "execute_result"
    }
   ],
   "source": [
    "train.Survived.value_counts()"
   ]
  },
  {
   "cell_type": "code",
   "execution_count": 12,
   "id": "modified-specific",
   "metadata": {
    "execution": {
     "iopub.execute_input": "2021-06-21T15:16:51.802310Z",
     "iopub.status.busy": "2021-06-21T15:16:51.801747Z",
     "iopub.status.idle": "2021-06-21T15:16:51.938767Z",
     "shell.execute_reply": "2021-06-21T15:16:51.938338Z",
     "shell.execute_reply.started": "2021-06-21T13:17:05.066285Z"
    },
    "papermill": {
     "duration": 0.228843,
     "end_time": "2021-06-21T15:16:51.938879",
     "exception": false,
     "start_time": "2021-06-21T15:16:51.710036",
     "status": "completed"
    },
    "tags": []
   },
   "outputs": [
    {
     "data": {
      "image/png": "[encoded data removed]",
      "text/plain": [
       "<Figure size 432x288 with 1 Axes>"
      ]
     },
     "metadata": {
      "needs_background": "light"
     },
     "output_type": "display_data"
    }
   ],
   "source": [
    "train.Survived.value_counts().plot(kind = 'bar', color = ['lightblue', 'lightgreen']);"
   ]
  },
  {
   "cell_type": "markdown",
   "id": "threatened-mitchell",
   "metadata": {
    "papermill": {
     "duration": 0.090598,
     "end_time": "2021-06-21T15:16:52.118842",
     "exception": false,
     "start_time": "2021-06-21T15:16:52.028244",
     "status": "completed"
    },
    "tags": []
   },
   "source": [
    "Let's check how many male and female was there"
   ]
  },
  {
   "cell_type": "code",
   "execution_count": 13,
   "id": "disabled-fashion",
   "metadata": {
    "execution": {
     "iopub.execute_input": "2021-06-21T15:16:52.303712Z",
     "iopub.status.busy": "2021-06-21T15:16:52.303005Z",
     "iopub.status.idle": "2021-06-21T15:16:52.305970Z",
     "shell.execute_reply": "2021-06-21T15:16:52.306409Z",
     "shell.execute_reply.started": "2021-06-21T13:17:09.929830Z"
    },
    "papermill": {
     "duration": 0.097637,
     "end_time": "2021-06-21T15:16:52.306547",
     "exception": false,
     "start_time": "2021-06-21T15:16:52.208910",
     "status": "completed"
    },
    "tags": []
   },
   "outputs": [
    {
     "data": {
      "text/plain": [
       "male      577\n",
       "female    314\n",
       "Name: Sex, dtype: int64"
      ]
     },
     "execution_count": 13,
     "metadata": {},
     "output_type": "execute_result"
    }
   ],
   "source": [
    "train.Sex.value_counts()"
   ]
  },
  {
   "cell_type": "code",
   "execution_count": 14,
   "id": "horizontal-softball",
   "metadata": {
    "execution": {
     "iopub.execute_input": "2021-06-21T15:16:52.513852Z",
     "iopub.status.busy": "2021-06-21T15:16:52.513073Z",
     "iopub.status.idle": "2021-06-21T15:16:52.586010Z",
     "shell.execute_reply": "2021-06-21T15:16:52.586450Z",
     "shell.execute_reply.started": "2021-06-21T13:17:12.476492Z"
    },
    "papermill": {
     "duration": 0.191405,
     "end_time": "2021-06-21T15:16:52.586573",
     "exception": false,
     "start_time": "2021-06-21T15:16:52.395168",
     "status": "completed"
    },
    "tags": []
   },
   "outputs": [
    {
     "data": {
      "image/png": "[encoded data removed]",
      "text/plain": [
       "<Figure size 432x288 with 1 Axes>"
      ]
     },
     "metadata": {
      "needs_background": "light"
     },
     "output_type": "display_data"
    }
   ],
   "source": [
    "train.Sex.value_counts().plot(kind = 'bar', color = ['skyblue', 'plum']);"
   ]
  },
  {
   "cell_type": "markdown",
   "id": "nearby-milan",
   "metadata": {
    "papermill": {
     "duration": 0.089187,
     "end_time": "2021-06-21T15:16:52.765051",
     "exception": false,
     "start_time": "2021-06-21T15:16:52.675864",
     "status": "completed"
    },
    "tags": []
   },
   "source": [
    "let's check out survivors w.r.t sex"
   ]
  },
  {
   "cell_type": "code",
   "execution_count": 15,
   "id": "optical-uganda",
   "metadata": {
    "execution": {
     "iopub.execute_input": "2021-06-21T15:16:52.948593Z",
     "iopub.status.busy": "2021-06-21T15:16:52.947947Z",
     "iopub.status.idle": "2021-06-21T15:16:52.983510Z",
     "shell.execute_reply": "2021-06-21T15:16:52.982992Z",
     "shell.execute_reply.started": "2021-06-21T13:17:16.057139Z"
    },
    "papermill": {
     "duration": 0.129335,
     "end_time": "2021-06-21T15:16:52.983614",
     "exception": false,
     "start_time": "2021-06-21T15:16:52.854279",
     "status": "completed"
    },
    "tags": []
   },
   "outputs": [
    {
     "data": {
      "text/html": [
       "<div>\n",
       "<style scoped>\n",
       "    .dataframe tbody tr th:only-of-type {\n",
       "        vertical-align: middle;\n",
       "    }\n",
       "\n",
       "    .dataframe tbody tr th {\n",
       "        vertical-align: top;\n",
       "    }\n",
       "\n",
       "    .dataframe thead th {\n",
       "        text-align: right;\n",
       "    }\n",
       "</style>\n",
       "<table border=\"1\" class=\"dataframe\">\n",
       "  <thead>\n",
       "    <tr style=\"text-align: right;\">\n",
       "      <th>Survived</th>\n",
       "      <th>0</th>\n",
       "      <th>1</th>\n",
       "    </tr>\n",
       "    <tr>\n",
       "      <th>Sex</th>\n",
       "      <th></th>\n",
       "      <th></th>\n",
       "    </tr>\n",
       "  </thead>\n",
       "  <tbody>\n",
       "    <tr>\n",
       "      <th>female</th>\n",
       "      <td>81</td>\n",
       "      <td>233</td>\n",
       "    </tr>\n",
       "    <tr>\n",
       "      <th>male</th>\n",
       "      <td>468</td>\n",
       "      <td>109</td>\n",
       "    </tr>\n",
       "  </tbody>\n",
       "</table>\n",
       "</div>"
      ],
      "text/plain": [
       "Survived    0    1\n",
       "Sex               \n",
       "female     81  233\n",
       "male      468  109"
      ]
     },
     "execution_count": 15,
     "metadata": {},
     "output_type": "execute_result"
    }
   ],
   "source": [
    "pd.crosstab(train.Sex, train.Survived)"
   ]
  },
  {
   "cell_type": "code",
   "execution_count": 16,
   "id": "infrared-participant",
   "metadata": {
    "execution": {
     "iopub.execute_input": "2021-06-21T15:16:53.171007Z",
     "iopub.status.busy": "2021-06-21T15:16:53.170200Z",
     "iopub.status.idle": "2021-06-21T15:16:53.287733Z",
     "shell.execute_reply": "2021-06-21T15:16:53.287321Z",
     "shell.execute_reply.started": "2021-06-21T13:17:19.458752Z"
    },
    "papermill": {
     "duration": 0.212955,
     "end_time": "2021-06-21T15:16:53.287840",
     "exception": false,
     "start_time": "2021-06-21T15:16:53.074885",
     "status": "completed"
    },
    "tags": []
   },
   "outputs": [
    {
     "data": {
      "image/png": "[encoded data removed]",
      "text/plain": [
       "<Figure size 432x288 with 1 Axes>"
      ]
     },
     "metadata": {
      "needs_background": "light"
     },
     "output_type": "display_data"
    }
   ],
   "source": [
    "pd.crosstab(train.Sex, train.Survived).plot(kind = 'bar', color = ['slategray', 'salmon']);"
   ]
  },
  {
   "cell_type": "markdown",
   "id": "level-wisdom",
   "metadata": {
    "papermill": {
     "duration": 0.090145,
     "end_time": "2021-06-21T15:16:53.469140",
     "exception": false,
     "start_time": "2021-06-21T15:16:53.378995",
     "status": "completed"
    },
    "tags": []
   },
   "source": [
    "Survivors w.r.t pclass"
   ]
  },
  {
   "cell_type": "code",
   "execution_count": 17,
   "id": "prompt-compilation",
   "metadata": {
    "execution": {
     "iopub.execute_input": "2021-06-21T15:16:53.656238Z",
     "iopub.status.busy": "2021-06-21T15:16:53.655417Z",
     "iopub.status.idle": "2021-06-21T15:16:53.668914Z",
     "shell.execute_reply": "2021-06-21T15:16:53.669288Z",
     "shell.execute_reply.started": "2021-06-21T13:17:23.248957Z"
    },
    "papermill": {
     "duration": 0.109911,
     "end_time": "2021-06-21T15:16:53.669414",
     "exception": false,
     "start_time": "2021-06-21T15:16:53.559503",
     "status": "completed"
    },
    "tags": []
   },
   "outputs": [
    {
     "data": {
      "text/html": [
       "<div>\n",
       "<style scoped>\n",
       "    .dataframe tbody tr th:only-of-type {\n",
       "        vertical-align: middle;\n",
       "    }\n",
       "\n",
       "    .dataframe tbody tr th {\n",
       "        vertical-align: top;\n",
       "    }\n",
       "\n",
       "    .dataframe thead th {\n",
       "        text-align: right;\n",
       "    }\n",
       "</style>\n",
       "<table border=\"1\" class=\"dataframe\">\n",
       "  <thead>\n",
       "    <tr style=\"text-align: right;\">\n",
       "      <th>Survived</th>\n",
       "      <th>0</th>\n",
       "      <th>1</th>\n",
       "    </tr>\n",
       "    <tr>\n",
       "      <th>Pclass</th>\n",
       "      <th></th>\n",
       "      <th></th>\n",
       "    </tr>\n",
       "  </thead>\n",
       "  <tbody>\n",
       "    <tr>\n",
       "      <th>1</th>\n",
       "      <td>80</td>\n",
       "      <td>136</td>\n",
       "    </tr>\n",
       "    <tr>\n",
       "      <th>2</th>\n",
       "      <td>97</td>\n",
       "      <td>87</td>\n",
       "    </tr>\n",
       "    <tr>\n",
       "      <th>3</th>\n",
       "      <td>372</td>\n",
       "      <td>119</td>\n",
       "    </tr>\n",
       "  </tbody>\n",
       "</table>\n",
       "</div>"
      ],
      "text/plain": [
       "Survived    0    1\n",
       "Pclass            \n",
       "1          80  136\n",
       "2          97   87\n",
       "3         372  119"
      ]
     },
     "execution_count": 17,
     "metadata": {},
     "output_type": "execute_result"
    }
   ],
   "source": [
    "pd.crosstab(train.Pclass, train.Survived)"
   ]
  },
  {
   "cell_type": "code",
   "execution_count": 18,
   "id": "artificial-confirmation",
   "metadata": {
    "execution": {
     "iopub.execute_input": "2021-06-21T15:16:53.856648Z",
     "iopub.status.busy": "2021-06-21T15:16:53.855777Z",
     "iopub.status.idle": "2021-06-21T15:16:53.987162Z",
     "shell.execute_reply": "2021-06-21T15:16:53.986768Z",
     "shell.execute_reply.started": "2021-06-21T13:17:26.404426Z"
    },
    "papermill": {
     "duration": 0.227299,
     "end_time": "2021-06-21T15:16:53.987268",
     "exception": false,
     "start_time": "2021-06-21T15:16:53.759969",
     "status": "completed"
    },
    "tags": []
   },
   "outputs": [
    {
     "data": {
      "image/png": "[encoded data removed]",
      "text/plain": [
       "<Figure size 432x288 with 1 Axes>"
      ]
     },
     "metadata": {
      "needs_background": "light"
     },
     "output_type": "display_data"
    }
   ],
   "source": [
    "pd.crosstab(train.Pclass, train.Survived).plot(kind = 'bar', color = ['slategray', 'lightcoral']);"
   ]
  },
  {
   "cell_type": "markdown",
   "id": "australian-gauge",
   "metadata": {
    "papermill": {
     "duration": 0.090803,
     "end_time": "2021-06-21T15:16:54.169775",
     "exception": false,
     "start_time": "2021-06-21T15:16:54.078972",
     "status": "completed"
    },
    "tags": []
   },
   "source": [
    "Let's check the Port of Embarkation"
   ]
  },
  {
   "cell_type": "code",
   "execution_count": 19,
   "id": "outer-anchor",
   "metadata": {
    "execution": {
     "iopub.execute_input": "2021-06-21T15:16:54.359494Z",
     "iopub.status.busy": "2021-06-21T15:16:54.358796Z",
     "iopub.status.idle": "2021-06-21T15:16:54.361797Z",
     "shell.execute_reply": "2021-06-21T15:16:54.362233Z",
     "shell.execute_reply.started": "2021-06-21T13:17:29.596620Z"
    },
    "papermill": {
     "duration": 0.101288,
     "end_time": "2021-06-21T15:16:54.362351",
     "exception": false,
     "start_time": "2021-06-21T15:16:54.261063",
     "status": "completed"
    },
    "tags": []
   },
   "outputs": [
    {
     "data": {
      "text/plain": [
       "S    646\n",
       "C    168\n",
       "Q     77\n",
       "Name: Embarked, dtype: int64"
      ]
     },
     "execution_count": 19,
     "metadata": {},
     "output_type": "execute_result"
    }
   ],
   "source": [
    "train.Embarked.value_counts()"
   ]
  },
  {
   "cell_type": "markdown",
   "id": "fallen-yemen",
   "metadata": {
    "papermill": {
     "duration": 0.091885,
     "end_time": "2021-06-21T15:16:54.545697",
     "exception": false,
     "start_time": "2021-06-21T15:16:54.453812",
     "status": "completed"
    },
    "tags": []
   },
   "source": [
    "Let's look at our age column"
   ]
  },
  {
   "cell_type": "code",
   "execution_count": 20,
   "id": "unknown-suite",
   "metadata": {
    "execution": {
     "iopub.execute_input": "2021-06-21T15:16:54.736428Z",
     "iopub.status.busy": "2021-06-21T15:16:54.735657Z",
     "iopub.status.idle": "2021-06-21T15:16:54.827114Z",
     "shell.execute_reply": "2021-06-21T15:16:54.827507Z",
     "shell.execute_reply.started": "2021-06-21T13:17:32.854462Z"
    },
    "papermill": {
     "duration": 0.190142,
     "end_time": "2021-06-21T15:16:54.827634",
     "exception": false,
     "start_time": "2021-06-21T15:16:54.637492",
     "status": "completed"
    },
    "tags": []
   },
   "outputs": [
    {
     "data": {
      "image/png": "[encoded data removed]",
      "text/plain": [
       "<Figure size 432x288 with 1 Axes>"
      ]
     },
     "metadata": {
      "needs_background": "light"
     },
     "output_type": "display_data"
    }
   ],
   "source": [
    "sns.countplot(x = 'Embarked', data = train);"
   ]
  },
  {
   "cell_type": "code",
   "execution_count": 21,
   "id": "returning-former",
   "metadata": {
    "execution": {
     "iopub.execute_input": "2021-06-21T15:16:55.033538Z",
     "iopub.status.busy": "2021-06-21T15:16:55.032733Z",
     "iopub.status.idle": "2021-06-21T15:16:55.342244Z",
     "shell.execute_reply": "2021-06-21T15:16:55.341831Z",
     "shell.execute_reply.started": "2021-06-21T13:17:38.209053Z"
    },
    "papermill": {
     "duration": 0.422845,
     "end_time": "2021-06-21T15:16:55.342362",
     "exception": false,
     "start_time": "2021-06-21T15:16:54.919517",
     "status": "completed"
    },
    "tags": []
   },
   "outputs": [
    {
     "data": {
      "image/png": "[encoded data removed]",
      "text/plain": [
       "<Figure size 360x360 with 1 Axes>"
      ]
     },
     "metadata": {
      "needs_background": "light"
     },
     "output_type": "display_data"
    }
   ],
   "source": [
    "sns.displot(x = 'Age', data = train, color = 'cadetblue', kde = True);"
   ]
  },
  {
   "cell_type": "code",
   "execution_count": 22,
   "id": "olympic-family",
   "metadata": {
    "execution": {
     "iopub.execute_input": "2021-06-21T15:16:55.708618Z",
     "iopub.status.busy": "2021-06-21T15:16:55.707590Z",
     "iopub.status.idle": "2021-06-21T15:16:55.909359Z",
     "shell.execute_reply": "2021-06-21T15:16:55.908944Z",
     "shell.execute_reply.started": "2021-06-21T13:17:42.719202Z"
    },
    "papermill": {
     "duration": 0.437197,
     "end_time": "2021-06-21T15:16:55.909502",
     "exception": false,
     "start_time": "2021-06-21T15:16:55.472305",
     "status": "completed"
    },
    "tags": []
   },
   "outputs": [
    {
     "data": {
      "image/png": "[encoded data removed]",
      "text/plain": [
       "<Figure size 360x360 with 1 Axes>"
      ]
     },
     "metadata": {
      "needs_background": "light"
     },
     "output_type": "display_data"
    }
   ],
   "source": [
    "sns.displot(x = 'Fare', data = train, kind = 'kde');"
   ]
  },
  {
   "cell_type": "markdown",
   "id": "laden-dover",
   "metadata": {
    "papermill": {
     "duration": 0.094214,
     "end_time": "2021-06-21T15:16:56.098013",
     "exception": false,
     "start_time": "2021-06-21T15:16:56.003799",
     "status": "completed"
    },
    "tags": []
   },
   "source": [
    "Let's now find a relation among age, survived and pclass columns"
   ]
  },
  {
   "cell_type": "code",
   "execution_count": 23,
   "id": "convinced-parks",
   "metadata": {
    "execution": {
     "iopub.execute_input": "2021-06-21T15:16:56.305393Z",
     "iopub.status.busy": "2021-06-21T15:16:56.291160Z",
     "iopub.status.idle": "2021-06-21T15:16:56.987423Z",
     "shell.execute_reply": "2021-06-21T15:16:56.987962Z",
     "shell.execute_reply.started": "2021-06-21T13:17:51.707158Z"
    },
    "papermill": {
     "duration": 0.796218,
     "end_time": "2021-06-21T15:16:56.988129",
     "exception": false,
     "start_time": "2021-06-21T15:16:56.191911",
     "status": "completed"
    },
    "tags": []
   },
   "outputs": [
    {
     "data": {
      "image/png": "[encoded data removed]",
      "text/plain": [
       "<Figure size 402.375x360 with 1 Axes>"
      ]
     },
     "metadata": {
      "needs_background": "light"
     },
     "output_type": "display_data"
    }
   ],
   "source": [
    "sns.lmplot(x = 'Age', y = 'Survived', hue = 'Pclass', data = train);"
   ]
  },
  {
   "cell_type": "code",
   "execution_count": 24,
   "id": "reported-senator",
   "metadata": {
    "execution": {
     "iopub.execute_input": "2021-06-21T15:16:57.186529Z",
     "iopub.status.busy": "2021-06-21T15:16:57.185747Z",
     "iopub.status.idle": "2021-06-21T15:16:57.548381Z",
     "shell.execute_reply": "2021-06-21T15:16:57.548785Z",
     "shell.execute_reply.started": "2021-06-21T13:17:55.663304Z"
    },
    "papermill": {
     "duration": 0.465003,
     "end_time": "2021-06-21T15:16:57.548931",
     "exception": false,
     "start_time": "2021-06-21T15:16:57.083928",
     "status": "completed"
    },
    "tags": []
   },
   "outputs": [
    {
     "data": {
      "image/png": "[encoded data removed]",
      "text/plain": [
       "<Figure size 1080x720 with 2 Axes>"
      ]
     },
     "metadata": {
      "needs_background": "light"
     },
     "output_type": "display_data"
    }
   ],
   "source": [
    "correlation_matrix = train.corr()\n",
    "plt.figure(figsize=(15, 10))\n",
    "sns.heatmap(correlation_matrix, \n",
    "            annot=True, \n",
    "            linewidths=0.5, \n",
    "            fmt= \".2f\", \n",
    "            cmap=\"YlGnBu\");"
   ]
  },
  {
   "cell_type": "markdown",
   "id": "affiliated-variety",
   "metadata": {
    "papermill": {
     "duration": 0.098294,
     "end_time": "2021-06-21T15:16:57.747473",
     "exception": false,
     "start_time": "2021-06-21T15:16:57.649179",
     "status": "completed"
    },
    "tags": []
   },
   "source": [
    "# Feature Engineering in train data"
   ]
  },
  {
   "cell_type": "code",
   "execution_count": 25,
   "id": "mysterious-mozambique",
   "metadata": {
    "execution": {
     "iopub.execute_input": "2021-06-21T15:16:57.951117Z",
     "iopub.status.busy": "2021-06-21T15:16:57.950298Z",
     "iopub.status.idle": "2021-06-21T15:16:57.952940Z",
     "shell.execute_reply": "2021-06-21T15:16:57.952503Z",
     "shell.execute_reply.started": "2021-06-21T13:17:59.857888Z"
    },
    "papermill": {
     "duration": 0.106659,
     "end_time": "2021-06-21T15:16:57.953042",
     "exception": false,
     "start_time": "2021-06-21T15:16:57.846383",
     "status": "completed"
    },
    "tags": []
   },
   "outputs": [],
   "source": [
    "train['family'] = train['SibSp'] + train['Parch']"
   ]
  },
  {
   "cell_type": "code",
   "execution_count": 26,
   "id": "negative-intranet",
   "metadata": {
    "execution": {
     "iopub.execute_input": "2021-06-21T15:16:58.159222Z",
     "iopub.status.busy": "2021-06-21T15:16:58.158398Z",
     "iopub.status.idle": "2021-06-21T15:16:58.162268Z",
     "shell.execute_reply": "2021-06-21T15:16:58.161866Z",
     "shell.execute_reply.started": "2021-06-21T13:18:01.804037Z"
    },
    "papermill": {
     "duration": 0.111247,
     "end_time": "2021-06-21T15:16:58.162376",
     "exception": false,
     "start_time": "2021-06-21T15:16:58.051129",
     "status": "completed"
    },
    "tags": []
   },
   "outputs": [
    {
     "data": {
      "text/html": [
       "<div>\n",
       "<style scoped>\n",
       "    .dataframe tbody tr th:only-of-type {\n",
       "        vertical-align: middle;\n",
       "    }\n",
       "\n",
       "    .dataframe tbody tr th {\n",
       "        vertical-align: top;\n",
       "    }\n",
       "\n",
       "    .dataframe thead th {\n",
       "        text-align: right;\n",
       "    }\n",
       "</style>\n",
       "<table border=\"1\" class=\"dataframe\">\n",
       "  <thead>\n",
       "    <tr style=\"text-align: right;\">\n",
       "      <th></th>\n",
       "      <th>Survived</th>\n",
       "      <th>Pclass</th>\n",
       "      <th>Sex</th>\n",
       "      <th>Age</th>\n",
       "      <th>SibSp</th>\n",
       "      <th>Parch</th>\n",
       "      <th>Fare</th>\n",
       "      <th>Embarked</th>\n",
       "      <th>family</th>\n",
       "    </tr>\n",
       "  </thead>\n",
       "  <tbody>\n",
       "    <tr>\n",
       "      <th>0</th>\n",
       "      <td>0</td>\n",
       "      <td>3</td>\n",
       "      <td>male</td>\n",
       "      <td>22.000000</td>\n",
       "      <td>1</td>\n",
       "      <td>0</td>\n",
       "      <td>7.2500</td>\n",
       "      <td>S</td>\n",
       "      <td>1</td>\n",
       "    </tr>\n",
       "    <tr>\n",
       "      <th>1</th>\n",
       "      <td>1</td>\n",
       "      <td>1</td>\n",
       "      <td>female</td>\n",
       "      <td>38.000000</td>\n",
       "      <td>1</td>\n",
       "      <td>0</td>\n",
       "      <td>71.2833</td>\n",
       "      <td>C</td>\n",
       "      <td>1</td>\n",
       "    </tr>\n",
       "    <tr>\n",
       "      <th>2</th>\n",
       "      <td>1</td>\n",
       "      <td>3</td>\n",
       "      <td>female</td>\n",
       "      <td>26.000000</td>\n",
       "      <td>0</td>\n",
       "      <td>0</td>\n",
       "      <td>7.9250</td>\n",
       "      <td>S</td>\n",
       "      <td>0</td>\n",
       "    </tr>\n",
       "    <tr>\n",
       "      <th>3</th>\n",
       "      <td>1</td>\n",
       "      <td>1</td>\n",
       "      <td>female</td>\n",
       "      <td>35.000000</td>\n",
       "      <td>1</td>\n",
       "      <td>0</td>\n",
       "      <td>53.1000</td>\n",
       "      <td>S</td>\n",
       "      <td>1</td>\n",
       "    </tr>\n",
       "    <tr>\n",
       "      <th>4</th>\n",
       "      <td>0</td>\n",
       "      <td>3</td>\n",
       "      <td>male</td>\n",
       "      <td>35.000000</td>\n",
       "      <td>0</td>\n",
       "      <td>0</td>\n",
       "      <td>8.0500</td>\n",
       "      <td>S</td>\n",
       "      <td>0</td>\n",
       "    </tr>\n",
       "    <tr>\n",
       "      <th>5</th>\n",
       "      <td>0</td>\n",
       "      <td>3</td>\n",
       "      <td>male</td>\n",
       "      <td>29.699118</td>\n",
       "      <td>0</td>\n",
       "      <td>0</td>\n",
       "      <td>8.4583</td>\n",
       "      <td>Q</td>\n",
       "      <td>0</td>\n",
       "    </tr>\n",
       "    <tr>\n",
       "      <th>6</th>\n",
       "      <td>0</td>\n",
       "      <td>1</td>\n",
       "      <td>male</td>\n",
       "      <td>54.000000</td>\n",
       "      <td>0</td>\n",
       "      <td>0</td>\n",
       "      <td>51.8625</td>\n",
       "      <td>S</td>\n",
       "      <td>0</td>\n",
       "    </tr>\n",
       "    <tr>\n",
       "      <th>7</th>\n",
       "      <td>0</td>\n",
       "      <td>3</td>\n",
       "      <td>male</td>\n",
       "      <td>2.000000</td>\n",
       "      <td>3</td>\n",
       "      <td>1</td>\n",
       "      <td>21.0750</td>\n",
       "      <td>S</td>\n",
       "      <td>4</td>\n",
       "    </tr>\n",
       "    <tr>\n",
       "      <th>8</th>\n",
       "      <td>1</td>\n",
       "      <td>3</td>\n",
       "      <td>female</td>\n",
       "      <td>27.000000</td>\n",
       "      <td>0</td>\n",
       "      <td>2</td>\n",
       "      <td>11.1333</td>\n",
       "      <td>S</td>\n",
       "      <td>2</td>\n",
       "    </tr>\n",
       "    <tr>\n",
       "      <th>9</th>\n",
       "      <td>1</td>\n",
       "      <td>2</td>\n",
       "      <td>female</td>\n",
       "      <td>14.000000</td>\n",
       "      <td>1</td>\n",
       "      <td>0</td>\n",
       "      <td>30.0708</td>\n",
       "      <td>C</td>\n",
       "      <td>1</td>\n",
       "    </tr>\n",
       "  </tbody>\n",
       "</table>\n",
       "</div>"
      ],
      "text/plain": [
       "   Survived  Pclass     Sex        Age  SibSp  Parch     Fare Embarked  family\n",
       "0         0       3    male  22.000000      1      0   7.2500        S       1\n",
       "1         1       1  female  38.000000      1      0  71.2833        C       1\n",
       "2         1       3  female  26.000000      0      0   7.9250        S       0\n",
       "3         1       1  female  35.000000      1      0  53.1000        S       1\n",
       "4         0       3    male  35.000000      0      0   8.0500        S       0\n",
       "5         0       3    male  29.699118      0      0   8.4583        Q       0\n",
       "6         0       1    male  54.000000      0      0  51.8625        S       0\n",
       "7         0       3    male   2.000000      3      1  21.0750        S       4\n",
       "8         1       3  female  27.000000      0      2  11.1333        S       2\n",
       "9         1       2  female  14.000000      1      0  30.0708        C       1"
      ]
     },
     "execution_count": 26,
     "metadata": {},
     "output_type": "execute_result"
    }
   ],
   "source": [
    "train.head(10)"
   ]
  },
  {
   "cell_type": "markdown",
   "id": "reported-president",
   "metadata": {
    "papermill": {
     "duration": 0.09758,
     "end_time": "2021-06-21T15:16:58.356402",
     "exception": false,
     "start_time": "2021-06-21T15:16:58.258822",
     "status": "completed"
    },
    "tags": []
   },
   "source": [
    "Removing skewness in `Age` column"
   ]
  },
  {
   "cell_type": "code",
   "execution_count": 27,
   "id": "united-occasions",
   "metadata": {
    "execution": {
     "iopub.execute_input": "2021-06-21T15:16:58.554409Z",
     "iopub.status.busy": "2021-06-21T15:16:58.553761Z",
     "iopub.status.idle": "2021-06-21T15:16:58.556131Z",
     "shell.execute_reply": "2021-06-21T15:16:58.556509Z",
     "shell.execute_reply.started": "2021-06-21T13:18:05.028255Z"
    },
    "papermill": {
     "duration": 0.103598,
     "end_time": "2021-06-21T15:16:58.556635",
     "exception": false,
     "start_time": "2021-06-21T15:16:58.453037",
     "status": "completed"
    },
    "tags": []
   },
   "outputs": [],
   "source": [
    "train['Age']=np.log(train['Age']+1)"
   ]
  },
  {
   "cell_type": "code",
   "execution_count": 28,
   "id": "legislative-switch",
   "metadata": {
    "execution": {
     "iopub.execute_input": "2021-06-21T15:16:58.845159Z",
     "iopub.status.busy": "2021-06-21T15:16:58.844336Z",
     "iopub.status.idle": "2021-06-21T15:16:59.095663Z",
     "shell.execute_reply": "2021-06-21T15:16:59.096157Z",
     "shell.execute_reply.started": "2021-06-21T13:18:07.641175Z"
    },
    "papermill": {
     "duration": 0.420278,
     "end_time": "2021-06-21T15:16:59.096304",
     "exception": false,
     "start_time": "2021-06-21T15:16:58.676026",
     "status": "completed"
    },
    "tags": []
   },
   "outputs": [
    {
     "data": {
      "image/png": "[encoded data removed]",
      "text/plain": [
       "<Figure size 720x432 with 1 Axes>"
      ]
     },
     "metadata": {
      "needs_background": "light"
     },
     "output_type": "display_data"
    }
   ],
   "source": [
    "train['Age'].plot(kind = 'density', figsize=(10, 6));"
   ]
  },
  {
   "cell_type": "markdown",
   "id": "specific-incident",
   "metadata": {
    "papermill": {
     "duration": 0.096795,
     "end_time": "2021-06-21T15:16:59.323021",
     "exception": false,
     "start_time": "2021-06-21T15:16:59.226226",
     "status": "completed"
    },
    "tags": []
   },
   "source": [
    "Removing skewness in `Fare` column"
   ]
  },
  {
   "cell_type": "code",
   "execution_count": 29,
   "id": "seeing-machine",
   "metadata": {
    "execution": {
     "iopub.execute_input": "2021-06-21T15:16:59.523247Z",
     "iopub.status.busy": "2021-06-21T15:16:59.522014Z",
     "iopub.status.idle": "2021-06-21T15:16:59.524764Z",
     "shell.execute_reply": "2021-06-21T15:16:59.524348Z",
     "shell.execute_reply.started": "2021-06-21T13:18:43.330757Z"
    },
    "papermill": {
     "duration": 0.104072,
     "end_time": "2021-06-21T15:16:59.524874",
     "exception": false,
     "start_time": "2021-06-21T15:16:59.420802",
     "status": "completed"
    },
    "tags": []
   },
   "outputs": [],
   "source": [
    "train['Fare']=np.log(train['Fare']+1)"
   ]
  },
  {
   "cell_type": "code",
   "execution_count": 30,
   "id": "inside-posting",
   "metadata": {
    "execution": {
     "iopub.execute_input": "2021-06-21T15:16:59.740916Z",
     "iopub.status.busy": "2021-06-21T15:16:59.725297Z",
     "iopub.status.idle": "2021-06-21T15:16:59.861907Z",
     "shell.execute_reply": "2021-06-21T15:16:59.862278Z",
     "shell.execute_reply.started": "2021-06-21T13:18:45.660092Z"
    },
    "papermill": {
     "duration": 0.240406,
     "end_time": "2021-06-21T15:16:59.862407",
     "exception": false,
     "start_time": "2021-06-21T15:16:59.622001",
     "status": "completed"
    },
    "tags": []
   },
   "outputs": [
    {
     "data": {
      "image/png": "[encoded data removed]",
      "text/plain": [
       "<Figure size 720x432 with 1 Axes>"
      ]
     },
     "metadata": {
      "needs_background": "light"
     },
     "output_type": "display_data"
    }
   ],
   "source": [
    " train['Fare'].plot(kind = 'density', figsize=(10, 6));"
   ]
  },
  {
   "cell_type": "code",
   "execution_count": 31,
   "id": "bizarre-batman",
   "metadata": {
    "execution": {
     "iopub.execute_input": "2021-06-21T15:17:00.071276Z",
     "iopub.status.busy": "2021-06-21T15:17:00.070427Z",
     "iopub.status.idle": "2021-06-21T15:17:00.074134Z",
     "shell.execute_reply": "2021-06-21T15:17:00.074628Z",
     "shell.execute_reply.started": "2021-06-21T13:19:01.559821Z"
    },
    "papermill": {
     "duration": 0.114261,
     "end_time": "2021-06-21T15:17:00.074765",
     "exception": false,
     "start_time": "2021-06-21T15:16:59.960504",
     "status": "completed"
    },
    "tags": []
   },
   "outputs": [
    {
     "data": {
      "text/html": [
       "<div>\n",
       "<style scoped>\n",
       "    .dataframe tbody tr th:only-of-type {\n",
       "        vertical-align: middle;\n",
       "    }\n",
       "\n",
       "    .dataframe tbody tr th {\n",
       "        vertical-align: top;\n",
       "    }\n",
       "\n",
       "    .dataframe thead th {\n",
       "        text-align: right;\n",
       "    }\n",
       "</style>\n",
       "<table border=\"1\" class=\"dataframe\">\n",
       "  <thead>\n",
       "    <tr style=\"text-align: right;\">\n",
       "      <th></th>\n",
       "      <th>Survived</th>\n",
       "      <th>Pclass</th>\n",
       "      <th>Sex</th>\n",
       "      <th>Age</th>\n",
       "      <th>SibSp</th>\n",
       "      <th>Parch</th>\n",
       "      <th>Fare</th>\n",
       "      <th>Embarked</th>\n",
       "      <th>family</th>\n",
       "    </tr>\n",
       "  </thead>\n",
       "  <tbody>\n",
       "    <tr>\n",
       "      <th>0</th>\n",
       "      <td>0</td>\n",
       "      <td>3</td>\n",
       "      <td>male</td>\n",
       "      <td>3.135494</td>\n",
       "      <td>1</td>\n",
       "      <td>0</td>\n",
       "      <td>2.110213</td>\n",
       "      <td>S</td>\n",
       "      <td>1</td>\n",
       "    </tr>\n",
       "    <tr>\n",
       "      <th>1</th>\n",
       "      <td>1</td>\n",
       "      <td>1</td>\n",
       "      <td>female</td>\n",
       "      <td>3.663562</td>\n",
       "      <td>1</td>\n",
       "      <td>0</td>\n",
       "      <td>4.280593</td>\n",
       "      <td>C</td>\n",
       "      <td>1</td>\n",
       "    </tr>\n",
       "    <tr>\n",
       "      <th>2</th>\n",
       "      <td>1</td>\n",
       "      <td>3</td>\n",
       "      <td>female</td>\n",
       "      <td>3.295837</td>\n",
       "      <td>0</td>\n",
       "      <td>0</td>\n",
       "      <td>2.188856</td>\n",
       "      <td>S</td>\n",
       "      <td>0</td>\n",
       "    </tr>\n",
       "    <tr>\n",
       "      <th>3</th>\n",
       "      <td>1</td>\n",
       "      <td>1</td>\n",
       "      <td>female</td>\n",
       "      <td>3.583519</td>\n",
       "      <td>1</td>\n",
       "      <td>0</td>\n",
       "      <td>3.990834</td>\n",
       "      <td>S</td>\n",
       "      <td>1</td>\n",
       "    </tr>\n",
       "    <tr>\n",
       "      <th>4</th>\n",
       "      <td>0</td>\n",
       "      <td>3</td>\n",
       "      <td>male</td>\n",
       "      <td>3.583519</td>\n",
       "      <td>0</td>\n",
       "      <td>0</td>\n",
       "      <td>2.202765</td>\n",
       "      <td>S</td>\n",
       "      <td>0</td>\n",
       "    </tr>\n",
       "    <tr>\n",
       "      <th>5</th>\n",
       "      <td>0</td>\n",
       "      <td>3</td>\n",
       "      <td>male</td>\n",
       "      <td>3.424234</td>\n",
       "      <td>0</td>\n",
       "      <td>0</td>\n",
       "      <td>2.246893</td>\n",
       "      <td>Q</td>\n",
       "      <td>0</td>\n",
       "    </tr>\n",
       "    <tr>\n",
       "      <th>6</th>\n",
       "      <td>0</td>\n",
       "      <td>1</td>\n",
       "      <td>male</td>\n",
       "      <td>4.007333</td>\n",
       "      <td>0</td>\n",
       "      <td>0</td>\n",
       "      <td>3.967694</td>\n",
       "      <td>S</td>\n",
       "      <td>0</td>\n",
       "    </tr>\n",
       "    <tr>\n",
       "      <th>7</th>\n",
       "      <td>0</td>\n",
       "      <td>3</td>\n",
       "      <td>male</td>\n",
       "      <td>1.098612</td>\n",
       "      <td>3</td>\n",
       "      <td>1</td>\n",
       "      <td>3.094446</td>\n",
       "      <td>S</td>\n",
       "      <td>4</td>\n",
       "    </tr>\n",
       "    <tr>\n",
       "      <th>8</th>\n",
       "      <td>1</td>\n",
       "      <td>3</td>\n",
       "      <td>female</td>\n",
       "      <td>3.332205</td>\n",
       "      <td>0</td>\n",
       "      <td>2</td>\n",
       "      <td>2.495954</td>\n",
       "      <td>S</td>\n",
       "      <td>2</td>\n",
       "    </tr>\n",
       "    <tr>\n",
       "      <th>9</th>\n",
       "      <td>1</td>\n",
       "      <td>2</td>\n",
       "      <td>female</td>\n",
       "      <td>2.708050</td>\n",
       "      <td>1</td>\n",
       "      <td>0</td>\n",
       "      <td>3.436268</td>\n",
       "      <td>C</td>\n",
       "      <td>1</td>\n",
       "    </tr>\n",
       "  </tbody>\n",
       "</table>\n",
       "</div>"
      ],
      "text/plain": [
       "   Survived  Pclass     Sex       Age  SibSp  Parch      Fare Embarked  family\n",
       "0         0       3    male  3.135494      1      0  2.110213        S       1\n",
       "1         1       1  female  3.663562      1      0  4.280593        C       1\n",
       "2         1       3  female  3.295837      0      0  2.188856        S       0\n",
       "3         1       1  female  3.583519      1      0  3.990834        S       1\n",
       "4         0       3    male  3.583519      0      0  2.202765        S       0\n",
       "5         0       3    male  3.424234      0      0  2.246893        Q       0\n",
       "6         0       1    male  4.007333      0      0  3.967694        S       0\n",
       "7         0       3    male  1.098612      3      1  3.094446        S       4\n",
       "8         1       3  female  3.332205      0      2  2.495954        S       2\n",
       "9         1       2  female  2.708050      1      0  3.436268        C       1"
      ]
     },
     "execution_count": 31,
     "metadata": {},
     "output_type": "execute_result"
    }
   ],
   "source": [
    "train.head(10)"
   ]
  },
  {
   "cell_type": "markdown",
   "id": "sought-master",
   "metadata": {
    "papermill": {
     "duration": 0.098529,
     "end_time": "2021-06-21T15:17:00.272679",
     "exception": false,
     "start_time": "2021-06-21T15:17:00.174150",
     "status": "completed"
    },
    "tags": []
   },
   "source": [
    "Let's create x and y matrix of features"
   ]
  },
  {
   "cell_type": "code",
   "execution_count": 32,
   "id": "pretty-multimedia",
   "metadata": {
    "execution": {
     "iopub.execute_input": "2021-06-21T15:17:00.480651Z",
     "iopub.status.busy": "2021-06-21T15:17:00.479690Z",
     "iopub.status.idle": "2021-06-21T15:17:00.482562Z",
     "shell.execute_reply": "2021-06-21T15:17:00.482047Z",
     "shell.execute_reply.started": "2021-06-21T13:25:32.344327Z"
    },
    "papermill": {
     "duration": 0.111064,
     "end_time": "2021-06-21T15:17:00.482682",
     "exception": false,
     "start_time": "2021-06-21T15:17:00.371618",
     "status": "completed"
    },
    "tags": []
   },
   "outputs": [],
   "source": [
    "x = train.drop('Survived',  axis = 1)\n",
    "y = train['Survived']"
   ]
  },
  {
   "cell_type": "code",
   "execution_count": 33,
   "id": "enhanced-macintosh",
   "metadata": {
    "execution": {
     "iopub.execute_input": "2021-06-21T15:17:00.715857Z",
     "iopub.status.busy": "2021-06-21T15:17:00.715122Z",
     "iopub.status.idle": "2021-06-21T15:17:00.718372Z",
     "shell.execute_reply": "2021-06-21T15:17:00.718905Z",
     "shell.execute_reply.started": "2021-06-21T13:25:36.692531Z"
    },
    "papermill": {
     "duration": 0.120076,
     "end_time": "2021-06-21T15:17:00.719042",
     "exception": false,
     "start_time": "2021-06-21T15:17:00.598966",
     "status": "completed"
    },
    "tags": []
   },
   "outputs": [
    {
     "data": {
      "text/plain": [
       "(891, 8)"
      ]
     },
     "execution_count": 33,
     "metadata": {},
     "output_type": "execute_result"
    }
   ],
   "source": [
    "x.shape"
   ]
  },
  {
   "cell_type": "code",
   "execution_count": 34,
   "id": "stylish-landing",
   "metadata": {
    "execution": {
     "iopub.execute_input": "2021-06-21T15:17:00.945040Z",
     "iopub.status.busy": "2021-06-21T15:17:00.944119Z",
     "iopub.status.idle": "2021-06-21T15:17:00.948217Z",
     "shell.execute_reply": "2021-06-21T15:17:00.947745Z",
     "shell.execute_reply.started": "2021-06-21T13:25:39.152871Z"
    },
    "papermill": {
     "duration": 0.121482,
     "end_time": "2021-06-21T15:17:00.948350",
     "exception": false,
     "start_time": "2021-06-21T15:17:00.826868",
     "status": "completed"
    },
    "tags": []
   },
   "outputs": [
    {
     "data": {
      "text/html": [
       "<div>\n",
       "<style scoped>\n",
       "    .dataframe tbody tr th:only-of-type {\n",
       "        vertical-align: middle;\n",
       "    }\n",
       "\n",
       "    .dataframe tbody tr th {\n",
       "        vertical-align: top;\n",
       "    }\n",
       "\n",
       "    .dataframe thead th {\n",
       "        text-align: right;\n",
       "    }\n",
       "</style>\n",
       "<table border=\"1\" class=\"dataframe\">\n",
       "  <thead>\n",
       "    <tr style=\"text-align: right;\">\n",
       "      <th></th>\n",
       "      <th>Pclass</th>\n",
       "      <th>Sex</th>\n",
       "      <th>Age</th>\n",
       "      <th>SibSp</th>\n",
       "      <th>Parch</th>\n",
       "      <th>Fare</th>\n",
       "      <th>Embarked</th>\n",
       "      <th>family</th>\n",
       "    </tr>\n",
       "  </thead>\n",
       "  <tbody>\n",
       "    <tr>\n",
       "      <th>0</th>\n",
       "      <td>3</td>\n",
       "      <td>male</td>\n",
       "      <td>3.135494</td>\n",
       "      <td>1</td>\n",
       "      <td>0</td>\n",
       "      <td>2.110213</td>\n",
       "      <td>S</td>\n",
       "      <td>1</td>\n",
       "    </tr>\n",
       "    <tr>\n",
       "      <th>1</th>\n",
       "      <td>1</td>\n",
       "      <td>female</td>\n",
       "      <td>3.663562</td>\n",
       "      <td>1</td>\n",
       "      <td>0</td>\n",
       "      <td>4.280593</td>\n",
       "      <td>C</td>\n",
       "      <td>1</td>\n",
       "    </tr>\n",
       "    <tr>\n",
       "      <th>2</th>\n",
       "      <td>3</td>\n",
       "      <td>female</td>\n",
       "      <td>3.295837</td>\n",
       "      <td>0</td>\n",
       "      <td>0</td>\n",
       "      <td>2.188856</td>\n",
       "      <td>S</td>\n",
       "      <td>0</td>\n",
       "    </tr>\n",
       "    <tr>\n",
       "      <th>3</th>\n",
       "      <td>1</td>\n",
       "      <td>female</td>\n",
       "      <td>3.583519</td>\n",
       "      <td>1</td>\n",
       "      <td>0</td>\n",
       "      <td>3.990834</td>\n",
       "      <td>S</td>\n",
       "      <td>1</td>\n",
       "    </tr>\n",
       "    <tr>\n",
       "      <th>4</th>\n",
       "      <td>3</td>\n",
       "      <td>male</td>\n",
       "      <td>3.583519</td>\n",
       "      <td>0</td>\n",
       "      <td>0</td>\n",
       "      <td>2.202765</td>\n",
       "      <td>S</td>\n",
       "      <td>0</td>\n",
       "    </tr>\n",
       "  </tbody>\n",
       "</table>\n",
       "</div>"
      ],
      "text/plain": [
       "   Pclass     Sex       Age  SibSp  Parch      Fare Embarked  family\n",
       "0       3    male  3.135494      1      0  2.110213        S       1\n",
       "1       1  female  3.663562      1      0  4.280593        C       1\n",
       "2       3  female  3.295837      0      0  2.188856        S       0\n",
       "3       1  female  3.583519      1      0  3.990834        S       1\n",
       "4       3    male  3.583519      0      0  2.202765        S       0"
      ]
     },
     "execution_count": 34,
     "metadata": {},
     "output_type": "execute_result"
    }
   ],
   "source": [
    "x.head()"
   ]
  },
  {
   "cell_type": "markdown",
   "id": "arctic-drawing",
   "metadata": {
    "papermill": {
     "duration": 0.099256,
     "end_time": "2021-06-21T15:17:01.154794",
     "exception": false,
     "start_time": "2021-06-21T15:17:01.055538",
     "status": "completed"
    },
    "tags": []
   },
   "source": [
    "We have two `categorical` columns. Let's take care of them now."
   ]
  },
  {
   "cell_type": "code",
   "execution_count": 35,
   "id": "blond-research",
   "metadata": {
    "execution": {
     "iopub.execute_input": "2021-06-21T15:17:01.358955Z",
     "iopub.status.busy": "2021-06-21T15:17:01.358327Z",
     "iopub.status.idle": "2021-06-21T15:17:01.508912Z",
     "shell.execute_reply": "2021-06-21T15:17:01.509322Z",
     "shell.execute_reply.started": "2021-06-21T13:25:50.245148Z"
    },
    "papermill": {
     "duration": 0.255719,
     "end_time": "2021-06-21T15:17:01.509479",
     "exception": false,
     "start_time": "2021-06-21T15:17:01.253760",
     "status": "completed"
    },
    "tags": []
   },
   "outputs": [],
   "source": [
    "from sklearn.preprocessing import OneHotEncoder\n",
    "from sklearn.compose import ColumnTransformer\n",
    "\n",
    "categorical_features = ['Sex', 'Embarked', 'Pclass']\n",
    "onehotencode = OneHotEncoder()\n",
    "\n",
    "transformer = ColumnTransformer([('Encoder', onehotencode, categorical_features)], remainder = 'passthrough')\n",
    "\n",
    "encoded = transformer.fit_transform(x)"
   ]
  },
  {
   "cell_type": "code",
   "execution_count": 36,
   "id": "clear-tradition",
   "metadata": {
    "execution": {
     "iopub.execute_input": "2021-06-21T15:17:01.711951Z",
     "iopub.status.busy": "2021-06-21T15:17:01.711273Z",
     "iopub.status.idle": "2021-06-21T15:17:01.713982Z",
     "shell.execute_reply": "2021-06-21T15:17:01.713564Z",
     "shell.execute_reply.started": "2021-06-21T13:26:04.493001Z"
    },
    "papermill": {
     "duration": 0.105039,
     "end_time": "2021-06-21T15:17:01.714085",
     "exception": false,
     "start_time": "2021-06-21T15:17:01.609046",
     "status": "completed"
    },
    "tags": []
   },
   "outputs": [],
   "source": [
    "encoded_df = pd.DataFrame(encoded)"
   ]
  },
  {
   "cell_type": "code",
   "execution_count": 37,
   "id": "cognitive-filling",
   "metadata": {
    "execution": {
     "iopub.execute_input": "2021-06-21T15:17:01.915926Z",
     "iopub.status.busy": "2021-06-21T15:17:01.915209Z",
     "iopub.status.idle": "2021-06-21T15:17:01.918384Z",
     "shell.execute_reply": "2021-06-21T15:17:01.918873Z",
     "shell.execute_reply.started": "2021-06-21T13:26:07.379173Z"
    },
    "papermill": {
     "duration": 0.106092,
     "end_time": "2021-06-21T15:17:01.918991",
     "exception": false,
     "start_time": "2021-06-21T15:17:01.812899",
     "status": "completed"
    },
    "tags": []
   },
   "outputs": [
    {
     "data": {
      "text/plain": [
       "(891, 13)"
      ]
     },
     "execution_count": 37,
     "metadata": {},
     "output_type": "execute_result"
    }
   ],
   "source": [
    "encoded_df.shape"
   ]
  },
  {
   "cell_type": "code",
   "execution_count": 38,
   "id": "together-carroll",
   "metadata": {
    "execution": {
     "iopub.execute_input": "2021-06-21T15:17:02.134575Z",
     "iopub.status.busy": "2021-06-21T15:17:02.133712Z",
     "iopub.status.idle": "2021-06-21T15:17:02.137348Z",
     "shell.execute_reply": "2021-06-21T15:17:02.136960Z",
     "shell.execute_reply.started": "2021-06-21T13:26:09.385684Z"
    },
    "papermill": {
     "duration": 0.11881,
     "end_time": "2021-06-21T15:17:02.137469",
     "exception": false,
     "start_time": "2021-06-21T15:17:02.018659",
     "status": "completed"
    },
    "tags": []
   },
   "outputs": [
    {
     "data": {
      "text/html": [
       "<div>\n",
       "<style scoped>\n",
       "    .dataframe tbody tr th:only-of-type {\n",
       "        vertical-align: middle;\n",
       "    }\n",
       "\n",
       "    .dataframe tbody tr th {\n",
       "        vertical-align: top;\n",
       "    }\n",
       "\n",
       "    .dataframe thead th {\n",
       "        text-align: right;\n",
       "    }\n",
       "</style>\n",
       "<table border=\"1\" class=\"dataframe\">\n",
       "  <thead>\n",
       "    <tr style=\"text-align: right;\">\n",
       "      <th></th>\n",
       "      <th>0</th>\n",
       "      <th>1</th>\n",
       "      <th>2</th>\n",
       "      <th>3</th>\n",
       "      <th>4</th>\n",
       "      <th>5</th>\n",
       "      <th>6</th>\n",
       "      <th>7</th>\n",
       "      <th>8</th>\n",
       "      <th>9</th>\n",
       "      <th>10</th>\n",
       "      <th>11</th>\n",
       "      <th>12</th>\n",
       "    </tr>\n",
       "  </thead>\n",
       "  <tbody>\n",
       "    <tr>\n",
       "      <th>0</th>\n",
       "      <td>0.0</td>\n",
       "      <td>1.0</td>\n",
       "      <td>0.0</td>\n",
       "      <td>0.0</td>\n",
       "      <td>1.0</td>\n",
       "      <td>0.0</td>\n",
       "      <td>0.0</td>\n",
       "      <td>1.0</td>\n",
       "      <td>3.135494</td>\n",
       "      <td>1.0</td>\n",
       "      <td>0.0</td>\n",
       "      <td>2.110213</td>\n",
       "      <td>1.0</td>\n",
       "    </tr>\n",
       "    <tr>\n",
       "      <th>1</th>\n",
       "      <td>1.0</td>\n",
       "      <td>0.0</td>\n",
       "      <td>1.0</td>\n",
       "      <td>0.0</td>\n",
       "      <td>0.0</td>\n",
       "      <td>1.0</td>\n",
       "      <td>0.0</td>\n",
       "      <td>0.0</td>\n",
       "      <td>3.663562</td>\n",
       "      <td>1.0</td>\n",
       "      <td>0.0</td>\n",
       "      <td>4.280593</td>\n",
       "      <td>1.0</td>\n",
       "    </tr>\n",
       "    <tr>\n",
       "      <th>2</th>\n",
       "      <td>1.0</td>\n",
       "      <td>0.0</td>\n",
       "      <td>0.0</td>\n",
       "      <td>0.0</td>\n",
       "      <td>1.0</td>\n",
       "      <td>0.0</td>\n",
       "      <td>0.0</td>\n",
       "      <td>1.0</td>\n",
       "      <td>3.295837</td>\n",
       "      <td>0.0</td>\n",
       "      <td>0.0</td>\n",
       "      <td>2.188856</td>\n",
       "      <td>0.0</td>\n",
       "    </tr>\n",
       "    <tr>\n",
       "      <th>3</th>\n",
       "      <td>1.0</td>\n",
       "      <td>0.0</td>\n",
       "      <td>0.0</td>\n",
       "      <td>0.0</td>\n",
       "      <td>1.0</td>\n",
       "      <td>1.0</td>\n",
       "      <td>0.0</td>\n",
       "      <td>0.0</td>\n",
       "      <td>3.583519</td>\n",
       "      <td>1.0</td>\n",
       "      <td>0.0</td>\n",
       "      <td>3.990834</td>\n",
       "      <td>1.0</td>\n",
       "    </tr>\n",
       "    <tr>\n",
       "      <th>4</th>\n",
       "      <td>0.0</td>\n",
       "      <td>1.0</td>\n",
       "      <td>0.0</td>\n",
       "      <td>0.0</td>\n",
       "      <td>1.0</td>\n",
       "      <td>0.0</td>\n",
       "      <td>0.0</td>\n",
       "      <td>1.0</td>\n",
       "      <td>3.583519</td>\n",
       "      <td>0.0</td>\n",
       "      <td>0.0</td>\n",
       "      <td>2.202765</td>\n",
       "      <td>0.0</td>\n",
       "    </tr>\n",
       "  </tbody>\n",
       "</table>\n",
       "</div>"
      ],
      "text/plain": [
       "    0    1    2    3    4    5    6    7         8    9    10        11   12\n",
       "0  0.0  1.0  0.0  0.0  1.0  0.0  0.0  1.0  3.135494  1.0  0.0  2.110213  1.0\n",
       "1  1.0  0.0  1.0  0.0  0.0  1.0  0.0  0.0  3.663562  1.0  0.0  4.280593  1.0\n",
       "2  1.0  0.0  0.0  0.0  1.0  0.0  0.0  1.0  3.295837  0.0  0.0  2.188856  0.0\n",
       "3  1.0  0.0  0.0  0.0  1.0  1.0  0.0  0.0  3.583519  1.0  0.0  3.990834  1.0\n",
       "4  0.0  1.0  0.0  0.0  1.0  0.0  0.0  1.0  3.583519  0.0  0.0  2.202765  0.0"
      ]
     },
     "execution_count": 38,
     "metadata": {},
     "output_type": "execute_result"
    }
   ],
   "source": [
    "encoded_df.head()"
   ]
  },
  {
   "cell_type": "markdown",
   "id": "continued-station",
   "metadata": {
    "papermill": {
     "duration": 0.101989,
     "end_time": "2021-06-21T15:17:02.339268",
     "exception": false,
     "start_time": "2021-06-21T15:17:02.237279",
     "status": "completed"
    },
    "tags": []
   },
   "source": [
    "**Avoiding Dummy variables**"
   ]
  },
  {
   "cell_type": "code",
   "execution_count": 39,
   "id": "closed-fault",
   "metadata": {
    "execution": {
     "iopub.execute_input": "2021-06-21T15:17:02.543790Z",
     "iopub.status.busy": "2021-06-21T15:17:02.543094Z",
     "iopub.status.idle": "2021-06-21T15:17:02.545833Z",
     "shell.execute_reply": "2021-06-21T15:17:02.545407Z",
     "shell.execute_reply.started": "2021-06-21T13:26:12.483081Z"
    },
    "papermill": {
     "duration": 0.106465,
     "end_time": "2021-06-21T15:17:02.545940",
     "exception": false,
     "start_time": "2021-06-21T15:17:02.439475",
     "status": "completed"
    },
    "tags": []
   },
   "outputs": [],
   "source": [
    "encoded_x = encoded_df.drop([0, 2, 5], axis = 1)"
   ]
  },
  {
   "cell_type": "code",
   "execution_count": 40,
   "id": "disturbed-garbage",
   "metadata": {
    "execution": {
     "iopub.execute_input": "2021-06-21T15:17:02.758953Z",
     "iopub.status.busy": "2021-06-21T15:17:02.758193Z",
     "iopub.status.idle": "2021-06-21T15:17:02.761647Z",
     "shell.execute_reply": "2021-06-21T15:17:02.761243Z",
     "shell.execute_reply.started": "2021-06-21T13:26:14.591158Z"
    },
    "papermill": {
     "duration": 0.11504,
     "end_time": "2021-06-21T15:17:02.761759",
     "exception": false,
     "start_time": "2021-06-21T15:17:02.646719",
     "status": "completed"
    },
    "tags": []
   },
   "outputs": [
    {
     "data": {
      "text/html": [
       "<div>\n",
       "<style scoped>\n",
       "    .dataframe tbody tr th:only-of-type {\n",
       "        vertical-align: middle;\n",
       "    }\n",
       "\n",
       "    .dataframe tbody tr th {\n",
       "        vertical-align: top;\n",
       "    }\n",
       "\n",
       "    .dataframe thead th {\n",
       "        text-align: right;\n",
       "    }\n",
       "</style>\n",
       "<table border=\"1\" class=\"dataframe\">\n",
       "  <thead>\n",
       "    <tr style=\"text-align: right;\">\n",
       "      <th></th>\n",
       "      <th>1</th>\n",
       "      <th>3</th>\n",
       "      <th>4</th>\n",
       "      <th>6</th>\n",
       "      <th>7</th>\n",
       "      <th>8</th>\n",
       "      <th>9</th>\n",
       "      <th>10</th>\n",
       "      <th>11</th>\n",
       "      <th>12</th>\n",
       "    </tr>\n",
       "  </thead>\n",
       "  <tbody>\n",
       "    <tr>\n",
       "      <th>0</th>\n",
       "      <td>1.0</td>\n",
       "      <td>0.0</td>\n",
       "      <td>1.0</td>\n",
       "      <td>0.0</td>\n",
       "      <td>1.0</td>\n",
       "      <td>3.135494</td>\n",
       "      <td>1.0</td>\n",
       "      <td>0.0</td>\n",
       "      <td>2.110213</td>\n",
       "      <td>1.0</td>\n",
       "    </tr>\n",
       "    <tr>\n",
       "      <th>1</th>\n",
       "      <td>0.0</td>\n",
       "      <td>0.0</td>\n",
       "      <td>0.0</td>\n",
       "      <td>0.0</td>\n",
       "      <td>0.0</td>\n",
       "      <td>3.663562</td>\n",
       "      <td>1.0</td>\n",
       "      <td>0.0</td>\n",
       "      <td>4.280593</td>\n",
       "      <td>1.0</td>\n",
       "    </tr>\n",
       "    <tr>\n",
       "      <th>2</th>\n",
       "      <td>0.0</td>\n",
       "      <td>0.0</td>\n",
       "      <td>1.0</td>\n",
       "      <td>0.0</td>\n",
       "      <td>1.0</td>\n",
       "      <td>3.295837</td>\n",
       "      <td>0.0</td>\n",
       "      <td>0.0</td>\n",
       "      <td>2.188856</td>\n",
       "      <td>0.0</td>\n",
       "    </tr>\n",
       "    <tr>\n",
       "      <th>3</th>\n",
       "      <td>0.0</td>\n",
       "      <td>0.0</td>\n",
       "      <td>1.0</td>\n",
       "      <td>0.0</td>\n",
       "      <td>0.0</td>\n",
       "      <td>3.583519</td>\n",
       "      <td>1.0</td>\n",
       "      <td>0.0</td>\n",
       "      <td>3.990834</td>\n",
       "      <td>1.0</td>\n",
       "    </tr>\n",
       "    <tr>\n",
       "      <th>4</th>\n",
       "      <td>1.0</td>\n",
       "      <td>0.0</td>\n",
       "      <td>1.0</td>\n",
       "      <td>0.0</td>\n",
       "      <td>1.0</td>\n",
       "      <td>3.583519</td>\n",
       "      <td>0.0</td>\n",
       "      <td>0.0</td>\n",
       "      <td>2.202765</td>\n",
       "      <td>0.0</td>\n",
       "    </tr>\n",
       "  </tbody>\n",
       "</table>\n",
       "</div>"
      ],
      "text/plain": [
       "    1    3    4    6    7         8    9    10        11   12\n",
       "0  1.0  0.0  1.0  0.0  1.0  3.135494  1.0  0.0  2.110213  1.0\n",
       "1  0.0  0.0  0.0  0.0  0.0  3.663562  1.0  0.0  4.280593  1.0\n",
       "2  0.0  0.0  1.0  0.0  1.0  3.295837  0.0  0.0  2.188856  0.0\n",
       "3  0.0  0.0  1.0  0.0  0.0  3.583519  1.0  0.0  3.990834  1.0\n",
       "4  1.0  0.0  1.0  0.0  1.0  3.583519  0.0  0.0  2.202765  0.0"
      ]
     },
     "execution_count": 40,
     "metadata": {},
     "output_type": "execute_result"
    }
   ],
   "source": [
    "encoded_x.head()"
   ]
  },
  {
   "cell_type": "code",
   "execution_count": 41,
   "id": "loose-fraud",
   "metadata": {
    "execution": {
     "iopub.execute_input": "2021-06-21T15:17:02.966320Z",
     "iopub.status.busy": "2021-06-21T15:17:02.965652Z",
     "iopub.status.idle": "2021-06-21T15:17:02.968609Z",
     "shell.execute_reply": "2021-06-21T15:17:02.969050Z",
     "shell.execute_reply.started": "2021-06-21T13:26:17.738181Z"
    },
    "papermill": {
     "duration": 0.106753,
     "end_time": "2021-06-21T15:17:02.969165",
     "exception": false,
     "start_time": "2021-06-21T15:17:02.862412",
     "status": "completed"
    },
    "tags": []
   },
   "outputs": [
    {
     "data": {
      "text/plain": [
       "(891, 10)"
      ]
     },
     "execution_count": 41,
     "metadata": {},
     "output_type": "execute_result"
    }
   ],
   "source": [
    "encoded_x.shape"
   ]
  },
  {
   "cell_type": "code",
   "execution_count": 42,
   "id": "greatest-arrest",
   "metadata": {
    "execution": {
     "iopub.execute_input": "2021-06-21T15:17:03.175259Z",
     "iopub.status.busy": "2021-06-21T15:17:03.174584Z",
     "iopub.status.idle": "2021-06-21T15:17:03.177972Z",
     "shell.execute_reply": "2021-06-21T15:17:03.177572Z",
     "shell.execute_reply.started": "2021-06-21T13:26:19.609132Z"
    },
    "papermill": {
     "duration": 0.107827,
     "end_time": "2021-06-21T15:17:03.178076",
     "exception": false,
     "start_time": "2021-06-21T15:17:03.070249",
     "status": "completed"
    },
    "tags": []
   },
   "outputs": [
    {
     "data": {
      "text/plain": [
       "(891,)"
      ]
     },
     "execution_count": 42,
     "metadata": {},
     "output_type": "execute_result"
    }
   ],
   "source": [
    "y.shape"
   ]
  },
  {
   "cell_type": "markdown",
   "id": "automated-prevention",
   "metadata": {
    "papermill": {
     "duration": 0.100847,
     "end_time": "2021-06-21T15:17:03.379541",
     "exception": false,
     "start_time": "2021-06-21T15:17:03.278694",
     "status": "completed"
    },
    "tags": []
   },
   "source": [
    "# Feature Engineering in test data"
   ]
  },
  {
   "cell_type": "code",
   "execution_count": 43,
   "id": "devoted-specialist",
   "metadata": {
    "execution": {
     "iopub.execute_input": "2021-06-21T15:17:03.585626Z",
     "iopub.status.busy": "2021-06-21T15:17:03.584969Z",
     "iopub.status.idle": "2021-06-21T15:17:03.587876Z",
     "shell.execute_reply": "2021-06-21T15:17:03.587478Z",
     "shell.execute_reply.started": "2021-06-21T13:26:22.447165Z"
    },
    "papermill": {
     "duration": 0.107914,
     "end_time": "2021-06-21T15:17:03.587980",
     "exception": false,
     "start_time": "2021-06-21T15:17:03.480066",
     "status": "completed"
    },
    "tags": []
   },
   "outputs": [],
   "source": [
    "test['family'] = test['SibSp'] + test['Parch']"
   ]
  },
  {
   "cell_type": "code",
   "execution_count": 44,
   "id": "integral-affairs",
   "metadata": {
    "execution": {
     "iopub.execute_input": "2021-06-21T15:17:03.802882Z",
     "iopub.status.busy": "2021-06-21T15:17:03.802047Z",
     "iopub.status.idle": "2021-06-21T15:17:03.805387Z",
     "shell.execute_reply": "2021-06-21T15:17:03.805842Z",
     "shell.execute_reply.started": "2021-06-21T13:26:27.600434Z"
    },
    "papermill": {
     "duration": 0.117274,
     "end_time": "2021-06-21T15:17:03.805965",
     "exception": false,
     "start_time": "2021-06-21T15:17:03.688691",
     "status": "completed"
    },
    "tags": []
   },
   "outputs": [
    {
     "data": {
      "text/html": [
       "<div>\n",
       "<style scoped>\n",
       "    .dataframe tbody tr th:only-of-type {\n",
       "        vertical-align: middle;\n",
       "    }\n",
       "\n",
       "    .dataframe tbody tr th {\n",
       "        vertical-align: top;\n",
       "    }\n",
       "\n",
       "    .dataframe thead th {\n",
       "        text-align: right;\n",
       "    }\n",
       "</style>\n",
       "<table border=\"1\" class=\"dataframe\">\n",
       "  <thead>\n",
       "    <tr style=\"text-align: right;\">\n",
       "      <th></th>\n",
       "      <th>PassengerId</th>\n",
       "      <th>Pclass</th>\n",
       "      <th>Name</th>\n",
       "      <th>Sex</th>\n",
       "      <th>Age</th>\n",
       "      <th>SibSp</th>\n",
       "      <th>Parch</th>\n",
       "      <th>Ticket</th>\n",
       "      <th>Fare</th>\n",
       "      <th>Cabin</th>\n",
       "      <th>Embarked</th>\n",
       "      <th>family</th>\n",
       "    </tr>\n",
       "  </thead>\n",
       "  <tbody>\n",
       "    <tr>\n",
       "      <th>0</th>\n",
       "      <td>892</td>\n",
       "      <td>3</td>\n",
       "      <td>Kelly, Mr. James</td>\n",
       "      <td>male</td>\n",
       "      <td>34.5</td>\n",
       "      <td>0</td>\n",
       "      <td>0</td>\n",
       "      <td>330911</td>\n",
       "      <td>7.8292</td>\n",
       "      <td>NaN</td>\n",
       "      <td>Q</td>\n",
       "      <td>0</td>\n",
       "    </tr>\n",
       "    <tr>\n",
       "      <th>1</th>\n",
       "      <td>893</td>\n",
       "      <td>3</td>\n",
       "      <td>Wilkes, Mrs. James (Ellen Needs)</td>\n",
       "      <td>female</td>\n",
       "      <td>47.0</td>\n",
       "      <td>1</td>\n",
       "      <td>0</td>\n",
       "      <td>363272</td>\n",
       "      <td>7.0000</td>\n",
       "      <td>NaN</td>\n",
       "      <td>S</td>\n",
       "      <td>1</td>\n",
       "    </tr>\n",
       "    <tr>\n",
       "      <th>2</th>\n",
       "      <td>894</td>\n",
       "      <td>2</td>\n",
       "      <td>Myles, Mr. Thomas Francis</td>\n",
       "      <td>male</td>\n",
       "      <td>62.0</td>\n",
       "      <td>0</td>\n",
       "      <td>0</td>\n",
       "      <td>240276</td>\n",
       "      <td>9.6875</td>\n",
       "      <td>NaN</td>\n",
       "      <td>Q</td>\n",
       "      <td>0</td>\n",
       "    </tr>\n",
       "    <tr>\n",
       "      <th>3</th>\n",
       "      <td>895</td>\n",
       "      <td>3</td>\n",
       "      <td>Wirz, Mr. Albert</td>\n",
       "      <td>male</td>\n",
       "      <td>27.0</td>\n",
       "      <td>0</td>\n",
       "      <td>0</td>\n",
       "      <td>315154</td>\n",
       "      <td>8.6625</td>\n",
       "      <td>NaN</td>\n",
       "      <td>S</td>\n",
       "      <td>0</td>\n",
       "    </tr>\n",
       "    <tr>\n",
       "      <th>4</th>\n",
       "      <td>896</td>\n",
       "      <td>3</td>\n",
       "      <td>Hirvonen, Mrs. Alexander (Helga E Lindqvist)</td>\n",
       "      <td>female</td>\n",
       "      <td>22.0</td>\n",
       "      <td>1</td>\n",
       "      <td>1</td>\n",
       "      <td>3101298</td>\n",
       "      <td>12.2875</td>\n",
       "      <td>NaN</td>\n",
       "      <td>S</td>\n",
       "      <td>2</td>\n",
       "    </tr>\n",
       "  </tbody>\n",
       "</table>\n",
       "</div>"
      ],
      "text/plain": [
       "   PassengerId  Pclass                                          Name     Sex  \\\n",
       "0          892       3                              Kelly, Mr. James    male   \n",
       "1          893       3              Wilkes, Mrs. James (Ellen Needs)  female   \n",
       "2          894       2                     Myles, Mr. Thomas Francis    male   \n",
       "3          895       3                              Wirz, Mr. Albert    male   \n",
       "4          896       3  Hirvonen, Mrs. Alexander (Helga E Lindqvist)  female   \n",
       "\n",
       "    Age  SibSp  Parch   Ticket     Fare Cabin Embarked  family  \n",
       "0  34.5      0      0   330911   7.8292   NaN        Q       0  \n",
       "1  47.0      1      0   363272   7.0000   NaN        S       1  \n",
       "2  62.0      0      0   240276   9.6875   NaN        Q       0  \n",
       "3  27.0      0      0   315154   8.6625   NaN        S       0  \n",
       "4  22.0      1      1  3101298  12.2875   NaN        S       2  "
      ]
     },
     "execution_count": 44,
     "metadata": {},
     "output_type": "execute_result"
    }
   ],
   "source": [
    "test.head()"
   ]
  },
  {
   "cell_type": "markdown",
   "id": "clean-baseline",
   "metadata": {
    "papermill": {
     "duration": 0.10254,
     "end_time": "2021-06-21T15:17:04.010925",
     "exception": false,
     "start_time": "2021-06-21T15:17:03.908385",
     "status": "completed"
    },
    "tags": []
   },
   "source": [
    "Removing skewness in `Age` column"
   ]
  },
  {
   "cell_type": "code",
   "execution_count": 45,
   "id": "revolutionary-dispute",
   "metadata": {
    "execution": {
     "iopub.execute_input": "2021-06-21T15:17:04.219350Z",
     "iopub.status.busy": "2021-06-21T15:17:04.218508Z",
     "iopub.status.idle": "2021-06-21T15:17:04.221289Z",
     "shell.execute_reply": "2021-06-21T15:17:04.220835Z",
     "shell.execute_reply.started": "2021-06-21T13:26:30.288357Z"
    },
    "papermill": {
     "duration": 0.108737,
     "end_time": "2021-06-21T15:17:04.221395",
     "exception": false,
     "start_time": "2021-06-21T15:17:04.112658",
     "status": "completed"
    },
    "tags": []
   },
   "outputs": [],
   "source": [
    "test['Age']=np.log(test['Age']+1)"
   ]
  },
  {
   "cell_type": "markdown",
   "id": "sought-emission",
   "metadata": {
    "papermill": {
     "duration": 0.101712,
     "end_time": "2021-06-21T15:17:04.425238",
     "exception": false,
     "start_time": "2021-06-21T15:17:04.323526",
     "status": "completed"
    },
    "tags": []
   },
   "source": [
    "Removing skewness in `Fare` column"
   ]
  },
  {
   "cell_type": "code",
   "execution_count": 46,
   "id": "likely-enterprise",
   "metadata": {
    "execution": {
     "iopub.execute_input": "2021-06-21T15:17:04.634639Z",
     "iopub.status.busy": "2021-06-21T15:17:04.633797Z",
     "iopub.status.idle": "2021-06-21T15:17:04.636396Z",
     "shell.execute_reply": "2021-06-21T15:17:04.635964Z",
     "shell.execute_reply.started": "2021-06-21T13:26:33.182818Z"
    },
    "papermill": {
     "duration": 0.109762,
     "end_time": "2021-06-21T15:17:04.636531",
     "exception": false,
     "start_time": "2021-06-21T15:17:04.526769",
     "status": "completed"
    },
    "tags": []
   },
   "outputs": [],
   "source": [
    "test['Fare']=np.log(test['Fare']+1)"
   ]
  },
  {
   "cell_type": "code",
   "execution_count": 47,
   "id": "pregnant-respondent",
   "metadata": {
    "execution": {
     "iopub.execute_input": "2021-06-21T15:17:04.862627Z",
     "iopub.status.busy": "2021-06-21T15:17:04.861826Z",
     "iopub.status.idle": "2021-06-21T15:17:04.963352Z",
     "shell.execute_reply": "2021-06-21T15:17:04.963738Z",
     "shell.execute_reply.started": "2021-06-21T13:26:35.161487Z"
    },
    "papermill": {
     "duration": 0.223766,
     "end_time": "2021-06-21T15:17:04.963866",
     "exception": false,
     "start_time": "2021-06-21T15:17:04.740100",
     "status": "completed"
    },
    "tags": []
   },
   "outputs": [
    {
     "data": {
      "image/png": "[encoded data removed]",
      "text/plain": [
       "<Figure size 720x432 with 1 Axes>"
      ]
     },
     "metadata": {
      "needs_background": "light"
     },
     "output_type": "display_data"
    }
   ],
   "source": [
    "test['Age'].plot(kind = 'density', figsize=(10, 6));"
   ]
  },
  {
   "cell_type": "code",
   "execution_count": 48,
   "id": "resident-reviewer",
   "metadata": {
    "execution": {
     "iopub.execute_input": "2021-06-21T15:17:05.228056Z",
     "iopub.status.busy": "2021-06-21T15:17:05.226391Z",
     "iopub.status.idle": "2021-06-21T15:17:05.305840Z",
     "shell.execute_reply": "2021-06-21T15:17:05.306210Z",
     "shell.execute_reply.started": "2021-06-21T13:26:38.344472Z"
    },
    "papermill": {
     "duration": 0.24034,
     "end_time": "2021-06-21T15:17:05.306339",
     "exception": false,
     "start_time": "2021-06-21T15:17:05.065999",
     "status": "completed"
    },
    "tags": []
   },
   "outputs": [
    {
     "data": {
      "image/png": "[encoded data removed]",
      "text/plain": [
       "<Figure size 720x432 with 1 Axes>"
      ]
     },
     "metadata": {
      "needs_background": "light"
     },
     "output_type": "display_data"
    }
   ],
   "source": [
    "test['Fare'].plot(kind = 'density', figsize=(10, 6));"
   ]
  },
  {
   "cell_type": "code",
   "execution_count": 49,
   "id": "capital-admission",
   "metadata": {
    "execution": {
     "iopub.execute_input": "2021-06-21T15:17:05.522995Z",
     "iopub.status.busy": "2021-06-21T15:17:05.522223Z",
     "iopub.status.idle": "2021-06-21T15:17:05.532412Z",
     "shell.execute_reply": "2021-06-21T15:17:05.532836Z",
     "shell.execute_reply.started": "2021-06-21T13:26:41.850303Z"
    },
    "papermill": {
     "duration": 0.122462,
     "end_time": "2021-06-21T15:17:05.532965",
     "exception": false,
     "start_time": "2021-06-21T15:17:05.410503",
     "status": "completed"
    },
    "tags": []
   },
   "outputs": [
    {
     "data": {
      "text/html": [
       "<div>\n",
       "<style scoped>\n",
       "    .dataframe tbody tr th:only-of-type {\n",
       "        vertical-align: middle;\n",
       "    }\n",
       "\n",
       "    .dataframe tbody tr th {\n",
       "        vertical-align: top;\n",
       "    }\n",
       "\n",
       "    .dataframe thead th {\n",
       "        text-align: right;\n",
       "    }\n",
       "</style>\n",
       "<table border=\"1\" class=\"dataframe\">\n",
       "  <thead>\n",
       "    <tr style=\"text-align: right;\">\n",
       "      <th></th>\n",
       "      <th>PassengerId</th>\n",
       "      <th>Pclass</th>\n",
       "      <th>Name</th>\n",
       "      <th>Sex</th>\n",
       "      <th>Age</th>\n",
       "      <th>SibSp</th>\n",
       "      <th>Parch</th>\n",
       "      <th>Ticket</th>\n",
       "      <th>Fare</th>\n",
       "      <th>Cabin</th>\n",
       "      <th>Embarked</th>\n",
       "      <th>family</th>\n",
       "    </tr>\n",
       "  </thead>\n",
       "  <tbody>\n",
       "    <tr>\n",
       "      <th>0</th>\n",
       "      <td>892</td>\n",
       "      <td>3</td>\n",
       "      <td>Kelly, Mr. James</td>\n",
       "      <td>male</td>\n",
       "      <td>3.569533</td>\n",
       "      <td>0</td>\n",
       "      <td>0</td>\n",
       "      <td>330911</td>\n",
       "      <td>2.178064</td>\n",
       "      <td>NaN</td>\n",
       "      <td>Q</td>\n",
       "      <td>0</td>\n",
       "    </tr>\n",
       "    <tr>\n",
       "      <th>1</th>\n",
       "      <td>893</td>\n",
       "      <td>3</td>\n",
       "      <td>Wilkes, Mrs. James (Ellen Needs)</td>\n",
       "      <td>female</td>\n",
       "      <td>3.871201</td>\n",
       "      <td>1</td>\n",
       "      <td>0</td>\n",
       "      <td>363272</td>\n",
       "      <td>2.079442</td>\n",
       "      <td>NaN</td>\n",
       "      <td>S</td>\n",
       "      <td>1</td>\n",
       "    </tr>\n",
       "    <tr>\n",
       "      <th>2</th>\n",
       "      <td>894</td>\n",
       "      <td>2</td>\n",
       "      <td>Myles, Mr. Thomas Francis</td>\n",
       "      <td>male</td>\n",
       "      <td>4.143135</td>\n",
       "      <td>0</td>\n",
       "      <td>0</td>\n",
       "      <td>240276</td>\n",
       "      <td>2.369075</td>\n",
       "      <td>NaN</td>\n",
       "      <td>Q</td>\n",
       "      <td>0</td>\n",
       "    </tr>\n",
       "    <tr>\n",
       "      <th>3</th>\n",
       "      <td>895</td>\n",
       "      <td>3</td>\n",
       "      <td>Wirz, Mr. Albert</td>\n",
       "      <td>male</td>\n",
       "      <td>3.332205</td>\n",
       "      <td>0</td>\n",
       "      <td>0</td>\n",
       "      <td>315154</td>\n",
       "      <td>2.268252</td>\n",
       "      <td>NaN</td>\n",
       "      <td>S</td>\n",
       "      <td>0</td>\n",
       "    </tr>\n",
       "    <tr>\n",
       "      <th>4</th>\n",
       "      <td>896</td>\n",
       "      <td>3</td>\n",
       "      <td>Hirvonen, Mrs. Alexander (Helga E Lindqvist)</td>\n",
       "      <td>female</td>\n",
       "      <td>3.135494</td>\n",
       "      <td>1</td>\n",
       "      <td>1</td>\n",
       "      <td>3101298</td>\n",
       "      <td>2.586824</td>\n",
       "      <td>NaN</td>\n",
       "      <td>S</td>\n",
       "      <td>2</td>\n",
       "    </tr>\n",
       "    <tr>\n",
       "      <th>5</th>\n",
       "      <td>897</td>\n",
       "      <td>3</td>\n",
       "      <td>Svensson, Mr. Johan Cervin</td>\n",
       "      <td>male</td>\n",
       "      <td>2.708050</td>\n",
       "      <td>0</td>\n",
       "      <td>0</td>\n",
       "      <td>7538</td>\n",
       "      <td>2.324836</td>\n",
       "      <td>NaN</td>\n",
       "      <td>S</td>\n",
       "      <td>0</td>\n",
       "    </tr>\n",
       "    <tr>\n",
       "      <th>6</th>\n",
       "      <td>898</td>\n",
       "      <td>3</td>\n",
       "      <td>Connolly, Miss. Kate</td>\n",
       "      <td>female</td>\n",
       "      <td>3.433987</td>\n",
       "      <td>0</td>\n",
       "      <td>0</td>\n",
       "      <td>330972</td>\n",
       "      <td>2.155152</td>\n",
       "      <td>NaN</td>\n",
       "      <td>Q</td>\n",
       "      <td>0</td>\n",
       "    </tr>\n",
       "    <tr>\n",
       "      <th>7</th>\n",
       "      <td>899</td>\n",
       "      <td>2</td>\n",
       "      <td>Caldwell, Mr. Albert Francis</td>\n",
       "      <td>male</td>\n",
       "      <td>3.295837</td>\n",
       "      <td>1</td>\n",
       "      <td>1</td>\n",
       "      <td>248738</td>\n",
       "      <td>3.401197</td>\n",
       "      <td>NaN</td>\n",
       "      <td>S</td>\n",
       "      <td>2</td>\n",
       "    </tr>\n",
       "    <tr>\n",
       "      <th>8</th>\n",
       "      <td>900</td>\n",
       "      <td>3</td>\n",
       "      <td>Abrahim, Mrs. Joseph (Sophie Halaut Easu)</td>\n",
       "      <td>female</td>\n",
       "      <td>2.944439</td>\n",
       "      <td>0</td>\n",
       "      <td>0</td>\n",
       "      <td>2657</td>\n",
       "      <td>2.107689</td>\n",
       "      <td>NaN</td>\n",
       "      <td>C</td>\n",
       "      <td>0</td>\n",
       "    </tr>\n",
       "    <tr>\n",
       "      <th>9</th>\n",
       "      <td>901</td>\n",
       "      <td>3</td>\n",
       "      <td>Davies, Mr. John Samuel</td>\n",
       "      <td>male</td>\n",
       "      <td>3.091042</td>\n",
       "      <td>2</td>\n",
       "      <td>0</td>\n",
       "      <td>A/4 48871</td>\n",
       "      <td>3.224858</td>\n",
       "      <td>NaN</td>\n",
       "      <td>S</td>\n",
       "      <td>2</td>\n",
       "    </tr>\n",
       "  </tbody>\n",
       "</table>\n",
       "</div>"
      ],
      "text/plain": [
       "   PassengerId  Pclass                                          Name     Sex  \\\n",
       "0          892       3                              Kelly, Mr. James    male   \n",
       "1          893       3              Wilkes, Mrs. James (Ellen Needs)  female   \n",
       "2          894       2                     Myles, Mr. Thomas Francis    male   \n",
       "3          895       3                              Wirz, Mr. Albert    male   \n",
       "4          896       3  Hirvonen, Mrs. Alexander (Helga E Lindqvist)  female   \n",
       "5          897       3                    Svensson, Mr. Johan Cervin    male   \n",
       "6          898       3                          Connolly, Miss. Kate  female   \n",
       "7          899       2                  Caldwell, Mr. Albert Francis    male   \n",
       "8          900       3     Abrahim, Mrs. Joseph (Sophie Halaut Easu)  female   \n",
       "9          901       3                       Davies, Mr. John Samuel    male   \n",
       "\n",
       "        Age  SibSp  Parch     Ticket      Fare Cabin Embarked  family  \n",
       "0  3.569533      0      0     330911  2.178064   NaN        Q       0  \n",
       "1  3.871201      1      0     363272  2.079442   NaN        S       1  \n",
       "2  4.143135      0      0     240276  2.369075   NaN        Q       0  \n",
       "3  3.332205      0      0     315154  2.268252   NaN        S       0  \n",
       "4  3.135494      1      1    3101298  2.586824   NaN        S       2  \n",
       "5  2.708050      0      0       7538  2.324836   NaN        S       0  \n",
       "6  3.433987      0      0     330972  2.155152   NaN        Q       0  \n",
       "7  3.295837      1      1     248738  3.401197   NaN        S       2  \n",
       "8  2.944439      0      0       2657  2.107689   NaN        C       0  \n",
       "9  3.091042      2      0  A/4 48871  3.224858   NaN        S       2  "
      ]
     },
     "execution_count": 49,
     "metadata": {},
     "output_type": "execute_result"
    }
   ],
   "source": [
    "test.head(10)"
   ]
  },
  {
   "cell_type": "markdown",
   "id": "accurate-niagara",
   "metadata": {
    "papermill": {
     "duration": 0.102881,
     "end_time": "2021-06-21T15:17:05.750704",
     "exception": false,
     "start_time": "2021-06-21T15:17:05.647823",
     "status": "completed"
    },
    "tags": []
   },
   "source": [
    "# Preparing test set"
   ]
  },
  {
   "cell_type": "code",
   "execution_count": 50,
   "id": "copyrighted-archive",
   "metadata": {
    "execution": {
     "iopub.execute_input": "2021-06-21T15:17:05.962152Z",
     "iopub.status.busy": "2021-06-21T15:17:05.961346Z",
     "iopub.status.idle": "2021-06-21T15:17:05.965144Z",
     "shell.execute_reply": "2021-06-21T15:17:05.965604Z",
     "shell.execute_reply.started": "2021-06-21T13:27:13.774484Z"
    },
    "papermill": {
     "duration": 0.111707,
     "end_time": "2021-06-21T15:17:05.965747",
     "exception": false,
     "start_time": "2021-06-21T15:17:05.854040",
     "status": "completed"
    },
    "tags": []
   },
   "outputs": [],
   "source": [
    "test.drop(['PassengerId', 'Name', 'Ticket', 'Cabin'], axis = 1, inplace = True)"
   ]
  },
  {
   "cell_type": "code",
   "execution_count": 51,
   "id": "valid-ferry",
   "metadata": {
    "execution": {
     "iopub.execute_input": "2021-06-21T15:17:06.185950Z",
     "iopub.status.busy": "2021-06-21T15:17:06.185146Z",
     "iopub.status.idle": "2021-06-21T15:17:06.188487Z",
     "shell.execute_reply": "2021-06-21T15:17:06.188921Z",
     "shell.execute_reply.started": "2021-06-21T13:27:18.429342Z"
    },
    "papermill": {
     "duration": 0.118382,
     "end_time": "2021-06-21T15:17:06.189046",
     "exception": false,
     "start_time": "2021-06-21T15:17:06.070664",
     "status": "completed"
    },
    "tags": []
   },
   "outputs": [
    {
     "data": {
      "text/html": [
       "<div>\n",
       "<style scoped>\n",
       "    .dataframe tbody tr th:only-of-type {\n",
       "        vertical-align: middle;\n",
       "    }\n",
       "\n",
       "    .dataframe tbody tr th {\n",
       "        vertical-align: top;\n",
       "    }\n",
       "\n",
       "    .dataframe thead th {\n",
       "        text-align: right;\n",
       "    }\n",
       "</style>\n",
       "<table border=\"1\" class=\"dataframe\">\n",
       "  <thead>\n",
       "    <tr style=\"text-align: right;\">\n",
       "      <th></th>\n",
       "      <th>Pclass</th>\n",
       "      <th>Sex</th>\n",
       "      <th>Age</th>\n",
       "      <th>SibSp</th>\n",
       "      <th>Parch</th>\n",
       "      <th>Fare</th>\n",
       "      <th>Embarked</th>\n",
       "      <th>family</th>\n",
       "    </tr>\n",
       "  </thead>\n",
       "  <tbody>\n",
       "    <tr>\n",
       "      <th>0</th>\n",
       "      <td>3</td>\n",
       "      <td>male</td>\n",
       "      <td>3.569533</td>\n",
       "      <td>0</td>\n",
       "      <td>0</td>\n",
       "      <td>2.178064</td>\n",
       "      <td>Q</td>\n",
       "      <td>0</td>\n",
       "    </tr>\n",
       "    <tr>\n",
       "      <th>1</th>\n",
       "      <td>3</td>\n",
       "      <td>female</td>\n",
       "      <td>3.871201</td>\n",
       "      <td>1</td>\n",
       "      <td>0</td>\n",
       "      <td>2.079442</td>\n",
       "      <td>S</td>\n",
       "      <td>1</td>\n",
       "    </tr>\n",
       "    <tr>\n",
       "      <th>2</th>\n",
       "      <td>2</td>\n",
       "      <td>male</td>\n",
       "      <td>4.143135</td>\n",
       "      <td>0</td>\n",
       "      <td>0</td>\n",
       "      <td>2.369075</td>\n",
       "      <td>Q</td>\n",
       "      <td>0</td>\n",
       "    </tr>\n",
       "    <tr>\n",
       "      <th>3</th>\n",
       "      <td>3</td>\n",
       "      <td>male</td>\n",
       "      <td>3.332205</td>\n",
       "      <td>0</td>\n",
       "      <td>0</td>\n",
       "      <td>2.268252</td>\n",
       "      <td>S</td>\n",
       "      <td>0</td>\n",
       "    </tr>\n",
       "    <tr>\n",
       "      <th>4</th>\n",
       "      <td>3</td>\n",
       "      <td>female</td>\n",
       "      <td>3.135494</td>\n",
       "      <td>1</td>\n",
       "      <td>1</td>\n",
       "      <td>2.586824</td>\n",
       "      <td>S</td>\n",
       "      <td>2</td>\n",
       "    </tr>\n",
       "    <tr>\n",
       "      <th>5</th>\n",
       "      <td>3</td>\n",
       "      <td>male</td>\n",
       "      <td>2.708050</td>\n",
       "      <td>0</td>\n",
       "      <td>0</td>\n",
       "      <td>2.324836</td>\n",
       "      <td>S</td>\n",
       "      <td>0</td>\n",
       "    </tr>\n",
       "    <tr>\n",
       "      <th>6</th>\n",
       "      <td>3</td>\n",
       "      <td>female</td>\n",
       "      <td>3.433987</td>\n",
       "      <td>0</td>\n",
       "      <td>0</td>\n",
       "      <td>2.155152</td>\n",
       "      <td>Q</td>\n",
       "      <td>0</td>\n",
       "    </tr>\n",
       "    <tr>\n",
       "      <th>7</th>\n",
       "      <td>2</td>\n",
       "      <td>male</td>\n",
       "      <td>3.295837</td>\n",
       "      <td>1</td>\n",
       "      <td>1</td>\n",
       "      <td>3.401197</td>\n",
       "      <td>S</td>\n",
       "      <td>2</td>\n",
       "    </tr>\n",
       "    <tr>\n",
       "      <th>8</th>\n",
       "      <td>3</td>\n",
       "      <td>female</td>\n",
       "      <td>2.944439</td>\n",
       "      <td>0</td>\n",
       "      <td>0</td>\n",
       "      <td>2.107689</td>\n",
       "      <td>C</td>\n",
       "      <td>0</td>\n",
       "    </tr>\n",
       "    <tr>\n",
       "      <th>9</th>\n",
       "      <td>3</td>\n",
       "      <td>male</td>\n",
       "      <td>3.091042</td>\n",
       "      <td>2</td>\n",
       "      <td>0</td>\n",
       "      <td>3.224858</td>\n",
       "      <td>S</td>\n",
       "      <td>2</td>\n",
       "    </tr>\n",
       "  </tbody>\n",
       "</table>\n",
       "</div>"
      ],
      "text/plain": [
       "   Pclass     Sex       Age  SibSp  Parch      Fare Embarked  family\n",
       "0       3    male  3.569533      0      0  2.178064        Q       0\n",
       "1       3  female  3.871201      1      0  2.079442        S       1\n",
       "2       2    male  4.143135      0      0  2.369075        Q       0\n",
       "3       3    male  3.332205      0      0  2.268252        S       0\n",
       "4       3  female  3.135494      1      1  2.586824        S       2\n",
       "5       3    male  2.708050      0      0  2.324836        S       0\n",
       "6       3  female  3.433987      0      0  2.155152        Q       0\n",
       "7       2    male  3.295837      1      1  3.401197        S       2\n",
       "8       3  female  2.944439      0      0  2.107689        C       0\n",
       "9       3    male  3.091042      2      0  3.224858        S       2"
      ]
     },
     "execution_count": 51,
     "metadata": {},
     "output_type": "execute_result"
    }
   ],
   "source": [
    "test.head(10)"
   ]
  },
  {
   "cell_type": "markdown",
   "id": "pregnant-basics",
   "metadata": {
    "papermill": {
     "duration": 0.103642,
     "end_time": "2021-06-21T15:17:06.395924",
     "exception": false,
     "start_time": "2021-06-21T15:17:06.292282",
     "status": "completed"
    },
    "tags": []
   },
   "source": [
    "Checking for null values"
   ]
  },
  {
   "cell_type": "code",
   "execution_count": 52,
   "id": "sitting-capability",
   "metadata": {
    "execution": {
     "iopub.execute_input": "2021-06-21T15:17:06.609101Z",
     "iopub.status.busy": "2021-06-21T15:17:06.608340Z",
     "iopub.status.idle": "2021-06-21T15:17:06.611384Z",
     "shell.execute_reply": "2021-06-21T15:17:06.611839Z",
     "shell.execute_reply.started": "2021-06-21T13:27:22.896334Z"
    },
    "papermill": {
     "duration": 0.112472,
     "end_time": "2021-06-21T15:17:06.611960",
     "exception": false,
     "start_time": "2021-06-21T15:17:06.499488",
     "status": "completed"
    },
    "tags": []
   },
   "outputs": [
    {
     "data": {
      "text/plain": [
       "Pclass       0\n",
       "Sex          0\n",
       "Age         86\n",
       "SibSp        0\n",
       "Parch        0\n",
       "Fare         1\n",
       "Embarked     0\n",
       "family       0\n",
       "dtype: int64"
      ]
     },
     "execution_count": 52,
     "metadata": {},
     "output_type": "execute_result"
    }
   ],
   "source": [
    "test.isna().sum()"
   ]
  },
  {
   "cell_type": "code",
   "execution_count": 53,
   "id": "objective-asian",
   "metadata": {
    "execution": {
     "iopub.execute_input": "2021-06-21T15:17:06.825751Z",
     "iopub.status.busy": "2021-06-21T15:17:06.824998Z",
     "iopub.status.idle": "2021-06-21T15:17:06.827667Z",
     "shell.execute_reply": "2021-06-21T15:17:06.827251Z",
     "shell.execute_reply.started": "2021-06-21T13:27:54.997423Z"
    },
    "papermill": {
     "duration": 0.111537,
     "end_time": "2021-06-21T15:17:06.827775",
     "exception": false,
     "start_time": "2021-06-21T15:17:06.716238",
     "status": "completed"
    },
    "tags": []
   },
   "outputs": [],
   "source": [
    "test['Age'].fillna(test['Age'].mean(), inplace = True)\n",
    "test['Fare'].fillna(test['Fare'].mean(), inplace = True)"
   ]
  },
  {
   "cell_type": "code",
   "execution_count": 54,
   "id": "electronic-citizen",
   "metadata": {
    "execution": {
     "iopub.execute_input": "2021-06-21T15:17:07.041614Z",
     "iopub.status.busy": "2021-06-21T15:17:07.040911Z",
     "iopub.status.idle": "2021-06-21T15:17:07.044274Z",
     "shell.execute_reply": "2021-06-21T15:17:07.043881Z",
     "shell.execute_reply.started": "2021-06-21T13:27:58.930073Z"
    },
    "papermill": {
     "duration": 0.112841,
     "end_time": "2021-06-21T15:17:07.044379",
     "exception": false,
     "start_time": "2021-06-21T15:17:06.931538",
     "status": "completed"
    },
    "tags": []
   },
   "outputs": [
    {
     "data": {
      "text/plain": [
       "Pclass      0\n",
       "Sex         0\n",
       "Age         0\n",
       "SibSp       0\n",
       "Parch       0\n",
       "Fare        0\n",
       "Embarked    0\n",
       "family      0\n",
       "dtype: int64"
      ]
     },
     "execution_count": 54,
     "metadata": {},
     "output_type": "execute_result"
    }
   ],
   "source": [
    "test.isna().sum()"
   ]
  },
  {
   "cell_type": "markdown",
   "id": "previous-experience",
   "metadata": {
    "papermill": {
     "duration": 0.105244,
     "end_time": "2021-06-21T15:17:07.254592",
     "exception": false,
     "start_time": "2021-06-21T15:17:07.149348",
     "status": "completed"
    },
    "tags": []
   },
   "source": [
    "We succesfully removed all the null values"
   ]
  },
  {
   "cell_type": "markdown",
   "id": "smoking-fancy",
   "metadata": {
    "papermill": {
     "duration": 0.104641,
     "end_time": "2021-06-21T15:17:07.464554",
     "exception": false,
     "start_time": "2021-06-21T15:17:07.359913",
     "status": "completed"
    },
    "tags": []
   },
   "source": [
    "As before we now have to take care of `categorical columns`"
   ]
  },
  {
   "cell_type": "code",
   "execution_count": 55,
   "id": "tested-major",
   "metadata": {
    "execution": {
     "iopub.execute_input": "2021-06-21T15:17:07.680217Z",
     "iopub.status.busy": "2021-06-21T15:17:07.679345Z",
     "iopub.status.idle": "2021-06-21T15:17:07.683499Z",
     "shell.execute_reply": "2021-06-21T15:17:07.683865Z",
     "shell.execute_reply.started": "2021-06-21T13:28:05.620035Z"
    },
    "papermill": {
     "duration": 0.1154,
     "end_time": "2021-06-21T15:17:07.683988",
     "exception": false,
     "start_time": "2021-06-21T15:17:07.568588",
     "status": "completed"
    },
    "tags": []
   },
   "outputs": [],
   "source": [
    "categorical_features = ['Sex', 'Embarked', 'Pclass']\n",
    "onehotencode = OneHotEncoder()\n",
    "\n",
    "transformer = ColumnTransformer([('Encoder', onehotencode, categorical_features)], remainder = 'passthrough')\n",
    "\n",
    "encoded_test = transformer.fit_transform(test)"
   ]
  },
  {
   "cell_type": "code",
   "execution_count": 56,
   "id": "spoken-colony",
   "metadata": {
    "execution": {
     "iopub.execute_input": "2021-06-21T15:17:07.895713Z",
     "iopub.status.busy": "2021-06-21T15:17:07.894973Z",
     "iopub.status.idle": "2021-06-21T15:17:07.897820Z",
     "shell.execute_reply": "2021-06-21T15:17:07.897385Z",
     "shell.execute_reply.started": "2021-06-21T13:28:10.095405Z"
    },
    "papermill": {
     "duration": 0.109815,
     "end_time": "2021-06-21T15:17:07.897929",
     "exception": false,
     "start_time": "2021-06-21T15:17:07.788114",
     "status": "completed"
    },
    "tags": []
   },
   "outputs": [],
   "source": [
    "encoded_test = pd.DataFrame(encoded_test)"
   ]
  },
  {
   "cell_type": "code",
   "execution_count": 57,
   "id": "improving-stanford",
   "metadata": {
    "execution": {
     "iopub.execute_input": "2021-06-21T15:17:08.121523Z",
     "iopub.status.busy": "2021-06-21T15:17:08.120996Z",
     "iopub.status.idle": "2021-06-21T15:17:08.125766Z",
     "shell.execute_reply": "2021-06-21T15:17:08.125336Z",
     "shell.execute_reply.started": "2021-06-21T13:28:12.140540Z"
    },
    "papermill": {
     "duration": 0.123219,
     "end_time": "2021-06-21T15:17:08.125867",
     "exception": false,
     "start_time": "2021-06-21T15:17:08.002648",
     "status": "completed"
    },
    "tags": []
   },
   "outputs": [
    {
     "data": {
      "text/html": [
       "<div>\n",
       "<style scoped>\n",
       "    .dataframe tbody tr th:only-of-type {\n",
       "        vertical-align: middle;\n",
       "    }\n",
       "\n",
       "    .dataframe tbody tr th {\n",
       "        vertical-align: top;\n",
       "    }\n",
       "\n",
       "    .dataframe thead th {\n",
       "        text-align: right;\n",
       "    }\n",
       "</style>\n",
       "<table border=\"1\" class=\"dataframe\">\n",
       "  <thead>\n",
       "    <tr style=\"text-align: right;\">\n",
       "      <th></th>\n",
       "      <th>0</th>\n",
       "      <th>1</th>\n",
       "      <th>2</th>\n",
       "      <th>3</th>\n",
       "      <th>4</th>\n",
       "      <th>5</th>\n",
       "      <th>6</th>\n",
       "      <th>7</th>\n",
       "      <th>8</th>\n",
       "      <th>9</th>\n",
       "      <th>10</th>\n",
       "      <th>11</th>\n",
       "      <th>12</th>\n",
       "    </tr>\n",
       "  </thead>\n",
       "  <tbody>\n",
       "    <tr>\n",
       "      <th>0</th>\n",
       "      <td>0.0</td>\n",
       "      <td>1.0</td>\n",
       "      <td>0.0</td>\n",
       "      <td>1.0</td>\n",
       "      <td>0.0</td>\n",
       "      <td>0.0</td>\n",
       "      <td>0.0</td>\n",
       "      <td>1.0</td>\n",
       "      <td>3.569533</td>\n",
       "      <td>0.0</td>\n",
       "      <td>0.0</td>\n",
       "      <td>2.178064</td>\n",
       "      <td>0.0</td>\n",
       "    </tr>\n",
       "    <tr>\n",
       "      <th>1</th>\n",
       "      <td>1.0</td>\n",
       "      <td>0.0</td>\n",
       "      <td>0.0</td>\n",
       "      <td>0.0</td>\n",
       "      <td>1.0</td>\n",
       "      <td>0.0</td>\n",
       "      <td>0.0</td>\n",
       "      <td>1.0</td>\n",
       "      <td>3.871201</td>\n",
       "      <td>1.0</td>\n",
       "      <td>0.0</td>\n",
       "      <td>2.079442</td>\n",
       "      <td>1.0</td>\n",
       "    </tr>\n",
       "    <tr>\n",
       "      <th>2</th>\n",
       "      <td>0.0</td>\n",
       "      <td>1.0</td>\n",
       "      <td>0.0</td>\n",
       "      <td>1.0</td>\n",
       "      <td>0.0</td>\n",
       "      <td>0.0</td>\n",
       "      <td>1.0</td>\n",
       "      <td>0.0</td>\n",
       "      <td>4.143135</td>\n",
       "      <td>0.0</td>\n",
       "      <td>0.0</td>\n",
       "      <td>2.369075</td>\n",
       "      <td>0.0</td>\n",
       "    </tr>\n",
       "    <tr>\n",
       "      <th>3</th>\n",
       "      <td>0.0</td>\n",
       "      <td>1.0</td>\n",
       "      <td>0.0</td>\n",
       "      <td>0.0</td>\n",
       "      <td>1.0</td>\n",
       "      <td>0.0</td>\n",
       "      <td>0.0</td>\n",
       "      <td>1.0</td>\n",
       "      <td>3.332205</td>\n",
       "      <td>0.0</td>\n",
       "      <td>0.0</td>\n",
       "      <td>2.268252</td>\n",
       "      <td>0.0</td>\n",
       "    </tr>\n",
       "    <tr>\n",
       "      <th>4</th>\n",
       "      <td>1.0</td>\n",
       "      <td>0.0</td>\n",
       "      <td>0.0</td>\n",
       "      <td>0.0</td>\n",
       "      <td>1.0</td>\n",
       "      <td>0.0</td>\n",
       "      <td>0.0</td>\n",
       "      <td>1.0</td>\n",
       "      <td>3.135494</td>\n",
       "      <td>1.0</td>\n",
       "      <td>1.0</td>\n",
       "      <td>2.586824</td>\n",
       "      <td>2.0</td>\n",
       "    </tr>\n",
       "  </tbody>\n",
       "</table>\n",
       "</div>"
      ],
      "text/plain": [
       "    0    1    2    3    4    5    6    7         8    9    10        11   12\n",
       "0  0.0  1.0  0.0  1.0  0.0  0.0  0.0  1.0  3.569533  0.0  0.0  2.178064  0.0\n",
       "1  1.0  0.0  0.0  0.0  1.0  0.0  0.0  1.0  3.871201  1.0  0.0  2.079442  1.0\n",
       "2  0.0  1.0  0.0  1.0  0.0  0.0  1.0  0.0  4.143135  0.0  0.0  2.369075  0.0\n",
       "3  0.0  1.0  0.0  0.0  1.0  0.0  0.0  1.0  3.332205  0.0  0.0  2.268252  0.0\n",
       "4  1.0  0.0  0.0  0.0  1.0  0.0  0.0  1.0  3.135494  1.0  1.0  2.586824  2.0"
      ]
     },
     "execution_count": 57,
     "metadata": {},
     "output_type": "execute_result"
    }
   ],
   "source": [
    "encoded_test.head()"
   ]
  },
  {
   "cell_type": "markdown",
   "id": "instrumental-deficit",
   "metadata": {
    "papermill": {
     "duration": 0.10405,
     "end_time": "2021-06-21T15:17:08.334755",
     "exception": false,
     "start_time": "2021-06-21T15:17:08.230705",
     "status": "completed"
    },
    "tags": []
   },
   "source": [
    "Avoiding dummy variable trap"
   ]
  },
  {
   "cell_type": "code",
   "execution_count": 58,
   "id": "greek-exchange",
   "metadata": {
    "execution": {
     "iopub.execute_input": "2021-06-21T15:17:08.549817Z",
     "iopub.status.busy": "2021-06-21T15:17:08.549023Z",
     "iopub.status.idle": "2021-06-21T15:17:08.551644Z",
     "shell.execute_reply": "2021-06-21T15:17:08.551117Z",
     "shell.execute_reply.started": "2021-06-21T13:28:15.849518Z"
    },
    "papermill": {
     "duration": 0.111541,
     "end_time": "2021-06-21T15:17:08.551747",
     "exception": false,
     "start_time": "2021-06-21T15:17:08.440206",
     "status": "completed"
    },
    "tags": []
   },
   "outputs": [],
   "source": [
    "encoded_test_x = encoded_test.drop([0, 2, 5], axis = 1)"
   ]
  },
  {
   "cell_type": "code",
   "execution_count": 59,
   "id": "athletic-roberts",
   "metadata": {
    "execution": {
     "iopub.execute_input": "2021-06-21T15:17:08.775421Z",
     "iopub.status.busy": "2021-06-21T15:17:08.774678Z",
     "iopub.status.idle": "2021-06-21T15:17:08.778243Z",
     "shell.execute_reply": "2021-06-21T15:17:08.777850Z",
     "shell.execute_reply.started": "2021-06-21T13:28:17.905485Z"
    },
    "papermill": {
     "duration": 0.119998,
     "end_time": "2021-06-21T15:17:08.778348",
     "exception": false,
     "start_time": "2021-06-21T15:17:08.658350",
     "status": "completed"
    },
    "tags": []
   },
   "outputs": [
    {
     "data": {
      "text/html": [
       "<div>\n",
       "<style scoped>\n",
       "    .dataframe tbody tr th:only-of-type {\n",
       "        vertical-align: middle;\n",
       "    }\n",
       "\n",
       "    .dataframe tbody tr th {\n",
       "        vertical-align: top;\n",
       "    }\n",
       "\n",
       "    .dataframe thead th {\n",
       "        text-align: right;\n",
       "    }\n",
       "</style>\n",
       "<table border=\"1\" class=\"dataframe\">\n",
       "  <thead>\n",
       "    <tr style=\"text-align: right;\">\n",
       "      <th></th>\n",
       "      <th>1</th>\n",
       "      <th>3</th>\n",
       "      <th>4</th>\n",
       "      <th>6</th>\n",
       "      <th>7</th>\n",
       "      <th>8</th>\n",
       "      <th>9</th>\n",
       "      <th>10</th>\n",
       "      <th>11</th>\n",
       "      <th>12</th>\n",
       "    </tr>\n",
       "  </thead>\n",
       "  <tbody>\n",
       "    <tr>\n",
       "      <th>0</th>\n",
       "      <td>1.0</td>\n",
       "      <td>1.0</td>\n",
       "      <td>0.0</td>\n",
       "      <td>0.0</td>\n",
       "      <td>1.0</td>\n",
       "      <td>3.569533</td>\n",
       "      <td>0.0</td>\n",
       "      <td>0.0</td>\n",
       "      <td>2.178064</td>\n",
       "      <td>0.0</td>\n",
       "    </tr>\n",
       "    <tr>\n",
       "      <th>1</th>\n",
       "      <td>0.0</td>\n",
       "      <td>0.0</td>\n",
       "      <td>1.0</td>\n",
       "      <td>0.0</td>\n",
       "      <td>1.0</td>\n",
       "      <td>3.871201</td>\n",
       "      <td>1.0</td>\n",
       "      <td>0.0</td>\n",
       "      <td>2.079442</td>\n",
       "      <td>1.0</td>\n",
       "    </tr>\n",
       "    <tr>\n",
       "      <th>2</th>\n",
       "      <td>1.0</td>\n",
       "      <td>1.0</td>\n",
       "      <td>0.0</td>\n",
       "      <td>1.0</td>\n",
       "      <td>0.0</td>\n",
       "      <td>4.143135</td>\n",
       "      <td>0.0</td>\n",
       "      <td>0.0</td>\n",
       "      <td>2.369075</td>\n",
       "      <td>0.0</td>\n",
       "    </tr>\n",
       "    <tr>\n",
       "      <th>3</th>\n",
       "      <td>1.0</td>\n",
       "      <td>0.0</td>\n",
       "      <td>1.0</td>\n",
       "      <td>0.0</td>\n",
       "      <td>1.0</td>\n",
       "      <td>3.332205</td>\n",
       "      <td>0.0</td>\n",
       "      <td>0.0</td>\n",
       "      <td>2.268252</td>\n",
       "      <td>0.0</td>\n",
       "    </tr>\n",
       "    <tr>\n",
       "      <th>4</th>\n",
       "      <td>0.0</td>\n",
       "      <td>0.0</td>\n",
       "      <td>1.0</td>\n",
       "      <td>0.0</td>\n",
       "      <td>1.0</td>\n",
       "      <td>3.135494</td>\n",
       "      <td>1.0</td>\n",
       "      <td>1.0</td>\n",
       "      <td>2.586824</td>\n",
       "      <td>2.0</td>\n",
       "    </tr>\n",
       "  </tbody>\n",
       "</table>\n",
       "</div>"
      ],
      "text/plain": [
       "    1    3    4    6    7         8    9    10        11   12\n",
       "0  1.0  1.0  0.0  0.0  1.0  3.569533  0.0  0.0  2.178064  0.0\n",
       "1  0.0  0.0  1.0  0.0  1.0  3.871201  1.0  0.0  2.079442  1.0\n",
       "2  1.0  1.0  0.0  1.0  0.0  4.143135  0.0  0.0  2.369075  0.0\n",
       "3  1.0  0.0  1.0  0.0  1.0  3.332205  0.0  0.0  2.268252  0.0\n",
       "4  0.0  0.0  1.0  0.0  1.0  3.135494  1.0  1.0  2.586824  2.0"
      ]
     },
     "execution_count": 59,
     "metadata": {},
     "output_type": "execute_result"
    }
   ],
   "source": [
    "encoded_test_x.head()"
   ]
  },
  {
   "cell_type": "code",
   "execution_count": 60,
   "id": "defined-smell",
   "metadata": {
    "execution": {
     "iopub.execute_input": "2021-06-21T15:17:08.992163Z",
     "iopub.status.busy": "2021-06-21T15:17:08.991415Z",
     "iopub.status.idle": "2021-06-21T15:17:08.994886Z",
     "shell.execute_reply": "2021-06-21T15:17:08.994491Z",
     "shell.execute_reply.started": "2021-06-21T13:28:21.114775Z"
    },
    "papermill": {
     "duration": 0.111939,
     "end_time": "2021-06-21T15:17:08.994991",
     "exception": false,
     "start_time": "2021-06-21T15:17:08.883052",
     "status": "completed"
    },
    "tags": []
   },
   "outputs": [
    {
     "data": {
      "text/plain": [
       "(418, 10)"
      ]
     },
     "execution_count": 60,
     "metadata": {},
     "output_type": "execute_result"
    }
   ],
   "source": [
    "encoded_test_x.shape"
   ]
  },
  {
   "cell_type": "markdown",
   "id": "brilliant-rouge",
   "metadata": {
    "papermill": {
     "duration": 0.105249,
     "end_time": "2021-06-21T15:17:09.207000",
     "exception": false,
     "start_time": "2021-06-21T15:17:09.101751",
     "status": "completed"
    },
    "tags": []
   },
   "source": [
    "# Modeling"
   ]
  },
  {
   "cell_type": "markdown",
   "id": "mexican-seating",
   "metadata": {
    "papermill": {
     "duration": 0.105404,
     "end_time": "2021-06-21T15:17:09.417821",
     "exception": false,
     "start_time": "2021-06-21T15:17:09.312417",
     "status": "completed"
    },
    "tags": []
   },
   "source": [
    "Let's split our dataset"
   ]
  },
  {
   "cell_type": "code",
   "execution_count": 61,
   "id": "thrown-heather",
   "metadata": {
    "execution": {
     "iopub.execute_input": "2021-06-21T15:17:09.638606Z",
     "iopub.status.busy": "2021-06-21T15:17:09.637775Z",
     "iopub.status.idle": "2021-06-21T15:17:09.724268Z",
     "shell.execute_reply": "2021-06-21T15:17:09.726326Z",
     "shell.execute_reply.started": "2021-06-21T13:28:25.515401Z"
    },
    "papermill": {
     "duration": 0.203429,
     "end_time": "2021-06-21T15:17:09.726573",
     "exception": false,
     "start_time": "2021-06-21T15:17:09.523144",
     "status": "completed"
    },
    "tags": []
   },
   "outputs": [],
   "source": [
    "from sklearn.model_selection import train_test_split\n",
    "x_train,x_test,y_train,y_test = train_test_split(encoded_x,y,random_state = 31)"
   ]
  },
  {
   "cell_type": "code",
   "execution_count": 62,
   "id": "general-monkey",
   "metadata": {
    "execution": {
     "iopub.execute_input": "2021-06-21T15:17:10.080865Z",
     "iopub.status.busy": "2021-06-21T15:17:10.080102Z",
     "iopub.status.idle": "2021-06-21T15:17:10.084489Z",
     "shell.execute_reply": "2021-06-21T15:17:10.085066Z",
     "shell.execute_reply.started": "2021-06-21T13:28:27.936615Z"
    },
    "papermill": {
     "duration": 0.184565,
     "end_time": "2021-06-21T15:17:10.085248",
     "exception": false,
     "start_time": "2021-06-21T15:17:09.900683",
     "status": "completed"
    },
    "tags": []
   },
   "outputs": [
    {
     "data": {
      "text/plain": [
       "(668, 223, 668, 223)"
      ]
     },
     "execution_count": 62,
     "metadata": {},
     "output_type": "execute_result"
    }
   ],
   "source": [
    "len(x_train), len(x_test), len(y_train), len(y_test)"
   ]
  },
  {
   "cell_type": "code",
   "execution_count": 63,
   "id": "second-female",
   "metadata": {
    "execution": {
     "iopub.execute_input": "2021-06-21T15:17:10.336751Z",
     "iopub.status.busy": "2021-06-21T15:17:10.336086Z",
     "iopub.status.idle": "2021-06-21T15:17:10.338635Z",
     "shell.execute_reply": "2021-06-21T15:17:10.339038Z",
     "shell.execute_reply.started": "2021-06-21T13:28:30.647664Z"
    },
    "papermill": {
     "duration": 0.11307,
     "end_time": "2021-06-21T15:17:10.339164",
     "exception": false,
     "start_time": "2021-06-21T15:17:10.226094",
     "status": "completed"
    },
    "tags": []
   },
   "outputs": [
    {
     "data": {
      "text/plain": [
       "(668, 10)"
      ]
     },
     "execution_count": 63,
     "metadata": {},
     "output_type": "execute_result"
    }
   ],
   "source": [
    "x_train.shape"
   ]
  },
  {
   "cell_type": "code",
   "execution_count": 64,
   "id": "norman-mumbai",
   "metadata": {
    "execution": {
     "iopub.execute_input": "2021-06-21T15:17:10.555401Z",
     "iopub.status.busy": "2021-06-21T15:17:10.554809Z",
     "iopub.status.idle": "2021-06-21T15:17:10.557812Z",
     "shell.execute_reply": "2021-06-21T15:17:10.558200Z",
     "shell.execute_reply.started": "2021-06-21T13:28:33.400307Z"
    },
    "papermill": {
     "duration": 0.113058,
     "end_time": "2021-06-21T15:17:10.558319",
     "exception": false,
     "start_time": "2021-06-21T15:17:10.445261",
     "status": "completed"
    },
    "tags": []
   },
   "outputs": [
    {
     "data": {
      "text/plain": [
       "(668,)"
      ]
     },
     "execution_count": 64,
     "metadata": {},
     "output_type": "execute_result"
    }
   ],
   "source": [
    "y_train.shape"
   ]
  },
  {
   "cell_type": "markdown",
   "id": "pleased-mileage",
   "metadata": {
    "papermill": {
     "duration": 0.105894,
     "end_time": "2021-06-21T15:17:10.770028",
     "exception": false,
     "start_time": "2021-06-21T15:17:10.664134",
     "status": "completed"
    },
    "tags": []
   },
   "source": [
    "# Logistic Regression"
   ]
  },
  {
   "cell_type": "code",
   "execution_count": 65,
   "id": "confused-yesterday",
   "metadata": {
    "execution": {
     "iopub.execute_input": "2021-06-21T15:17:10.985254Z",
     "iopub.status.busy": "2021-06-21T15:17:10.984605Z",
     "iopub.status.idle": "2021-06-21T15:17:11.109902Z",
     "shell.execute_reply": "2021-06-21T15:17:11.109109Z",
     "shell.execute_reply.started": "2021-06-21T13:28:36.396391Z"
    },
    "papermill": {
     "duration": 0.234235,
     "end_time": "2021-06-21T15:17:11.110014",
     "exception": false,
     "start_time": "2021-06-21T15:17:10.875779",
     "status": "completed"
    },
    "tags": []
   },
   "outputs": [
    {
     "data": {
      "text/plain": [
       "0.8161434977578476"
      ]
     },
     "execution_count": 65,
     "metadata": {},
     "output_type": "execute_result"
    }
   ],
   "source": [
    "from sklearn.linear_model import LogisticRegression\n",
    "log_clf = LogisticRegression(max_iter = 1000, random_state = 4)\n",
    "log_clf.fit(x_train, y_train)\n",
    "log_score = log_clf.score(x_test, y_test)\n",
    "log_score"
   ]
  },
  {
   "cell_type": "markdown",
   "id": "outstanding-stress",
   "metadata": {
    "papermill": {
     "duration": 0.10582,
     "end_time": "2021-06-21T15:17:11.323220",
     "exception": false,
     "start_time": "2021-06-21T15:17:11.217400",
     "status": "completed"
    },
    "tags": []
   },
   "source": [
    "### Logistic Regression Hyperparameter Tuning"
   ]
  },
  {
   "cell_type": "code",
   "execution_count": 66,
   "id": "coordinated-manor",
   "metadata": {
    "execution": {
     "iopub.execute_input": "2021-06-21T15:17:11.545488Z",
     "iopub.status.busy": "2021-06-21T15:17:11.544611Z",
     "iopub.status.idle": "2021-06-21T15:17:11.547157Z",
     "shell.execute_reply": "2021-06-21T15:17:11.546757Z",
     "shell.execute_reply.started": "2021-06-21T13:28:41.850681Z"
    },
    "papermill": {
     "duration": 0.116807,
     "end_time": "2021-06-21T15:17:11.547270",
     "exception": false,
     "start_time": "2021-06-21T15:17:11.430463",
     "status": "completed"
    },
    "tags": []
   },
   "outputs": [],
   "source": [
    "from sklearn.model_selection import GridSearchCV, RandomizedSearchCV"
   ]
  },
  {
   "cell_type": "code",
   "execution_count": 67,
   "id": "compliant-accident",
   "metadata": {
    "execution": {
     "iopub.execute_input": "2021-06-21T15:17:11.770594Z",
     "iopub.status.busy": "2021-06-21T15:17:11.769791Z",
     "iopub.status.idle": "2021-06-21T15:18:20.193010Z",
     "shell.execute_reply": "2021-06-21T15:18:20.193454Z",
     "shell.execute_reply.started": "2021-06-21T13:28:44.256549Z"
    },
    "papermill": {
     "duration": 68.539816,
     "end_time": "2021-06-21T15:18:20.193602",
     "exception": false,
     "start_time": "2021-06-21T15:17:11.653786",
     "status": "completed"
    },
    "tags": []
   },
   "outputs": [
    {
     "name": "stdout",
     "output_type": "stream",
     "text": [
      "Fitting 5 folds for each of 1900 candidates, totalling 9500 fits\n"
     ]
    },
    {
     "data": {
      "text/plain": [
       "0.8071748878923767"
      ]
     },
     "execution_count": 67,
     "metadata": {},
     "output_type": "execute_result"
    }
   ],
   "source": [
    "log_grid = {'C': np.logspace(-4, 4),\n",
    "            'solver': ['liblinear'],\n",
    "            'max_iter': np.arange(100, 2000, 100),\n",
    "            'penalty':['l1', 'l2']\n",
    "           }\n",
    "\n",
    "log_gscv = GridSearchCV(LogisticRegression(max_iter = 1000, random_state = 7),\n",
    "                          param_grid=log_grid,\n",
    "                          cv=5,\n",
    "                          verbose=True)\n",
    "\n",
    "log_gscv.fit(x_train, y_train)\n",
    "log_tuned_score = log_gscv.score(x_test, y_test)\n",
    "log_tuned_score"
   ]
  },
  {
   "cell_type": "code",
   "execution_count": 68,
   "id": "internal-williams",
   "metadata": {
    "execution": {
     "iopub.execute_input": "2021-06-21T15:18:20.413566Z",
     "iopub.status.busy": "2021-06-21T15:18:20.412856Z",
     "iopub.status.idle": "2021-06-21T15:18:20.416273Z",
     "shell.execute_reply": "2021-06-21T15:18:20.415873Z",
     "shell.execute_reply.started": "2021-06-21T13:29:52.835656Z"
    },
    "papermill": {
     "duration": 0.115272,
     "end_time": "2021-06-21T15:18:20.416384",
     "exception": false,
     "start_time": "2021-06-21T15:18:20.301112",
     "status": "completed"
    },
    "tags": []
   },
   "outputs": [
    {
     "data": {
      "text/plain": [
       "{'C': 1.2067926406393288,\n",
       " 'max_iter': 100,\n",
       " 'penalty': 'l1',\n",
       " 'solver': 'liblinear'}"
      ]
     },
     "execution_count": 68,
     "metadata": {},
     "output_type": "execute_result"
    }
   ],
   "source": [
    "log_gscv.best_params_"
   ]
  },
  {
   "cell_type": "markdown",
   "id": "comic-intent",
   "metadata": {
    "papermill": {
     "duration": 0.107841,
     "end_time": "2021-06-21T15:18:20.632400",
     "exception": false,
     "start_time": "2021-06-21T15:18:20.524559",
     "status": "completed"
    },
    "tags": []
   },
   "source": [
    "### Evaluating logistic regression model"
   ]
  },
  {
   "cell_type": "code",
   "execution_count": 69,
   "id": "hazardous-angola",
   "metadata": {
    "execution": {
     "iopub.execute_input": "2021-06-21T15:18:20.855446Z",
     "iopub.status.busy": "2021-06-21T15:18:20.853223Z",
     "iopub.status.idle": "2021-06-21T15:18:20.868554Z",
     "shell.execute_reply": "2021-06-21T15:18:20.869179Z",
     "shell.execute_reply.started": "2021-06-21T13:47:14.010557Z"
    },
    "papermill": {
     "duration": 0.129396,
     "end_time": "2021-06-21T15:18:20.869385",
     "exception": false,
     "start_time": "2021-06-21T15:18:20.739989",
     "status": "completed"
    },
    "tags": []
   },
   "outputs": [
    {
     "name": "stdout",
     "output_type": "stream",
     "text": [
      "              precision    recall  f1-score   support\n",
      "\n",
      "           0       0.81      0.89      0.85       131\n",
      "           1       0.82      0.71      0.76        92\n",
      "\n",
      "    accuracy                           0.82       223\n",
      "   macro avg       0.82      0.80      0.81       223\n",
      "weighted avg       0.82      0.82      0.81       223\n",
      "\n"
     ]
    }
   ],
   "source": [
    "from sklearn.metrics import classification_report\n",
    "y_preds = log_clf.predict(x_test)\n",
    "print(classification_report(y_test, y_preds))"
   ]
  },
  {
   "cell_type": "code",
   "execution_count": 70,
   "id": "absent-refrigerator",
   "metadata": {
    "execution": {
     "iopub.execute_input": "2021-06-21T15:18:21.264193Z",
     "iopub.status.busy": "2021-06-21T15:18:21.263387Z",
     "iopub.status.idle": "2021-06-21T15:18:21.476081Z",
     "shell.execute_reply": "2021-06-21T15:18:21.477066Z",
     "shell.execute_reply.started": "2021-06-21T13:48:02.149310Z"
    },
    "papermill": {
     "duration": 0.40512,
     "end_time": "2021-06-21T15:18:21.477275",
     "exception": false,
     "start_time": "2021-06-21T15:18:21.072155",
     "status": "completed"
    },
    "tags": []
   },
   "outputs": [
    {
     "data": {
      "image/png": "[encoded data removed]",
      "text/plain": [
       "<Figure size 432x288 with 1 Axes>"
      ]
     },
     "metadata": {
      "needs_background": "light"
     },
     "output_type": "display_data"
    }
   ],
   "source": [
    "from sklearn.metrics import plot_roc_curve\n",
    "plot_roc_curve(log_clf, x_test, y_test)\n",
    "plt.xlabel('False Positive Rate')\n",
    "plt.ylabel('True Positive Rate')\n",
    "plt.title('Receiver Operating Characteristic Curve');"
   ]
  },
  {
   "cell_type": "markdown",
   "id": "defined-puppy",
   "metadata": {
    "papermill": {
     "duration": 0.228507,
     "end_time": "2021-06-21T15:18:21.936857",
     "exception": false,
     "start_time": "2021-06-21T15:18:21.708350",
     "status": "completed"
    },
    "tags": []
   },
   "source": [
    "# Linear SVC"
   ]
  },
  {
   "cell_type": "code",
   "execution_count": 71,
   "id": "opened-hypothesis",
   "metadata": {
    "execution": {
     "iopub.execute_input": "2021-06-21T15:18:22.253216Z",
     "iopub.status.busy": "2021-06-21T15:18:22.252410Z",
     "iopub.status.idle": "2021-06-21T15:18:22.279160Z",
     "shell.execute_reply": "2021-06-21T15:18:22.278659Z",
     "shell.execute_reply.started": "2021-06-21T13:48:35.610547Z"
    },
    "papermill": {
     "duration": 0.150794,
     "end_time": "2021-06-21T15:18:22.279270",
     "exception": false,
     "start_time": "2021-06-21T15:18:22.128476",
     "status": "completed"
    },
    "tags": []
   },
   "outputs": [
    {
     "data": {
      "text/plain": [
       "0.8340807174887892"
      ]
     },
     "execution_count": 71,
     "metadata": {},
     "output_type": "execute_result"
    }
   ],
   "source": [
    "from sklearn import svm\n",
    "svc_clf = svm.SVC(random_state = 7)\n",
    "svc_clf.fit(x_train, y_train)\n",
    "svc_score = svc_clf.score(x_test, y_test)\n",
    "svc_score"
   ]
  },
  {
   "cell_type": "markdown",
   "id": "professional-graham",
   "metadata": {
    "papermill": {
     "duration": 0.113226,
     "end_time": "2021-06-21T15:18:22.506761",
     "exception": false,
     "start_time": "2021-06-21T15:18:22.393535",
     "status": "completed"
    },
    "tags": []
   },
   "source": [
    "### SVC Hyperparameter tuning"
   ]
  },
  {
   "cell_type": "code",
   "execution_count": 72,
   "id": "palestinian-northern",
   "metadata": {
    "execution": {
     "iopub.execute_input": "2021-06-21T15:18:22.742115Z",
     "iopub.status.busy": "2021-06-21T15:18:22.741208Z",
     "iopub.status.idle": "2021-06-21T15:19:04.130452Z",
     "shell.execute_reply": "2021-06-21T15:19:04.130876Z",
     "shell.execute_reply.started": "2021-06-21T13:48:40.443214Z"
    },
    "papermill": {
     "duration": 41.511239,
     "end_time": "2021-06-21T15:19:04.131029",
     "exception": false,
     "start_time": "2021-06-21T15:18:22.619790",
     "status": "completed"
    },
    "tags": []
   },
   "outputs": [
    {
     "name": "stdout",
     "output_type": "stream",
     "text": [
      "Fitting 5 folds for each of 60 candidates, totalling 300 fits\n"
     ]
    },
    {
     "data": {
      "text/plain": [
       "0.8071748878923767"
      ]
     },
     "execution_count": 72,
     "metadata": {},
     "output_type": "execute_result"
    }
   ],
   "source": [
    "svc_grid = {'C': np.logspace(-5, 5, 20),\n",
    "            'kernel': ['rbf'],\n",
    "            'degree': [2,3,4]\n",
    "           }\n",
    "\n",
    "svc_gscv = GridSearchCV(svm.SVC(random_state = 31),\n",
    "                        param_grid=svc_grid,\n",
    "                        cv=5,\n",
    "                        verbose=True)\n",
    "\n",
    "svc_gscv.fit(x_train, y_train)\n",
    "svc_tuned_score = log_gscv.score(x_test, y_test)\n",
    "svc_tuned_score"
   ]
  },
  {
   "cell_type": "code",
   "execution_count": 73,
   "id": "minus-large",
   "metadata": {
    "execution": {
     "iopub.execute_input": "2021-06-21T15:19:04.387232Z",
     "iopub.status.busy": "2021-06-21T15:19:04.386536Z",
     "iopub.status.idle": "2021-06-21T15:19:04.390102Z",
     "shell.execute_reply": "2021-06-21T15:19:04.389687Z",
     "shell.execute_reply.started": "2021-06-21T13:49:21.261087Z"
    },
    "papermill": {
     "duration": 0.116522,
     "end_time": "2021-06-21T15:19:04.390205",
     "exception": false,
     "start_time": "2021-06-21T15:19:04.273683",
     "status": "completed"
    },
    "tags": []
   },
   "outputs": [
    {
     "data": {
      "text/plain": [
       "{'C': 0.5455594781168515, 'degree': 2, 'kernel': 'rbf'}"
      ]
     },
     "execution_count": 73,
     "metadata": {},
     "output_type": "execute_result"
    }
   ],
   "source": [
    "svc_gscv.best_params_"
   ]
  },
  {
   "cell_type": "markdown",
   "id": "reflected-orange",
   "metadata": {
    "papermill": {
     "duration": 0.109526,
     "end_time": "2021-06-21T15:19:04.610042",
     "exception": false,
     "start_time": "2021-06-21T15:19:04.500516",
     "status": "completed"
    },
    "tags": []
   },
   "source": [
    "### Evaluating with SVC "
   ]
  },
  {
   "cell_type": "code",
   "execution_count": 74,
   "id": "simplified-breath",
   "metadata": {
    "execution": {
     "iopub.execute_input": "2021-06-21T15:19:04.837323Z",
     "iopub.status.busy": "2021-06-21T15:19:04.836618Z",
     "iopub.status.idle": "2021-06-21T15:19:04.849076Z",
     "shell.execute_reply": "2021-06-21T15:19:04.848687Z",
     "shell.execute_reply.started": "2021-06-21T13:50:14.493461Z"
    },
    "papermill": {
     "duration": 0.1275,
     "end_time": "2021-06-21T15:19:04.849193",
     "exception": false,
     "start_time": "2021-06-21T15:19:04.721693",
     "status": "completed"
    },
    "tags": []
   },
   "outputs": [
    {
     "name": "stdout",
     "output_type": "stream",
     "text": [
      "              precision    recall  f1-score   support\n",
      "\n",
      "           0       0.82      0.92      0.87       131\n",
      "           1       0.86      0.72      0.78        92\n",
      "\n",
      "    accuracy                           0.83       223\n",
      "   macro avg       0.84      0.82      0.82       223\n",
      "weighted avg       0.84      0.83      0.83       223\n",
      "\n"
     ]
    }
   ],
   "source": [
    "y_preds = svc_clf.predict(x_test)\n",
    "print(classification_report(y_test, y_preds))"
   ]
  },
  {
   "cell_type": "code",
   "execution_count": 75,
   "id": "ambient-circular",
   "metadata": {
    "execution": {
     "iopub.execute_input": "2021-06-21T15:19:05.075097Z",
     "iopub.status.busy": "2021-06-21T15:19:05.074382Z",
     "iopub.status.idle": "2021-06-21T15:19:05.201491Z",
     "shell.execute_reply": "2021-06-21T15:19:05.201870Z",
     "shell.execute_reply.started": "2021-06-21T13:49:54.540543Z"
    },
    "papermill": {
     "duration": 0.24308,
     "end_time": "2021-06-21T15:19:05.202007",
     "exception": false,
     "start_time": "2021-06-21T15:19:04.958927",
     "status": "completed"
    },
    "tags": []
   },
   "outputs": [
    {
     "data": {
      "image/png": "[encoded data removed]",
      "text/plain": [
       "<Figure size 432x288 with 1 Axes>"
      ]
     },
     "metadata": {
      "needs_background": "light"
     },
     "output_type": "display_data"
    }
   ],
   "source": [
    "from sklearn.metrics import plot_roc_curve\n",
    "plot_roc_curve(svc_clf, x_test, y_test)\n",
    "plt.xlabel('False Positive Rate')\n",
    "plt.ylabel('True Positive Rate')\n",
    "plt.title('Receiver Operating Characteristic Curve');"
   ]
  },
  {
   "cell_type": "markdown",
   "id": "opened-radical",
   "metadata": {
    "papermill": {
     "duration": 0.11046,
     "end_time": "2021-06-21T15:19:05.423048",
     "exception": false,
     "start_time": "2021-06-21T15:19:05.312588",
     "status": "completed"
    },
    "tags": []
   },
   "source": [
    "# KNeighbors Classifier"
   ]
  },
  {
   "cell_type": "code",
   "execution_count": 76,
   "id": "round-setup",
   "metadata": {
    "execution": {
     "iopub.execute_input": "2021-06-21T15:19:05.659136Z",
     "iopub.status.busy": "2021-06-21T15:19:05.658469Z",
     "iopub.status.idle": "2021-06-21T15:19:05.753362Z",
     "shell.execute_reply": "2021-06-21T15:19:05.753785Z",
     "shell.execute_reply.started": "2021-06-21T13:51:16.927034Z"
    },
    "papermill": {
     "duration": 0.218203,
     "end_time": "2021-06-21T15:19:05.753934",
     "exception": false,
     "start_time": "2021-06-21T15:19:05.535731",
     "status": "completed"
    },
    "tags": []
   },
   "outputs": [
    {
     "data": {
      "text/plain": [
       "0.7892376681614349"
      ]
     },
     "execution_count": 76,
     "metadata": {},
     "output_type": "execute_result"
    }
   ],
   "source": [
    "from sklearn.neighbors import KNeighborsClassifier\n",
    "\n",
    "knn_clf = KNeighborsClassifier()\n",
    "knn_clf.fit(x_train, y_train)\n",
    "knn_score = knn_clf.score(x_test, y_test)\n",
    "knn_score"
   ]
  },
  {
   "cell_type": "markdown",
   "id": "egyptian-stick",
   "metadata": {
    "papermill": {
     "duration": 0.110927,
     "end_time": "2021-06-21T15:19:05.975815",
     "exception": false,
     "start_time": "2021-06-21T15:19:05.864888",
     "status": "completed"
    },
    "tags": []
   },
   "source": [
    "### KNeighbors Classifier Hyperparameter Tuning"
   ]
  },
  {
   "cell_type": "code",
   "execution_count": 77,
   "id": "short-choice",
   "metadata": {
    "execution": {
     "iopub.execute_input": "2021-06-21T15:19:06.208675Z",
     "iopub.status.busy": "2021-06-21T15:19:06.207848Z",
     "iopub.status.idle": "2021-06-21T15:21:38.761729Z",
     "shell.execute_reply": "2021-06-21T15:21:38.762137Z",
     "shell.execute_reply.started": "2021-06-21T13:51:24.463650Z"
    },
    "papermill": {
     "duration": 152.67481,
     "end_time": "2021-06-21T15:21:38.762297",
     "exception": false,
     "start_time": "2021-06-21T15:19:06.087487",
     "status": "completed"
    },
    "tags": []
   },
   "outputs": [
    {
     "name": "stdout",
     "output_type": "stream",
     "text": [
      "Fitting 5 folds for each of 1755 candidates, totalling 8775 fits\n"
     ]
    },
    {
     "data": {
      "text/plain": [
       "0.7713004484304933"
      ]
     },
     "execution_count": 77,
     "metadata": {},
     "output_type": "execute_result"
    }
   ],
   "source": [
    "knn_grid = {'n_neighbors': np.arange(2, 15),\n",
    "            'leaf_size': [10, 15, 20, 25, 30, 35, 40, 45, 50],\n",
    "            'p':[1,2,3,4,5], \n",
    "            'algorithm': ['auto', 'ball_tree', 'kd_tree']}\n",
    "\n",
    "knn_gscv = GridSearchCV(KNeighborsClassifier(),\n",
    "                        param_grid=knn_grid,\n",
    "                        cv=5,\n",
    "                        verbose=True)\n",
    "\n",
    "knn_gscv.fit(x_train, y_train)\n",
    "knn_tuned_score = knn_gscv.score(x_test, y_test)\n",
    "knn_tuned_score"
   ]
  },
  {
   "cell_type": "code",
   "execution_count": 78,
   "id": "temporal-attention",
   "metadata": {
    "execution": {
     "iopub.execute_input": "2021-06-21T15:21:38.990030Z",
     "iopub.status.busy": "2021-06-21T15:21:38.989360Z",
     "iopub.status.idle": "2021-06-21T15:21:38.992350Z",
     "shell.execute_reply": "2021-06-21T15:21:38.992742Z",
     "shell.execute_reply.started": "2021-06-21T13:53:56.450664Z"
    },
    "papermill": {
     "duration": 0.119,
     "end_time": "2021-06-21T15:21:38.992878",
     "exception": false,
     "start_time": "2021-06-21T15:21:38.873878",
     "status": "completed"
    },
    "tags": []
   },
   "outputs": [
    {
     "data": {
      "text/plain": [
       "{'algorithm': 'auto', 'leaf_size': 10, 'n_neighbors': 10, 'p': 4}"
      ]
     },
     "execution_count": 78,
     "metadata": {},
     "output_type": "execute_result"
    }
   ],
   "source": [
    "knn_gscv.best_params_"
   ]
  },
  {
   "cell_type": "markdown",
   "id": "conceptual-manner",
   "metadata": {
    "papermill": {
     "duration": 0.111974,
     "end_time": "2021-06-21T15:21:39.216938",
     "exception": false,
     "start_time": "2021-06-21T15:21:39.104964",
     "status": "completed"
    },
    "tags": []
   },
   "source": [
    "### Evaluating KNN model"
   ]
  },
  {
   "cell_type": "code",
   "execution_count": 79,
   "id": "vietnamese-destination",
   "metadata": {
    "execution": {
     "iopub.execute_input": "2021-06-21T15:21:39.494406Z",
     "iopub.status.busy": "2021-06-21T15:21:39.493678Z",
     "iopub.status.idle": "2021-06-21T15:21:39.530365Z",
     "shell.execute_reply": "2021-06-21T15:21:39.531321Z",
     "shell.execute_reply.started": "2021-06-21T13:54:18.026720Z"
    },
    "papermill": {
     "duration": 0.203332,
     "end_time": "2021-06-21T15:21:39.531538",
     "exception": false,
     "start_time": "2021-06-21T15:21:39.328206",
     "status": "completed"
    },
    "tags": []
   },
   "outputs": [
    {
     "name": "stdout",
     "output_type": "stream",
     "text": [
      "              precision    recall  f1-score   support\n",
      "\n",
      "           0       0.79      0.87      0.83       131\n",
      "           1       0.78      0.67      0.73        92\n",
      "\n",
      "    accuracy                           0.79       223\n",
      "   macro avg       0.79      0.77      0.78       223\n",
      "weighted avg       0.79      0.79      0.79       223\n",
      "\n"
     ]
    }
   ],
   "source": [
    "y_preds = knn_clf.predict(x_test)\n",
    "print(classification_report(y_test, y_preds))"
   ]
  },
  {
   "cell_type": "code",
   "execution_count": 80,
   "id": "destroyed-permission",
   "metadata": {
    "execution": {
     "iopub.execute_input": "2021-06-21T15:21:39.917342Z",
     "iopub.status.busy": "2021-06-21T15:21:39.916578Z",
     "iopub.status.idle": "2021-06-21T15:21:40.105205Z",
     "shell.execute_reply": "2021-06-21T15:21:40.106155Z",
     "shell.execute_reply.started": "2021-06-21T13:54:45.310084Z"
    },
    "papermill": {
     "duration": 0.381208,
     "end_time": "2021-06-21T15:21:40.106358",
     "exception": false,
     "start_time": "2021-06-21T15:21:39.725150",
     "status": "completed"
    },
    "tags": []
   },
   "outputs": [
    {
     "data": {
      "image/png": "[encoded data removed]",
      "text/plain": [
       "<Figure size 432x288 with 1 Axes>"
      ]
     },
     "metadata": {
      "needs_background": "light"
     },
     "output_type": "display_data"
    }
   ],
   "source": [
    "from sklearn.metrics import plot_roc_curve\n",
    "plot_roc_curve(knn_clf, x_test, y_test)\n",
    "plt.xlabel('False Positive Rate')\n",
    "plt.ylabel('True Positive Rate')\n",
    "plt.title('Receiver Operating Characteristic Curve');"
   ]
  },
  {
   "cell_type": "markdown",
   "id": "damaged-poland",
   "metadata": {
    "papermill": {
     "duration": 0.184699,
     "end_time": "2021-06-21T15:21:40.476366",
     "exception": false,
     "start_time": "2021-06-21T15:21:40.291667",
     "status": "completed"
    },
    "tags": []
   },
   "source": [
    "# Random Forest"
   ]
  },
  {
   "cell_type": "code",
   "execution_count": 81,
   "id": "photographic-grass",
   "metadata": {
    "execution": {
     "iopub.execute_input": "2021-06-21T15:21:40.710006Z",
     "iopub.status.busy": "2021-06-21T15:21:40.709462Z",
     "iopub.status.idle": "2021-06-21T15:21:42.704194Z",
     "shell.execute_reply": "2021-06-21T15:21:42.704618Z",
     "shell.execute_reply.started": "2021-06-21T13:55:45.864309Z"
    },
    "papermill": {
     "duration": 2.112031,
     "end_time": "2021-06-21T15:21:42.704776",
     "exception": false,
     "start_time": "2021-06-21T15:21:40.592745",
     "status": "completed"
    },
    "tags": []
   },
   "outputs": [
    {
     "data": {
      "text/plain": [
       "0.8071748878923767"
      ]
     },
     "execution_count": 81,
     "metadata": {},
     "output_type": "execute_result"
    }
   ],
   "source": [
    "from sklearn.ensemble import RandomForestClassifier\n",
    "\n",
    "rand_clf = RandomForestClassifier(n_estimators=1000, random_state = 35)\n",
    "rand_clf.fit(x_train, y_train)\n",
    "ranf_score = rand_clf.score(x_test, y_test)\n",
    "ranf_score"
   ]
  },
  {
   "cell_type": "markdown",
   "id": "knowing-springer",
   "metadata": {
    "papermill": {
     "duration": 0.114181,
     "end_time": "2021-06-21T15:21:42.932287",
     "exception": false,
     "start_time": "2021-06-21T15:21:42.818106",
     "status": "completed"
    },
    "tags": []
   },
   "source": [
    "### Random Forest hyperparameter tuning"
   ]
  },
  {
   "cell_type": "code",
   "execution_count": 82,
   "id": "thrown-south",
   "metadata": {
    "execution": {
     "iopub.execute_input": "2021-06-21T15:21:43.170668Z",
     "iopub.status.busy": "2021-06-21T15:21:43.166847Z",
     "iopub.status.idle": "2021-06-21T15:39:46.862146Z",
     "shell.execute_reply": "2021-06-21T15:39:46.862575Z",
     "shell.execute_reply.started": "2021-06-21T13:55:55.307336Z"
    },
    "papermill": {
     "duration": 1083.81602,
     "end_time": "2021-06-21T15:39:46.862761",
     "exception": false,
     "start_time": "2021-06-21T15:21:43.046741",
     "status": "completed"
    },
    "tags": []
   },
   "outputs": [
    {
     "name": "stdout",
     "output_type": "stream",
     "text": [
      "Fitting 5 folds for each of 100 candidates, totalling 500 fits\n"
     ]
    },
    {
     "data": {
      "text/plain": [
       "0.8116591928251121"
      ]
     },
     "execution_count": 82,
     "metadata": {},
     "output_type": "execute_result"
    }
   ],
   "source": [
    "rfcv_grid = {\"n_estimators\": np.arange(500, 2000, 100),\n",
    "           \"max_depth\": [None, 3, 5, 10],\n",
    "           \"min_samples_split\": np.arange(2, 20, 2),\n",
    "           \"min_samples_leaf\": np.arange(1, 20, 2)}\n",
    "\n",
    "rfcv_clf = RandomizedSearchCV(RandomForestClassifier(),\n",
    "                           param_distributions = rfcv_grid,\n",
    "                           cv=5,\n",
    "                           n_iter = 100,\n",
    "                           verbose=True)\n",
    "\n",
    "rfcv_clf.fit(x_train, y_train)\n",
    "ranf_tuned_score = rfcv_clf.score(x_test, y_test)\n",
    "ranf_tuned_score"
   ]
  },
  {
   "cell_type": "code",
   "execution_count": 83,
   "id": "loved-indonesia",
   "metadata": {
    "execution": {
     "iopub.execute_input": "2021-06-21T15:39:47.095480Z",
     "iopub.status.busy": "2021-06-21T15:39:47.094885Z",
     "iopub.status.idle": "2021-06-21T15:39:47.097974Z",
     "shell.execute_reply": "2021-06-21T15:39:47.098375Z",
     "shell.execute_reply.started": "2021-06-21T14:11:36.610905Z"
    },
    "papermill": {
     "duration": 0.121673,
     "end_time": "2021-06-21T15:39:47.098514",
     "exception": false,
     "start_time": "2021-06-21T15:39:46.976841",
     "status": "completed"
    },
    "tags": []
   },
   "outputs": [
    {
     "data": {
      "text/plain": [
       "{'n_estimators': 1100,\n",
       " 'min_samples_split': 8,\n",
       " 'min_samples_leaf': 3,\n",
       " 'max_depth': 10}"
      ]
     },
     "execution_count": 83,
     "metadata": {},
     "output_type": "execute_result"
    }
   ],
   "source": [
    "rfcv_clf.best_params_"
   ]
  },
  {
   "cell_type": "markdown",
   "id": "intended-charter",
   "metadata": {
    "papermill": {
     "duration": 0.113719,
     "end_time": "2021-06-21T15:39:47.326042",
     "exception": false,
     "start_time": "2021-06-21T15:39:47.212323",
     "status": "completed"
    },
    "tags": []
   },
   "source": [
    "### Evaluating Random Forest model"
   ]
  },
  {
   "cell_type": "code",
   "execution_count": 84,
   "id": "urban-chemistry",
   "metadata": {
    "execution": {
     "iopub.execute_input": "2021-06-21T15:39:47.559861Z",
     "iopub.status.busy": "2021-06-21T15:39:47.559052Z",
     "iopub.status.idle": "2021-06-21T15:39:47.678857Z",
     "shell.execute_reply": "2021-06-21T15:39:47.678396Z",
     "shell.execute_reply.started": "2021-06-21T14:13:48.338123Z"
    },
    "papermill": {
     "duration": 0.239511,
     "end_time": "2021-06-21T15:39:47.678968",
     "exception": false,
     "start_time": "2021-06-21T15:39:47.439457",
     "status": "completed"
    },
    "tags": []
   },
   "outputs": [
    {
     "name": "stdout",
     "output_type": "stream",
     "text": [
      "              precision    recall  f1-score   support\n",
      "\n",
      "           0       0.79      0.92      0.85       131\n",
      "           1       0.85      0.66      0.74        92\n",
      "\n",
      "    accuracy                           0.81       223\n",
      "   macro avg       0.82      0.79      0.80       223\n",
      "weighted avg       0.82      0.81      0.81       223\n",
      "\n"
     ]
    }
   ],
   "source": [
    "y_preds = rfcv_clf.predict(x_test)\n",
    "print(classification_report(y_test, y_preds))"
   ]
  },
  {
   "cell_type": "code",
   "execution_count": 85,
   "id": "individual-mozambique",
   "metadata": {
    "execution": {
     "iopub.execute_input": "2021-06-21T15:39:47.915288Z",
     "iopub.status.busy": "2021-06-21T15:39:47.914461Z",
     "iopub.status.idle": "2021-06-21T15:39:48.154338Z",
     "shell.execute_reply": "2021-06-21T15:39:48.154754Z",
     "shell.execute_reply.started": "2021-06-21T14:13:25.840759Z"
    },
    "papermill": {
     "duration": 0.361233,
     "end_time": "2021-06-21T15:39:48.154885",
     "exception": false,
     "start_time": "2021-06-21T15:39:47.793652",
     "status": "completed"
    },
    "tags": []
   },
   "outputs": [
    {
     "data": {
      "image/png": "[encoded data removed]",
      "text/plain": [
       "<Figure size 432x288 with 1 Axes>"
      ]
     },
     "metadata": {
      "needs_background": "light"
     },
     "output_type": "display_data"
    }
   ],
   "source": [
    "from sklearn.metrics import plot_roc_curve\n",
    "plot_roc_curve(rfcv_clf, x_test, y_test)\n",
    "plt.xlabel('False Positive Rate')\n",
    "plt.ylabel('True Positive Rate')\n",
    "plt.title('Receiver Operating Characteristic Curve');"
   ]
  },
  {
   "cell_type": "markdown",
   "id": "outside-sport",
   "metadata": {
    "papermill": {
     "duration": 0.114225,
     "end_time": "2021-06-21T15:39:48.384204",
     "exception": false,
     "start_time": "2021-06-21T15:39:48.269979",
     "status": "completed"
    },
    "tags": []
   },
   "source": [
    "# GradientBoostingClassifier"
   ]
  },
  {
   "cell_type": "code",
   "execution_count": 86,
   "id": "random-europe",
   "metadata": {
    "execution": {
     "iopub.execute_input": "2021-06-21T15:39:48.619229Z",
     "iopub.status.busy": "2021-06-21T15:39:48.618466Z",
     "iopub.status.idle": "2021-06-21T15:39:48.717941Z",
     "shell.execute_reply": "2021-06-21T15:39:48.717544Z",
     "shell.execute_reply.started": "2021-06-21T14:13:54.602966Z"
    },
    "papermill": {
     "duration": 0.219245,
     "end_time": "2021-06-21T15:39:48.718048",
     "exception": false,
     "start_time": "2021-06-21T15:39:48.498803",
     "status": "completed"
    },
    "tags": []
   },
   "outputs": [
    {
     "data": {
      "text/plain": [
       "0.8385650224215246"
      ]
     },
     "execution_count": 86,
     "metadata": {},
     "output_type": "execute_result"
    }
   ],
   "source": [
    "from sklearn.ensemble import GradientBoostingClassifier\n",
    "gbc = GradientBoostingClassifier()\n",
    "gbc.fit(x_train, y_train)\n",
    "gbc_score = gbc.score(x_test, y_test)\n",
    "gbc_score"
   ]
  },
  {
   "cell_type": "markdown",
   "id": "operating-equation",
   "metadata": {
    "papermill": {
     "duration": 0.114924,
     "end_time": "2021-06-21T15:39:48.948411",
     "exception": false,
     "start_time": "2021-06-21T15:39:48.833487",
     "status": "completed"
    },
    "tags": []
   },
   "source": [
    "### GradientBoostingClassifier hyperparameter tuning"
   ]
  },
  {
   "cell_type": "code",
   "execution_count": 87,
   "id": "acknowledged-paragraph",
   "metadata": {
    "execution": {
     "iopub.execute_input": "2021-06-21T15:39:49.187192Z",
     "iopub.status.busy": "2021-06-21T15:39:49.186408Z",
     "iopub.status.idle": "2021-06-21T16:04:20.887358Z",
     "shell.execute_reply": "2021-06-21T16:04:20.887789Z",
     "shell.execute_reply.started": "2021-06-21T14:14:00.657919Z"
    },
    "papermill": {
     "duration": 1471.823525,
     "end_time": "2021-06-21T16:04:20.887942",
     "exception": false,
     "start_time": "2021-06-21T15:39:49.064417",
     "status": "completed"
    },
    "tags": []
   },
   "outputs": [
    {
     "name": "stdout",
     "output_type": "stream",
     "text": [
      "Fitting 5 folds for each of 960 candidates, totalling 4800 fits\n"
     ]
    },
    {
     "data": {
      "text/plain": [
       "0.8295964125560538"
      ]
     },
     "execution_count": 87,
     "metadata": {},
     "output_type": "execute_result"
    }
   ],
   "source": [
    "gbc_grid = {'loss': ['deviance', 'exponential'],\n",
    "            'learning_rate': [0.1,0.01],\n",
    "            'n_estimators': [100, 200, 500, 1000],\n",
    "            'min_samples_split': [2, 4, 6, 8, 10],\n",
    "            'min_samples_leaf': [1, 2, 3, 5],\n",
    "            'max_depth': [1, 2, 3]}\n",
    "\n",
    "\n",
    "gbc_clf = GridSearchCV(GradientBoostingClassifier(),\n",
    "                      param_grid = gbc_grid,\n",
    "                           cv=5,\n",
    "                           verbose=True)\n",
    "gbc_clf.fit(x_train, y_train)\n",
    "gbc_tuned_score = gbc_clf.score(x_test, y_test)\n",
    "gbc_tuned_score"
   ]
  },
  {
   "cell_type": "code",
   "execution_count": 88,
   "id": "professional-union",
   "metadata": {
    "execution": {
     "iopub.execute_input": "2021-06-21T16:04:21.163636Z",
     "iopub.status.busy": "2021-06-21T16:04:21.163041Z",
     "iopub.status.idle": "2021-06-21T16:04:21.168652Z",
     "shell.execute_reply": "2021-06-21T16:04:21.168233Z",
     "shell.execute_reply.started": "2021-06-21T14:44:38.412666Z"
    },
    "papermill": {
     "duration": 0.125174,
     "end_time": "2021-06-21T16:04:21.168772",
     "exception": false,
     "start_time": "2021-06-21T16:04:21.043598",
     "status": "completed"
    },
    "tags": []
   },
   "outputs": [
    {
     "data": {
      "text/plain": [
       "{'learning_rate': 0.1,\n",
       " 'loss': 'deviance',\n",
       " 'max_depth': 3,\n",
       " 'min_samples_leaf': 3,\n",
       " 'min_samples_split': 10,\n",
       " 'n_estimators': 200}"
      ]
     },
     "execution_count": 88,
     "metadata": {},
     "output_type": "execute_result"
    }
   ],
   "source": [
    "gbc_clf.best_params_"
   ]
  },
  {
   "cell_type": "markdown",
   "id": "continent-stuff",
   "metadata": {
    "papermill": {
     "duration": 0.115577,
     "end_time": "2021-06-21T16:04:21.400529",
     "exception": false,
     "start_time": "2021-06-21T16:04:21.284952",
     "status": "completed"
    },
    "tags": []
   },
   "source": [
    "### Evaluating gradient boosting model"
   ]
  },
  {
   "cell_type": "code",
   "execution_count": 89,
   "id": "collective-teens",
   "metadata": {
    "execution": {
     "iopub.execute_input": "2021-06-21T16:04:21.639848Z",
     "iopub.status.busy": "2021-06-21T16:04:21.639041Z",
     "iopub.status.idle": "2021-06-21T16:04:21.647307Z",
     "shell.execute_reply": "2021-06-21T16:04:21.646870Z",
     "shell.execute_reply.started": "2021-06-21T14:46:00.761230Z"
    },
    "papermill": {
     "duration": 0.130594,
     "end_time": "2021-06-21T16:04:21.647415",
     "exception": false,
     "start_time": "2021-06-21T16:04:21.516821",
     "status": "completed"
    },
    "tags": []
   },
   "outputs": [
    {
     "name": "stdout",
     "output_type": "stream",
     "text": [
      "              precision    recall  f1-score   support\n",
      "\n",
      "           0       0.82      0.92      0.87       131\n",
      "           1       0.87      0.72      0.79        92\n",
      "\n",
      "    accuracy                           0.84       223\n",
      "   macro avg       0.85      0.82      0.83       223\n",
      "weighted avg       0.84      0.84      0.84       223\n",
      "\n"
     ]
    }
   ],
   "source": [
    "y_preds = gbc.predict(x_test)\n",
    "print(classification_report(y_test, y_preds))"
   ]
  },
  {
   "cell_type": "code",
   "execution_count": 90,
   "id": "addressed-footwear",
   "metadata": {
    "execution": {
     "iopub.execute_input": "2021-06-21T16:04:21.899997Z",
     "iopub.status.busy": "2021-06-21T16:04:21.885513Z",
     "iopub.status.idle": "2021-06-21T16:04:22.013822Z",
     "shell.execute_reply": "2021-06-21T16:04:22.013418Z",
     "shell.execute_reply.started": "2021-06-21T14:46:20.112016Z"
    },
    "papermill": {
     "duration": 0.250866,
     "end_time": "2021-06-21T16:04:22.013925",
     "exception": false,
     "start_time": "2021-06-21T16:04:21.763059",
     "status": "completed"
    },
    "tags": []
   },
   "outputs": [
    {
     "data": {
      "image/png": "[encoded data removed]",
      "text/plain": [
       "<Figure size 432x288 with 1 Axes>"
      ]
     },
     "metadata": {
      "needs_background": "light"
     },
     "output_type": "display_data"
    }
   ],
   "source": [
    "from sklearn.metrics import plot_roc_curve\n",
    "plot_roc_curve(gbc, x_test, y_test)\n",
    "plt.xlabel('False Positive Rate')\n",
    "plt.ylabel('True Positive Rate')\n",
    "plt.title('Receiver Operating Characteristic Curve');"
   ]
  },
  {
   "cell_type": "markdown",
   "id": "rubber-chamber",
   "metadata": {
    "papermill": {
     "duration": 0.117974,
     "end_time": "2021-06-21T16:04:22.249319",
     "exception": false,
     "start_time": "2021-06-21T16:04:22.131345",
     "status": "completed"
    },
    "tags": []
   },
   "source": [
    "# CatBoost"
   ]
  },
  {
   "cell_type": "code",
   "execution_count": 91,
   "id": "arabic-cosmetic",
   "metadata": {
    "execution": {
     "iopub.execute_input": "2021-06-21T16:04:22.487784Z",
     "iopub.status.busy": "2021-06-21T16:04:22.487271Z",
     "iopub.status.idle": "2021-06-21T16:04:23.606259Z",
     "shell.execute_reply": "2021-06-21T16:04:23.605842Z",
     "shell.execute_reply.started": "2021-06-21T14:47:04.411995Z"
    },
    "papermill": {
     "duration": 1.239931,
     "end_time": "2021-06-21T16:04:23.606380",
     "exception": false,
     "start_time": "2021-06-21T16:04:22.366449",
     "status": "completed"
    },
    "tags": []
   },
   "outputs": [
    {
     "data": {
      "text/plain": [
       "0.8295964125560538"
      ]
     },
     "execution_count": 91,
     "metadata": {},
     "output_type": "execute_result"
    }
   ],
   "source": [
    "from catboost import CatBoostClassifier\n",
    "cbc = CatBoostClassifier(random_seed = 31)\n",
    "cbc.fit(x_train, y_train, verbose=False);\n",
    "cbc_score = cbc.score(x_test, y_test);\n",
    "cbc_score"
   ]
  },
  {
   "cell_type": "markdown",
   "id": "verbal-stability",
   "metadata": {
    "papermill": {
     "duration": 0.117569,
     "end_time": "2021-06-21T16:04:23.843112",
     "exception": false,
     "start_time": "2021-06-21T16:04:23.725543",
     "status": "completed"
    },
    "tags": []
   },
   "source": [
    "### CatBoostClassifier hyperparameter tuning"
   ]
  },
  {
   "cell_type": "code",
   "execution_count": 92,
   "id": "worse-little",
   "metadata": {
    "execution": {
     "iopub.execute_input": "2021-06-21T16:04:24.085380Z",
     "iopub.status.busy": "2021-06-21T16:04:24.084615Z",
     "iopub.status.idle": "2021-06-21T16:04:39.849092Z",
     "shell.execute_reply": "2021-06-21T16:04:39.848655Z",
     "shell.execute_reply.started": "2021-06-21T14:47:10.884800Z"
    },
    "papermill": {
     "duration": 15.888656,
     "end_time": "2021-06-21T16:04:39.849218",
     "exception": false,
     "start_time": "2021-06-21T16:04:23.960562",
     "status": "completed"
    },
    "tags": []
   },
   "outputs": [
    {
     "name": "stdout",
     "output_type": "stream",
     "text": [
      "Fitting 5 folds for each of 10 candidates, totalling 50 fits\n"
     ]
    },
    {
     "data": {
      "text/plain": [
       "0.8340807174887892"
      ]
     },
     "execution_count": 92,
     "metadata": {},
     "output_type": "execute_result"
    }
   ],
   "source": [
    "cbc_grid = {'iterations':[10, 100, 200, 500, 1000],\n",
    "            'learning_rate': [0.1, 0.01]}\n",
    "\n",
    "\n",
    "cbc_clf = GridSearchCV(CatBoostClassifier(random_state = 31),\n",
    "                      param_grid = cbc_grid,\n",
    "                           cv=5,\n",
    "                           verbose=True)\n",
    "\n",
    "cbc_clf.fit(x_train, y_train, verbose=False)\n",
    "cbc_tuned_score = cbc_clf.score(x_test, y_test)\n",
    "cbc_tuned_score"
   ]
  },
  {
   "cell_type": "code",
   "execution_count": 93,
   "id": "raising-marine",
   "metadata": {
    "execution": {
     "iopub.execute_input": "2021-06-21T16:04:40.090392Z",
     "iopub.status.busy": "2021-06-21T16:04:40.089863Z",
     "iopub.status.idle": "2021-06-21T16:04:40.095251Z",
     "shell.execute_reply": "2021-06-21T16:04:40.095641Z",
     "shell.execute_reply.started": "2021-06-21T14:48:26.233580Z"
    },
    "papermill": {
     "duration": 0.128404,
     "end_time": "2021-06-21T16:04:40.095781",
     "exception": false,
     "start_time": "2021-06-21T16:04:39.967377",
     "status": "completed"
    },
    "tags": []
   },
   "outputs": [
    {
     "data": {
      "text/plain": [
       "{'iterations': 200, 'learning_rate': 0.01}"
      ]
     },
     "execution_count": 93,
     "metadata": {},
     "output_type": "execute_result"
    }
   ],
   "source": [
    "cbc_clf.best_params_"
   ]
  },
  {
   "cell_type": "markdown",
   "id": "refined-barcelona",
   "metadata": {
    "papermill": {
     "duration": 0.119241,
     "end_time": "2021-06-21T16:04:40.333845",
     "exception": false,
     "start_time": "2021-06-21T16:04:40.214604",
     "status": "completed"
    },
    "tags": []
   },
   "source": [
    "### Evaluating CatBoost model"
   ]
  },
  {
   "cell_type": "code",
   "execution_count": 94,
   "id": "expanded-villa",
   "metadata": {
    "execution": {
     "iopub.execute_input": "2021-06-21T16:04:40.580856Z",
     "iopub.status.busy": "2021-06-21T16:04:40.579983Z",
     "iopub.status.idle": "2021-06-21T16:04:40.588701Z",
     "shell.execute_reply": "2021-06-21T16:04:40.589288Z",
     "shell.execute_reply.started": "2021-06-21T14:49:31.508666Z"
    },
    "papermill": {
     "duration": 0.136194,
     "end_time": "2021-06-21T16:04:40.589485",
     "exception": false,
     "start_time": "2021-06-21T16:04:40.453291",
     "status": "completed"
    },
    "tags": []
   },
   "outputs": [
    {
     "name": "stdout",
     "output_type": "stream",
     "text": [
      "              precision    recall  f1-score   support\n",
      "\n",
      "           0       0.80      0.95      0.87       131\n",
      "           1       0.91      0.66      0.77        92\n",
      "\n",
      "    accuracy                           0.83       223\n",
      "   macro avg       0.86      0.81      0.82       223\n",
      "weighted avg       0.85      0.83      0.83       223\n",
      "\n"
     ]
    }
   ],
   "source": [
    "y_preds = cbc_clf.predict(x_test)\n",
    "print(classification_report(y_test, y_preds))"
   ]
  },
  {
   "cell_type": "code",
   "execution_count": 95,
   "id": "fatty-pharmaceutical",
   "metadata": {
    "execution": {
     "iopub.execute_input": "2021-06-21T16:04:40.837368Z",
     "iopub.status.busy": "2021-06-21T16:04:40.836561Z",
     "iopub.status.idle": "2021-06-21T16:04:40.964177Z",
     "shell.execute_reply": "2021-06-21T16:04:40.964618Z",
     "shell.execute_reply.started": "2021-06-21T14:49:54.491890Z"
    },
    "papermill": {
     "duration": 0.255536,
     "end_time": "2021-06-21T16:04:40.964772",
     "exception": false,
     "start_time": "2021-06-21T16:04:40.709236",
     "status": "completed"
    },
    "tags": []
   },
   "outputs": [
    {
     "data": {
      "image/png": "[encoded data removed]",
      "text/plain": [
       "<Figure size 432x288 with 1 Axes>"
      ]
     },
     "metadata": {
      "needs_background": "light"
     },
     "output_type": "display_data"
    }
   ],
   "source": [
    "from sklearn.metrics import plot_roc_curve\n",
    "plot_roc_curve(cbc_clf, x_test, y_test)\n",
    "plt.xlabel('False Positive Rate')\n",
    "plt.ylabel('True Positive Rate')\n",
    "plt.title('Receiver Operating Characteristic Curve');"
   ]
  },
  {
   "cell_type": "markdown",
   "id": "fitting-carry",
   "metadata": {
    "papermill": {
     "duration": 0.119914,
     "end_time": "2021-06-21T16:04:41.205022",
     "exception": false,
     "start_time": "2021-06-21T16:04:41.085108",
     "status": "completed"
    },
    "tags": []
   },
   "source": [
    "# LGBM"
   ]
  },
  {
   "cell_type": "code",
   "execution_count": 96,
   "id": "alpine-puppy",
   "metadata": {
    "execution": {
     "iopub.execute_input": "2021-06-21T16:04:41.472387Z",
     "iopub.status.busy": "2021-06-21T16:04:41.471799Z",
     "iopub.status.idle": "2021-06-21T16:04:43.910631Z",
     "shell.execute_reply": "2021-06-21T16:04:43.911509Z",
     "shell.execute_reply.started": "2021-06-21T14:50:03.881002Z"
    },
    "papermill": {
     "duration": 2.583424,
     "end_time": "2021-06-21T16:04:43.911690",
     "exception": false,
     "start_time": "2021-06-21T16:04:41.328266",
     "status": "completed"
    },
    "tags": []
   },
   "outputs": [
    {
     "data": {
      "text/html": [
       "<style type='text/css'>\n",
       ".datatable table.frame { margin-bottom: 0; }\n",
       ".datatable table.frame thead { border-bottom: none; }\n",
       ".datatable table.frame tr.coltypes td {  color: #FFFFFF;  line-height: 6px;  padding: 0 0.5em;}\n",
       ".datatable .bool    { background: #DDDD99; }\n",
       ".datatable .object  { background: #565656; }\n",
       ".datatable .int     { background: #5D9E5D; }\n",
       ".datatable .float   { background: #4040CC; }\n",
       ".datatable .str     { background: #CC4040; }\n",
       ".datatable .row_index {  background: var(--jp-border-color3);  border-right: 1px solid var(--jp-border-color0);  color: var(--jp-ui-font-color3);  font-size: 9px;}\n",
       ".datatable .frame tr.coltypes .row_index {  background: var(--jp-border-color0);}\n",
       ".datatable th:nth-child(2) { padding-left: 12px; }\n",
       ".datatable .hellipsis {  color: var(--jp-cell-editor-border-color);}\n",
       ".datatable .vellipsis {  background: var(--jp-layout-color0);  color: var(--jp-cell-editor-border-color);}\n",
       ".datatable .na {  color: var(--jp-cell-editor-border-color);  font-size: 80%;}\n",
       ".datatable .footer { font-size: 9px; }\n",
       ".datatable .frame_dimensions {  background: var(--jp-border-color3);  border-top: 1px solid var(--jp-border-color0);  color: var(--jp-ui-font-color3);  display: inline-block;  opacity: 0.6;  padding: 1px 10px 1px 5px;}\n",
       "</style>\n"
      ],
      "text/plain": [
       "<IPython.core.display.HTML object>"
      ]
     },
     "metadata": {},
     "output_type": "display_data"
    },
    {
     "data": {
      "text/plain": [
       "0.820627802690583"
      ]
     },
     "execution_count": 96,
     "metadata": {},
     "output_type": "execute_result"
    }
   ],
   "source": [
    "from lightgbm import LGBMClassifier\n",
    "lgbm = LGBMClassifier()\n",
    "lgbm.fit(x_train, y_train)\n",
    "lgbm_score = lgbm.score(x_test, y_test)\n",
    "lgbm_score"
   ]
  },
  {
   "cell_type": "markdown",
   "id": "centered-hardware",
   "metadata": {
    "papermill": {
     "duration": 0.121194,
     "end_time": "2021-06-21T16:04:44.156272",
     "exception": false,
     "start_time": "2021-06-21T16:04:44.035078",
     "status": "completed"
    },
    "tags": []
   },
   "source": [
    "### LGBM hyperparameter tuning"
   ]
  },
  {
   "cell_type": "code",
   "execution_count": 97,
   "id": "accredited-rendering",
   "metadata": {
    "execution": {
     "iopub.execute_input": "2021-06-21T16:04:44.404854Z",
     "iopub.status.busy": "2021-06-21T16:04:44.403797Z",
     "iopub.status.idle": "2021-06-21T16:05:38.721119Z",
     "shell.execute_reply": "2021-06-21T16:05:38.721583Z",
     "shell.execute_reply.started": "2021-06-21T14:50:21.033866Z"
    },
    "papermill": {
     "duration": 54.444485,
     "end_time": "2021-06-21T16:05:38.721732",
     "exception": false,
     "start_time": "2021-06-21T16:04:44.277247",
     "status": "completed"
    },
    "tags": []
   },
   "outputs": [
    {
     "name": "stdout",
     "output_type": "stream",
     "text": [
      "Fitting 5 folds for each of 240 candidates, totalling 1200 fits\n"
     ]
    },
    {
     "data": {
      "text/plain": [
       "0.8071748878923767"
      ]
     },
     "execution_count": 97,
     "metadata": {},
     "output_type": "execute_result"
    }
   ],
   "source": [
    "lgbm_grid = {'num_leaves': [10, 15, 30, 31, 40, 45],\n",
    "             'n_estimators':[10, 50, 100, 200],\n",
    "             'learning_rate': [0.1, 0.01],\n",
    "             'min_child_samples': [5, 10, 15, 20, 25]}\n",
    "\n",
    "\n",
    "lgbm_clf = GridSearchCV(LGBMClassifier(random_state = 31),\n",
    "                           param_grid = lgbm_grid,\n",
    "                           cv=5,\n",
    "                           verbose=True)\n",
    "\n",
    "lgbm_clf.fit(x_train, y_train, verbose=False)\n",
    "lgbm_tuned_score = lgbm_clf.score(x_test, y_test)\n",
    "lgbm_tuned_score"
   ]
  },
  {
   "cell_type": "code",
   "execution_count": 98,
   "id": "diagnostic-modification",
   "metadata": {
    "execution": {
     "iopub.execute_input": "2021-06-21T16:05:38.967364Z",
     "iopub.status.busy": "2021-06-21T16:05:38.966789Z",
     "iopub.status.idle": "2021-06-21T16:05:38.969840Z",
     "shell.execute_reply": "2021-06-21T16:05:38.969403Z",
     "shell.execute_reply.started": "2021-06-21T14:53:10.613771Z"
    },
    "papermill": {
     "duration": 0.127916,
     "end_time": "2021-06-21T16:05:38.969954",
     "exception": false,
     "start_time": "2021-06-21T16:05:38.842038",
     "status": "completed"
    },
    "tags": []
   },
   "outputs": [
    {
     "data": {
      "text/plain": [
       "{'learning_rate': 0.1,\n",
       " 'min_child_samples': 5,\n",
       " 'n_estimators': 10,\n",
       " 'num_leaves': 15}"
      ]
     },
     "execution_count": 98,
     "metadata": {},
     "output_type": "execute_result"
    }
   ],
   "source": [
    "lgbm_clf.best_params_"
   ]
  },
  {
   "cell_type": "markdown",
   "id": "organizational-category",
   "metadata": {
    "papermill": {
     "duration": 0.120759,
     "end_time": "2021-06-21T16:05:39.211697",
     "exception": false,
     "start_time": "2021-06-21T16:05:39.090938",
     "status": "completed"
    },
    "tags": []
   },
   "source": [
    "### Evaluating LGBM model"
   ]
  },
  {
   "cell_type": "code",
   "execution_count": 99,
   "id": "color-energy",
   "metadata": {
    "execution": {
     "iopub.execute_input": "2021-06-21T16:05:39.466301Z",
     "iopub.status.busy": "2021-06-21T16:05:39.465688Z",
     "iopub.status.idle": "2021-06-21T16:05:39.470149Z",
     "shell.execute_reply": "2021-06-21T16:05:39.470566Z",
     "shell.execute_reply.started": "2021-06-21T14:54:38.035289Z"
    },
    "papermill": {
     "duration": 0.136906,
     "end_time": "2021-06-21T16:05:39.470713",
     "exception": false,
     "start_time": "2021-06-21T16:05:39.333807",
     "status": "completed"
    },
    "tags": []
   },
   "outputs": [
    {
     "name": "stdout",
     "output_type": "stream",
     "text": [
      "              precision    recall  f1-score   support\n",
      "\n",
      "           0       0.82      0.89      0.85       131\n",
      "           1       0.82      0.72      0.77        92\n",
      "\n",
      "    accuracy                           0.82       223\n",
      "   macro avg       0.82      0.81      0.81       223\n",
      "weighted avg       0.82      0.82      0.82       223\n",
      "\n"
     ]
    }
   ],
   "source": [
    "y_preds = lgbm.predict(x_test)\n",
    "print(classification_report(y_test, y_preds))"
   ]
  },
  {
   "cell_type": "code",
   "execution_count": 100,
   "id": "former-inventory",
   "metadata": {
    "execution": {
     "iopub.execute_input": "2021-06-21T16:05:39.719566Z",
     "iopub.status.busy": "2021-06-21T16:05:39.719005Z",
     "iopub.status.idle": "2021-06-21T16:05:39.852016Z",
     "shell.execute_reply": "2021-06-21T16:05:39.852417Z",
     "shell.execute_reply.started": "2021-06-21T14:54:18.085288Z"
    },
    "papermill": {
     "duration": 0.260308,
     "end_time": "2021-06-21T16:05:39.852624",
     "exception": false,
     "start_time": "2021-06-21T16:05:39.592316",
     "status": "completed"
    },
    "tags": []
   },
   "outputs": [
    {
     "data": {
      "image/png": "[encoded data removed]",
      "text/plain": [
       "<Figure size 432x288 with 1 Axes>"
      ]
     },
     "metadata": {
      "needs_background": "light"
     },
     "output_type": "display_data"
    }
   ],
   "source": [
    "from sklearn.metrics import plot_roc_curve\n",
    "plot_roc_curve(lgbm, x_test, y_test)\n",
    "plt.xlabel('False Positive Rate')\n",
    "plt.ylabel('True Positive Rate')\n",
    "plt.title('Receiver Operating Characteristic Curve');"
   ]
  },
  {
   "cell_type": "markdown",
   "id": "incident-refrigerator",
   "metadata": {
    "papermill": {
     "duration": 0.121663,
     "end_time": "2021-06-21T16:05:40.095854",
     "exception": false,
     "start_time": "2021-06-21T16:05:39.974191",
     "status": "completed"
    },
    "tags": []
   },
   "source": [
    "Let's make a dictionary of all models and accuracy"
   ]
  },
  {
   "cell_type": "code",
   "execution_count": 101,
   "id": "recovered-platinum",
   "metadata": {
    "execution": {
     "iopub.execute_input": "2021-06-21T16:05:40.344788Z",
     "iopub.status.busy": "2021-06-21T16:05:40.344101Z",
     "iopub.status.idle": "2021-06-21T16:05:40.346912Z",
     "shell.execute_reply": "2021-06-21T16:05:40.346453Z",
     "shell.execute_reply.started": "2021-06-21T14:54:44.774193Z"
    },
    "papermill": {
     "duration": 0.129784,
     "end_time": "2021-06-21T16:05:40.347020",
     "exception": false,
     "start_time": "2021-06-21T16:05:40.217236",
     "status": "completed"
    },
    "tags": []
   },
   "outputs": [],
   "source": [
    "score = [{'Model':'Logistic Regression', 'Score': log_score, 'Tuned_score': log_tuned_score}, \n",
    "         {'Model':'SVC', 'Score': svc_score, 'Tuned_score': svc_tuned_score},\n",
    "         {'Model':'KNN', 'Score': knn_score, 'Tuned_score': knn_tuned_score},\n",
    "         {'Model':'Random Forest', 'Score': ranf_score, 'Tuned_score': ranf_tuned_score},\n",
    "         {'Model':'Gradient Boosting', 'Score': gbc_score, 'Tuned_score': gbc_tuned_score},\n",
    "         {'Model':'CatBoost', 'Score': cbc_score, 'Tuned_score': cbc_tuned_score},\n",
    "         {'Model':'LGBM', 'Score': lgbm_score, 'Tuned_score': lgbm_tuned_score}]"
   ]
  },
  {
   "cell_type": "markdown",
   "id": "bulgarian-service",
   "metadata": {
    "papermill": {
     "duration": 0.121026,
     "end_time": "2021-06-21T16:05:40.589972",
     "exception": false,
     "start_time": "2021-06-21T16:05:40.468946",
     "status": "completed"
    },
    "tags": []
   },
   "source": [
    "Let's view all model score as a dataframe to get a good overview"
   ]
  },
  {
   "cell_type": "code",
   "execution_count": 102,
   "id": "behavioral-farming",
   "metadata": {
    "execution": {
     "iopub.execute_input": "2021-06-21T16:05:40.842352Z",
     "iopub.status.busy": "2021-06-21T16:05:40.841736Z",
     "iopub.status.idle": "2021-06-21T16:05:40.844933Z",
     "shell.execute_reply": "2021-06-21T16:05:40.845321Z",
     "shell.execute_reply.started": "2021-06-21T14:54:49.186211Z"
    },
    "papermill": {
     "duration": 0.134268,
     "end_time": "2021-06-21T16:05:40.845455",
     "exception": false,
     "start_time": "2021-06-21T16:05:40.711187",
     "status": "completed"
    },
    "tags": []
   },
   "outputs": [
    {
     "data": {
      "text/html": [
       "<div>\n",
       "<style scoped>\n",
       "    .dataframe tbody tr th:only-of-type {\n",
       "        vertical-align: middle;\n",
       "    }\n",
       "\n",
       "    .dataframe tbody tr th {\n",
       "        vertical-align: top;\n",
       "    }\n",
       "\n",
       "    .dataframe thead th {\n",
       "        text-align: right;\n",
       "    }\n",
       "</style>\n",
       "<table border=\"1\" class=\"dataframe\">\n",
       "  <thead>\n",
       "    <tr style=\"text-align: right;\">\n",
       "      <th></th>\n",
       "      <th>Model</th>\n",
       "      <th>Score</th>\n",
       "      <th>Tuned_score</th>\n",
       "    </tr>\n",
       "  </thead>\n",
       "  <tbody>\n",
       "    <tr>\n",
       "      <th>0</th>\n",
       "      <td>Logistic Regression</td>\n",
       "      <td>0.816143</td>\n",
       "      <td>0.807175</td>\n",
       "    </tr>\n",
       "    <tr>\n",
       "      <th>1</th>\n",
       "      <td>SVC</td>\n",
       "      <td>0.834081</td>\n",
       "      <td>0.807175</td>\n",
       "    </tr>\n",
       "    <tr>\n",
       "      <th>2</th>\n",
       "      <td>KNN</td>\n",
       "      <td>0.789238</td>\n",
       "      <td>0.771300</td>\n",
       "    </tr>\n",
       "    <tr>\n",
       "      <th>3</th>\n",
       "      <td>Random Forest</td>\n",
       "      <td>0.807175</td>\n",
       "      <td>0.811659</td>\n",
       "    </tr>\n",
       "    <tr>\n",
       "      <th>4</th>\n",
       "      <td>Gradient Boosting</td>\n",
       "      <td>0.838565</td>\n",
       "      <td>0.829596</td>\n",
       "    </tr>\n",
       "    <tr>\n",
       "      <th>5</th>\n",
       "      <td>CatBoost</td>\n",
       "      <td>0.829596</td>\n",
       "      <td>0.834081</td>\n",
       "    </tr>\n",
       "    <tr>\n",
       "      <th>6</th>\n",
       "      <td>LGBM</td>\n",
       "      <td>0.820628</td>\n",
       "      <td>0.807175</td>\n",
       "    </tr>\n",
       "  </tbody>\n",
       "</table>\n",
       "</div>"
      ],
      "text/plain": [
       "                 Model     Score  Tuned_score\n",
       "0  Logistic Regression  0.816143     0.807175\n",
       "1                  SVC  0.834081     0.807175\n",
       "2                  KNN  0.789238     0.771300\n",
       "3        Random Forest  0.807175     0.811659\n",
       "4    Gradient Boosting  0.838565     0.829596\n",
       "5             CatBoost  0.829596     0.834081\n",
       "6                 LGBM  0.820628     0.807175"
      ]
     },
     "execution_count": 102,
     "metadata": {},
     "output_type": "execute_result"
    }
   ],
   "source": [
    "pd.DataFrame(score, columns=['Model','Score','Tuned_score'])"
   ]
  },
  {
   "cell_type": "markdown",
   "id": "obvious-spice",
   "metadata": {
    "papermill": {
     "duration": 0.122515,
     "end_time": "2021-06-21T16:05:41.091340",
     "exception": false,
     "start_time": "2021-06-21T16:05:40.968825",
     "status": "completed"
    },
    "tags": []
   },
   "source": [
    "**Looks like SVC classifier is doing best. So, let's predict with this**."
   ]
  },
  {
   "cell_type": "code",
   "execution_count": 103,
   "id": "finished-vampire",
   "metadata": {
    "execution": {
     "iopub.execute_input": "2021-06-21T16:05:41.340764Z",
     "iopub.status.busy": "2021-06-21T16:05:41.340056Z",
     "iopub.status.idle": "2021-06-21T16:05:41.351357Z",
     "shell.execute_reply": "2021-06-21T16:05:41.350964Z",
     "shell.execute_reply.started": "2021-06-21T15:13:36.050323Z"
    },
    "papermill": {
     "duration": 0.138586,
     "end_time": "2021-06-21T16:05:41.351477",
     "exception": false,
     "start_time": "2021-06-21T16:05:41.212891",
     "status": "completed"
    },
    "tags": []
   },
   "outputs": [],
   "source": [
    "final_preds = svc_clf.predict(encoded_test_x)"
   ]
  },
  {
   "cell_type": "markdown",
   "id": "affected-holocaust",
   "metadata": {
    "papermill": {
     "duration": 0.122842,
     "end_time": "2021-06-21T16:05:41.598411",
     "exception": false,
     "start_time": "2021-06-21T16:05:41.475569",
     "status": "completed"
    },
    "tags": []
   },
   "source": [
    "# Creating file for submission "
   ]
  },
  {
   "cell_type": "code",
   "execution_count": 104,
   "id": "enabling-iceland",
   "metadata": {
    "execution": {
     "iopub.execute_input": "2021-06-21T16:05:41.851381Z",
     "iopub.status.busy": "2021-06-21T16:05:41.850842Z",
     "iopub.status.idle": "2021-06-21T16:05:41.870585Z",
     "shell.execute_reply": "2021-06-21T16:05:41.870147Z",
     "shell.execute_reply.started": "2021-06-21T15:09:17.904620Z"
    },
    "papermill": {
     "duration": 0.149616,
     "end_time": "2021-06-21T16:05:41.870718",
     "exception": false,
     "start_time": "2021-06-21T16:05:41.721102",
     "status": "completed"
    },
    "tags": []
   },
   "outputs": [],
   "source": [
    "sub_data = pd.read_csv('../input/titanic/gender_submission.csv')\n",
    "final_data = {'PassengerId': sub_data.PassengerId, 'Survived': final_preds}\n",
    "final_submission = pd.DataFrame(data=final_data)\n",
    "final_submission.to_csv('submission_file_titanic.csv',index =False)"
   ]
  },
  {
   "cell_type": "markdown",
   "id": "civic-parliament",
   "metadata": {
    "papermill": {
     "duration": 0.123044,
     "end_time": "2021-06-21T16:05:42.115591",
     "exception": false,
     "start_time": "2021-06-21T16:05:41.992547",
     "status": "completed"
    },
    "tags": []
   },
   "source": [
    "**`If this notebook was useful to you. Don't forget to upvote. Thanks`**"
   ]
  }
 ],
 "metadata": {
  "kernelspec": {
   "display_name": "Python 3",
   "language": "python",
   "name": "python3"
  },
  "language_info": {
   "codemirror_mode": {
    "name": "ipython",
    "version": 3
   },
   "file_extension": ".py",
   "mimetype": "text/x-python",
   "name": "python",
   "nbconvert_exporter": "python",
   "pygments_lexer": "ipython3",
   "version": "3.7.10"
  },
  "papermill": {
   "default_parameters": {},
   "duration": 2944.915844,
   "end_time": "2021-06-21T16:05:44.286811",
   "environment_variables": {},
   "exception": null,
   "input_path": "__notebook__.ipynb",
   "output_path": "__notebook__.ipynb",
   "parameters": {},
   "start_time": "2021-06-21T15:16:39.370967",
   "version": "2.3.3"
  }
 },
 "nbformat": 4,
 "nbformat_minor": 5
}
