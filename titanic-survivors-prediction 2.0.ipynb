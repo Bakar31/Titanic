{
 "cells": [
  {
   "cell_type": "code",
   "execution_count": 1,
   "id": "third-plastic",
   "metadata": {
    "execution": {
     "iopub.execute_input": "2021-05-22T07:34:17.277668Z",
     "iopub.status.busy": "2021-05-22T07:34:17.277045Z",
     "iopub.status.idle": "2021-05-22T07:34:17.895723Z",
     "shell.execute_reply": "2021-05-22T07:34:17.895088Z",
     "shell.execute_reply.started": "2021-05-22T06:25:24.586988Z"
    },
    "papermill": {
     "duration": 0.705078,
     "end_time": "2021-05-22T07:34:17.895886",
     "exception": false,
     "start_time": "2021-05-22T07:34:17.190808",
     "status": "completed"
    },
    "tags": []
   },
   "outputs": [],
   "source": [
    "#importing basic libraries\n",
    "import numpy as np\n",
    "import pandas as pd\n",
    "import matplotlib.pyplot as plt\n",
    "import seaborn as sns\n",
    "%matplotlib inline"
   ]
  },
  {
   "cell_type": "code",
   "execution_count": 2,
   "id": "senior-colon",
   "metadata": {
    "execution": {
     "iopub.execute_input": "2021-05-22T07:34:18.059811Z",
     "iopub.status.busy": "2021-05-22T07:34:18.059215Z",
     "iopub.status.idle": "2021-05-22T07:34:18.078076Z",
     "shell.execute_reply": "2021-05-22T07:34:18.077551Z",
     "shell.execute_reply.started": "2021-05-22T06:25:25.273808Z"
    },
    "papermill": {
     "duration": 0.102625,
     "end_time": "2021-05-22T07:34:18.078223",
     "exception": false,
     "start_time": "2021-05-22T07:34:17.975598",
     "status": "completed"
    },
    "tags": []
   },
   "outputs": [],
   "source": [
    "train = pd.read_csv('../input/titanic/train.csv')\n",
    "test = pd.read_csv('../input/titanic/test.csv')"
   ]
  },
  {
   "cell_type": "code",
   "execution_count": 3,
   "id": "relevant-richards",
   "metadata": {
    "execution": {
     "iopub.execute_input": "2021-05-22T07:34:18.243124Z",
     "iopub.status.busy": "2021-05-22T07:34:18.242483Z",
     "iopub.status.idle": "2021-05-22T07:34:18.252148Z",
     "shell.execute_reply": "2021-05-22T07:34:18.252682Z",
     "shell.execute_reply.started": "2021-05-22T06:25:25.301340Z"
    },
    "papermill": {
     "duration": 0.101085,
     "end_time": "2021-05-22T07:34:18.252813",
     "exception": false,
     "start_time": "2021-05-22T07:34:18.151728",
     "status": "completed"
    },
    "tags": []
   },
   "outputs": [
    {
     "data": {
      "text/html": [
       "<div>\n",
       "<style scoped>\n",
       "    .dataframe tbody tr th:only-of-type {\n",
       "        vertical-align: middle;\n",
       "    }\n",
       "\n",
       "    .dataframe tbody tr th {\n",
       "        vertical-align: top;\n",
       "    }\n",
       "\n",
       "    .dataframe thead th {\n",
       "        text-align: right;\n",
       "    }\n",
       "</style>\n",
       "<table border=\"1\" class=\"dataframe\">\n",
       "  <thead>\n",
       "    <tr style=\"text-align: right;\">\n",
       "      <th></th>\n",
       "      <th>PassengerId</th>\n",
       "      <th>Survived</th>\n",
       "      <th>Pclass</th>\n",
       "      <th>Name</th>\n",
       "      <th>Sex</th>\n",
       "      <th>Age</th>\n",
       "      <th>SibSp</th>\n",
       "      <th>Parch</th>\n",
       "      <th>Ticket</th>\n",
       "      <th>Fare</th>\n",
       "      <th>Cabin</th>\n",
       "      <th>Embarked</th>\n",
       "    </tr>\n",
       "  </thead>\n",
       "  <tbody>\n",
       "    <tr>\n",
       "      <th>0</th>\n",
       "      <td>1</td>\n",
       "      <td>0</td>\n",
       "      <td>3</td>\n",
       "      <td>Braund, Mr. Owen Harris</td>\n",
       "      <td>male</td>\n",
       "      <td>22.0</td>\n",
       "      <td>1</td>\n",
       "      <td>0</td>\n",
       "      <td>A/5 21171</td>\n",
       "      <td>7.2500</td>\n",
       "      <td>NaN</td>\n",
       "      <td>S</td>\n",
       "    </tr>\n",
       "    <tr>\n",
       "      <th>1</th>\n",
       "      <td>2</td>\n",
       "      <td>1</td>\n",
       "      <td>1</td>\n",
       "      <td>Cumings, Mrs. John Bradley (Florence Briggs Th...</td>\n",
       "      <td>female</td>\n",
       "      <td>38.0</td>\n",
       "      <td>1</td>\n",
       "      <td>0</td>\n",
       "      <td>PC 17599</td>\n",
       "      <td>71.2833</td>\n",
       "      <td>C85</td>\n",
       "      <td>C</td>\n",
       "    </tr>\n",
       "    <tr>\n",
       "      <th>2</th>\n",
       "      <td>3</td>\n",
       "      <td>1</td>\n",
       "      <td>3</td>\n",
       "      <td>Heikkinen, Miss. Laina</td>\n",
       "      <td>female</td>\n",
       "      <td>26.0</td>\n",
       "      <td>0</td>\n",
       "      <td>0</td>\n",
       "      <td>STON/O2. 3101282</td>\n",
       "      <td>7.9250</td>\n",
       "      <td>NaN</td>\n",
       "      <td>S</td>\n",
       "    </tr>\n",
       "    <tr>\n",
       "      <th>3</th>\n",
       "      <td>4</td>\n",
       "      <td>1</td>\n",
       "      <td>1</td>\n",
       "      <td>Futrelle, Mrs. Jacques Heath (Lily May Peel)</td>\n",
       "      <td>female</td>\n",
       "      <td>35.0</td>\n",
       "      <td>1</td>\n",
       "      <td>0</td>\n",
       "      <td>113803</td>\n",
       "      <td>53.1000</td>\n",
       "      <td>C123</td>\n",
       "      <td>S</td>\n",
       "    </tr>\n",
       "    <tr>\n",
       "      <th>4</th>\n",
       "      <td>5</td>\n",
       "      <td>0</td>\n",
       "      <td>3</td>\n",
       "      <td>Allen, Mr. William Henry</td>\n",
       "      <td>male</td>\n",
       "      <td>35.0</td>\n",
       "      <td>0</td>\n",
       "      <td>0</td>\n",
       "      <td>373450</td>\n",
       "      <td>8.0500</td>\n",
       "      <td>NaN</td>\n",
       "      <td>S</td>\n",
       "    </tr>\n",
       "  </tbody>\n",
       "</table>\n",
       "</div>"
      ],
      "text/plain": [
       "   PassengerId  Survived  Pclass  \\\n",
       "0            1         0       3   \n",
       "1            2         1       1   \n",
       "2            3         1       3   \n",
       "3            4         1       1   \n",
       "4            5         0       3   \n",
       "\n",
       "                                                Name     Sex   Age  SibSp  \\\n",
       "0                            Braund, Mr. Owen Harris    male  22.0      1   \n",
       "1  Cumings, Mrs. John Bradley (Florence Briggs Th...  female  38.0      1   \n",
       "2                             Heikkinen, Miss. Laina  female  26.0      0   \n",
       "3       Futrelle, Mrs. Jacques Heath (Lily May Peel)  female  35.0      1   \n",
       "4                           Allen, Mr. William Henry    male  35.0      0   \n",
       "\n",
       "   Parch            Ticket     Fare Cabin Embarked  \n",
       "0      0         A/5 21171   7.2500   NaN        S  \n",
       "1      0          PC 17599  71.2833   C85        C  \n",
       "2      0  STON/O2. 3101282   7.9250   NaN        S  \n",
       "3      0            113803  53.1000  C123        S  \n",
       "4      0            373450   8.0500   NaN        S  "
      ]
     },
     "execution_count": 3,
     "metadata": {},
     "output_type": "execute_result"
    }
   ],
   "source": [
    "train.head()"
   ]
  },
  {
   "cell_type": "code",
   "execution_count": 4,
   "id": "neither-future",
   "metadata": {
    "execution": {
     "iopub.execute_input": "2021-05-22T07:34:18.407119Z",
     "iopub.status.busy": "2021-05-22T07:34:18.406376Z",
     "iopub.status.idle": "2021-05-22T07:34:18.409464Z",
     "shell.execute_reply": "2021-05-22T07:34:18.409894Z",
     "shell.execute_reply.started": "2021-05-22T06:25:59.914307Z"
    },
    "papermill": {
     "duration": 0.081675,
     "end_time": "2021-05-22T07:34:18.410033",
     "exception": false,
     "start_time": "2021-05-22T07:34:18.328358",
     "status": "completed"
    },
    "tags": []
   },
   "outputs": [
    {
     "data": {
      "text/plain": [
       "(891, 12)"
      ]
     },
     "execution_count": 4,
     "metadata": {},
     "output_type": "execute_result"
    }
   ],
   "source": [
    "train.shape"
   ]
  },
  {
   "cell_type": "markdown",
   "id": "dominant-pointer",
   "metadata": {
    "papermill": {
     "duration": 0.074897,
     "end_time": "2021-05-22T07:34:18.559011",
     "exception": false,
     "start_time": "2021-05-22T07:34:18.484114",
     "status": "completed"
    },
    "tags": []
   },
   "source": [
    "# Data Exploration on Train set"
   ]
  },
  {
   "cell_type": "markdown",
   "id": "looking-september",
   "metadata": {
    "papermill": {
     "duration": 0.073891,
     "end_time": "2021-05-22T07:34:18.706782",
     "exception": false,
     "start_time": "2021-05-22T07:34:18.632891",
     "status": "completed"
    },
    "tags": []
   },
   "source": [
    "Let's first check how many people survived"
   ]
  },
  {
   "cell_type": "code",
   "execution_count": 5,
   "id": "coated-pricing",
   "metadata": {
    "execution": {
     "iopub.execute_input": "2021-05-22T07:34:18.861499Z",
     "iopub.status.busy": "2021-05-22T07:34:18.860698Z",
     "iopub.status.idle": "2021-05-22T07:34:18.866048Z",
     "shell.execute_reply": "2021-05-22T07:34:18.865664Z",
     "shell.execute_reply.started": "2021-05-22T06:26:03.445916Z"
    },
    "papermill": {
     "duration": 0.085686,
     "end_time": "2021-05-22T07:34:18.866152",
     "exception": false,
     "start_time": "2021-05-22T07:34:18.780466",
     "status": "completed"
    },
    "tags": []
   },
   "outputs": [
    {
     "data": {
      "text/plain": [
       "0    549\n",
       "1    342\n",
       "Name: Survived, dtype: int64"
      ]
     },
     "execution_count": 5,
     "metadata": {},
     "output_type": "execute_result"
    }
   ],
   "source": [
    "train.Survived.value_counts()"
   ]
  },
  {
   "cell_type": "code",
   "execution_count": 6,
   "id": "otherwise-parent",
   "metadata": {
    "execution": {
     "iopub.execute_input": "2021-05-22T07:34:19.022795Z",
     "iopub.status.busy": "2021-05-22T07:34:19.022174Z",
     "iopub.status.idle": "2021-05-22T07:34:19.148012Z",
     "shell.execute_reply": "2021-05-22T07:34:19.148467Z",
     "shell.execute_reply.started": "2021-05-22T06:26:06.459119Z"
    },
    "papermill": {
     "duration": 0.208031,
     "end_time": "2021-05-22T07:34:19.148608",
     "exception": false,
     "start_time": "2021-05-22T07:34:18.940577",
     "status": "completed"
    },
    "tags": []
   },
   "outputs": [
    {
     "data": {
      "image/png": "[encoded data removed]",
      "text/plain": [
       "<Figure size 432x288 with 1 Axes>"
      ]
     },
     "metadata": {
      "needs_background": "light"
     },
     "output_type": "display_data"
    }
   ],
   "source": [
    "train.Survived.value_counts().plot(kind = 'bar', color = ['lightblue', 'lightgreen']);"
   ]
  },
  {
   "cell_type": "markdown",
   "id": "tamil-eugene",
   "metadata": {
    "papermill": {
     "duration": 0.076274,
     "end_time": "2021-05-22T07:34:19.300365",
     "exception": false,
     "start_time": "2021-05-22T07:34:19.224091",
     "status": "completed"
    },
    "tags": []
   },
   "source": [
    "Let's check how many male and female was there"
   ]
  },
  {
   "cell_type": "code",
   "execution_count": 7,
   "id": "creative-phone",
   "metadata": {
    "execution": {
     "iopub.execute_input": "2021-05-22T07:34:19.458399Z",
     "iopub.status.busy": "2021-05-22T07:34:19.457674Z",
     "iopub.status.idle": "2021-05-22T07:34:19.461086Z",
     "shell.execute_reply": "2021-05-22T07:34:19.460660Z",
     "shell.execute_reply.started": "2021-05-22T06:26:09.991509Z"
    },
    "papermill": {
     "duration": 0.085446,
     "end_time": "2021-05-22T07:34:19.461192",
     "exception": false,
     "start_time": "2021-05-22T07:34:19.375746",
     "status": "completed"
    },
    "tags": []
   },
   "outputs": [
    {
     "data": {
      "text/plain": [
       "male      577\n",
       "female    314\n",
       "Name: Sex, dtype: int64"
      ]
     },
     "execution_count": 7,
     "metadata": {},
     "output_type": "execute_result"
    }
   ],
   "source": [
    "train.Sex.value_counts()"
   ]
  },
  {
   "cell_type": "code",
   "execution_count": 8,
   "id": "single-niger",
   "metadata": {
    "execution": {
     "iopub.execute_input": "2021-05-22T07:34:19.633347Z",
     "iopub.status.busy": "2021-05-22T07:34:19.632409Z",
     "iopub.status.idle": "2021-05-22T07:34:19.715736Z",
     "shell.execute_reply": "2021-05-22T07:34:19.716110Z",
     "shell.execute_reply.started": "2021-05-22T06:26:15.035140Z"
    },
    "papermill": {
     "duration": 0.179682,
     "end_time": "2021-05-22T07:34:19.716256",
     "exception": false,
     "start_time": "2021-05-22T07:34:19.536574",
     "status": "completed"
    },
    "tags": []
   },
   "outputs": [
    {
     "data": {
      "image/png": "[encoded data removed]",
      "text/plain": [
       "<Figure size 432x288 with 1 Axes>"
      ]
     },
     "metadata": {
      "needs_background": "light"
     },
     "output_type": "display_data"
    }
   ],
   "source": [
    "train.Sex.value_counts().plot(kind = 'bar', color = ['skyblue', 'plum']);"
   ]
  },
  {
   "cell_type": "markdown",
   "id": "electronic-covering",
   "metadata": {
    "papermill": {
     "duration": 0.076266,
     "end_time": "2021-05-22T07:34:19.868269",
     "exception": false,
     "start_time": "2021-05-22T07:34:19.792003",
     "status": "completed"
    },
    "tags": []
   },
   "source": [
    "let's check out survivors w.r.t sex"
   ]
  },
  {
   "cell_type": "code",
   "execution_count": 9,
   "id": "mighty-graham",
   "metadata": {
    "execution": {
     "iopub.execute_input": "2021-05-22T07:34:20.068016Z",
     "iopub.status.busy": "2021-05-22T07:34:20.067061Z",
     "iopub.status.idle": "2021-05-22T07:34:20.116775Z",
     "shell.execute_reply": "2021-05-22T07:34:20.117800Z",
     "shell.execute_reply.started": "2021-05-22T06:26:20.669018Z"
    },
    "papermill": {
     "duration": 0.173856,
     "end_time": "2021-05-22T07:34:20.118005",
     "exception": false,
     "start_time": "2021-05-22T07:34:19.944149",
     "status": "completed"
    },
    "tags": []
   },
   "outputs": [
    {
     "data": {
      "text/html": [
       "<div>\n",
       "<style scoped>\n",
       "    .dataframe tbody tr th:only-of-type {\n",
       "        vertical-align: middle;\n",
       "    }\n",
       "\n",
       "    .dataframe tbody tr th {\n",
       "        vertical-align: top;\n",
       "    }\n",
       "\n",
       "    .dataframe thead th {\n",
       "        text-align: right;\n",
       "    }\n",
       "</style>\n",
       "<table border=\"1\" class=\"dataframe\">\n",
       "  <thead>\n",
       "    <tr style=\"text-align: right;\">\n",
       "      <th>Survived</th>\n",
       "      <th>0</th>\n",
       "      <th>1</th>\n",
       "    </tr>\n",
       "    <tr>\n",
       "      <th>Sex</th>\n",
       "      <th></th>\n",
       "      <th></th>\n",
       "    </tr>\n",
       "  </thead>\n",
       "  <tbody>\n",
       "    <tr>\n",
       "      <th>female</th>\n",
       "      <td>81</td>\n",
       "      <td>233</td>\n",
       "    </tr>\n",
       "    <tr>\n",
       "      <th>male</th>\n",
       "      <td>468</td>\n",
       "      <td>109</td>\n",
       "    </tr>\n",
       "  </tbody>\n",
       "</table>\n",
       "</div>"
      ],
      "text/plain": [
       "Survived    0    1\n",
       "Sex               \n",
       "female     81  233\n",
       "male      468  109"
      ]
     },
     "execution_count": 9,
     "metadata": {},
     "output_type": "execute_result"
    }
   ],
   "source": [
    "pd.crosstab(train.Sex, train.Survived)"
   ]
  },
  {
   "cell_type": "code",
   "execution_count": 10,
   "id": "ordinary-lender",
   "metadata": {
    "execution": {
     "iopub.execute_input": "2021-05-22T07:34:20.410661Z",
     "iopub.status.busy": "2021-05-22T07:34:20.409917Z",
     "iopub.status.idle": "2021-05-22T07:34:20.570033Z",
     "shell.execute_reply": "2021-05-22T07:34:20.569274Z",
     "shell.execute_reply.started": "2021-05-22T06:26:24.202100Z"
    },
    "papermill": {
     "duration": 0.304775,
     "end_time": "2021-05-22T07:34:20.570154",
     "exception": false,
     "start_time": "2021-05-22T07:34:20.265379",
     "status": "completed"
    },
    "tags": []
   },
   "outputs": [
    {
     "data": {
      "image/png": "[encoded data removed]",
      "text/plain": [
       "<Figure size 432x288 with 1 Axes>"
      ]
     },
     "metadata": {
      "needs_background": "light"
     },
     "output_type": "display_data"
    }
   ],
   "source": [
    "pd.crosstab(train.Sex, train.Survived).plot(kind = 'bar', color = ['slategray', 'salmon']);"
   ]
  },
  {
   "cell_type": "markdown",
   "id": "irish-helmet",
   "metadata": {
    "papermill": {
     "duration": 0.07741,
     "end_time": "2021-05-22T07:34:20.728127",
     "exception": false,
     "start_time": "2021-05-22T07:34:20.650717",
     "status": "completed"
    },
    "tags": []
   },
   "source": [
    "Survivors w.r.t pclass"
   ]
  },
  {
   "cell_type": "code",
   "execution_count": 11,
   "id": "vulnerable-stupid",
   "metadata": {
    "execution": {
     "iopub.execute_input": "2021-05-22T07:34:20.888734Z",
     "iopub.status.busy": "2021-05-22T07:34:20.887881Z",
     "iopub.status.idle": "2021-05-22T07:34:20.902469Z",
     "shell.execute_reply": "2021-05-22T07:34:20.901895Z",
     "shell.execute_reply.started": "2021-05-22T06:26:28.127427Z"
    },
    "papermill": {
     "duration": 0.097696,
     "end_time": "2021-05-22T07:34:20.902587",
     "exception": false,
     "start_time": "2021-05-22T07:34:20.804891",
     "status": "completed"
    },
    "tags": []
   },
   "outputs": [
    {
     "data": {
      "text/html": [
       "<div>\n",
       "<style scoped>\n",
       "    .dataframe tbody tr th:only-of-type {\n",
       "        vertical-align: middle;\n",
       "    }\n",
       "\n",
       "    .dataframe tbody tr th {\n",
       "        vertical-align: top;\n",
       "    }\n",
       "\n",
       "    .dataframe thead th {\n",
       "        text-align: right;\n",
       "    }\n",
       "</style>\n",
       "<table border=\"1\" class=\"dataframe\">\n",
       "  <thead>\n",
       "    <tr style=\"text-align: right;\">\n",
       "      <th>Survived</th>\n",
       "      <th>0</th>\n",
       "      <th>1</th>\n",
       "    </tr>\n",
       "    <tr>\n",
       "      <th>Pclass</th>\n",
       "      <th></th>\n",
       "      <th></th>\n",
       "    </tr>\n",
       "  </thead>\n",
       "  <tbody>\n",
       "    <tr>\n",
       "      <th>1</th>\n",
       "      <td>80</td>\n",
       "      <td>136</td>\n",
       "    </tr>\n",
       "    <tr>\n",
       "      <th>2</th>\n",
       "      <td>97</td>\n",
       "      <td>87</td>\n",
       "    </tr>\n",
       "    <tr>\n",
       "      <th>3</th>\n",
       "      <td>372</td>\n",
       "      <td>119</td>\n",
       "    </tr>\n",
       "  </tbody>\n",
       "</table>\n",
       "</div>"
      ],
      "text/plain": [
       "Survived    0    1\n",
       "Pclass            \n",
       "1          80  136\n",
       "2          97   87\n",
       "3         372  119"
      ]
     },
     "execution_count": 11,
     "metadata": {},
     "output_type": "execute_result"
    }
   ],
   "source": [
    "pd.crosstab(train.Pclass, train.Survived)"
   ]
  },
  {
   "cell_type": "code",
   "execution_count": 12,
   "id": "experienced-minneapolis",
   "metadata": {
    "execution": {
     "iopub.execute_input": "2021-05-22T07:34:21.066516Z",
     "iopub.status.busy": "2021-05-22T07:34:21.065697Z",
     "iopub.status.idle": "2021-05-22T07:34:21.203324Z",
     "shell.execute_reply": "2021-05-22T07:34:21.203693Z",
     "shell.execute_reply.started": "2021-05-22T06:26:31.299639Z"
    },
    "papermill": {
     "duration": 0.22083,
     "end_time": "2021-05-22T07:34:21.203841",
     "exception": false,
     "start_time": "2021-05-22T07:34:20.983011",
     "status": "completed"
    },
    "tags": []
   },
   "outputs": [
    {
     "data": {
      "image/png": "[encoded data removed]",
      "text/plain": [
       "<Figure size 432x288 with 1 Axes>"
      ]
     },
     "metadata": {
      "needs_background": "light"
     },
     "output_type": "display_data"
    }
   ],
   "source": [
    "pd.crosstab(train.Pclass, train.Survived).plot(kind = 'bar', color = ['slategray', 'lightcoral']);"
   ]
  },
  {
   "cell_type": "markdown",
   "id": "ahead-tract",
   "metadata": {
    "papermill": {
     "duration": 0.077249,
     "end_time": "2021-05-22T07:34:21.359562",
     "exception": false,
     "start_time": "2021-05-22T07:34:21.282313",
     "status": "completed"
    },
    "tags": []
   },
   "source": [
    "Let's check the Port of Embarkation"
   ]
  },
  {
   "cell_type": "code",
   "execution_count": 13,
   "id": "mexican-journalist",
   "metadata": {
    "execution": {
     "iopub.execute_input": "2021-05-22T07:34:21.521571Z",
     "iopub.status.busy": "2021-05-22T07:34:21.520879Z",
     "iopub.status.idle": "2021-05-22T07:34:21.524331Z",
     "shell.execute_reply": "2021-05-22T07:34:21.523899Z",
     "shell.execute_reply.started": "2021-05-22T06:26:35.956221Z"
    },
    "papermill": {
     "duration": 0.086822,
     "end_time": "2021-05-22T07:34:21.524439",
     "exception": false,
     "start_time": "2021-05-22T07:34:21.437617",
     "status": "completed"
    },
    "tags": []
   },
   "outputs": [
    {
     "data": {
      "text/plain": [
       "S    644\n",
       "C    168\n",
       "Q     77\n",
       "Name: Embarked, dtype: int64"
      ]
     },
     "execution_count": 13,
     "metadata": {},
     "output_type": "execute_result"
    }
   ],
   "source": [
    "train.Embarked.value_counts()"
   ]
  },
  {
   "cell_type": "markdown",
   "id": "automated-bouquet",
   "metadata": {
    "papermill": {
     "duration": 0.07749,
     "end_time": "2021-05-22T07:34:21.679125",
     "exception": false,
     "start_time": "2021-05-22T07:34:21.601635",
     "status": "completed"
    },
    "tags": []
   },
   "source": [
    "Let's look at our age column"
   ]
  },
  {
   "cell_type": "code",
   "execution_count": 14,
   "id": "monthly-genetics",
   "metadata": {
    "execution": {
     "iopub.execute_input": "2021-05-22T07:34:21.841268Z",
     "iopub.status.busy": "2021-05-22T07:34:21.840492Z",
     "iopub.status.idle": "2021-05-22T07:34:21.933478Z",
     "shell.execute_reply": "2021-05-22T07:34:21.933842Z",
     "shell.execute_reply.started": "2021-05-22T06:26:53.479368Z"
    },
    "papermill": {
     "duration": 0.177389,
     "end_time": "2021-05-22T07:34:21.933975",
     "exception": false,
     "start_time": "2021-05-22T07:34:21.756586",
     "status": "completed"
    },
    "tags": []
   },
   "outputs": [
    {
     "data": {
      "image/png": "[encoded data removed]",
      "text/plain": [
       "<Figure size 432x288 with 1 Axes>"
      ]
     },
     "metadata": {
      "needs_background": "light"
     },
     "output_type": "display_data"
    }
   ],
   "source": [
    "sns.countplot(x = 'Embarked', data = train);"
   ]
  },
  {
   "cell_type": "code",
   "execution_count": 15,
   "id": "utility-stevens",
   "metadata": {
    "execution": {
     "iopub.execute_input": "2021-05-22T07:34:22.135571Z",
     "iopub.status.busy": "2021-05-22T07:34:22.134895Z",
     "iopub.status.idle": "2021-05-22T07:34:22.385669Z",
     "shell.execute_reply": "2021-05-22T07:34:22.384938Z",
     "shell.execute_reply.started": "2021-05-22T06:26:44.908388Z"
    },
    "papermill": {
     "duration": 0.373357,
     "end_time": "2021-05-22T07:34:22.385790",
     "exception": false,
     "start_time": "2021-05-22T07:34:22.012433",
     "status": "completed"
    },
    "tags": []
   },
   "outputs": [
    {
     "data": {
      "image/png": "[encoded data removed]",
      "text/plain": [
       "<Figure size 360x360 with 1 Axes>"
      ]
     },
     "metadata": {
      "needs_background": "light"
     },
     "output_type": "display_data"
    }
   ],
   "source": [
    "sns.displot(x = 'Age', data = train, color = 'cadetblue', kde = True);"
   ]
  },
  {
   "cell_type": "code",
   "execution_count": 16,
   "id": "simple-ecology",
   "metadata": {
    "execution": {
     "iopub.execute_input": "2021-05-22T07:34:22.569186Z",
     "iopub.status.busy": "2021-05-22T07:34:22.568407Z",
     "iopub.status.idle": "2021-05-22T07:34:22.786085Z",
     "shell.execute_reply": "2021-05-22T07:34:22.786710Z",
     "shell.execute_reply.started": "2021-05-22T06:27:00.410596Z"
    },
    "papermill": {
     "duration": 0.320409,
     "end_time": "2021-05-22T07:34:22.786861",
     "exception": false,
     "start_time": "2021-05-22T07:34:22.466452",
     "status": "completed"
    },
    "tags": []
   },
   "outputs": [
    {
     "data": {
      "image/png": "[encoded data removed]",
      "text/plain": [
       "<Figure size 360x360 with 1 Axes>"
      ]
     },
     "metadata": {
      "needs_background": "light"
     },
     "output_type": "display_data"
    }
   ],
   "source": [
    "sns.displot(x = 'Fare', data = train, kind = 'kde');"
   ]
  },
  {
   "cell_type": "markdown",
   "id": "coral-ceiling",
   "metadata": {
    "papermill": {
     "duration": 0.079919,
     "end_time": "2021-05-22T07:34:22.947473",
     "exception": false,
     "start_time": "2021-05-22T07:34:22.867554",
     "status": "completed"
    },
    "tags": []
   },
   "source": [
    "Let's now find a relation among age, survived and pclass columns"
   ]
  },
  {
   "cell_type": "code",
   "execution_count": 17,
   "id": "swiss-indie",
   "metadata": {
    "execution": {
     "iopub.execute_input": "2021-05-22T07:34:23.116355Z",
     "iopub.status.busy": "2021-05-22T07:34:23.115520Z",
     "iopub.status.idle": "2021-05-22T07:34:23.953317Z",
     "shell.execute_reply": "2021-05-22T07:34:23.953781Z",
     "shell.execute_reply.started": "2021-05-22T06:27:03.248580Z"
    },
    "papermill": {
     "duration": 0.925638,
     "end_time": "2021-05-22T07:34:23.953938",
     "exception": false,
     "start_time": "2021-05-22T07:34:23.028300",
     "status": "completed"
    },
    "tags": []
   },
   "outputs": [
    {
     "data": {
      "image/png": "[encoded data removed]",
      "text/plain": [
       "<Figure size 402.375x360 with 1 Axes>"
      ]
     },
     "metadata": {
      "needs_background": "light"
     },
     "output_type": "display_data"
    }
   ],
   "source": [
    "sns.lmplot(x = 'Age', y = 'Survived', hue = 'Pclass', data = train);"
   ]
  },
  {
   "cell_type": "code",
   "execution_count": 18,
   "id": "wrong-frame",
   "metadata": {
    "execution": {
     "iopub.execute_input": "2021-05-22T07:34:24.126402Z",
     "iopub.status.busy": "2021-05-22T07:34:24.125596Z",
     "iopub.status.idle": "2021-05-22T07:34:24.581074Z",
     "shell.execute_reply": "2021-05-22T07:34:24.580655Z",
     "shell.execute_reply.started": "2021-05-22T06:27:10.097824Z"
    },
    "papermill": {
     "duration": 0.54129,
     "end_time": "2021-05-22T07:34:24.581193",
     "exception": false,
     "start_time": "2021-05-22T07:34:24.039903",
     "status": "completed"
    },
    "tags": []
   },
   "outputs": [
    {
     "data": {
      "image/png": "[encoded data removed]",
      "text/plain": [
       "<Figure size 1080x720 with 2 Axes>"
      ]
     },
     "metadata": {
      "needs_background": "light"
     },
     "output_type": "display_data"
    }
   ],
   "source": [
    "correlation_matrix = train.corr()\n",
    "plt.figure(figsize=(15, 10))\n",
    "sns.heatmap(correlation_matrix, \n",
    "            annot=True, \n",
    "            linewidths=0.5, \n",
    "            fmt= \".2f\", \n",
    "            cmap=\"YlGnBu\");"
   ]
  },
  {
   "cell_type": "markdown",
   "id": "specific-estonia",
   "metadata": {
    "papermill": {
     "duration": 0.082156,
     "end_time": "2021-05-22T07:34:24.746547",
     "exception": false,
     "start_time": "2021-05-22T07:34:24.664391",
     "status": "completed"
    },
    "tags": []
   },
   "source": [
    "# Preparing data to train Model"
   ]
  },
  {
   "cell_type": "markdown",
   "id": "caroline-princeton",
   "metadata": {
    "papermill": {
     "duration": 0.128853,
     "end_time": "2021-05-22T07:34:25.057042",
     "exception": false,
     "start_time": "2021-05-22T07:34:24.928189",
     "status": "completed"
    },
    "tags": []
   },
   "source": [
    "Removing columns that we don't need"
   ]
  },
  {
   "cell_type": "code",
   "execution_count": 19,
   "id": "grave-dragon",
   "metadata": {
    "execution": {
     "iopub.execute_input": "2021-05-22T07:34:25.331143Z",
     "iopub.status.busy": "2021-05-22T07:34:25.330305Z",
     "iopub.status.idle": "2021-05-22T07:34:25.332472Z",
     "shell.execute_reply": "2021-05-22T07:34:25.331847Z",
     "shell.execute_reply.started": "2021-05-22T06:27:21.988327Z"
    },
    "papermill": {
     "duration": 0.146253,
     "end_time": "2021-05-22T07:34:25.332621",
     "exception": false,
     "start_time": "2021-05-22T07:34:25.186368",
     "status": "completed"
    },
    "tags": []
   },
   "outputs": [],
   "source": [
    "new_train = train.drop(['PassengerId', 'Name', 'Ticket', 'Cabin'], axis = 1)"
   ]
  },
  {
   "cell_type": "code",
   "execution_count": 20,
   "id": "iraqi-start",
   "metadata": {
    "execution": {
     "iopub.execute_input": "2021-05-22T07:34:25.612080Z",
     "iopub.status.busy": "2021-05-22T07:34:25.611332Z",
     "iopub.status.idle": "2021-05-22T07:34:25.622310Z",
     "shell.execute_reply": "2021-05-22T07:34:25.623277Z",
     "shell.execute_reply.started": "2021-05-22T06:27:25.925403Z"
    },
    "papermill": {
     "duration": 0.156357,
     "end_time": "2021-05-22T07:34:25.623468",
     "exception": false,
     "start_time": "2021-05-22T07:34:25.467111",
     "status": "completed"
    },
    "tags": []
   },
   "outputs": [
    {
     "data": {
      "text/html": [
       "<div>\n",
       "<style scoped>\n",
       "    .dataframe tbody tr th:only-of-type {\n",
       "        vertical-align: middle;\n",
       "    }\n",
       "\n",
       "    .dataframe tbody tr th {\n",
       "        vertical-align: top;\n",
       "    }\n",
       "\n",
       "    .dataframe thead th {\n",
       "        text-align: right;\n",
       "    }\n",
       "</style>\n",
       "<table border=\"1\" class=\"dataframe\">\n",
       "  <thead>\n",
       "    <tr style=\"text-align: right;\">\n",
       "      <th></th>\n",
       "      <th>Survived</th>\n",
       "      <th>Pclass</th>\n",
       "      <th>Sex</th>\n",
       "      <th>Age</th>\n",
       "      <th>SibSp</th>\n",
       "      <th>Parch</th>\n",
       "      <th>Fare</th>\n",
       "      <th>Embarked</th>\n",
       "    </tr>\n",
       "  </thead>\n",
       "  <tbody>\n",
       "    <tr>\n",
       "      <th>0</th>\n",
       "      <td>0</td>\n",
       "      <td>3</td>\n",
       "      <td>male</td>\n",
       "      <td>22.0</td>\n",
       "      <td>1</td>\n",
       "      <td>0</td>\n",
       "      <td>7.2500</td>\n",
       "      <td>S</td>\n",
       "    </tr>\n",
       "    <tr>\n",
       "      <th>1</th>\n",
       "      <td>1</td>\n",
       "      <td>1</td>\n",
       "      <td>female</td>\n",
       "      <td>38.0</td>\n",
       "      <td>1</td>\n",
       "      <td>0</td>\n",
       "      <td>71.2833</td>\n",
       "      <td>C</td>\n",
       "    </tr>\n",
       "    <tr>\n",
       "      <th>2</th>\n",
       "      <td>1</td>\n",
       "      <td>3</td>\n",
       "      <td>female</td>\n",
       "      <td>26.0</td>\n",
       "      <td>0</td>\n",
       "      <td>0</td>\n",
       "      <td>7.9250</td>\n",
       "      <td>S</td>\n",
       "    </tr>\n",
       "    <tr>\n",
       "      <th>3</th>\n",
       "      <td>1</td>\n",
       "      <td>1</td>\n",
       "      <td>female</td>\n",
       "      <td>35.0</td>\n",
       "      <td>1</td>\n",
       "      <td>0</td>\n",
       "      <td>53.1000</td>\n",
       "      <td>S</td>\n",
       "    </tr>\n",
       "    <tr>\n",
       "      <th>4</th>\n",
       "      <td>0</td>\n",
       "      <td>3</td>\n",
       "      <td>male</td>\n",
       "      <td>35.0</td>\n",
       "      <td>0</td>\n",
       "      <td>0</td>\n",
       "      <td>8.0500</td>\n",
       "      <td>S</td>\n",
       "    </tr>\n",
       "  </tbody>\n",
       "</table>\n",
       "</div>"
      ],
      "text/plain": [
       "   Survived  Pclass     Sex   Age  SibSp  Parch     Fare Embarked\n",
       "0         0       3    male  22.0      1      0   7.2500        S\n",
       "1         1       1  female  38.0      1      0  71.2833        C\n",
       "2         1       3  female  26.0      0      0   7.9250        S\n",
       "3         1       1  female  35.0      1      0  53.1000        S\n",
       "4         0       3    male  35.0      0      0   8.0500        S"
      ]
     },
     "execution_count": 20,
     "metadata": {},
     "output_type": "execute_result"
    }
   ],
   "source": [
    "new_train.head()"
   ]
  },
  {
   "cell_type": "code",
   "execution_count": 21,
   "id": "active-correction",
   "metadata": {
    "execution": {
     "iopub.execute_input": "2021-05-22T07:34:25.881302Z",
     "iopub.status.busy": "2021-05-22T07:34:25.880601Z",
     "iopub.status.idle": "2021-05-22T07:34:25.883972Z",
     "shell.execute_reply": "2021-05-22T07:34:25.883578Z",
     "shell.execute_reply.started": "2021-05-22T06:27:32.307640Z"
    },
    "papermill": {
     "duration": 0.122129,
     "end_time": "2021-05-22T07:34:25.884081",
     "exception": false,
     "start_time": "2021-05-22T07:34:25.761952",
     "status": "completed"
    },
    "tags": []
   },
   "outputs": [
    {
     "data": {
      "text/plain": [
       "(891, 8)"
      ]
     },
     "execution_count": 21,
     "metadata": {},
     "output_type": "execute_result"
    }
   ],
   "source": [
    "new_train.shape"
   ]
  },
  {
   "cell_type": "markdown",
   "id": "discrete-morris",
   "metadata": {
    "papermill": {
     "duration": 0.082494,
     "end_time": "2021-05-22T07:34:26.050225",
     "exception": false,
     "start_time": "2021-05-22T07:34:25.967731",
     "status": "completed"
    },
    "tags": []
   },
   "source": [
    "Checking for null values in dataset"
   ]
  },
  {
   "cell_type": "code",
   "execution_count": 22,
   "id": "demonstrated-opening",
   "metadata": {
    "execution": {
     "iopub.execute_input": "2021-05-22T07:34:26.224575Z",
     "iopub.status.busy": "2021-05-22T07:34:26.223883Z",
     "iopub.status.idle": "2021-05-22T07:34:26.227024Z",
     "shell.execute_reply": "2021-05-22T07:34:26.227527Z",
     "shell.execute_reply.started": "2021-05-22T06:27:38.949127Z"
    },
    "papermill": {
     "duration": 0.093335,
     "end_time": "2021-05-22T07:34:26.227655",
     "exception": false,
     "start_time": "2021-05-22T07:34:26.134320",
     "status": "completed"
    },
    "tags": []
   },
   "outputs": [
    {
     "data": {
      "text/plain": [
       "Survived      0\n",
       "Pclass        0\n",
       "Sex           0\n",
       "Age         177\n",
       "SibSp         0\n",
       "Parch         0\n",
       "Fare          0\n",
       "Embarked      2\n",
       "dtype: int64"
      ]
     },
     "execution_count": 22,
     "metadata": {},
     "output_type": "execute_result"
    }
   ],
   "source": [
    "new_train.isna().sum()"
   ]
  },
  {
   "cell_type": "markdown",
   "id": "measured-lawyer",
   "metadata": {
    "papermill": {
     "duration": 0.082976,
     "end_time": "2021-05-22T07:34:26.393631",
     "exception": false,
     "start_time": "2021-05-22T07:34:26.310655",
     "status": "completed"
    },
    "tags": []
   },
   "source": [
    "We have null values in two columns. Let's take care of this problem"
   ]
  },
  {
   "cell_type": "markdown",
   "id": "olive-headquarters",
   "metadata": {
    "papermill": {
     "duration": 0.082899,
     "end_time": "2021-05-22T07:34:26.561890",
     "exception": false,
     "start_time": "2021-05-22T07:34:26.478991",
     "status": "completed"
    },
    "tags": []
   },
   "source": [
    "Filling the null values of age columns with the mean values"
   ]
  },
  {
   "cell_type": "code",
   "execution_count": 23,
   "id": "certified-motion",
   "metadata": {
    "execution": {
     "iopub.execute_input": "2021-05-22T07:34:26.733534Z",
     "iopub.status.busy": "2021-05-22T07:34:26.732697Z",
     "iopub.status.idle": "2021-05-22T07:34:26.736534Z",
     "shell.execute_reply": "2021-05-22T07:34:26.736113Z",
     "shell.execute_reply.started": "2021-05-22T06:27:44.015926Z"
    },
    "papermill": {
     "duration": 0.091708,
     "end_time": "2021-05-22T07:34:26.736645",
     "exception": false,
     "start_time": "2021-05-22T07:34:26.644937",
     "status": "completed"
    },
    "tags": []
   },
   "outputs": [],
   "source": [
    "new_train['Age'].fillna(new_train['Age'].mean(), inplace = True)"
   ]
  },
  {
   "cell_type": "markdown",
   "id": "intermediate-provincial",
   "metadata": {
    "papermill": {
     "duration": 0.083061,
     "end_time": "2021-05-22T07:34:26.903367",
     "exception": false,
     "start_time": "2021-05-22T07:34:26.820306",
     "status": "completed"
    },
    "tags": []
   },
   "source": [
    "Now we have to take care of null values of Embarked column"
   ]
  },
  {
   "cell_type": "markdown",
   "id": "inside-utility",
   "metadata": {
    "papermill": {
     "duration": 0.083718,
     "end_time": "2021-05-22T07:34:27.069983",
     "exception": false,
     "start_time": "2021-05-22T07:34:26.986265",
     "status": "completed"
    },
    "tags": []
   },
   "source": [
    "Let's first check which embarkation port we have most in our dataset."
   ]
  },
  {
   "cell_type": "code",
   "execution_count": 24,
   "id": "vulnerable-justice",
   "metadata": {
    "execution": {
     "iopub.execute_input": "2021-05-22T07:34:27.244816Z",
     "iopub.status.busy": "2021-05-22T07:34:27.244079Z",
     "iopub.status.idle": "2021-05-22T07:34:27.247141Z",
     "shell.execute_reply": "2021-05-22T07:34:27.247607Z",
     "shell.execute_reply.started": "2021-05-22T06:27:49.829890Z"
    },
    "papermill": {
     "duration": 0.093376,
     "end_time": "2021-05-22T07:34:27.247733",
     "exception": false,
     "start_time": "2021-05-22T07:34:27.154357",
     "status": "completed"
    },
    "tags": []
   },
   "outputs": [
    {
     "data": {
      "text/plain": [
       "S    644\n",
       "C    168\n",
       "Q     77\n",
       "Name: Embarked, dtype: int64"
      ]
     },
     "execution_count": 24,
     "metadata": {},
     "output_type": "execute_result"
    }
   ],
   "source": [
    "new_train.Embarked.value_counts()"
   ]
  },
  {
   "cell_type": "markdown",
   "id": "interior-journalist",
   "metadata": {
    "papermill": {
     "duration": 0.08259,
     "end_time": "2021-05-22T07:34:27.413248",
     "exception": false,
     "start_time": "2021-05-22T07:34:27.330658",
     "status": "completed"
    },
    "tags": []
   },
   "source": [
    "`Southampton` is the top port of embarkation. So we are fill the null values with `S`"
   ]
  },
  {
   "cell_type": "code",
   "execution_count": 25,
   "id": "empirical-personal",
   "metadata": {
    "execution": {
     "iopub.execute_input": "2021-05-22T07:34:27.589336Z",
     "iopub.status.busy": "2021-05-22T07:34:27.588576Z",
     "iopub.status.idle": "2021-05-22T07:34:27.591312Z",
     "shell.execute_reply": "2021-05-22T07:34:27.590879Z",
     "shell.execute_reply.started": "2021-05-22T06:27:54.569258Z"
    },
    "papermill": {
     "duration": 0.094136,
     "end_time": "2021-05-22T07:34:27.591426",
     "exception": false,
     "start_time": "2021-05-22T07:34:27.497290",
     "status": "completed"
    },
    "tags": []
   },
   "outputs": [],
   "source": [
    "new_train['Embarked'].fillna('S', inplace = True)"
   ]
  },
  {
   "cell_type": "markdown",
   "id": "alpha-graphics",
   "metadata": {
    "papermill": {
     "duration": 0.083178,
     "end_time": "2021-05-22T07:34:27.757291",
     "exception": false,
     "start_time": "2021-05-22T07:34:27.674113",
     "status": "completed"
    },
    "tags": []
   },
   "source": [
    "Let's check again for null values"
   ]
  },
  {
   "cell_type": "code",
   "execution_count": 26,
   "id": "balanced-lover",
   "metadata": {
    "execution": {
     "iopub.execute_input": "2021-05-22T07:34:27.931619Z",
     "iopub.status.busy": "2021-05-22T07:34:27.930802Z",
     "iopub.status.idle": "2021-05-22T07:34:27.934566Z",
     "shell.execute_reply": "2021-05-22T07:34:27.934151Z",
     "shell.execute_reply.started": "2021-05-22T06:27:57.982173Z"
    },
    "papermill": {
     "duration": 0.093438,
     "end_time": "2021-05-22T07:34:27.934673",
     "exception": false,
     "start_time": "2021-05-22T07:34:27.841235",
     "status": "completed"
    },
    "tags": []
   },
   "outputs": [
    {
     "data": {
      "text/plain": [
       "Survived    0\n",
       "Pclass      0\n",
       "Sex         0\n",
       "Age         0\n",
       "SibSp       0\n",
       "Parch       0\n",
       "Fare        0\n",
       "Embarked    0\n",
       "dtype: int64"
      ]
     },
     "execution_count": 26,
     "metadata": {},
     "output_type": "execute_result"
    }
   ],
   "source": [
    "new_train.isna().sum()"
   ]
  },
  {
   "cell_type": "markdown",
   "id": "excess-creek",
   "metadata": {
    "papermill": {
     "duration": 0.084693,
     "end_time": "2021-05-22T07:34:28.111647",
     "exception": false,
     "start_time": "2021-05-22T07:34:28.026954",
     "status": "completed"
    },
    "tags": []
   },
   "source": [
    "**Nice!**\n",
    "\n",
    "We don't any null values now"
   ]
  },
  {
   "cell_type": "markdown",
   "id": "split-immunology",
   "metadata": {
    "papermill": {
     "duration": 0.085127,
     "end_time": "2021-05-22T07:34:28.281154",
     "exception": false,
     "start_time": "2021-05-22T07:34:28.196027",
     "status": "completed"
    },
    "tags": []
   },
   "source": [
    "Let's create x and y matrix of features"
   ]
  },
  {
   "cell_type": "code",
   "execution_count": 27,
   "id": "adult-arrival",
   "metadata": {
    "execution": {
     "iopub.execute_input": "2021-05-22T07:34:28.455906Z",
     "iopub.status.busy": "2021-05-22T07:34:28.455099Z",
     "iopub.status.idle": "2021-05-22T07:34:28.457767Z",
     "shell.execute_reply": "2021-05-22T07:34:28.457318Z",
     "shell.execute_reply.started": "2021-05-22T06:28:02.806114Z"
    },
    "papermill": {
     "duration": 0.092035,
     "end_time": "2021-05-22T07:34:28.457882",
     "exception": false,
     "start_time": "2021-05-22T07:34:28.365847",
     "status": "completed"
    },
    "tags": []
   },
   "outputs": [],
   "source": [
    "x = new_train.drop('Survived',  axis = 1)\n",
    "y = new_train['Survived']"
   ]
  },
  {
   "cell_type": "code",
   "execution_count": 28,
   "id": "bronze-accent",
   "metadata": {
    "execution": {
     "iopub.execute_input": "2021-05-22T07:34:28.629094Z",
     "iopub.status.busy": "2021-05-22T07:34:28.628392Z",
     "iopub.status.idle": "2021-05-22T07:34:28.631803Z",
     "shell.execute_reply": "2021-05-22T07:34:28.631417Z",
     "shell.execute_reply.started": "2021-05-22T06:28:06.843683Z"
    },
    "papermill": {
     "duration": 0.090437,
     "end_time": "2021-05-22T07:34:28.631918",
     "exception": false,
     "start_time": "2021-05-22T07:34:28.541481",
     "status": "completed"
    },
    "tags": []
   },
   "outputs": [
    {
     "data": {
      "text/plain": [
       "(891, 7)"
      ]
     },
     "execution_count": 28,
     "metadata": {},
     "output_type": "execute_result"
    }
   ],
   "source": [
    "x.shape"
   ]
  },
  {
   "cell_type": "code",
   "execution_count": 29,
   "id": "embedded-tracy",
   "metadata": {
    "execution": {
     "iopub.execute_input": "2021-05-22T07:34:28.809441Z",
     "iopub.status.busy": "2021-05-22T07:34:28.808625Z",
     "iopub.status.idle": "2021-05-22T07:34:28.812025Z",
     "shell.execute_reply": "2021-05-22T07:34:28.812518Z",
     "shell.execute_reply.started": "2021-05-22T06:28:12.380643Z"
    },
    "papermill": {
     "duration": 0.097109,
     "end_time": "2021-05-22T07:34:28.812639",
     "exception": false,
     "start_time": "2021-05-22T07:34:28.715530",
     "status": "completed"
    },
    "tags": []
   },
   "outputs": [
    {
     "data": {
      "text/html": [
       "<div>\n",
       "<style scoped>\n",
       "    .dataframe tbody tr th:only-of-type {\n",
       "        vertical-align: middle;\n",
       "    }\n",
       "\n",
       "    .dataframe tbody tr th {\n",
       "        vertical-align: top;\n",
       "    }\n",
       "\n",
       "    .dataframe thead th {\n",
       "        text-align: right;\n",
       "    }\n",
       "</style>\n",
       "<table border=\"1\" class=\"dataframe\">\n",
       "  <thead>\n",
       "    <tr style=\"text-align: right;\">\n",
       "      <th></th>\n",
       "      <th>Pclass</th>\n",
       "      <th>Sex</th>\n",
       "      <th>Age</th>\n",
       "      <th>SibSp</th>\n",
       "      <th>Parch</th>\n",
       "      <th>Fare</th>\n",
       "      <th>Embarked</th>\n",
       "    </tr>\n",
       "  </thead>\n",
       "  <tbody>\n",
       "    <tr>\n",
       "      <th>0</th>\n",
       "      <td>3</td>\n",
       "      <td>male</td>\n",
       "      <td>22.0</td>\n",
       "      <td>1</td>\n",
       "      <td>0</td>\n",
       "      <td>7.2500</td>\n",
       "      <td>S</td>\n",
       "    </tr>\n",
       "    <tr>\n",
       "      <th>1</th>\n",
       "      <td>1</td>\n",
       "      <td>female</td>\n",
       "      <td>38.0</td>\n",
       "      <td>1</td>\n",
       "      <td>0</td>\n",
       "      <td>71.2833</td>\n",
       "      <td>C</td>\n",
       "    </tr>\n",
       "    <tr>\n",
       "      <th>2</th>\n",
       "      <td>3</td>\n",
       "      <td>female</td>\n",
       "      <td>26.0</td>\n",
       "      <td>0</td>\n",
       "      <td>0</td>\n",
       "      <td>7.9250</td>\n",
       "      <td>S</td>\n",
       "    </tr>\n",
       "    <tr>\n",
       "      <th>3</th>\n",
       "      <td>1</td>\n",
       "      <td>female</td>\n",
       "      <td>35.0</td>\n",
       "      <td>1</td>\n",
       "      <td>0</td>\n",
       "      <td>53.1000</td>\n",
       "      <td>S</td>\n",
       "    </tr>\n",
       "    <tr>\n",
       "      <th>4</th>\n",
       "      <td>3</td>\n",
       "      <td>male</td>\n",
       "      <td>35.0</td>\n",
       "      <td>0</td>\n",
       "      <td>0</td>\n",
       "      <td>8.0500</td>\n",
       "      <td>S</td>\n",
       "    </tr>\n",
       "  </tbody>\n",
       "</table>\n",
       "</div>"
      ],
      "text/plain": [
       "   Pclass     Sex   Age  SibSp  Parch     Fare Embarked\n",
       "0       3    male  22.0      1      0   7.2500        S\n",
       "1       1  female  38.0      1      0  71.2833        C\n",
       "2       3  female  26.0      0      0   7.9250        S\n",
       "3       1  female  35.0      1      0  53.1000        S\n",
       "4       3    male  35.0      0      0   8.0500        S"
      ]
     },
     "execution_count": 29,
     "metadata": {},
     "output_type": "execute_result"
    }
   ],
   "source": [
    "x.head()"
   ]
  },
  {
   "cell_type": "markdown",
   "id": "dominant-language",
   "metadata": {
    "papermill": {
     "duration": 0.084483,
     "end_time": "2021-05-22T07:34:28.982792",
     "exception": false,
     "start_time": "2021-05-22T07:34:28.898309",
     "status": "completed"
    },
    "tags": []
   },
   "source": [
    "We have two `categorical` columns. Let's take care of them now."
   ]
  },
  {
   "cell_type": "code",
   "execution_count": 30,
   "id": "racial-virtue",
   "metadata": {
    "execution": {
     "iopub.execute_input": "2021-05-22T07:34:29.158287Z",
     "iopub.status.busy": "2021-05-22T07:34:29.157583Z",
     "iopub.status.idle": "2021-05-22T07:34:29.266195Z",
     "shell.execute_reply": "2021-05-22T07:34:29.266595Z",
     "shell.execute_reply.started": "2021-05-22T06:31:06.393367Z"
    },
    "papermill": {
     "duration": 0.198509,
     "end_time": "2021-05-22T07:34:29.266740",
     "exception": false,
     "start_time": "2021-05-22T07:34:29.068231",
     "status": "completed"
    },
    "tags": []
   },
   "outputs": [],
   "source": [
    "from sklearn.preprocessing import OneHotEncoder\n",
    "from sklearn.compose import ColumnTransformer\n",
    "\n",
    "categorical_features = ['Sex', 'Embarked']\n",
    "onehotencode = OneHotEncoder()\n",
    "\n",
    "transformer = ColumnTransformer([('Encoder', onehotencode, categorical_features)], remainder = 'passthrough')\n",
    "\n",
    "encoded = transformer.fit_transform(x)"
   ]
  },
  {
   "cell_type": "code",
   "execution_count": 31,
   "id": "formal-string",
   "metadata": {
    "execution": {
     "iopub.execute_input": "2021-05-22T07:34:29.440074Z",
     "iopub.status.busy": "2021-05-22T07:34:29.439297Z",
     "iopub.status.idle": "2021-05-22T07:34:29.441553Z",
     "shell.execute_reply": "2021-05-22T07:34:29.441911Z",
     "shell.execute_reply.started": "2021-05-22T06:31:21.545870Z"
    },
    "papermill": {
     "duration": 0.090057,
     "end_time": "2021-05-22T07:34:29.442040",
     "exception": false,
     "start_time": "2021-05-22T07:34:29.351983",
     "status": "completed"
    },
    "tags": []
   },
   "outputs": [],
   "source": [
    "encoded_df = pd.DataFrame(encoded)"
   ]
  },
  {
   "cell_type": "code",
   "execution_count": 32,
   "id": "arctic-community",
   "metadata": {
    "execution": {
     "iopub.execute_input": "2021-05-22T07:34:29.616162Z",
     "iopub.status.busy": "2021-05-22T07:34:29.615489Z",
     "iopub.status.idle": "2021-05-22T07:34:29.618527Z",
     "shell.execute_reply": "2021-05-22T07:34:29.618955Z",
     "shell.execute_reply.started": "2021-05-22T06:35:27.010952Z"
    },
    "papermill": {
     "duration": 0.091019,
     "end_time": "2021-05-22T07:34:29.619077",
     "exception": false,
     "start_time": "2021-05-22T07:34:29.528058",
     "status": "completed"
    },
    "tags": []
   },
   "outputs": [
    {
     "data": {
      "text/plain": [
       "(891, 10)"
      ]
     },
     "execution_count": 32,
     "metadata": {},
     "output_type": "execute_result"
    }
   ],
   "source": [
    "encoded_df.shape"
   ]
  },
  {
   "cell_type": "code",
   "execution_count": 33,
   "id": "premier-bennett",
   "metadata": {
    "execution": {
     "iopub.execute_input": "2021-05-22T07:34:29.802763Z",
     "iopub.status.busy": "2021-05-22T07:34:29.802008Z",
     "iopub.status.idle": "2021-05-22T07:34:29.805413Z",
     "shell.execute_reply": "2021-05-22T07:34:29.805869Z",
     "shell.execute_reply.started": "2021-05-22T06:31:34.564182Z"
    },
    "papermill": {
     "duration": 0.101492,
     "end_time": "2021-05-22T07:34:29.805996",
     "exception": false,
     "start_time": "2021-05-22T07:34:29.704504",
     "status": "completed"
    },
    "tags": []
   },
   "outputs": [
    {
     "data": {
      "text/html": [
       "<div>\n",
       "<style scoped>\n",
       "    .dataframe tbody tr th:only-of-type {\n",
       "        vertical-align: middle;\n",
       "    }\n",
       "\n",
       "    .dataframe tbody tr th {\n",
       "        vertical-align: top;\n",
       "    }\n",
       "\n",
       "    .dataframe thead th {\n",
       "        text-align: right;\n",
       "    }\n",
       "</style>\n",
       "<table border=\"1\" class=\"dataframe\">\n",
       "  <thead>\n",
       "    <tr style=\"text-align: right;\">\n",
       "      <th></th>\n",
       "      <th>0</th>\n",
       "      <th>1</th>\n",
       "      <th>2</th>\n",
       "      <th>3</th>\n",
       "      <th>4</th>\n",
       "      <th>5</th>\n",
       "      <th>6</th>\n",
       "      <th>7</th>\n",
       "      <th>8</th>\n",
       "      <th>9</th>\n",
       "    </tr>\n",
       "  </thead>\n",
       "  <tbody>\n",
       "    <tr>\n",
       "      <th>0</th>\n",
       "      <td>0.0</td>\n",
       "      <td>1.0</td>\n",
       "      <td>0.0</td>\n",
       "      <td>0.0</td>\n",
       "      <td>1.0</td>\n",
       "      <td>3.0</td>\n",
       "      <td>22.0</td>\n",
       "      <td>1.0</td>\n",
       "      <td>0.0</td>\n",
       "      <td>7.2500</td>\n",
       "    </tr>\n",
       "    <tr>\n",
       "      <th>1</th>\n",
       "      <td>1.0</td>\n",
       "      <td>0.0</td>\n",
       "      <td>1.0</td>\n",
       "      <td>0.0</td>\n",
       "      <td>0.0</td>\n",
       "      <td>1.0</td>\n",
       "      <td>38.0</td>\n",
       "      <td>1.0</td>\n",
       "      <td>0.0</td>\n",
       "      <td>71.2833</td>\n",
       "    </tr>\n",
       "    <tr>\n",
       "      <th>2</th>\n",
       "      <td>1.0</td>\n",
       "      <td>0.0</td>\n",
       "      <td>0.0</td>\n",
       "      <td>0.0</td>\n",
       "      <td>1.0</td>\n",
       "      <td>3.0</td>\n",
       "      <td>26.0</td>\n",
       "      <td>0.0</td>\n",
       "      <td>0.0</td>\n",
       "      <td>7.9250</td>\n",
       "    </tr>\n",
       "    <tr>\n",
       "      <th>3</th>\n",
       "      <td>1.0</td>\n",
       "      <td>0.0</td>\n",
       "      <td>0.0</td>\n",
       "      <td>0.0</td>\n",
       "      <td>1.0</td>\n",
       "      <td>1.0</td>\n",
       "      <td>35.0</td>\n",
       "      <td>1.0</td>\n",
       "      <td>0.0</td>\n",
       "      <td>53.1000</td>\n",
       "    </tr>\n",
       "    <tr>\n",
       "      <th>4</th>\n",
       "      <td>0.0</td>\n",
       "      <td>1.0</td>\n",
       "      <td>0.0</td>\n",
       "      <td>0.0</td>\n",
       "      <td>1.0</td>\n",
       "      <td>3.0</td>\n",
       "      <td>35.0</td>\n",
       "      <td>0.0</td>\n",
       "      <td>0.0</td>\n",
       "      <td>8.0500</td>\n",
       "    </tr>\n",
       "  </tbody>\n",
       "</table>\n",
       "</div>"
      ],
      "text/plain": [
       "     0    1    2    3    4    5     6    7    8        9\n",
       "0  0.0  1.0  0.0  0.0  1.0  3.0  22.0  1.0  0.0   7.2500\n",
       "1  1.0  0.0  1.0  0.0  0.0  1.0  38.0  1.0  0.0  71.2833\n",
       "2  1.0  0.0  0.0  0.0  1.0  3.0  26.0  0.0  0.0   7.9250\n",
       "3  1.0  0.0  0.0  0.0  1.0  1.0  35.0  1.0  0.0  53.1000\n",
       "4  0.0  1.0  0.0  0.0  1.0  3.0  35.0  0.0  0.0   8.0500"
      ]
     },
     "execution_count": 33,
     "metadata": {},
     "output_type": "execute_result"
    }
   ],
   "source": [
    "encoded_df.head()"
   ]
  },
  {
   "cell_type": "code",
   "execution_count": 34,
   "id": "ranking-manual",
   "metadata": {
    "execution": {
     "iopub.execute_input": "2021-05-22T07:34:29.989514Z",
     "iopub.status.busy": "2021-05-22T07:34:29.988878Z",
     "iopub.status.idle": "2021-05-22T07:34:29.992428Z",
     "shell.execute_reply": "2021-05-22T07:34:29.991902Z",
     "shell.execute_reply.started": "2021-05-22T06:31:41.979820Z"
    },
    "papermill": {
     "duration": 0.097626,
     "end_time": "2021-05-22T07:34:29.992540",
     "exception": false,
     "start_time": "2021-05-22T07:34:29.894914",
     "status": "completed"
    },
    "tags": []
   },
   "outputs": [
    {
     "data": {
      "text/plain": [
       "(891, 10)"
      ]
     },
     "execution_count": 34,
     "metadata": {},
     "output_type": "execute_result"
    }
   ],
   "source": [
    "encoded_df.shape"
   ]
  },
  {
   "cell_type": "markdown",
   "id": "coupled-blogger",
   "metadata": {
    "papermill": {
     "duration": 0.088757,
     "end_time": "2021-05-22T07:34:30.168923",
     "exception": false,
     "start_time": "2021-05-22T07:34:30.080166",
     "status": "completed"
    },
    "tags": []
   },
   "source": [
    "Avoiding Dummy variables"
   ]
  },
  {
   "cell_type": "code",
   "execution_count": 35,
   "id": "noble-gazette",
   "metadata": {
    "execution": {
     "iopub.execute_input": "2021-05-22T07:34:30.352585Z",
     "iopub.status.busy": "2021-05-22T07:34:30.351762Z",
     "iopub.status.idle": "2021-05-22T07:34:30.354267Z",
     "shell.execute_reply": "2021-05-22T07:34:30.353859Z",
     "shell.execute_reply.started": "2021-05-22T06:34:18.820729Z"
    },
    "papermill": {
     "duration": 0.096346,
     "end_time": "2021-05-22T07:34:30.354385",
     "exception": false,
     "start_time": "2021-05-22T07:34:30.258039",
     "status": "completed"
    },
    "tags": []
   },
   "outputs": [],
   "source": [
    "encoded_x = encoded_df.iloc[:, 1:]"
   ]
  },
  {
   "cell_type": "code",
   "execution_count": 36,
   "id": "identified-express",
   "metadata": {
    "execution": {
     "iopub.execute_input": "2021-05-22T07:34:30.544953Z",
     "iopub.status.busy": "2021-05-22T07:34:30.544144Z",
     "iopub.status.idle": "2021-05-22T07:34:30.547567Z",
     "shell.execute_reply": "2021-05-22T07:34:30.548030Z",
     "shell.execute_reply.started": "2021-05-22T06:34:38.937094Z"
    },
    "papermill": {
     "duration": 0.108658,
     "end_time": "2021-05-22T07:34:30.548175",
     "exception": false,
     "start_time": "2021-05-22T07:34:30.439517",
     "status": "completed"
    },
    "tags": []
   },
   "outputs": [
    {
     "data": {
      "text/html": [
       "<div>\n",
       "<style scoped>\n",
       "    .dataframe tbody tr th:only-of-type {\n",
       "        vertical-align: middle;\n",
       "    }\n",
       "\n",
       "    .dataframe tbody tr th {\n",
       "        vertical-align: top;\n",
       "    }\n",
       "\n",
       "    .dataframe thead th {\n",
       "        text-align: right;\n",
       "    }\n",
       "</style>\n",
       "<table border=\"1\" class=\"dataframe\">\n",
       "  <thead>\n",
       "    <tr style=\"text-align: right;\">\n",
       "      <th></th>\n",
       "      <th>1</th>\n",
       "      <th>2</th>\n",
       "      <th>3</th>\n",
       "      <th>4</th>\n",
       "      <th>5</th>\n",
       "      <th>6</th>\n",
       "      <th>7</th>\n",
       "      <th>8</th>\n",
       "      <th>9</th>\n",
       "    </tr>\n",
       "  </thead>\n",
       "  <tbody>\n",
       "    <tr>\n",
       "      <th>0</th>\n",
       "      <td>1.0</td>\n",
       "      <td>0.0</td>\n",
       "      <td>0.0</td>\n",
       "      <td>1.0</td>\n",
       "      <td>3.0</td>\n",
       "      <td>22.0</td>\n",
       "      <td>1.0</td>\n",
       "      <td>0.0</td>\n",
       "      <td>7.2500</td>\n",
       "    </tr>\n",
       "    <tr>\n",
       "      <th>1</th>\n",
       "      <td>0.0</td>\n",
       "      <td>1.0</td>\n",
       "      <td>0.0</td>\n",
       "      <td>0.0</td>\n",
       "      <td>1.0</td>\n",
       "      <td>38.0</td>\n",
       "      <td>1.0</td>\n",
       "      <td>0.0</td>\n",
       "      <td>71.2833</td>\n",
       "    </tr>\n",
       "    <tr>\n",
       "      <th>2</th>\n",
       "      <td>0.0</td>\n",
       "      <td>0.0</td>\n",
       "      <td>0.0</td>\n",
       "      <td>1.0</td>\n",
       "      <td>3.0</td>\n",
       "      <td>26.0</td>\n",
       "      <td>0.0</td>\n",
       "      <td>0.0</td>\n",
       "      <td>7.9250</td>\n",
       "    </tr>\n",
       "    <tr>\n",
       "      <th>3</th>\n",
       "      <td>0.0</td>\n",
       "      <td>0.0</td>\n",
       "      <td>0.0</td>\n",
       "      <td>1.0</td>\n",
       "      <td>1.0</td>\n",
       "      <td>35.0</td>\n",
       "      <td>1.0</td>\n",
       "      <td>0.0</td>\n",
       "      <td>53.1000</td>\n",
       "    </tr>\n",
       "    <tr>\n",
       "      <th>4</th>\n",
       "      <td>1.0</td>\n",
       "      <td>0.0</td>\n",
       "      <td>0.0</td>\n",
       "      <td>1.0</td>\n",
       "      <td>3.0</td>\n",
       "      <td>35.0</td>\n",
       "      <td>0.0</td>\n",
       "      <td>0.0</td>\n",
       "      <td>8.0500</td>\n",
       "    </tr>\n",
       "  </tbody>\n",
       "</table>\n",
       "</div>"
      ],
      "text/plain": [
       "     1    2    3    4    5     6    7    8        9\n",
       "0  1.0  0.0  0.0  1.0  3.0  22.0  1.0  0.0   7.2500\n",
       "1  0.0  1.0  0.0  0.0  1.0  38.0  1.0  0.0  71.2833\n",
       "2  0.0  0.0  0.0  1.0  3.0  26.0  0.0  0.0   7.9250\n",
       "3  0.0  0.0  0.0  1.0  1.0  35.0  1.0  0.0  53.1000\n",
       "4  1.0  0.0  0.0  1.0  3.0  35.0  0.0  0.0   8.0500"
      ]
     },
     "execution_count": 36,
     "metadata": {},
     "output_type": "execute_result"
    }
   ],
   "source": [
    "encoded_x.head()"
   ]
  },
  {
   "cell_type": "code",
   "execution_count": 37,
   "id": "filled-potato",
   "metadata": {
    "execution": {
     "iopub.execute_input": "2021-05-22T07:34:30.728274Z",
     "iopub.status.busy": "2021-05-22T07:34:30.727571Z",
     "iopub.status.idle": "2021-05-22T07:34:30.730971Z",
     "shell.execute_reply": "2021-05-22T07:34:30.730582Z",
     "shell.execute_reply.started": "2021-05-22T06:34:47.993054Z"
    },
    "papermill": {
     "duration": 0.092042,
     "end_time": "2021-05-22T07:34:30.731076",
     "exception": false,
     "start_time": "2021-05-22T07:34:30.639034",
     "status": "completed"
    },
    "tags": []
   },
   "outputs": [
    {
     "data": {
      "text/plain": [
       "(891, 9)"
      ]
     },
     "execution_count": 37,
     "metadata": {},
     "output_type": "execute_result"
    }
   ],
   "source": [
    "encoded_x.shape"
   ]
  },
  {
   "cell_type": "code",
   "execution_count": 38,
   "id": "european-restriction",
   "metadata": {
    "execution": {
     "iopub.execute_input": "2021-05-22T07:34:30.906631Z",
     "iopub.status.busy": "2021-05-22T07:34:30.905930Z",
     "iopub.status.idle": "2021-05-22T07:34:30.909305Z",
     "shell.execute_reply": "2021-05-22T07:34:30.908871Z",
     "shell.execute_reply.started": "2021-05-22T06:34:53.064586Z"
    },
    "papermill": {
     "duration": 0.092391,
     "end_time": "2021-05-22T07:34:30.909422",
     "exception": false,
     "start_time": "2021-05-22T07:34:30.817031",
     "status": "completed"
    },
    "tags": []
   },
   "outputs": [
    {
     "data": {
      "text/plain": [
       "(891,)"
      ]
     },
     "execution_count": 38,
     "metadata": {},
     "output_type": "execute_result"
    }
   ],
   "source": [
    "y.shape"
   ]
  },
  {
   "cell_type": "markdown",
   "id": "provincial-bowling",
   "metadata": {
    "papermill": {
     "duration": 0.144475,
     "end_time": "2021-05-22T07:34:31.158626",
     "exception": false,
     "start_time": "2021-05-22T07:34:31.014151",
     "status": "completed"
    },
    "tags": []
   },
   "source": [
    "Let's now check wheather our dataset is imbalanced or not"
   ]
  },
  {
   "cell_type": "code",
   "execution_count": 39,
   "id": "under-procedure",
   "metadata": {
    "execution": {
     "iopub.execute_input": "2021-05-22T07:34:31.445788Z",
     "iopub.status.busy": "2021-05-22T07:34:31.444935Z",
     "iopub.status.idle": "2021-05-22T07:34:31.559546Z",
     "shell.execute_reply": "2021-05-22T07:34:31.559102Z",
     "shell.execute_reply.started": "2021-05-22T06:35:34.232516Z"
    },
    "papermill": {
     "duration": 0.259798,
     "end_time": "2021-05-22T07:34:31.559664",
     "exception": false,
     "start_time": "2021-05-22T07:34:31.299866",
     "status": "completed"
    },
    "tags": []
   },
   "outputs": [
    {
     "data": {
      "image/png": "[encoded data removed]",
      "text/plain": [
       "<Figure size 432x288 with 1 Axes>"
      ]
     },
     "metadata": {
      "needs_background": "light"
     },
     "output_type": "display_data"
    }
   ],
   "source": [
    "y.value_counts().plot(kind = 'bar', color = ['thistle', 'salmon']);"
   ]
  },
  {
   "cell_type": "markdown",
   "id": "indirect-jenny",
   "metadata": {
    "papermill": {
     "duration": 0.088705,
     "end_time": "2021-05-22T07:34:31.735749",
     "exception": false,
     "start_time": "2021-05-22T07:34:31.647044",
     "status": "completed"
    },
    "tags": []
   },
   "source": [
    "We have slight imbalance. Let's balance this to get good result"
   ]
  },
  {
   "cell_type": "code",
   "execution_count": 40,
   "id": "binary-florist",
   "metadata": {
    "execution": {
     "iopub.execute_input": "2021-05-22T07:34:31.914150Z",
     "iopub.status.busy": "2021-05-22T07:34:31.913473Z",
     "iopub.status.idle": "2021-05-22T07:34:32.244336Z",
     "shell.execute_reply": "2021-05-22T07:34:32.243880Z",
     "shell.execute_reply.started": "2021-05-22T06:35:39.949509Z"
    },
    "papermill": {
     "duration": 0.421628,
     "end_time": "2021-05-22T07:34:32.244460",
     "exception": false,
     "start_time": "2021-05-22T07:34:31.822832",
     "status": "completed"
    },
    "tags": []
   },
   "outputs": [],
   "source": [
    "from imblearn.over_sampling import SMOTE\n",
    "\n",
    "#Instanciating a object of SMOTE Class\n",
    "smote = SMOTE()\n",
    "\n",
    "# fit predictor and target variables\n",
    "x_smote, y_smote = smote.fit_resample(encoded_x, y)"
   ]
  },
  {
   "cell_type": "code",
   "execution_count": 41,
   "id": "czech-lexington",
   "metadata": {
    "execution": {
     "iopub.execute_input": "2021-05-22T07:34:32.429382Z",
     "iopub.status.busy": "2021-05-22T07:34:32.428835Z",
     "iopub.status.idle": "2021-05-22T07:34:32.434511Z",
     "shell.execute_reply": "2021-05-22T07:34:32.434099Z",
     "shell.execute_reply.started": "2021-05-22T06:35:59.946019Z"
    },
    "papermill": {
     "duration": 0.09729,
     "end_time": "2021-05-22T07:34:32.434622",
     "exception": false,
     "start_time": "2021-05-22T07:34:32.337332",
     "status": "completed"
    },
    "tags": []
   },
   "outputs": [
    {
     "data": {
      "text/plain": [
       "(1098, 9)"
      ]
     },
     "execution_count": 41,
     "metadata": {},
     "output_type": "execute_result"
    }
   ],
   "source": [
    "x_smote.shape"
   ]
  },
  {
   "cell_type": "code",
   "execution_count": 42,
   "id": "restricted-appliance",
   "metadata": {
    "execution": {
     "iopub.execute_input": "2021-05-22T07:34:32.635703Z",
     "iopub.status.busy": "2021-05-22T07:34:32.634744Z",
     "iopub.status.idle": "2021-05-22T07:34:32.714103Z",
     "shell.execute_reply": "2021-05-22T07:34:32.714558Z",
     "shell.execute_reply.started": "2021-05-22T06:36:03.576533Z"
    },
    "papermill": {
     "duration": 0.191615,
     "end_time": "2021-05-22T07:34:32.714695",
     "exception": false,
     "start_time": "2021-05-22T07:34:32.523080",
     "status": "completed"
    },
    "tags": []
   },
   "outputs": [
    {
     "data": {
      "image/png": "[encoded data removed]",
      "text/plain": [
       "<Figure size 432x288 with 1 Axes>"
      ]
     },
     "metadata": {
      "needs_background": "light"
     },
     "output_type": "display_data"
    }
   ],
   "source": [
    "y_smote.value_counts().plot(kind = 'bar', color = ['thistle', 'salmon']);"
   ]
  },
  {
   "cell_type": "markdown",
   "id": "greater-comment",
   "metadata": {
    "papermill": {
     "duration": 0.087263,
     "end_time": "2021-05-22T07:34:32.890335",
     "exception": false,
     "start_time": "2021-05-22T07:34:32.803072",
     "status": "completed"
    },
    "tags": []
   },
   "source": [
    "**Now it is perfectly balanced as all things should be.**"
   ]
  },
  {
   "cell_type": "markdown",
   "id": "aware-alberta",
   "metadata": {
    "papermill": {
     "duration": 0.087642,
     "end_time": "2021-05-22T07:34:33.066608",
     "exception": false,
     "start_time": "2021-05-22T07:34:32.978966",
     "status": "completed"
    },
    "tags": []
   },
   "source": [
    "# Applying Machine Learning"
   ]
  },
  {
   "cell_type": "markdown",
   "id": "heated-sculpture",
   "metadata": {
    "papermill": {
     "duration": 0.087996,
     "end_time": "2021-05-22T07:34:33.245347",
     "exception": false,
     "start_time": "2021-05-22T07:34:33.157351",
     "status": "completed"
    },
    "tags": []
   },
   "source": [
    "Let's split our dataset"
   ]
  },
  {
   "cell_type": "code",
   "execution_count": 43,
   "id": "global-narrative",
   "metadata": {
    "execution": {
     "iopub.execute_input": "2021-05-22T07:34:33.423270Z",
     "iopub.status.busy": "2021-05-22T07:34:33.422704Z",
     "iopub.status.idle": "2021-05-22T07:34:33.426633Z",
     "shell.execute_reply": "2021-05-22T07:34:33.426220Z",
     "shell.execute_reply.started": "2021-05-22T06:36:13.164931Z"
    },
    "papermill": {
     "duration": 0.09423,
     "end_time": "2021-05-22T07:34:33.426735",
     "exception": false,
     "start_time": "2021-05-22T07:34:33.332505",
     "status": "completed"
    },
    "tags": []
   },
   "outputs": [],
   "source": [
    "from sklearn.model_selection import train_test_split"
   ]
  },
  {
   "cell_type": "code",
   "execution_count": 44,
   "id": "other-sunday",
   "metadata": {
    "execution": {
     "iopub.execute_input": "2021-05-22T07:34:33.608108Z",
     "iopub.status.busy": "2021-05-22T07:34:33.607550Z",
     "iopub.status.idle": "2021-05-22T07:34:33.610257Z",
     "shell.execute_reply": "2021-05-22T07:34:33.610629Z",
     "shell.execute_reply.started": "2021-05-22T06:36:16.111472Z"
    },
    "papermill": {
     "duration": 0.095823,
     "end_time": "2021-05-22T07:34:33.610756",
     "exception": false,
     "start_time": "2021-05-22T07:34:33.514933",
     "status": "completed"
    },
    "tags": []
   },
   "outputs": [],
   "source": [
    "# Random seed for reproducibility\n",
    "np.random.seed(31)\n",
    "\n",
    "# Split into train & test set\n",
    "x_train, x_test, y_train, y_test = train_test_split(x_smote, y_smote, test_size = 0.2)"
   ]
  },
  {
   "cell_type": "code",
   "execution_count": 45,
   "id": "facial-transaction",
   "metadata": {
    "execution": {
     "iopub.execute_input": "2021-05-22T07:34:33.789780Z",
     "iopub.status.busy": "2021-05-22T07:34:33.789059Z",
     "iopub.status.idle": "2021-05-22T07:34:33.792581Z",
     "shell.execute_reply": "2021-05-22T07:34:33.792074Z",
     "shell.execute_reply.started": "2021-05-22T06:42:14.716131Z"
    },
    "papermill": {
     "duration": 0.094536,
     "end_time": "2021-05-22T07:34:33.792682",
     "exception": false,
     "start_time": "2021-05-22T07:34:33.698146",
     "status": "completed"
    },
    "tags": []
   },
   "outputs": [
    {
     "data": {
      "text/plain": [
       "(878, 9)"
      ]
     },
     "execution_count": 45,
     "metadata": {},
     "output_type": "execute_result"
    }
   ],
   "source": [
    "x_train.shape"
   ]
  },
  {
   "cell_type": "code",
   "execution_count": 46,
   "id": "yellow-airport",
   "metadata": {
    "execution": {
     "iopub.execute_input": "2021-05-22T07:34:33.972513Z",
     "iopub.status.busy": "2021-05-22T07:34:33.971819Z",
     "iopub.status.idle": "2021-05-22T07:34:33.975140Z",
     "shell.execute_reply": "2021-05-22T07:34:33.974758Z",
     "shell.execute_reply.started": "2021-05-22T06:42:24.285466Z"
    },
    "papermill": {
     "duration": 0.094797,
     "end_time": "2021-05-22T07:34:33.975261",
     "exception": false,
     "start_time": "2021-05-22T07:34:33.880464",
     "status": "completed"
    },
    "tags": []
   },
   "outputs": [
    {
     "data": {
      "text/plain": [
       "(220, 9)"
      ]
     },
     "execution_count": 46,
     "metadata": {},
     "output_type": "execute_result"
    }
   ],
   "source": [
    "x_test.shape"
   ]
  },
  {
   "cell_type": "code",
   "execution_count": 47,
   "id": "senior-indianapolis",
   "metadata": {
    "execution": {
     "iopub.execute_input": "2021-05-22T07:34:34.156784Z",
     "iopub.status.busy": "2021-05-22T07:34:34.156041Z",
     "iopub.status.idle": "2021-05-22T07:34:34.159314Z",
     "shell.execute_reply": "2021-05-22T07:34:34.159821Z",
     "shell.execute_reply.started": "2021-05-22T06:36:20.184454Z"
    },
    "papermill": {
     "duration": 0.096178,
     "end_time": "2021-05-22T07:34:34.159969",
     "exception": false,
     "start_time": "2021-05-22T07:34:34.063791",
     "status": "completed"
    },
    "tags": []
   },
   "outputs": [
    {
     "data": {
      "text/plain": [
       "(878, 220, 878, 220)"
      ]
     },
     "execution_count": 47,
     "metadata": {},
     "output_type": "execute_result"
    }
   ],
   "source": [
    "len(x_train), len(x_test), len(y_train), len(y_test)"
   ]
  },
  {
   "cell_type": "markdown",
   "id": "extra-warehouse",
   "metadata": {
    "papermill": {
     "duration": 0.09245,
     "end_time": "2021-05-22T07:34:34.342397",
     "exception": false,
     "start_time": "2021-05-22T07:34:34.249947",
     "status": "completed"
    },
    "tags": []
   },
   "source": [
    "Applying feature scaling"
   ]
  },
  {
   "cell_type": "code",
   "execution_count": 48,
   "id": "killing-virus",
   "metadata": {
    "execution": {
     "iopub.execute_input": "2021-05-22T07:34:34.532015Z",
     "iopub.status.busy": "2021-05-22T07:34:34.531089Z",
     "iopub.status.idle": "2021-05-22T07:34:34.537955Z",
     "shell.execute_reply": "2021-05-22T07:34:34.537513Z",
     "shell.execute_reply.started": "2021-05-22T06:52:37.312090Z"
    },
    "papermill": {
     "duration": 0.103497,
     "end_time": "2021-05-22T07:34:34.538072",
     "exception": false,
     "start_time": "2021-05-22T07:34:34.434575",
     "status": "completed"
    },
    "tags": []
   },
   "outputs": [],
   "source": [
    "from sklearn.preprocessing import StandardScaler\n",
    "scaler = StandardScaler()\n",
    "x_train = scaler.fit_transform(x_train)\n",
    "x_test = scaler.transform(x_test)"
   ]
  },
  {
   "cell_type": "code",
   "execution_count": 49,
   "id": "assigned-house",
   "metadata": {
    "execution": {
     "iopub.execute_input": "2021-05-22T07:34:34.721111Z",
     "iopub.status.busy": "2021-05-22T07:34:34.720397Z",
     "iopub.status.idle": "2021-05-22T07:34:34.723425Z",
     "shell.execute_reply": "2021-05-22T07:34:34.723899Z",
     "shell.execute_reply.started": "2021-05-22T06:53:33.041470Z"
    },
    "papermill": {
     "duration": 0.095627,
     "end_time": "2021-05-22T07:34:34.724023",
     "exception": false,
     "start_time": "2021-05-22T07:34:34.628396",
     "status": "completed"
    },
    "tags": []
   },
   "outputs": [
    {
     "data": {
      "text/plain": [
       "(878, 9)"
      ]
     },
     "execution_count": 49,
     "metadata": {},
     "output_type": "execute_result"
    }
   ],
   "source": [
    "x_train.shape"
   ]
  },
  {
   "cell_type": "code",
   "execution_count": 50,
   "id": "acting-republican",
   "metadata": {
    "execution": {
     "iopub.execute_input": "2021-05-22T07:34:34.913837Z",
     "iopub.status.busy": "2021-05-22T07:34:34.913022Z",
     "iopub.status.idle": "2021-05-22T07:34:34.916947Z",
     "shell.execute_reply": "2021-05-22T07:34:34.916510Z",
     "shell.execute_reply.started": "2021-05-22T06:53:08.369167Z"
    },
    "papermill": {
     "duration": 0.103781,
     "end_time": "2021-05-22T07:34:34.917061",
     "exception": false,
     "start_time": "2021-05-22T07:34:34.813280",
     "status": "completed"
    },
    "tags": []
   },
   "outputs": [
    {
     "data": {
      "text/html": [
       "<div>\n",
       "<style scoped>\n",
       "    .dataframe tbody tr th:only-of-type {\n",
       "        vertical-align: middle;\n",
       "    }\n",
       "\n",
       "    .dataframe tbody tr th {\n",
       "        vertical-align: top;\n",
       "    }\n",
       "\n",
       "    .dataframe thead th {\n",
       "        text-align: right;\n",
       "    }\n",
       "</style>\n",
       "<table border=\"1\" class=\"dataframe\">\n",
       "  <thead>\n",
       "    <tr style=\"text-align: right;\">\n",
       "      <th></th>\n",
       "      <th>0</th>\n",
       "      <th>1</th>\n",
       "      <th>2</th>\n",
       "      <th>3</th>\n",
       "      <th>4</th>\n",
       "      <th>5</th>\n",
       "      <th>6</th>\n",
       "      <th>7</th>\n",
       "      <th>8</th>\n",
       "    </tr>\n",
       "  </thead>\n",
       "  <tbody>\n",
       "    <tr>\n",
       "      <th>0</th>\n",
       "      <td>-1.217175</td>\n",
       "      <td>-0.502995</td>\n",
       "      <td>-0.310172</td>\n",
       "      <td>0.635470</td>\n",
       "      <td>-0.307359</td>\n",
       "      <td>-2.015467</td>\n",
       "      <td>0.459403</td>\n",
       "      <td>0.758895</td>\n",
       "      <td>-0.225710</td>\n",
       "    </tr>\n",
       "    <tr>\n",
       "      <th>1</th>\n",
       "      <td>0.857836</td>\n",
       "      <td>2.116671</td>\n",
       "      <td>-0.310172</td>\n",
       "      <td>-1.654485</td>\n",
       "      <td>-0.307359</td>\n",
       "      <td>0.526407</td>\n",
       "      <td>-0.490857</td>\n",
       "      <td>-0.492958</td>\n",
       "      <td>-0.435508</td>\n",
       "    </tr>\n",
       "    <tr>\n",
       "      <th>2</th>\n",
       "      <td>-1.217175</td>\n",
       "      <td>-0.502995</td>\n",
       "      <td>-0.310172</td>\n",
       "      <td>0.635470</td>\n",
       "      <td>0.881943</td>\n",
       "      <td>-0.109061</td>\n",
       "      <td>-0.490857</td>\n",
       "      <td>-0.492958</td>\n",
       "      <td>-0.538681</td>\n",
       "    </tr>\n",
       "    <tr>\n",
       "      <th>3</th>\n",
       "      <td>-1.217175</td>\n",
       "      <td>2.116671</td>\n",
       "      <td>-0.310172</td>\n",
       "      <td>-1.654485</td>\n",
       "      <td>-1.496661</td>\n",
       "      <td>0.526407</td>\n",
       "      <td>-0.490857</td>\n",
       "      <td>-0.492958</td>\n",
       "      <td>2.108138</td>\n",
       "    </tr>\n",
       "    <tr>\n",
       "      <th>4</th>\n",
       "      <td>-1.217175</td>\n",
       "      <td>-0.502995</td>\n",
       "      <td>-0.310172</td>\n",
       "      <td>0.635470</td>\n",
       "      <td>0.881943</td>\n",
       "      <td>0.526407</td>\n",
       "      <td>0.459403</td>\n",
       "      <td>-0.492958</td>\n",
       "      <td>-0.341747</td>\n",
       "    </tr>\n",
       "  </tbody>\n",
       "</table>\n",
       "</div>"
      ],
      "text/plain": [
       "          0         1         2         3         4         5         6  \\\n",
       "0 -1.217175 -0.502995 -0.310172  0.635470 -0.307359 -2.015467  0.459403   \n",
       "1  0.857836  2.116671 -0.310172 -1.654485 -0.307359  0.526407 -0.490857   \n",
       "2 -1.217175 -0.502995 -0.310172  0.635470  0.881943 -0.109061 -0.490857   \n",
       "3 -1.217175  2.116671 -0.310172 -1.654485 -1.496661  0.526407 -0.490857   \n",
       "4 -1.217175 -0.502995 -0.310172  0.635470  0.881943  0.526407  0.459403   \n",
       "\n",
       "          7         8  \n",
       "0  0.758895 -0.225710  \n",
       "1 -0.492958 -0.435508  \n",
       "2 -0.492958 -0.538681  \n",
       "3 -0.492958  2.108138  \n",
       "4 -0.492958 -0.341747  "
      ]
     },
     "execution_count": 50,
     "metadata": {},
     "output_type": "execute_result"
    }
   ],
   "source": [
    "pd.DataFrame(x_train).head()"
   ]
  },
  {
   "cell_type": "code",
   "execution_count": 51,
   "id": "apparent-imagination",
   "metadata": {
    "execution": {
     "iopub.execute_input": "2021-05-22T07:34:35.110652Z",
     "iopub.status.busy": "2021-05-22T07:34:35.109763Z",
     "iopub.status.idle": "2021-05-22T07:34:35.113402Z",
     "shell.execute_reply": "2021-05-22T07:34:35.112873Z",
     "shell.execute_reply.started": "2021-05-22T06:54:06.168723Z"
    },
    "papermill": {
     "duration": 0.104765,
     "end_time": "2021-05-22T07:34:35.113515",
     "exception": false,
     "start_time": "2021-05-22T07:34:35.008750",
     "status": "completed"
    },
    "tags": []
   },
   "outputs": [
    {
     "data": {
      "text/html": [
       "<div>\n",
       "<style scoped>\n",
       "    .dataframe tbody tr th:only-of-type {\n",
       "        vertical-align: middle;\n",
       "    }\n",
       "\n",
       "    .dataframe tbody tr th {\n",
       "        vertical-align: top;\n",
       "    }\n",
       "\n",
       "    .dataframe thead th {\n",
       "        text-align: right;\n",
       "    }\n",
       "</style>\n",
       "<table border=\"1\" class=\"dataframe\">\n",
       "  <thead>\n",
       "    <tr style=\"text-align: right;\">\n",
       "      <th></th>\n",
       "      <th>0</th>\n",
       "      <th>1</th>\n",
       "      <th>2</th>\n",
       "      <th>3</th>\n",
       "      <th>4</th>\n",
       "      <th>5</th>\n",
       "      <th>6</th>\n",
       "      <th>7</th>\n",
       "      <th>8</th>\n",
       "    </tr>\n",
       "  </thead>\n",
       "  <tbody>\n",
       "    <tr>\n",
       "      <th>0</th>\n",
       "      <td>0.857836</td>\n",
       "      <td>2.116671</td>\n",
       "      <td>-0.310172</td>\n",
       "      <td>-1.654485</td>\n",
       "      <td>-1.496661</td>\n",
       "      <td>-0.426796</td>\n",
       "      <td>-0.490857</td>\n",
       "      <td>-0.492958</td>\n",
       "      <td>0.938797</td>\n",
       "    </tr>\n",
       "    <tr>\n",
       "      <th>1</th>\n",
       "      <td>0.857836</td>\n",
       "      <td>-0.502995</td>\n",
       "      <td>3.317739</td>\n",
       "      <td>-1.654485</td>\n",
       "      <td>0.881943</td>\n",
       "      <td>0.025906</td>\n",
       "      <td>-0.490857</td>\n",
       "      <td>-0.492958</td>\n",
       "      <td>-0.542220</td>\n",
       "    </tr>\n",
       "    <tr>\n",
       "      <th>2</th>\n",
       "      <td>0.857836</td>\n",
       "      <td>-0.502995</td>\n",
       "      <td>-0.310172</td>\n",
       "      <td>0.635470</td>\n",
       "      <td>-0.307359</td>\n",
       "      <td>0.764708</td>\n",
       "      <td>-0.490857</td>\n",
       "      <td>-0.492958</td>\n",
       "      <td>-0.432918</td>\n",
       "    </tr>\n",
       "    <tr>\n",
       "      <th>3</th>\n",
       "      <td>0.857836</td>\n",
       "      <td>-0.502995</td>\n",
       "      <td>-0.310172</td>\n",
       "      <td>0.635470</td>\n",
       "      <td>0.881943</td>\n",
       "      <td>0.025906</td>\n",
       "      <td>-0.490857</td>\n",
       "      <td>-0.492958</td>\n",
       "      <td>-0.389404</td>\n",
       "    </tr>\n",
       "    <tr>\n",
       "      <th>4</th>\n",
       "      <td>-1.217175</td>\n",
       "      <td>-0.502995</td>\n",
       "      <td>3.317739</td>\n",
       "      <td>-1.654485</td>\n",
       "      <td>0.881943</td>\n",
       "      <td>0.025906</td>\n",
       "      <td>0.459403</td>\n",
       "      <td>-0.492958</td>\n",
       "      <td>-0.201881</td>\n",
       "    </tr>\n",
       "  </tbody>\n",
       "</table>\n",
       "</div>"
      ],
      "text/plain": [
       "          0         1         2         3         4         5         6  \\\n",
       "0  0.857836  2.116671 -0.310172 -1.654485 -1.496661 -0.426796 -0.490857   \n",
       "1  0.857836 -0.502995  3.317739 -1.654485  0.881943  0.025906 -0.490857   \n",
       "2  0.857836 -0.502995 -0.310172  0.635470 -0.307359  0.764708 -0.490857   \n",
       "3  0.857836 -0.502995 -0.310172  0.635470  0.881943  0.025906 -0.490857   \n",
       "4 -1.217175 -0.502995  3.317739 -1.654485  0.881943  0.025906  0.459403   \n",
       "\n",
       "          7         8  \n",
       "0 -0.492958  0.938797  \n",
       "1 -0.492958 -0.542220  \n",
       "2 -0.492958 -0.432918  \n",
       "3 -0.492958 -0.389404  \n",
       "4 -0.492958 -0.201881  "
      ]
     },
     "execution_count": 51,
     "metadata": {},
     "output_type": "execute_result"
    }
   ],
   "source": [
    "pd.DataFrame(x_test).head()"
   ]
  },
  {
   "cell_type": "markdown",
   "id": "collectible-reading",
   "metadata": {
    "papermill": {
     "duration": 0.089582,
     "end_time": "2021-05-22T07:34:35.295722",
     "exception": false,
     "start_time": "2021-05-22T07:34:35.206140",
     "status": "completed"
    },
    "tags": []
   },
   "source": [
    "# Logistic Regression"
   ]
  },
  {
   "cell_type": "code",
   "execution_count": 52,
   "id": "municipal-import",
   "metadata": {
    "execution": {
     "iopub.execute_input": "2021-05-22T07:34:35.480920Z",
     "iopub.status.busy": "2021-05-22T07:34:35.480124Z",
     "iopub.status.idle": "2021-05-22T07:34:35.489576Z",
     "shell.execute_reply": "2021-05-22T07:34:35.490005Z",
     "shell.execute_reply.started": "2021-05-22T06:54:23.873657Z"
    },
    "papermill": {
     "duration": 0.104355,
     "end_time": "2021-05-22T07:34:35.490128",
     "exception": false,
     "start_time": "2021-05-22T07:34:35.385773",
     "status": "completed"
    },
    "tags": []
   },
   "outputs": [
    {
     "data": {
      "text/plain": [
       "0.7545454545454545"
      ]
     },
     "execution_count": 52,
     "metadata": {},
     "output_type": "execute_result"
    }
   ],
   "source": [
    "from sklearn.linear_model import LogisticRegression\n",
    "log_clf = LogisticRegression(max_iter = 1000, random_state = 7)\n",
    "log_clf.fit(x_train, y_train)\n",
    "log_score = log_clf.score(x_test, y_test)\n",
    "log_score"
   ]
  },
  {
   "cell_type": "markdown",
   "id": "secure-showcase",
   "metadata": {
    "papermill": {
     "duration": 0.089301,
     "end_time": "2021-05-22T07:34:35.669382",
     "exception": false,
     "start_time": "2021-05-22T07:34:35.580081",
     "status": "completed"
    },
    "tags": []
   },
   "source": [
    "# Logistic Regression Hyperparameter Tuning"
   ]
  },
  {
   "cell_type": "code",
   "execution_count": 53,
   "id": "adopted-apparatus",
   "metadata": {
    "execution": {
     "iopub.execute_input": "2021-05-22T07:34:35.852568Z",
     "iopub.status.busy": "2021-05-22T07:34:35.851731Z",
     "iopub.status.idle": "2021-05-22T07:34:35.854549Z",
     "shell.execute_reply": "2021-05-22T07:34:35.854123Z",
     "shell.execute_reply.started": "2021-05-22T06:36:27.644685Z"
    },
    "papermill": {
     "duration": 0.095952,
     "end_time": "2021-05-22T07:34:35.854655",
     "exception": false,
     "start_time": "2021-05-22T07:34:35.758703",
     "status": "completed"
    },
    "tags": []
   },
   "outputs": [],
   "source": [
    "from sklearn.model_selection import GridSearchCV, RandomizedSearchCV"
   ]
  },
  {
   "cell_type": "code",
   "execution_count": 54,
   "id": "macro-minnesota",
   "metadata": {
    "execution": {
     "iopub.execute_input": "2021-05-22T07:34:36.048625Z",
     "iopub.status.busy": "2021-05-22T07:34:36.047806Z",
     "iopub.status.idle": "2021-05-22T07:35:04.612257Z",
     "shell.execute_reply": "2021-05-22T07:35:04.611809Z",
     "shell.execute_reply.started": "2021-05-22T06:54:40.190527Z"
    },
    "papermill": {
     "duration": 28.668246,
     "end_time": "2021-05-22T07:35:04.612397",
     "exception": false,
     "start_time": "2021-05-22T07:34:35.944151",
     "status": "completed"
    },
    "tags": []
   },
   "outputs": [
    {
     "name": "stdout",
     "output_type": "stream",
     "text": [
      "Fitting 5 folds for each of 1900 candidates, totalling 9500 fits\n"
     ]
    },
    {
     "data": {
      "text/plain": [
       "0.759090909090909"
      ]
     },
     "execution_count": 54,
     "metadata": {},
     "output_type": "execute_result"
    }
   ],
   "source": [
    "log_grid = {'C': np.logspace(-4, 4),\n",
    "            'solver': ['liblinear'],\n",
    "            'max_iter': np.arange(100, 2000, 100),\n",
    "            'penalty':['l1', 'l2']\n",
    "           }\n",
    "\n",
    "log_gscv = GridSearchCV(LogisticRegression(max_iter = 1000, random_state = 7),\n",
    "                          param_grid=log_grid,\n",
    "                          cv=5,\n",
    "                          verbose=True)\n",
    "\n",
    "log_gscv.fit(x_train, y_train)\n",
    "log_tuned_score = log_gscv.score(x_test, y_test)\n",
    "log_tuned_score"
   ]
  },
  {
   "cell_type": "code",
   "execution_count": 55,
   "id": "british-tractor",
   "metadata": {
    "execution": {
     "iopub.execute_input": "2021-05-22T07:35:04.806154Z",
     "iopub.status.busy": "2021-05-22T07:35:04.805660Z",
     "iopub.status.idle": "2021-05-22T07:35:04.811338Z",
     "shell.execute_reply": "2021-05-22T07:35:04.811704Z",
     "shell.execute_reply.started": "2021-05-22T06:56:04.097575Z"
    },
    "papermill": {
     "duration": 0.104304,
     "end_time": "2021-05-22T07:35:04.811830",
     "exception": false,
     "start_time": "2021-05-22T07:35:04.707526",
     "status": "completed"
    },
    "tags": []
   },
   "outputs": [
    {
     "data": {
      "text/plain": [
       "{'C': 0.05963623316594643,\n",
       " 'max_iter': 100,\n",
       " 'penalty': 'l2',\n",
       " 'solver': 'liblinear'}"
      ]
     },
     "execution_count": 55,
     "metadata": {},
     "output_type": "execute_result"
    }
   ],
   "source": [
    "log_gscv.best_params_"
   ]
  },
  {
   "cell_type": "markdown",
   "id": "progressive-pension",
   "metadata": {
    "papermill": {
     "duration": 0.093762,
     "end_time": "2021-05-22T07:35:04.999923",
     "exception": false,
     "start_time": "2021-05-22T07:35:04.906161",
     "status": "completed"
    },
    "tags": []
   },
   "source": [
    "# Linear SVC"
   ]
  },
  {
   "cell_type": "code",
   "execution_count": 56,
   "id": "bottom-border",
   "metadata": {
    "execution": {
     "iopub.execute_input": "2021-05-22T07:35:05.193922Z",
     "iopub.status.busy": "2021-05-22T07:35:05.193195Z",
     "iopub.status.idle": "2021-05-22T07:35:05.225692Z",
     "shell.execute_reply": "2021-05-22T07:35:05.226122Z",
     "shell.execute_reply.started": "2021-05-22T06:56:11.600245Z"
    },
    "papermill": {
     "duration": 0.131412,
     "end_time": "2021-05-22T07:35:05.226260",
     "exception": false,
     "start_time": "2021-05-22T07:35:05.094848",
     "status": "completed"
    },
    "tags": []
   },
   "outputs": [
    {
     "data": {
      "text/plain": [
       "0.8090909090909091"
      ]
     },
     "execution_count": 56,
     "metadata": {},
     "output_type": "execute_result"
    }
   ],
   "source": [
    "from sklearn import svm\n",
    "svc_clf = svm.SVC(random_state = 7)\n",
    "svc_clf.fit(x_train, y_train)\n",
    "svc_score = svc_clf.score(x_test, y_test)\n",
    "svc_score"
   ]
  },
  {
   "cell_type": "markdown",
   "id": "chinese-entry",
   "metadata": {
    "papermill": {
     "duration": 0.09124,
     "end_time": "2021-05-22T07:35:05.414121",
     "exception": false,
     "start_time": "2021-05-22T07:35:05.322881",
     "status": "completed"
    },
    "tags": []
   },
   "source": [
    "# SVC Hyperparameter tuning"
   ]
  },
  {
   "cell_type": "code",
   "execution_count": 57,
   "id": "instrumental-inspiration",
   "metadata": {
    "execution": {
     "iopub.execute_input": "2021-05-22T07:35:05.604356Z",
     "iopub.status.busy": "2021-05-22T07:35:05.603558Z",
     "iopub.status.idle": "2021-05-22T07:36:38.635192Z",
     "shell.execute_reply": "2021-05-22T07:36:38.635645Z",
     "shell.execute_reply.started": "2021-05-22T06:56:23.983218Z"
    },
    "papermill": {
     "duration": 93.130055,
     "end_time": "2021-05-22T07:36:38.635795",
     "exception": false,
     "start_time": "2021-05-22T07:35:05.505740",
     "status": "completed"
    },
    "tags": []
   },
   "outputs": [
    {
     "name": "stdout",
     "output_type": "stream",
     "text": [
      "Fitting 5 folds for each of 60 candidates, totalling 300 fits\n"
     ]
    },
    {
     "data": {
      "text/plain": [
       "0.759090909090909"
      ]
     },
     "execution_count": 57,
     "metadata": {},
     "output_type": "execute_result"
    }
   ],
   "source": [
    "svc_grid = {'C': np.logspace(-5, 5, 20),\n",
    "            'kernel': ['rbf'],\n",
    "            'degree': [2,3,4]\n",
    "           }\n",
    "\n",
    "svc_gscv = GridSearchCV(svm.SVC(random_state = 31),\n",
    "                        param_grid=svc_grid,\n",
    "                        cv=5,\n",
    "                        verbose=True)\n",
    "\n",
    "svc_gscv.fit(x_train, y_train)\n",
    "svc_tuned_score = log_gscv.score(x_test, y_test)\n",
    "svc_tuned_score"
   ]
  },
  {
   "cell_type": "code",
   "execution_count": 58,
   "id": "acoustic-profession",
   "metadata": {
    "execution": {
     "iopub.execute_input": "2021-05-22T07:36:38.822088Z",
     "iopub.status.busy": "2021-05-22T07:36:38.821560Z",
     "iopub.status.idle": "2021-05-22T07:36:38.826947Z",
     "shell.execute_reply": "2021-05-22T07:36:38.826524Z",
     "shell.execute_reply.started": "2021-05-22T06:58:26.888484Z"
    },
    "papermill": {
     "duration": 0.09995,
     "end_time": "2021-05-22T07:36:38.827065",
     "exception": false,
     "start_time": "2021-05-22T07:36:38.727115",
     "status": "completed"
    },
    "tags": []
   },
   "outputs": [
    {
     "data": {
      "text/plain": [
       "{'C': 6.1584821106602545, 'degree': 2, 'kernel': 'rbf'}"
      ]
     },
     "execution_count": 58,
     "metadata": {},
     "output_type": "execute_result"
    }
   ],
   "source": [
    "svc_gscv.best_params_"
   ]
  },
  {
   "cell_type": "markdown",
   "id": "desperate-smooth",
   "metadata": {
    "papermill": {
     "duration": 0.091621,
     "end_time": "2021-05-22T07:36:39.009735",
     "exception": false,
     "start_time": "2021-05-22T07:36:38.918114",
     "status": "completed"
    },
    "tags": []
   },
   "source": [
    "# KNeighbors Classifier"
   ]
  },
  {
   "cell_type": "code",
   "execution_count": 59,
   "id": "removable-least",
   "metadata": {
    "execution": {
     "iopub.execute_input": "2021-05-22T07:36:39.198844Z",
     "iopub.status.busy": "2021-05-22T07:36:39.198039Z",
     "iopub.status.idle": "2021-05-22T07:36:39.213291Z",
     "shell.execute_reply": "2021-05-22T07:36:39.212879Z",
     "shell.execute_reply.started": "2021-05-22T06:58:37.388614Z"
    },
    "papermill": {
     "duration": 0.111719,
     "end_time": "2021-05-22T07:36:39.213411",
     "exception": false,
     "start_time": "2021-05-22T07:36:39.101692",
     "status": "completed"
    },
    "tags": []
   },
   "outputs": [
    {
     "data": {
      "text/plain": [
       "0.8181818181818182"
      ]
     },
     "execution_count": 59,
     "metadata": {},
     "output_type": "execute_result"
    }
   ],
   "source": [
    "from sklearn.neighbors import KNeighborsClassifier\n",
    "\n",
    "knn_clf = KNeighborsClassifier()\n",
    "knn_clf.fit(x_train, y_train)\n",
    "knn_score = knn_clf.score(x_test, y_test)\n",
    "knn_score"
   ]
  },
  {
   "cell_type": "markdown",
   "id": "smooth-convergence",
   "metadata": {
    "papermill": {
     "duration": 0.093856,
     "end_time": "2021-05-22T07:36:39.402367",
     "exception": false,
     "start_time": "2021-05-22T07:36:39.308511",
     "status": "completed"
    },
    "tags": []
   },
   "source": [
    "# KNeighbors Classifier Hyperparameter Tuning"
   ]
  },
  {
   "cell_type": "code",
   "execution_count": 60,
   "id": "noted-treaty",
   "metadata": {
    "execution": {
     "iopub.execute_input": "2021-05-22T07:36:39.607779Z",
     "iopub.status.busy": "2021-05-22T07:36:39.606959Z",
     "iopub.status.idle": "2021-05-22T07:40:41.664229Z",
     "shell.execute_reply": "2021-05-22T07:40:41.664643Z",
     "shell.execute_reply.started": "2021-05-22T06:58:43.532816Z"
    },
    "papermill": {
     "duration": 242.162833,
     "end_time": "2021-05-22T07:40:41.664784",
     "exception": false,
     "start_time": "2021-05-22T07:36:39.501951",
     "status": "completed"
    },
    "tags": []
   },
   "outputs": [
    {
     "name": "stdout",
     "output_type": "stream",
     "text": [
      "Fitting 5 folds for each of 1755 candidates, totalling 8775 fits\n"
     ]
    },
    {
     "data": {
      "text/plain": [
       "0.8409090909090909"
      ]
     },
     "execution_count": 60,
     "metadata": {},
     "output_type": "execute_result"
    }
   ],
   "source": [
    "knn_grid = {'n_neighbors': np.arange(2, 15),\n",
    "            'leaf_size': [10, 15, 20, 25, 30, 35, 40, 45, 50],\n",
    "            'p':[1,2,3,4,5], \n",
    "            'algorithm': ['auto', 'ball_tree', 'kd_tree']}\n",
    "\n",
    "knn_gscv = GridSearchCV(KNeighborsClassifier(),\n",
    "                        param_grid=knn_grid,\n",
    "                        cv=5,\n",
    "                        verbose=True)\n",
    "\n",
    "knn_gscv.fit(x_train, y_train)\n",
    "knn_tuned_score = knn_gscv.score(x_test, y_test)\n",
    "knn_tuned_score"
   ]
  },
  {
   "cell_type": "code",
   "execution_count": 61,
   "id": "victorian-envelope",
   "metadata": {
    "execution": {
     "iopub.execute_input": "2021-05-22T07:40:41.856470Z",
     "iopub.status.busy": "2021-05-22T07:40:41.855926Z",
     "iopub.status.idle": "2021-05-22T07:40:41.860746Z",
     "shell.execute_reply": "2021-05-22T07:40:41.860321Z",
     "shell.execute_reply.started": "2021-05-20T18:32:25.480003Z"
    },
    "papermill": {
     "duration": 0.102566,
     "end_time": "2021-05-22T07:40:41.860849",
     "exception": false,
     "start_time": "2021-05-22T07:40:41.758283",
     "status": "completed"
    },
    "tags": []
   },
   "outputs": [
    {
     "data": {
      "text/plain": [
       "{'algorithm': 'auto', 'leaf_size': 10, 'n_neighbors': 3, 'p': 1}"
      ]
     },
     "execution_count": 61,
     "metadata": {},
     "output_type": "execute_result"
    }
   ],
   "source": [
    "knn_gscv.best_params_"
   ]
  },
  {
   "cell_type": "markdown",
   "id": "patient-judges",
   "metadata": {
    "papermill": {
     "duration": 0.092083,
     "end_time": "2021-05-22T07:40:42.046214",
     "exception": false,
     "start_time": "2021-05-22T07:40:41.954131",
     "status": "completed"
    },
    "tags": []
   },
   "source": [
    "# Random Forest"
   ]
  },
  {
   "cell_type": "code",
   "execution_count": 62,
   "id": "prospective-questionnaire",
   "metadata": {
    "execution": {
     "iopub.execute_input": "2021-05-22T07:40:42.249205Z",
     "iopub.status.busy": "2021-05-22T07:40:42.248467Z",
     "iopub.status.idle": "2021-05-22T07:40:44.276615Z",
     "shell.execute_reply": "2021-05-22T07:40:44.276189Z",
     "shell.execute_reply.started": "2021-05-22T07:03:32.218935Z"
    },
    "papermill": {
     "duration": 2.13621,
     "end_time": "2021-05-22T07:40:44.276732",
     "exception": false,
     "start_time": "2021-05-22T07:40:42.140522",
     "status": "completed"
    },
    "tags": []
   },
   "outputs": [
    {
     "data": {
      "text/plain": [
       "0.8545454545454545"
      ]
     },
     "execution_count": 62,
     "metadata": {},
     "output_type": "execute_result"
    }
   ],
   "source": [
    "from sklearn.ensemble import RandomForestClassifier\n",
    "\n",
    "rand_clf = RandomForestClassifier(n_estimators=1000, random_state = 35)\n",
    "rand_clf.fit(x_train, y_train)\n",
    "ranf_score = rand_clf.score(x_test, y_test)\n",
    "ranf_score"
   ]
  },
  {
   "cell_type": "markdown",
   "id": "annoying-setting",
   "metadata": {
    "papermill": {
     "duration": 0.096573,
     "end_time": "2021-05-22T07:40:44.475585",
     "exception": false,
     "start_time": "2021-05-22T07:40:44.379012",
     "status": "completed"
    },
    "tags": []
   },
   "source": [
    "# Random Forest hyperparameter tuning"
   ]
  },
  {
   "cell_type": "code",
   "execution_count": 63,
   "id": "concerned-consistency",
   "metadata": {
    "execution": {
     "iopub.execute_input": "2021-05-22T07:40:44.673052Z",
     "iopub.status.busy": "2021-05-22T07:40:44.669571Z",
     "iopub.status.idle": "2021-05-22T07:59:56.076794Z",
     "shell.execute_reply": "2021-05-22T07:59:56.077217Z",
     "shell.execute_reply.started": "2021-05-22T07:03:38.419271Z"
    },
    "papermill": {
     "duration": 1151.508178,
     "end_time": "2021-05-22T07:59:56.077364",
     "exception": false,
     "start_time": "2021-05-22T07:40:44.569186",
     "status": "completed"
    },
    "tags": []
   },
   "outputs": [
    {
     "name": "stdout",
     "output_type": "stream",
     "text": [
      "Fitting 5 folds for each of 100 candidates, totalling 500 fits\n"
     ]
    },
    {
     "data": {
      "text/plain": [
       "0.8227272727272728"
      ]
     },
     "execution_count": 63,
     "metadata": {},
     "output_type": "execute_result"
    }
   ],
   "source": [
    "rfcv_grid = {\"n_estimators\": np.arange(500, 2000, 100),\n",
    "           \"max_depth\": [None, 3, 5, 10],\n",
    "           \"min_samples_split\": np.arange(2, 20, 2),\n",
    "           \"min_samples_leaf\": np.arange(1, 20, 2)}\n",
    "\n",
    "rfcv_clf = RandomizedSearchCV(RandomForestClassifier(),\n",
    "                           param_distributions = rfcv_grid,\n",
    "                           cv=5,\n",
    "                           n_iter = 100,\n",
    "                           verbose=True)\n",
    "\n",
    "rfcv_clf.fit(x_train, y_train)\n",
    "ranf_tuned_score = rfcv_clf.score(x_test, y_test)\n",
    "ranf_tuned_score"
   ]
  },
  {
   "cell_type": "code",
   "execution_count": 64,
   "id": "varied-military",
   "metadata": {
    "execution": {
     "iopub.execute_input": "2021-05-22T07:59:56.300438Z",
     "iopub.status.busy": "2021-05-22T07:59:56.299716Z",
     "iopub.status.idle": "2021-05-22T07:59:56.303123Z",
     "shell.execute_reply": "2021-05-22T07:59:56.302734Z",
     "shell.execute_reply.started": "2021-05-22T07:22:38.227181Z"
    },
    "papermill": {
     "duration": 0.130929,
     "end_time": "2021-05-22T07:59:56.303243",
     "exception": false,
     "start_time": "2021-05-22T07:59:56.172314",
     "status": "completed"
    },
    "tags": []
   },
   "outputs": [
    {
     "data": {
      "text/plain": [
       "{'n_estimators': 500,\n",
       " 'min_samples_split': 8,\n",
       " 'min_samples_leaf': 5,\n",
       " 'max_depth': 10}"
      ]
     },
     "execution_count": 64,
     "metadata": {},
     "output_type": "execute_result"
    }
   ],
   "source": [
    "rfcv_clf.best_params_"
   ]
  },
  {
   "cell_type": "markdown",
   "id": "skilled-charlotte",
   "metadata": {
    "papermill": {
     "duration": 0.093755,
     "end_time": "2021-05-22T07:59:56.490038",
     "exception": false,
     "start_time": "2021-05-22T07:59:56.396283",
     "status": "completed"
    },
    "tags": []
   },
   "source": [
    "Let's make a dictionary of all models and accuracy"
   ]
  },
  {
   "cell_type": "code",
   "execution_count": 65,
   "id": "accompanied-toolbox",
   "metadata": {
    "execution": {
     "iopub.execute_input": "2021-05-22T07:59:56.681792Z",
     "iopub.status.busy": "2021-05-22T07:59:56.681039Z",
     "iopub.status.idle": "2021-05-22T07:59:56.683818Z",
     "shell.execute_reply": "2021-05-22T07:59:56.683428Z",
     "shell.execute_reply.started": "2021-05-22T07:24:19.707279Z"
    },
    "papermill": {
     "duration": 0.100807,
     "end_time": "2021-05-22T07:59:56.683929",
     "exception": false,
     "start_time": "2021-05-22T07:59:56.583122",
     "status": "completed"
    },
    "tags": []
   },
   "outputs": [],
   "source": [
    "score = [{'Model':'Logistic Regression', 'Score': log_score, 'Tuned_score': log_tuned_score}, \n",
    "         {'Model':'SVC', 'Score': svc_score, 'Tuned_score': svc_tuned_score},\n",
    "         {'Model':'KNN', 'Score': knn_score, 'Tuned_score': knn_tuned_score},\n",
    "         {'Model':'Random Forest', 'Score': ranf_score, 'Tuned_score': ranf_tuned_score}]"
   ]
  },
  {
   "cell_type": "markdown",
   "id": "marked-layer",
   "metadata": {
    "papermill": {
     "duration": 0.092918,
     "end_time": "2021-05-22T07:59:56.870003",
     "exception": false,
     "start_time": "2021-05-22T07:59:56.777085",
     "status": "completed"
    },
    "tags": []
   },
   "source": [
    "Let's view all model score as a dataframe to get a good overview"
   ]
  },
  {
   "cell_type": "code",
   "execution_count": 66,
   "id": "raised-theology",
   "metadata": {
    "execution": {
     "iopub.execute_input": "2021-05-22T07:59:57.068473Z",
     "iopub.status.busy": "2021-05-22T07:59:57.067588Z",
     "iopub.status.idle": "2021-05-22T07:59:57.071568Z",
     "shell.execute_reply": "2021-05-22T07:59:57.071105Z",
     "shell.execute_reply.started": "2021-05-22T07:24:22.852252Z"
    },
    "papermill": {
     "duration": 0.106887,
     "end_time": "2021-05-22T07:59:57.071676",
     "exception": false,
     "start_time": "2021-05-22T07:59:56.964789",
     "status": "completed"
    },
    "tags": []
   },
   "outputs": [
    {
     "data": {
      "text/html": [
       "<div>\n",
       "<style scoped>\n",
       "    .dataframe tbody tr th:only-of-type {\n",
       "        vertical-align: middle;\n",
       "    }\n",
       "\n",
       "    .dataframe tbody tr th {\n",
       "        vertical-align: top;\n",
       "    }\n",
       "\n",
       "    .dataframe thead th {\n",
       "        text-align: right;\n",
       "    }\n",
       "</style>\n",
       "<table border=\"1\" class=\"dataframe\">\n",
       "  <thead>\n",
       "    <tr style=\"text-align: right;\">\n",
       "      <th></th>\n",
       "      <th>Model</th>\n",
       "      <th>Score</th>\n",
       "      <th>Tuned_score</th>\n",
       "    </tr>\n",
       "  </thead>\n",
       "  <tbody>\n",
       "    <tr>\n",
       "      <th>0</th>\n",
       "      <td>Logistic Regression</td>\n",
       "      <td>0.754545</td>\n",
       "      <td>0.759091</td>\n",
       "    </tr>\n",
       "    <tr>\n",
       "      <th>1</th>\n",
       "      <td>SVC</td>\n",
       "      <td>0.809091</td>\n",
       "      <td>0.759091</td>\n",
       "    </tr>\n",
       "    <tr>\n",
       "      <th>2</th>\n",
       "      <td>KNN</td>\n",
       "      <td>0.818182</td>\n",
       "      <td>0.840909</td>\n",
       "    </tr>\n",
       "    <tr>\n",
       "      <th>3</th>\n",
       "      <td>Random Forest</td>\n",
       "      <td>0.854545</td>\n",
       "      <td>0.822727</td>\n",
       "    </tr>\n",
       "  </tbody>\n",
       "</table>\n",
       "</div>"
      ],
      "text/plain": [
       "                 Model     Score  Tuned_score\n",
       "0  Logistic Regression  0.754545     0.759091\n",
       "1                  SVC  0.809091     0.759091\n",
       "2                  KNN  0.818182     0.840909\n",
       "3        Random Forest  0.854545     0.822727"
      ]
     },
     "execution_count": 66,
     "metadata": {},
     "output_type": "execute_result"
    }
   ],
   "source": [
    "pd.DataFrame(score, columns=['Model','Score','Tuned_score'])"
   ]
  },
  {
   "cell_type": "markdown",
   "id": "operating-stamp",
   "metadata": {
    "papermill": {
     "duration": 0.094534,
     "end_time": "2021-05-22T07:59:57.263650",
     "exception": false,
     "start_time": "2021-05-22T07:59:57.169116",
     "status": "completed"
    },
    "tags": []
   },
   "source": [
    "# Preparing the test dataset"
   ]
  },
  {
   "cell_type": "code",
   "execution_count": 67,
   "id": "matched-austin",
   "metadata": {
    "execution": {
     "iopub.execute_input": "2021-05-22T07:59:57.464114Z",
     "iopub.status.busy": "2021-05-22T07:59:57.463215Z",
     "iopub.status.idle": "2021-05-22T07:59:57.466611Z",
     "shell.execute_reply": "2021-05-22T07:59:57.466976Z",
     "shell.execute_reply.started": "2021-05-22T07:26:15.655039Z"
    },
    "papermill": {
     "duration": 0.109881,
     "end_time": "2021-05-22T07:59:57.467103",
     "exception": false,
     "start_time": "2021-05-22T07:59:57.357222",
     "status": "completed"
    },
    "tags": []
   },
   "outputs": [
    {
     "data": {
      "text/html": [
       "<div>\n",
       "<style scoped>\n",
       "    .dataframe tbody tr th:only-of-type {\n",
       "        vertical-align: middle;\n",
       "    }\n",
       "\n",
       "    .dataframe tbody tr th {\n",
       "        vertical-align: top;\n",
       "    }\n",
       "\n",
       "    .dataframe thead th {\n",
       "        text-align: right;\n",
       "    }\n",
       "</style>\n",
       "<table border=\"1\" class=\"dataframe\">\n",
       "  <thead>\n",
       "    <tr style=\"text-align: right;\">\n",
       "      <th></th>\n",
       "      <th>PassengerId</th>\n",
       "      <th>Pclass</th>\n",
       "      <th>Name</th>\n",
       "      <th>Sex</th>\n",
       "      <th>Age</th>\n",
       "      <th>SibSp</th>\n",
       "      <th>Parch</th>\n",
       "      <th>Ticket</th>\n",
       "      <th>Fare</th>\n",
       "      <th>Cabin</th>\n",
       "      <th>Embarked</th>\n",
       "    </tr>\n",
       "  </thead>\n",
       "  <tbody>\n",
       "    <tr>\n",
       "      <th>0</th>\n",
       "      <td>892</td>\n",
       "      <td>3</td>\n",
       "      <td>Kelly, Mr. James</td>\n",
       "      <td>male</td>\n",
       "      <td>34.5</td>\n",
       "      <td>0</td>\n",
       "      <td>0</td>\n",
       "      <td>330911</td>\n",
       "      <td>7.8292</td>\n",
       "      <td>NaN</td>\n",
       "      <td>Q</td>\n",
       "    </tr>\n",
       "    <tr>\n",
       "      <th>1</th>\n",
       "      <td>893</td>\n",
       "      <td>3</td>\n",
       "      <td>Wilkes, Mrs. James (Ellen Needs)</td>\n",
       "      <td>female</td>\n",
       "      <td>47.0</td>\n",
       "      <td>1</td>\n",
       "      <td>0</td>\n",
       "      <td>363272</td>\n",
       "      <td>7.0000</td>\n",
       "      <td>NaN</td>\n",
       "      <td>S</td>\n",
       "    </tr>\n",
       "    <tr>\n",
       "      <th>2</th>\n",
       "      <td>894</td>\n",
       "      <td>2</td>\n",
       "      <td>Myles, Mr. Thomas Francis</td>\n",
       "      <td>male</td>\n",
       "      <td>62.0</td>\n",
       "      <td>0</td>\n",
       "      <td>0</td>\n",
       "      <td>240276</td>\n",
       "      <td>9.6875</td>\n",
       "      <td>NaN</td>\n",
       "      <td>Q</td>\n",
       "    </tr>\n",
       "    <tr>\n",
       "      <th>3</th>\n",
       "      <td>895</td>\n",
       "      <td>3</td>\n",
       "      <td>Wirz, Mr. Albert</td>\n",
       "      <td>male</td>\n",
       "      <td>27.0</td>\n",
       "      <td>0</td>\n",
       "      <td>0</td>\n",
       "      <td>315154</td>\n",
       "      <td>8.6625</td>\n",
       "      <td>NaN</td>\n",
       "      <td>S</td>\n",
       "    </tr>\n",
       "    <tr>\n",
       "      <th>4</th>\n",
       "      <td>896</td>\n",
       "      <td>3</td>\n",
       "      <td>Hirvonen, Mrs. Alexander (Helga E Lindqvist)</td>\n",
       "      <td>female</td>\n",
       "      <td>22.0</td>\n",
       "      <td>1</td>\n",
       "      <td>1</td>\n",
       "      <td>3101298</td>\n",
       "      <td>12.2875</td>\n",
       "      <td>NaN</td>\n",
       "      <td>S</td>\n",
       "    </tr>\n",
       "  </tbody>\n",
       "</table>\n",
       "</div>"
      ],
      "text/plain": [
       "   PassengerId  Pclass                                          Name     Sex  \\\n",
       "0          892       3                              Kelly, Mr. James    male   \n",
       "1          893       3              Wilkes, Mrs. James (Ellen Needs)  female   \n",
       "2          894       2                     Myles, Mr. Thomas Francis    male   \n",
       "3          895       3                              Wirz, Mr. Albert    male   \n",
       "4          896       3  Hirvonen, Mrs. Alexander (Helga E Lindqvist)  female   \n",
       "\n",
       "    Age  SibSp  Parch   Ticket     Fare Cabin Embarked  \n",
       "0  34.5      0      0   330911   7.8292   NaN        Q  \n",
       "1  47.0      1      0   363272   7.0000   NaN        S  \n",
       "2  62.0      0      0   240276   9.6875   NaN        Q  \n",
       "3  27.0      0      0   315154   8.6625   NaN        S  \n",
       "4  22.0      1      1  3101298  12.2875   NaN        S  "
      ]
     },
     "execution_count": 67,
     "metadata": {},
     "output_type": "execute_result"
    }
   ],
   "source": [
    "test.head()"
   ]
  },
  {
   "cell_type": "code",
   "execution_count": 68,
   "id": "suffering-reason",
   "metadata": {
    "execution": {
     "iopub.execute_input": "2021-05-22T07:59:57.660846Z",
     "iopub.status.busy": "2021-05-22T07:59:57.660130Z",
     "iopub.status.idle": "2021-05-22T07:59:57.663671Z",
     "shell.execute_reply": "2021-05-22T07:59:57.663218Z",
     "shell.execute_reply.started": "2021-05-22T07:27:02.925112Z"
    },
    "papermill": {
     "duration": 0.101283,
     "end_time": "2021-05-22T07:59:57.663775",
     "exception": false,
     "start_time": "2021-05-22T07:59:57.562492",
     "status": "completed"
    },
    "tags": []
   },
   "outputs": [
    {
     "data": {
      "text/plain": [
       "(418, 11)"
      ]
     },
     "execution_count": 68,
     "metadata": {},
     "output_type": "execute_result"
    }
   ],
   "source": [
    "test.shape"
   ]
  },
  {
   "cell_type": "code",
   "execution_count": 69,
   "id": "figured-connection",
   "metadata": {
    "execution": {
     "iopub.execute_input": "2021-05-22T07:59:57.857859Z",
     "iopub.status.busy": "2021-05-22T07:59:57.857381Z",
     "iopub.status.idle": "2021-05-22T07:59:57.861039Z",
     "shell.execute_reply": "2021-05-22T07:59:57.860651Z",
     "shell.execute_reply.started": "2021-05-22T07:27:11.898051Z"
    },
    "papermill": {
     "duration": 0.10282,
     "end_time": "2021-05-22T07:59:57.861139",
     "exception": false,
     "start_time": "2021-05-22T07:59:57.758319",
     "status": "completed"
    },
    "tags": []
   },
   "outputs": [],
   "source": [
    "new_test = test.drop(['PassengerId', 'Name', 'Ticket', 'Cabin'], axis = 1)"
   ]
  },
  {
   "cell_type": "code",
   "execution_count": 70,
   "id": "automated-excitement",
   "metadata": {
    "execution": {
     "iopub.execute_input": "2021-05-22T07:59:58.069892Z",
     "iopub.status.busy": "2021-05-22T07:59:58.069176Z",
     "iopub.status.idle": "2021-05-22T07:59:58.072630Z",
     "shell.execute_reply": "2021-05-22T07:59:58.072236Z",
     "shell.execute_reply.started": "2021-05-22T07:27:16.979064Z"
    },
    "papermill": {
     "duration": 0.11617,
     "end_time": "2021-05-22T07:59:58.072735",
     "exception": false,
     "start_time": "2021-05-22T07:59:57.956565",
     "status": "completed"
    },
    "tags": []
   },
   "outputs": [
    {
     "data": {
      "text/html": [
       "<div>\n",
       "<style scoped>\n",
       "    .dataframe tbody tr th:only-of-type {\n",
       "        vertical-align: middle;\n",
       "    }\n",
       "\n",
       "    .dataframe tbody tr th {\n",
       "        vertical-align: top;\n",
       "    }\n",
       "\n",
       "    .dataframe thead th {\n",
       "        text-align: right;\n",
       "    }\n",
       "</style>\n",
       "<table border=\"1\" class=\"dataframe\">\n",
       "  <thead>\n",
       "    <tr style=\"text-align: right;\">\n",
       "      <th></th>\n",
       "      <th>Pclass</th>\n",
       "      <th>Sex</th>\n",
       "      <th>Age</th>\n",
       "      <th>SibSp</th>\n",
       "      <th>Parch</th>\n",
       "      <th>Fare</th>\n",
       "      <th>Embarked</th>\n",
       "    </tr>\n",
       "  </thead>\n",
       "  <tbody>\n",
       "    <tr>\n",
       "      <th>0</th>\n",
       "      <td>3</td>\n",
       "      <td>male</td>\n",
       "      <td>34.5</td>\n",
       "      <td>0</td>\n",
       "      <td>0</td>\n",
       "      <td>7.8292</td>\n",
       "      <td>Q</td>\n",
       "    </tr>\n",
       "    <tr>\n",
       "      <th>1</th>\n",
       "      <td>3</td>\n",
       "      <td>female</td>\n",
       "      <td>47.0</td>\n",
       "      <td>1</td>\n",
       "      <td>0</td>\n",
       "      <td>7.0000</td>\n",
       "      <td>S</td>\n",
       "    </tr>\n",
       "    <tr>\n",
       "      <th>2</th>\n",
       "      <td>2</td>\n",
       "      <td>male</td>\n",
       "      <td>62.0</td>\n",
       "      <td>0</td>\n",
       "      <td>0</td>\n",
       "      <td>9.6875</td>\n",
       "      <td>Q</td>\n",
       "    </tr>\n",
       "    <tr>\n",
       "      <th>3</th>\n",
       "      <td>3</td>\n",
       "      <td>male</td>\n",
       "      <td>27.0</td>\n",
       "      <td>0</td>\n",
       "      <td>0</td>\n",
       "      <td>8.6625</td>\n",
       "      <td>S</td>\n",
       "    </tr>\n",
       "    <tr>\n",
       "      <th>4</th>\n",
       "      <td>3</td>\n",
       "      <td>female</td>\n",
       "      <td>22.0</td>\n",
       "      <td>1</td>\n",
       "      <td>1</td>\n",
       "      <td>12.2875</td>\n",
       "      <td>S</td>\n",
       "    </tr>\n",
       "  </tbody>\n",
       "</table>\n",
       "</div>"
      ],
      "text/plain": [
       "   Pclass     Sex   Age  SibSp  Parch     Fare Embarked\n",
       "0       3    male  34.5      0      0   7.8292        Q\n",
       "1       3  female  47.0      1      0   7.0000        S\n",
       "2       2    male  62.0      0      0   9.6875        Q\n",
       "3       3    male  27.0      0      0   8.6625        S\n",
       "4       3  female  22.0      1      1  12.2875        S"
      ]
     },
     "execution_count": 70,
     "metadata": {},
     "output_type": "execute_result"
    }
   ],
   "source": [
    "new_test.head()"
   ]
  },
  {
   "cell_type": "markdown",
   "id": "incoming-building",
   "metadata": {
    "papermill": {
     "duration": 0.095738,
     "end_time": "2021-05-22T07:59:58.264921",
     "exception": false,
     "start_time": "2021-05-22T07:59:58.169183",
     "status": "completed"
    },
    "tags": []
   },
   "source": [
    "Ckecking for null values"
   ]
  },
  {
   "cell_type": "code",
   "execution_count": 71,
   "id": "legendary-couple",
   "metadata": {
    "execution": {
     "iopub.execute_input": "2021-05-22T07:59:58.461188Z",
     "iopub.status.busy": "2021-05-22T07:59:58.460356Z",
     "iopub.status.idle": "2021-05-22T07:59:58.463441Z",
     "shell.execute_reply": "2021-05-22T07:59:58.463905Z",
     "shell.execute_reply.started": "2021-05-22T07:27:25.123084Z"
    },
    "papermill": {
     "duration": 0.103838,
     "end_time": "2021-05-22T07:59:58.464030",
     "exception": false,
     "start_time": "2021-05-22T07:59:58.360192",
     "status": "completed"
    },
    "tags": []
   },
   "outputs": [
    {
     "data": {
      "text/plain": [
       "Pclass       0\n",
       "Sex          0\n",
       "Age         86\n",
       "SibSp        0\n",
       "Parch        0\n",
       "Fare         1\n",
       "Embarked     0\n",
       "dtype: int64"
      ]
     },
     "execution_count": 71,
     "metadata": {},
     "output_type": "execute_result"
    }
   ],
   "source": [
    "new_test.isna().sum()"
   ]
  },
  {
   "cell_type": "markdown",
   "id": "wanted-authorization",
   "metadata": {
    "papermill": {
     "duration": 0.095584,
     "end_time": "2021-05-22T07:59:58.654236",
     "exception": false,
     "start_time": "2021-05-22T07:59:58.558652",
     "status": "completed"
    },
    "tags": []
   },
   "source": [
    "Filling the null values with mean values"
   ]
  },
  {
   "cell_type": "code",
   "execution_count": 72,
   "id": "specified-interim",
   "metadata": {
    "execution": {
     "iopub.execute_input": "2021-05-22T07:59:58.853112Z",
     "iopub.status.busy": "2021-05-22T07:59:58.852329Z",
     "iopub.status.idle": "2021-05-22T07:59:58.854798Z",
     "shell.execute_reply": "2021-05-22T07:59:58.854405Z",
     "shell.execute_reply.started": "2021-05-22T07:27:31.798014Z"
    },
    "papermill": {
     "duration": 0.103246,
     "end_time": "2021-05-22T07:59:58.854903",
     "exception": false,
     "start_time": "2021-05-22T07:59:58.751657",
     "status": "completed"
    },
    "tags": []
   },
   "outputs": [],
   "source": [
    "new_test['Age'].fillna(new_train['Age'].mean(), inplace = True)\n",
    "new_test['Fare'].fillna(new_train['Fare'].mean(), inplace = True)"
   ]
  },
  {
   "cell_type": "markdown",
   "id": "human-engineer",
   "metadata": {
    "papermill": {
     "duration": 0.101752,
     "end_time": "2021-05-22T07:59:59.051724",
     "exception": false,
     "start_time": "2021-05-22T07:59:58.949972",
     "status": "completed"
    },
    "tags": []
   },
   "source": [
    "As before we now have to take care of `categorical columns`"
   ]
  },
  {
   "cell_type": "code",
   "execution_count": 73,
   "id": "powerful-sapphire",
   "metadata": {
    "execution": {
     "iopub.execute_input": "2021-05-22T07:59:59.254736Z",
     "iopub.status.busy": "2021-05-22T07:59:59.253900Z",
     "iopub.status.idle": "2021-05-22T07:59:59.256434Z",
     "shell.execute_reply": "2021-05-22T07:59:59.255879Z",
     "shell.execute_reply.started": "2021-05-22T07:27:56.005585Z"
    },
    "papermill": {
     "duration": 0.10723,
     "end_time": "2021-05-22T07:59:59.256546",
     "exception": false,
     "start_time": "2021-05-22T07:59:59.149316",
     "status": "completed"
    },
    "tags": []
   },
   "outputs": [],
   "source": [
    "categorical_features = ['Sex', 'Embarked']\n",
    "onehotencode = OneHotEncoder()\n",
    "\n",
    "transformer = ColumnTransformer([('Encoder', onehotencode, categorical_features)], remainder = 'passthrough')\n",
    "\n",
    "encoded_test = transformer.fit_transform(new_test)"
   ]
  },
  {
   "cell_type": "code",
   "execution_count": 74,
   "id": "retired-procurement",
   "metadata": {
    "execution": {
     "iopub.execute_input": "2021-05-22T07:59:59.453041Z",
     "iopub.status.busy": "2021-05-22T07:59:59.452321Z",
     "iopub.status.idle": "2021-05-22T07:59:59.455009Z",
     "shell.execute_reply": "2021-05-22T07:59:59.454601Z",
     "shell.execute_reply.started": "2021-05-22T07:28:21.545600Z"
    },
    "papermill": {
     "duration": 0.102074,
     "end_time": "2021-05-22T07:59:59.455132",
     "exception": false,
     "start_time": "2021-05-22T07:59:59.353058",
     "status": "completed"
    },
    "tags": []
   },
   "outputs": [],
   "source": [
    "encoded_test_df = pd.DataFrame(encoded_test)"
   ]
  },
  {
   "cell_type": "code",
   "execution_count": 75,
   "id": "hollywood-implement",
   "metadata": {
    "execution": {
     "iopub.execute_input": "2021-05-22T07:59:59.649327Z",
     "iopub.status.busy": "2021-05-22T07:59:59.648642Z",
     "iopub.status.idle": "2021-05-22T07:59:59.651596Z",
     "shell.execute_reply": "2021-05-22T07:59:59.652020Z",
     "shell.execute_reply.started": "2021-05-22T07:28:24.120074Z"
    },
    "papermill": {
     "duration": 0.101668,
     "end_time": "2021-05-22T07:59:59.652135",
     "exception": false,
     "start_time": "2021-05-22T07:59:59.550467",
     "status": "completed"
    },
    "tags": []
   },
   "outputs": [
    {
     "data": {
      "text/plain": [
       "(418, 10)"
      ]
     },
     "execution_count": 75,
     "metadata": {},
     "output_type": "execute_result"
    }
   ],
   "source": [
    "encoded_test_df.shape"
   ]
  },
  {
   "cell_type": "code",
   "execution_count": 76,
   "id": "collectible-remainder",
   "metadata": {
    "execution": {
     "iopub.execute_input": "2021-05-22T07:59:59.846193Z",
     "iopub.status.busy": "2021-05-22T07:59:59.845516Z",
     "iopub.status.idle": "2021-05-22T07:59:59.848167Z",
     "shell.execute_reply": "2021-05-22T07:59:59.847776Z",
     "shell.execute_reply.started": "2021-05-22T07:29:02.671575Z"
    },
    "papermill": {
     "duration": 0.101141,
     "end_time": "2021-05-22T07:59:59.848287",
     "exception": false,
     "start_time": "2021-05-22T07:59:59.747146",
     "status": "completed"
    },
    "tags": []
   },
   "outputs": [],
   "source": [
    "encoded_test_x = encoded_test_df.iloc[:, 1:]"
   ]
  },
  {
   "cell_type": "code",
   "execution_count": 77,
   "id": "revised-pattern",
   "metadata": {
    "execution": {
     "iopub.execute_input": "2021-05-22T08:00:00.101427Z",
     "iopub.status.busy": "2021-05-22T08:00:00.099870Z",
     "iopub.status.idle": "2021-05-22T08:00:00.119298Z",
     "shell.execute_reply": "2021-05-22T08:00:00.118866Z",
     "shell.execute_reply.started": "2021-05-22T07:29:14.501508Z"
    },
    "papermill": {
     "duration": 0.174713,
     "end_time": "2021-05-22T08:00:00.119425",
     "exception": false,
     "start_time": "2021-05-22T07:59:59.944712",
     "status": "completed"
    },
    "tags": []
   },
   "outputs": [
    {
     "data": {
      "text/html": [
       "<div>\n",
       "<style scoped>\n",
       "    .dataframe tbody tr th:only-of-type {\n",
       "        vertical-align: middle;\n",
       "    }\n",
       "\n",
       "    .dataframe tbody tr th {\n",
       "        vertical-align: top;\n",
       "    }\n",
       "\n",
       "    .dataframe thead th {\n",
       "        text-align: right;\n",
       "    }\n",
       "</style>\n",
       "<table border=\"1\" class=\"dataframe\">\n",
       "  <thead>\n",
       "    <tr style=\"text-align: right;\">\n",
       "      <th></th>\n",
       "      <th>1</th>\n",
       "      <th>2</th>\n",
       "      <th>3</th>\n",
       "      <th>4</th>\n",
       "      <th>5</th>\n",
       "      <th>6</th>\n",
       "      <th>7</th>\n",
       "      <th>8</th>\n",
       "      <th>9</th>\n",
       "    </tr>\n",
       "  </thead>\n",
       "  <tbody>\n",
       "    <tr>\n",
       "      <th>0</th>\n",
       "      <td>1.0</td>\n",
       "      <td>0.0</td>\n",
       "      <td>1.0</td>\n",
       "      <td>0.0</td>\n",
       "      <td>3.0</td>\n",
       "      <td>34.5</td>\n",
       "      <td>0.0</td>\n",
       "      <td>0.0</td>\n",
       "      <td>7.8292</td>\n",
       "    </tr>\n",
       "    <tr>\n",
       "      <th>1</th>\n",
       "      <td>0.0</td>\n",
       "      <td>0.0</td>\n",
       "      <td>0.0</td>\n",
       "      <td>1.0</td>\n",
       "      <td>3.0</td>\n",
       "      <td>47.0</td>\n",
       "      <td>1.0</td>\n",
       "      <td>0.0</td>\n",
       "      <td>7.0000</td>\n",
       "    </tr>\n",
       "    <tr>\n",
       "      <th>2</th>\n",
       "      <td>1.0</td>\n",
       "      <td>0.0</td>\n",
       "      <td>1.0</td>\n",
       "      <td>0.0</td>\n",
       "      <td>2.0</td>\n",
       "      <td>62.0</td>\n",
       "      <td>0.0</td>\n",
       "      <td>0.0</td>\n",
       "      <td>9.6875</td>\n",
       "    </tr>\n",
       "    <tr>\n",
       "      <th>3</th>\n",
       "      <td>1.0</td>\n",
       "      <td>0.0</td>\n",
       "      <td>0.0</td>\n",
       "      <td>1.0</td>\n",
       "      <td>3.0</td>\n",
       "      <td>27.0</td>\n",
       "      <td>0.0</td>\n",
       "      <td>0.0</td>\n",
       "      <td>8.6625</td>\n",
       "    </tr>\n",
       "    <tr>\n",
       "      <th>4</th>\n",
       "      <td>0.0</td>\n",
       "      <td>0.0</td>\n",
       "      <td>0.0</td>\n",
       "      <td>1.0</td>\n",
       "      <td>3.0</td>\n",
       "      <td>22.0</td>\n",
       "      <td>1.0</td>\n",
       "      <td>1.0</td>\n",
       "      <td>12.2875</td>\n",
       "    </tr>\n",
       "  </tbody>\n",
       "</table>\n",
       "</div>"
      ],
      "text/plain": [
       "     1    2    3    4    5     6    7    8        9\n",
       "0  1.0  0.0  1.0  0.0  3.0  34.5  0.0  0.0   7.8292\n",
       "1  0.0  0.0  0.0  1.0  3.0  47.0  1.0  0.0   7.0000\n",
       "2  1.0  0.0  1.0  0.0  2.0  62.0  0.0  0.0   9.6875\n",
       "3  1.0  0.0  0.0  1.0  3.0  27.0  0.0  0.0   8.6625\n",
       "4  0.0  0.0  0.0  1.0  3.0  22.0  1.0  1.0  12.2875"
      ]
     },
     "execution_count": 77,
     "metadata": {},
     "output_type": "execute_result"
    }
   ],
   "source": [
    "encoded_test_x.head()"
   ]
  },
  {
   "cell_type": "code",
   "execution_count": 78,
   "id": "stock-wheel",
   "metadata": {
    "execution": {
     "iopub.execute_input": "2021-05-22T08:00:00.439278Z",
     "iopub.status.busy": "2021-05-22T08:00:00.438475Z",
     "iopub.status.idle": "2021-05-22T08:00:00.443195Z",
     "shell.execute_reply": "2021-05-22T08:00:00.443778Z",
     "shell.execute_reply.started": "2021-05-22T07:29:27.456333Z"
    },
    "papermill": {
     "duration": 0.166798,
     "end_time": "2021-05-22T08:00:00.443964",
     "exception": false,
     "start_time": "2021-05-22T08:00:00.277166",
     "status": "completed"
    },
    "tags": []
   },
   "outputs": [
    {
     "data": {
      "text/plain": [
       "(418, 9)"
      ]
     },
     "execution_count": 78,
     "metadata": {},
     "output_type": "execute_result"
    }
   ],
   "source": [
    "encoded_test_x.shape"
   ]
  },
  {
   "cell_type": "markdown",
   "id": "worldwide-deviation",
   "metadata": {
    "papermill": {
     "duration": 0.095605,
     "end_time": "2021-05-22T08:00:00.666222",
     "exception": false,
     "start_time": "2021-05-22T08:00:00.570617",
     "status": "completed"
    },
    "tags": []
   },
   "source": [
    "Scaling `encoding_test_x`"
   ]
  },
  {
   "cell_type": "code",
   "execution_count": 79,
   "id": "guilty-hello",
   "metadata": {
    "execution": {
     "iopub.execute_input": "2021-05-22T08:00:00.864055Z",
     "iopub.status.busy": "2021-05-22T08:00:00.863289Z",
     "iopub.status.idle": "2021-05-22T08:00:00.866015Z",
     "shell.execute_reply": "2021-05-22T08:00:00.865616Z",
     "shell.execute_reply.started": "2021-05-22T07:31:05.398595Z"
    },
    "papermill": {
     "duration": 0.103788,
     "end_time": "2021-05-22T08:00:00.866123",
     "exception": false,
     "start_time": "2021-05-22T08:00:00.762335",
     "status": "completed"
    },
    "tags": []
   },
   "outputs": [],
   "source": [
    "encoded_test_x = scaler.transform(encoded_test_x)"
   ]
  },
  {
   "cell_type": "code",
   "execution_count": 80,
   "id": "passive-pollution",
   "metadata": {
    "execution": {
     "iopub.execute_input": "2021-05-22T08:00:01.186704Z",
     "iopub.status.busy": "2021-05-22T08:00:01.185572Z",
     "iopub.status.idle": "2021-05-22T08:00:01.196772Z",
     "shell.execute_reply": "2021-05-22T08:00:01.195450Z",
     "shell.execute_reply.started": "2021-05-22T07:31:51.317306Z"
    },
    "papermill": {
     "duration": 0.191612,
     "end_time": "2021-05-22T08:00:01.196973",
     "exception": false,
     "start_time": "2021-05-22T08:00:01.005361",
     "status": "completed"
    },
    "tags": []
   },
   "outputs": [
    {
     "data": {
      "text/html": [
       "<div>\n",
       "<style scoped>\n",
       "    .dataframe tbody tr th:only-of-type {\n",
       "        vertical-align: middle;\n",
       "    }\n",
       "\n",
       "    .dataframe tbody tr th {\n",
       "        vertical-align: top;\n",
       "    }\n",
       "\n",
       "    .dataframe thead th {\n",
       "        text-align: right;\n",
       "    }\n",
       "</style>\n",
       "<table border=\"1\" class=\"dataframe\">\n",
       "  <thead>\n",
       "    <tr style=\"text-align: right;\">\n",
       "      <th></th>\n",
       "      <th>0</th>\n",
       "      <th>1</th>\n",
       "      <th>2</th>\n",
       "      <th>3</th>\n",
       "      <th>4</th>\n",
       "      <th>5</th>\n",
       "      <th>6</th>\n",
       "      <th>7</th>\n",
       "      <th>8</th>\n",
       "    </tr>\n",
       "  </thead>\n",
       "  <tbody>\n",
       "    <tr>\n",
       "      <th>0</th>\n",
       "      <td>0.857836</td>\n",
       "      <td>-0.502995</td>\n",
       "      <td>3.317739</td>\n",
       "      <td>-1.654485</td>\n",
       "      <td>0.881943</td>\n",
       "      <td>0.407257</td>\n",
       "      <td>-0.490857</td>\n",
       "      <td>-0.492958</td>\n",
       "      <td>-0.540061</td>\n",
       "    </tr>\n",
       "    <tr>\n",
       "      <th>1</th>\n",
       "      <td>-1.217175</td>\n",
       "      <td>-0.502995</td>\n",
       "      <td>-0.310172</td>\n",
       "      <td>0.635470</td>\n",
       "      <td>0.881943</td>\n",
       "      <td>1.400177</td>\n",
       "      <td>0.459403</td>\n",
       "      <td>-0.492958</td>\n",
       "      <td>-0.557243</td>\n",
       "    </tr>\n",
       "    <tr>\n",
       "      <th>2</th>\n",
       "      <td>0.857836</td>\n",
       "      <td>-0.502995</td>\n",
       "      <td>3.317739</td>\n",
       "      <td>-1.654485</td>\n",
       "      <td>-0.307359</td>\n",
       "      <td>2.591681</td>\n",
       "      <td>-0.490857</td>\n",
       "      <td>-0.492958</td>\n",
       "      <td>-0.501556</td>\n",
       "    </tr>\n",
       "    <tr>\n",
       "      <th>3</th>\n",
       "      <td>0.857836</td>\n",
       "      <td>-0.502995</td>\n",
       "      <td>-0.310172</td>\n",
       "      <td>0.635470</td>\n",
       "      <td>0.881943</td>\n",
       "      <td>-0.188495</td>\n",
       "      <td>-0.490857</td>\n",
       "      <td>-0.492958</td>\n",
       "      <td>-0.522794</td>\n",
       "    </tr>\n",
       "    <tr>\n",
       "      <th>4</th>\n",
       "      <td>-1.217175</td>\n",
       "      <td>-0.502995</td>\n",
       "      <td>-0.310172</td>\n",
       "      <td>0.635470</td>\n",
       "      <td>0.881943</td>\n",
       "      <td>-0.585663</td>\n",
       "      <td>0.459403</td>\n",
       "      <td>0.758895</td>\n",
       "      <td>-0.447682</td>\n",
       "    </tr>\n",
       "  </tbody>\n",
       "</table>\n",
       "</div>"
      ],
      "text/plain": [
       "          0         1         2         3         4         5         6  \\\n",
       "0  0.857836 -0.502995  3.317739 -1.654485  0.881943  0.407257 -0.490857   \n",
       "1 -1.217175 -0.502995 -0.310172  0.635470  0.881943  1.400177  0.459403   \n",
       "2  0.857836 -0.502995  3.317739 -1.654485 -0.307359  2.591681 -0.490857   \n",
       "3  0.857836 -0.502995 -0.310172  0.635470  0.881943 -0.188495 -0.490857   \n",
       "4 -1.217175 -0.502995 -0.310172  0.635470  0.881943 -0.585663  0.459403   \n",
       "\n",
       "          7         8  \n",
       "0 -0.492958 -0.540061  \n",
       "1 -0.492958 -0.557243  \n",
       "2 -0.492958 -0.501556  \n",
       "3 -0.492958 -0.522794  \n",
       "4  0.758895 -0.447682  "
      ]
     },
     "execution_count": 80,
     "metadata": {},
     "output_type": "execute_result"
    }
   ],
   "source": [
    "pd.DataFrame(encoded_test_x).head()"
   ]
  },
  {
   "cell_type": "markdown",
   "id": "clear-alloy",
   "metadata": {
    "papermill": {
     "duration": 0.160069,
     "end_time": "2021-05-22T08:00:01.546776",
     "exception": false,
     "start_time": "2021-05-22T08:00:01.386707",
     "status": "completed"
    },
    "tags": []
   },
   "source": []
  },
  {
   "cell_type": "markdown",
   "id": "flexible-dayton",
   "metadata": {
    "papermill": {
     "duration": 0.156772,
     "end_time": "2021-05-22T08:00:01.860842",
     "exception": false,
     "start_time": "2021-05-22T08:00:01.704070",
     "status": "completed"
    },
    "tags": []
   },
   "source": [
    "Now let's create `y_test`"
   ]
  },
  {
   "cell_type": "code",
   "execution_count": 81,
   "id": "signal-discipline",
   "metadata": {
    "execution": {
     "iopub.execute_input": "2021-05-22T08:00:02.138542Z",
     "iopub.status.busy": "2021-05-22T08:00:02.137967Z",
     "iopub.status.idle": "2021-05-22T08:00:02.145050Z",
     "shell.execute_reply": "2021-05-22T08:00:02.144550Z",
     "shell.execute_reply.started": "2021-05-22T07:32:15.775873Z"
    },
    "papermill": {
     "duration": 0.126118,
     "end_time": "2021-05-22T08:00:02.145168",
     "exception": false,
     "start_time": "2021-05-22T08:00:02.019050",
     "status": "completed"
    },
    "tags": []
   },
   "outputs": [],
   "source": [
    "gender_sub = pd.read_csv('../input/titanic/gender_submission.csv')\n",
    "y_test = gender_sub['Survived']"
   ]
  },
  {
   "cell_type": "code",
   "execution_count": 82,
   "id": "vocational-allah",
   "metadata": {
    "execution": {
     "iopub.execute_input": "2021-05-22T08:00:02.349693Z",
     "iopub.status.busy": "2021-05-22T08:00:02.348827Z",
     "iopub.status.idle": "2021-05-22T08:00:02.353784Z",
     "shell.execute_reply": "2021-05-22T08:00:02.353380Z",
     "shell.execute_reply.started": "2021-05-22T07:32:18.299171Z"
    },
    "papermill": {
     "duration": 0.108032,
     "end_time": "2021-05-22T08:00:02.353891",
     "exception": false,
     "start_time": "2021-05-22T08:00:02.245859",
     "status": "completed"
    },
    "tags": []
   },
   "outputs": [
    {
     "data": {
      "text/plain": [
       "(418,)"
      ]
     },
     "execution_count": 82,
     "metadata": {},
     "output_type": "execute_result"
    }
   ],
   "source": [
    "y_test.shape"
   ]
  },
  {
   "cell_type": "markdown",
   "id": "narrow-original",
   "metadata": {
    "papermill": {
     "duration": 0.099643,
     "end_time": "2021-05-22T08:00:02.553817",
     "exception": false,
     "start_time": "2021-05-22T08:00:02.454174",
     "status": "completed"
    },
    "tags": []
   },
   "source": [
    "**let's predict using `Random Forest Classifier`**"
   ]
  },
  {
   "cell_type": "code",
   "execution_count": 83,
   "id": "administrative-asset",
   "metadata": {
    "execution": {
     "iopub.execute_input": "2021-05-22T08:00:02.758956Z",
     "iopub.status.busy": "2021-05-22T08:00:02.758029Z",
     "iopub.status.idle": "2021-05-22T08:00:02.909833Z",
     "shell.execute_reply": "2021-05-22T08:00:02.909371Z",
     "shell.execute_reply.started": "2021-05-22T07:32:41.554423Z"
    },
    "papermill": {
     "duration": 0.255819,
     "end_time": "2021-05-22T08:00:02.909952",
     "exception": false,
     "start_time": "2021-05-22T08:00:02.654133",
     "status": "completed"
    },
    "tags": []
   },
   "outputs": [],
   "source": [
    "y_preds = rand_clf.predict(encoded_test_x)"
   ]
  },
  {
   "cell_type": "markdown",
   "id": "valuable-anniversary",
   "metadata": {
    "papermill": {
     "duration": 0.099348,
     "end_time": "2021-05-22T08:00:03.110239",
     "exception": false,
     "start_time": "2021-05-22T08:00:03.010891",
     "status": "completed"
    },
    "tags": []
   },
   "source": [
    "Check the result"
   ]
  },
  {
   "cell_type": "code",
   "execution_count": 84,
   "id": "steady-withdrawal",
   "metadata": {
    "execution": {
     "iopub.execute_input": "2021-05-22T08:00:03.328541Z",
     "iopub.status.busy": "2021-05-22T08:00:03.327691Z",
     "iopub.status.idle": "2021-05-22T08:00:03.331613Z",
     "shell.execute_reply": "2021-05-22T08:00:03.331159Z",
     "shell.execute_reply.started": "2021-05-22T07:32:46.706996Z"
    },
    "papermill": {
     "duration": 0.120469,
     "end_time": "2021-05-22T08:00:03.331720",
     "exception": false,
     "start_time": "2021-05-22T08:00:03.211251",
     "status": "completed"
    },
    "tags": []
   },
   "outputs": [
    {
     "data": {
      "text/html": [
       "<div>\n",
       "<style scoped>\n",
       "    .dataframe tbody tr th:only-of-type {\n",
       "        vertical-align: middle;\n",
       "    }\n",
       "\n",
       "    .dataframe tbody tr th {\n",
       "        vertical-align: top;\n",
       "    }\n",
       "\n",
       "    .dataframe thead th {\n",
       "        text-align: right;\n",
       "    }\n",
       "</style>\n",
       "<table border=\"1\" class=\"dataframe\">\n",
       "  <thead>\n",
       "    <tr style=\"text-align: right;\">\n",
       "      <th>Predicted Label</th>\n",
       "      <th>0</th>\n",
       "      <th>1</th>\n",
       "    </tr>\n",
       "    <tr>\n",
       "      <th>Actual Label</th>\n",
       "      <th></th>\n",
       "      <th></th>\n",
       "    </tr>\n",
       "  </thead>\n",
       "  <tbody>\n",
       "    <tr>\n",
       "      <th>0</th>\n",
       "      <td>226</td>\n",
       "      <td>40</td>\n",
       "    </tr>\n",
       "    <tr>\n",
       "      <th>1</th>\n",
       "      <td>30</td>\n",
       "      <td>122</td>\n",
       "    </tr>\n",
       "  </tbody>\n",
       "</table>\n",
       "</div>"
      ],
      "text/plain": [
       "Predicted Label    0    1\n",
       "Actual Label             \n",
       "0                226   40\n",
       "1                 30  122"
      ]
     },
     "execution_count": 84,
     "metadata": {},
     "output_type": "execute_result"
    }
   ],
   "source": [
    "pd.crosstab(y_test, y_preds, rownames=[\"Actual Label\"], colnames=[\"Predicted Label\"])"
   ]
  },
  {
   "cell_type": "markdown",
   "id": "dependent-journalist",
   "metadata": {
    "papermill": {
     "duration": 0.100117,
     "end_time": "2021-05-22T08:00:03.536176",
     "exception": false,
     "start_time": "2021-05-22T08:00:03.436059",
     "status": "completed"
    },
    "tags": []
   },
   "source": [
    "Let's now check the classification report"
   ]
  },
  {
   "cell_type": "code",
   "execution_count": 85,
   "id": "cutting-argentina",
   "metadata": {
    "execution": {
     "iopub.execute_input": "2021-05-22T08:00:03.742026Z",
     "iopub.status.busy": "2021-05-22T08:00:03.741183Z",
     "iopub.status.idle": "2021-05-22T08:00:03.749981Z",
     "shell.execute_reply": "2021-05-22T08:00:03.750683Z",
     "shell.execute_reply.started": "2021-05-22T07:32:51.774534Z"
    },
    "papermill": {
     "duration": 0.114374,
     "end_time": "2021-05-22T08:00:03.750927",
     "exception": false,
     "start_time": "2021-05-22T08:00:03.636553",
     "status": "completed"
    },
    "tags": []
   },
   "outputs": [
    {
     "name": "stdout",
     "output_type": "stream",
     "text": [
      "              precision    recall  f1-score   support\n",
      "\n",
      "           0       0.88      0.85      0.87       266\n",
      "           1       0.75      0.80      0.78       152\n",
      "\n",
      "    accuracy                           0.83       418\n",
      "   macro avg       0.82      0.83      0.82       418\n",
      "weighted avg       0.84      0.83      0.83       418\n",
      "\n"
     ]
    }
   ],
   "source": [
    "from sklearn.metrics import classification_report\n",
    "print(classification_report(y_test, y_preds))"
   ]
  },
  {
   "cell_type": "markdown",
   "id": "prompt-logging",
   "metadata": {
    "papermill": {
     "duration": 0.100674,
     "end_time": "2021-05-22T08:00:03.954989",
     "exception": false,
     "start_time": "2021-05-22T08:00:03.854315",
     "status": "completed"
    },
    "tags": []
   },
   "source": [
    "Now, check the `ROC` curve"
   ]
  },
  {
   "cell_type": "code",
   "execution_count": 86,
   "id": "possible-lawyer",
   "metadata": {
    "execution": {
     "iopub.execute_input": "2021-05-22T08:00:04.163093Z",
     "iopub.status.busy": "2021-05-22T08:00:04.162164Z",
     "iopub.status.idle": "2021-05-22T08:00:04.436498Z",
     "shell.execute_reply": "2021-05-22T08:00:04.437036Z",
     "shell.execute_reply.started": "2021-05-22T07:33:26.185535Z"
    },
    "papermill": {
     "duration": 0.380587,
     "end_time": "2021-05-22T08:00:04.437210",
     "exception": false,
     "start_time": "2021-05-22T08:00:04.056623",
     "status": "completed"
    },
    "tags": []
   },
   "outputs": [
    {
     "data": {
      "image/png": "[encoded data removed]",
      "text/plain": [
       "<Figure size 432x288 with 1 Axes>"
      ]
     },
     "metadata": {
      "needs_background": "light"
     },
     "output_type": "display_data"
    }
   ],
   "source": [
    "from sklearn.metrics import plot_roc_curve\n",
    "plot_roc_curve(rand_clf, encoded_test_x, y_test)\n",
    "plt.xlabel('False Positive Rate')\n",
    "plt.ylabel('True Positive Rate')\n",
    "plt.title('Receiver Operating Characteristic Curve');"
   ]
  },
  {
   "cell_type": "markdown",
   "id": "canadian-mother",
   "metadata": {
    "papermill": {
     "duration": 0.101586,
     "end_time": "2021-05-22T08:00:04.644327",
     "exception": false,
     "start_time": "2021-05-22T08:00:04.542741",
     "status": "completed"
    },
    "tags": []
   },
   "source": [
    "# Creating file for submission "
   ]
  },
  {
   "cell_type": "code",
   "execution_count": 87,
   "id": "professional-perth",
   "metadata": {
    "execution": {
     "iopub.execute_input": "2021-05-22T08:00:04.851898Z",
     "iopub.status.busy": "2021-05-22T08:00:04.851356Z",
     "iopub.status.idle": "2021-05-22T08:00:04.973111Z",
     "shell.execute_reply": "2021-05-22T08:00:04.973571Z",
     "shell.execute_reply.started": "2021-05-22T07:33:56.451509Z"
    },
    "papermill": {
     "duration": 0.22788,
     "end_time": "2021-05-22T08:00:04.973705",
     "exception": false,
     "start_time": "2021-05-22T08:00:04.745825",
     "status": "completed"
    },
    "tags": []
   },
   "outputs": [],
   "source": [
    "final_data = {'PassengerId': test.PassengerId, 'Survived': y_preds}\n",
    "final_submission = pd.DataFrame(data=final_data)\n",
    "final_submission.to_csv('submission_file.csv',index =False)"
   ]
  },
  {
   "cell_type": "markdown",
   "id": "cooked-syndrome",
   "metadata": {
    "papermill": {
     "duration": 0.101973,
     "end_time": "2021-05-22T08:00:05.179239",
     "exception": false,
     "start_time": "2021-05-22T08:00:05.077266",
     "status": "completed"
    },
    "tags": []
   },
   "source": [
    "**`If this notebook was useful to you. Don't forget to upvote. Thanks`**"
   ]
  }
 ],
 "metadata": {
  "kernelspec": {
   "display_name": "Python 3",
   "language": "python",
   "name": "python3"
  },
  "language_info": {
   "codemirror_mode": {
    "name": "ipython",
    "version": 3
   },
   "file_extension": ".py",
   "mimetype": "text/x-python",
   "name": "python",
   "nbconvert_exporter": "python",
   "pygments_lexer": "ipython3",
   "version": "3.7.10"
  },
  "papermill": {
   "default_parameters": {},
   "duration": 1555.251566,
   "end_time": "2021-05-22T08:00:05.888892",
   "environment_variables": {},
   "exception": null,
   "input_path": "__notebook__.ipynb",
   "output_path": "__notebook__.ipynb",
   "parameters": {},
   "start_time": "2021-05-22T07:34:10.637326",
   "version": "2.3.3"
  }
 },
 "nbformat": 4,
 "nbformat_minor": 5
}
