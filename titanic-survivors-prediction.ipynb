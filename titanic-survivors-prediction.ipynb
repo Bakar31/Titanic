{
 "cells": [
  {
   "cell_type": "code",
   "execution_count": 2,
   "id": "printable-cookie",
   "metadata": {
    "execution": {
     "iopub.execute_input": "2021-05-14T15:56:55.594223Z",
     "iopub.status.busy": "2021-05-14T15:56:55.593256Z",
     "iopub.status.idle": "2021-05-14T15:56:56.301868Z",
     "shell.execute_reply": "2021-05-14T15:56:56.301373Z"
    },
    "papermill": {
     "duration": 0.775537,
     "end_time": "2021-05-14T15:56:56.302032",
     "exception": false,
     "start_time": "2021-05-14T15:56:55.526495",
     "status": "completed"
    },
    "tags": []
   },
   "outputs": [],
   "source": [
    "#importing basic libraries\n",
    "import numpy as np\n",
    "import pandas as pd\n",
    "import matplotlib.pyplot as plt\n",
    "import seaborn as sns\n",
    "%matplotlib inline"
   ]
  },
  {
   "cell_type": "code",
   "execution_count": 3,
   "id": "infrared-granny",
   "metadata": {
    "execution": {
     "iopub.execute_input": "2021-05-14T15:56:56.433581Z",
     "iopub.status.busy": "2021-05-14T15:56:56.432906Z",
     "iopub.status.idle": "2021-05-14T15:56:56.480396Z",
     "shell.execute_reply": "2021-05-14T15:56:56.479838Z"
    },
    "papermill": {
     "duration": 0.118703,
     "end_time": "2021-05-14T15:56:56.480545",
     "exception": false,
     "start_time": "2021-05-14T15:56:56.361842",
     "status": "completed"
    },
    "tags": []
   },
   "outputs": [],
   "source": [
    "train = pd.read_csv('../input/titanic/train.csv')\n",
    "test = pd.read_csv('../input/titanic/test.csv')"
   ]
  },
  {
   "cell_type": "code",
   "execution_count": 4,
   "id": "breeding-shadow",
   "metadata": {
    "execution": {
     "iopub.execute_input": "2021-05-14T15:56:56.611498Z",
     "iopub.status.busy": "2021-05-14T15:56:56.610396Z",
     "iopub.status.idle": "2021-05-14T15:56:56.633317Z",
     "shell.execute_reply": "2021-05-14T15:56:56.633854Z"
    },
    "papermill": {
     "duration": 0.092613,
     "end_time": "2021-05-14T15:56:56.634058",
     "exception": false,
     "start_time": "2021-05-14T15:56:56.541445",
     "status": "completed"
    },
    "tags": []
   },
   "outputs": [
    {
     "data": {
      "text/html": [
       "<div>\n",
       "<style scoped>\n",
       "    .dataframe tbody tr th:only-of-type {\n",
       "        vertical-align: middle;\n",
       "    }\n",
       "\n",
       "    .dataframe tbody tr th {\n",
       "        vertical-align: top;\n",
       "    }\n",
       "\n",
       "    .dataframe thead th {\n",
       "        text-align: right;\n",
       "    }\n",
       "</style>\n",
       "<table border=\"1\" class=\"dataframe\">\n",
       "  <thead>\n",
       "    <tr style=\"text-align: right;\">\n",
       "      <th></th>\n",
       "      <th>PassengerId</th>\n",
       "      <th>Survived</th>\n",
       "      <th>Pclass</th>\n",
       "      <th>Name</th>\n",
       "      <th>Sex</th>\n",
       "      <th>Age</th>\n",
       "      <th>SibSp</th>\n",
       "      <th>Parch</th>\n",
       "      <th>Ticket</th>\n",
       "      <th>Fare</th>\n",
       "      <th>Cabin</th>\n",
       "      <th>Embarked</th>\n",
       "    </tr>\n",
       "  </thead>\n",
       "  <tbody>\n",
       "    <tr>\n",
       "      <th>0</th>\n",
       "      <td>1</td>\n",
       "      <td>0</td>\n",
       "      <td>3</td>\n",
       "      <td>Braund, Mr. Owen Harris</td>\n",
       "      <td>male</td>\n",
       "      <td>22.0</td>\n",
       "      <td>1</td>\n",
       "      <td>0</td>\n",
       "      <td>A/5 21171</td>\n",
       "      <td>7.2500</td>\n",
       "      <td>NaN</td>\n",
       "      <td>S</td>\n",
       "    </tr>\n",
       "    <tr>\n",
       "      <th>1</th>\n",
       "      <td>2</td>\n",
       "      <td>1</td>\n",
       "      <td>1</td>\n",
       "      <td>Cumings, Mrs. John Bradley (Florence Briggs Th...</td>\n",
       "      <td>female</td>\n",
       "      <td>38.0</td>\n",
       "      <td>1</td>\n",
       "      <td>0</td>\n",
       "      <td>PC 17599</td>\n",
       "      <td>71.2833</td>\n",
       "      <td>C85</td>\n",
       "      <td>C</td>\n",
       "    </tr>\n",
       "    <tr>\n",
       "      <th>2</th>\n",
       "      <td>3</td>\n",
       "      <td>1</td>\n",
       "      <td>3</td>\n",
       "      <td>Heikkinen, Miss. Laina</td>\n",
       "      <td>female</td>\n",
       "      <td>26.0</td>\n",
       "      <td>0</td>\n",
       "      <td>0</td>\n",
       "      <td>STON/O2. 3101282</td>\n",
       "      <td>7.9250</td>\n",
       "      <td>NaN</td>\n",
       "      <td>S</td>\n",
       "    </tr>\n",
       "    <tr>\n",
       "      <th>3</th>\n",
       "      <td>4</td>\n",
       "      <td>1</td>\n",
       "      <td>1</td>\n",
       "      <td>Futrelle, Mrs. Jacques Heath (Lily May Peel)</td>\n",
       "      <td>female</td>\n",
       "      <td>35.0</td>\n",
       "      <td>1</td>\n",
       "      <td>0</td>\n",
       "      <td>113803</td>\n",
       "      <td>53.1000</td>\n",
       "      <td>C123</td>\n",
       "      <td>S</td>\n",
       "    </tr>\n",
       "    <tr>\n",
       "      <th>4</th>\n",
       "      <td>5</td>\n",
       "      <td>0</td>\n",
       "      <td>3</td>\n",
       "      <td>Allen, Mr. William Henry</td>\n",
       "      <td>male</td>\n",
       "      <td>35.0</td>\n",
       "      <td>0</td>\n",
       "      <td>0</td>\n",
       "      <td>373450</td>\n",
       "      <td>8.0500</td>\n",
       "      <td>NaN</td>\n",
       "      <td>S</td>\n",
       "    </tr>\n",
       "  </tbody>\n",
       "</table>\n",
       "</div>"
      ],
      "text/plain": [
       "   PassengerId  Survived  Pclass  \\\n",
       "0            1         0       3   \n",
       "1            2         1       1   \n",
       "2            3         1       3   \n",
       "3            4         1       1   \n",
       "4            5         0       3   \n",
       "\n",
       "                                                Name     Sex   Age  SibSp  \\\n",
       "0                            Braund, Mr. Owen Harris    male  22.0      1   \n",
       "1  Cumings, Mrs. John Bradley (Florence Briggs Th...  female  38.0      1   \n",
       "2                             Heikkinen, Miss. Laina  female  26.0      0   \n",
       "3       Futrelle, Mrs. Jacques Heath (Lily May Peel)  female  35.0      1   \n",
       "4                           Allen, Mr. William Henry    male  35.0      0   \n",
       "\n",
       "   Parch            Ticket     Fare Cabin Embarked  \n",
       "0      0         A/5 21171   7.2500   NaN        S  \n",
       "1      0          PC 17599  71.2833   C85        C  \n",
       "2      0  STON/O2. 3101282   7.9250   NaN        S  \n",
       "3      0            113803  53.1000  C123        S  \n",
       "4      0            373450   8.0500   NaN        S  "
      ]
     },
     "execution_count": 4,
     "metadata": {},
     "output_type": "execute_result"
    }
   ],
   "source": [
    "train.head()"
   ]
  },
  {
   "cell_type": "code",
   "execution_count": 5,
   "id": "genetic-pharmaceutical",
   "metadata": {
    "execution": {
     "iopub.execute_input": "2021-05-14T15:56:56.771832Z",
     "iopub.status.busy": "2021-05-14T15:56:56.771099Z",
     "iopub.status.idle": "2021-05-14T15:56:56.774193Z",
     "shell.execute_reply": "2021-05-14T15:56:56.774740Z"
    },
    "papermill": {
     "duration": 0.071521,
     "end_time": "2021-05-14T15:56:56.774890",
     "exception": false,
     "start_time": "2021-05-14T15:56:56.703369",
     "status": "completed"
    },
    "tags": []
   },
   "outputs": [
    {
     "data": {
      "text/plain": [
       "(891, 12)"
      ]
     },
     "execution_count": 5,
     "metadata": {},
     "output_type": "execute_result"
    }
   ],
   "source": [
    "train.shape"
   ]
  },
  {
   "cell_type": "markdown",
   "id": "happy-scotland",
   "metadata": {
    "papermill": {
     "duration": 0.061198,
     "end_time": "2021-05-14T15:56:56.899503",
     "exception": false,
     "start_time": "2021-05-14T15:56:56.838305",
     "status": "completed"
    },
    "tags": []
   },
   "source": [
    "# Data Exploration on Train set"
   ]
  },
  {
   "cell_type": "markdown",
   "id": "ideal-companion",
   "metadata": {
    "papermill": {
     "duration": 0.063079,
     "end_time": "2021-05-14T15:56:57.025481",
     "exception": false,
     "start_time": "2021-05-14T15:56:56.962402",
     "status": "completed"
    },
    "tags": []
   },
   "source": [
    "Let's first check how many people survived"
   ]
  },
  {
   "cell_type": "code",
   "execution_count": 6,
   "id": "mental-purpose",
   "metadata": {
    "execution": {
     "iopub.execute_input": "2021-05-14T15:56:57.216024Z",
     "iopub.status.busy": "2021-05-14T15:56:57.215125Z",
     "iopub.status.idle": "2021-05-14T15:56:57.225541Z",
     "shell.execute_reply": "2021-05-14T15:56:57.226636Z"
    },
    "papermill": {
     "duration": 0.12521,
     "end_time": "2021-05-14T15:56:57.226868",
     "exception": false,
     "start_time": "2021-05-14T15:56:57.101658",
     "status": "completed"
    },
    "tags": []
   },
   "outputs": [
    {
     "data": {
      "text/plain": [
       "0    549\n",
       "1    342\n",
       "Name: Survived, dtype: int64"
      ]
     },
     "execution_count": 6,
     "metadata": {},
     "output_type": "execute_result"
    }
   ],
   "source": [
    "train.Survived.value_counts()"
   ]
  },
  {
   "cell_type": "code",
   "execution_count": 7,
   "id": "acknowledged-efficiency",
   "metadata": {
    "execution": {
     "iopub.execute_input": "2021-05-14T15:56:57.478355Z",
     "iopub.status.busy": "2021-05-14T15:56:57.476761Z",
     "iopub.status.idle": "2021-05-14T15:56:57.731217Z",
     "shell.execute_reply": "2021-05-14T15:56:57.732322Z"
    },
    "papermill": {
     "duration": 0.38539,
     "end_time": "2021-05-14T15:56:57.732532",
     "exception": false,
     "start_time": "2021-05-14T15:56:57.347142",
     "status": "completed"
    },
    "tags": []
   },
   "outputs": [
    {
     "data": {
      "image/png": "[encoded data removed]",
      "text/plain": [
       "<Figure size 432x288 with 1 Axes>"
      ]
     },
     "metadata": {
      "needs_background": "light"
     },
     "output_type": "display_data"
    }
   ],
   "source": [
    "train.Survived.value_counts().plot(kind = 'bar', color = ['lightblue', 'lightgreen']);"
   ]
  },
  {
   "cell_type": "markdown",
   "id": "automotive-shell",
   "metadata": {
    "papermill": {
     "duration": 0.062979,
     "end_time": "2021-05-14T15:56:57.871903",
     "exception": false,
     "start_time": "2021-05-14T15:56:57.808924",
     "status": "completed"
    },
    "tags": []
   },
   "source": [
    "Let's check how many male and female was there"
   ]
  },
  {
   "cell_type": "code",
   "execution_count": 8,
   "id": "adequate-progressive",
   "metadata": {
    "execution": {
     "iopub.execute_input": "2021-05-14T15:56:58.006153Z",
     "iopub.status.busy": "2021-05-14T15:56:58.005097Z",
     "iopub.status.idle": "2021-05-14T15:56:58.009467Z",
     "shell.execute_reply": "2021-05-14T15:56:58.010043Z"
    },
    "papermill": {
     "duration": 0.076741,
     "end_time": "2021-05-14T15:56:58.010201",
     "exception": false,
     "start_time": "2021-05-14T15:56:57.933460",
     "status": "completed"
    },
    "tags": []
   },
   "outputs": [
    {
     "data": {
      "text/plain": [
       "male      577\n",
       "female    314\n",
       "Name: Sex, dtype: int64"
      ]
     },
     "execution_count": 8,
     "metadata": {},
     "output_type": "execute_result"
    }
   ],
   "source": [
    "train.Sex.value_counts()"
   ]
  },
  {
   "cell_type": "code",
   "execution_count": 9,
   "id": "armed-samba",
   "metadata": {
    "execution": {
     "iopub.execute_input": "2021-05-14T15:56:58.268476Z",
     "iopub.status.busy": "2021-05-14T15:56:58.264623Z",
     "iopub.status.idle": "2021-05-14T15:56:58.468764Z",
     "shell.execute_reply": "2021-05-14T15:56:58.470129Z"
    },
    "papermill": {
     "duration": 0.343285,
     "end_time": "2021-05-14T15:56:58.470372",
     "exception": false,
     "start_time": "2021-05-14T15:56:58.127087",
     "status": "completed"
    },
    "tags": []
   },
   "outputs": [
    {
     "data": {
      "image/png": "[encoded data removed]",
      "text/plain": [
       "<Figure size 432x288 with 1 Axes>"
      ]
     },
     "metadata": {
      "needs_background": "light"
     },
     "output_type": "display_data"
    }
   ],
   "source": [
    "train.Sex.value_counts().plot(kind = 'bar', color = ['skyblue', 'plum']);"
   ]
  },
  {
   "cell_type": "markdown",
   "id": "revolutionary-entrance",
   "metadata": {
    "papermill": {
     "duration": 0.105617,
     "end_time": "2021-05-14T15:56:58.707909",
     "exception": false,
     "start_time": "2021-05-14T15:56:58.602292",
     "status": "completed"
    },
    "tags": []
   },
   "source": [
    "let's check out survivors w.r.t sex"
   ]
  },
  {
   "cell_type": "code",
   "execution_count": 10,
   "id": "ethical-polish",
   "metadata": {
    "execution": {
     "iopub.execute_input": "2021-05-14T15:56:58.931343Z",
     "iopub.status.busy": "2021-05-14T15:56:58.930412Z",
     "iopub.status.idle": "2021-05-14T15:56:58.973983Z",
     "shell.execute_reply": "2021-05-14T15:56:58.975322Z"
    },
    "papermill": {
     "duration": 0.161889,
     "end_time": "2021-05-14T15:56:58.975570",
     "exception": false,
     "start_time": "2021-05-14T15:56:58.813681",
     "status": "completed"
    },
    "tags": []
   },
   "outputs": [
    {
     "data": {
      "text/html": [
       "<div>\n",
       "<style scoped>\n",
       "    .dataframe tbody tr th:only-of-type {\n",
       "        vertical-align: middle;\n",
       "    }\n",
       "\n",
       "    .dataframe tbody tr th {\n",
       "        vertical-align: top;\n",
       "    }\n",
       "\n",
       "    .dataframe thead th {\n",
       "        text-align: right;\n",
       "    }\n",
       "</style>\n",
       "<table border=\"1\" class=\"dataframe\">\n",
       "  <thead>\n",
       "    <tr style=\"text-align: right;\">\n",
       "      <th>Survived</th>\n",
       "      <th>0</th>\n",
       "      <th>1</th>\n",
       "    </tr>\n",
       "    <tr>\n",
       "      <th>Sex</th>\n",
       "      <th></th>\n",
       "      <th></th>\n",
       "    </tr>\n",
       "  </thead>\n",
       "  <tbody>\n",
       "    <tr>\n",
       "      <th>female</th>\n",
       "      <td>81</td>\n",
       "      <td>233</td>\n",
       "    </tr>\n",
       "    <tr>\n",
       "      <th>male</th>\n",
       "      <td>468</td>\n",
       "      <td>109</td>\n",
       "    </tr>\n",
       "  </tbody>\n",
       "</table>\n",
       "</div>"
      ],
      "text/plain": [
       "Survived    0    1\n",
       "Sex               \n",
       "female     81  233\n",
       "male      468  109"
      ]
     },
     "execution_count": 10,
     "metadata": {},
     "output_type": "execute_result"
    }
   ],
   "source": [
    "pd.crosstab(train.Sex, train.Survived)"
   ]
  },
  {
   "cell_type": "code",
   "execution_count": 11,
   "id": "oriented-dayton",
   "metadata": {
    "execution": {
     "iopub.execute_input": "2021-05-14T15:56:59.225378Z",
     "iopub.status.busy": "2021-05-14T15:56:59.224297Z",
     "iopub.status.idle": "2021-05-14T15:56:59.422491Z",
     "shell.execute_reply": "2021-05-14T15:56:59.422954Z"
    },
    "papermill": {
     "duration": 0.330243,
     "end_time": "2021-05-14T15:56:59.423121",
     "exception": false,
     "start_time": "2021-05-14T15:56:59.092878",
     "status": "completed"
    },
    "tags": []
   },
   "outputs": [
    {
     "data": {
      "image/png": "[encoded data removed]",
      "text/plain": [
       "<Figure size 432x288 with 1 Axes>"
      ]
     },
     "metadata": {
      "needs_background": "light"
     },
     "output_type": "display_data"
    }
   ],
   "source": [
    "pd.crosstab(train.Sex, train.Survived).plot(kind = 'bar', color = ['slategray', 'salmon']);"
   ]
  },
  {
   "cell_type": "markdown",
   "id": "affected-psychiatry",
   "metadata": {
    "papermill": {
     "duration": 0.065119,
     "end_time": "2021-05-14T15:56:59.551258",
     "exception": false,
     "start_time": "2021-05-14T15:56:59.486139",
     "status": "completed"
    },
    "tags": []
   },
   "source": [
    "Survivors w.r.t pclass"
   ]
  },
  {
   "cell_type": "code",
   "execution_count": 12,
   "id": "other-viking",
   "metadata": {
    "execution": {
     "iopub.execute_input": "2021-05-14T15:56:59.691184Z",
     "iopub.status.busy": "2021-05-14T15:56:59.690186Z",
     "iopub.status.idle": "2021-05-14T15:56:59.709118Z",
     "shell.execute_reply": "2021-05-14T15:56:59.709664Z"
    },
    "papermill": {
     "duration": 0.091628,
     "end_time": "2021-05-14T15:56:59.709838",
     "exception": false,
     "start_time": "2021-05-14T15:56:59.618210",
     "status": "completed"
    },
    "tags": []
   },
   "outputs": [
    {
     "data": {
      "text/html": [
       "<div>\n",
       "<style scoped>\n",
       "    .dataframe tbody tr th:only-of-type {\n",
       "        vertical-align: middle;\n",
       "    }\n",
       "\n",
       "    .dataframe tbody tr th {\n",
       "        vertical-align: top;\n",
       "    }\n",
       "\n",
       "    .dataframe thead th {\n",
       "        text-align: right;\n",
       "    }\n",
       "</style>\n",
       "<table border=\"1\" class=\"dataframe\">\n",
       "  <thead>\n",
       "    <tr style=\"text-align: right;\">\n",
       "      <th>Survived</th>\n",
       "      <th>0</th>\n",
       "      <th>1</th>\n",
       "    </tr>\n",
       "    <tr>\n",
       "      <th>Pclass</th>\n",
       "      <th></th>\n",
       "      <th></th>\n",
       "    </tr>\n",
       "  </thead>\n",
       "  <tbody>\n",
       "    <tr>\n",
       "      <th>1</th>\n",
       "      <td>80</td>\n",
       "      <td>136</td>\n",
       "    </tr>\n",
       "    <tr>\n",
       "      <th>2</th>\n",
       "      <td>97</td>\n",
       "      <td>87</td>\n",
       "    </tr>\n",
       "    <tr>\n",
       "      <th>3</th>\n",
       "      <td>372</td>\n",
       "      <td>119</td>\n",
       "    </tr>\n",
       "  </tbody>\n",
       "</table>\n",
       "</div>"
      ],
      "text/plain": [
       "Survived    0    1\n",
       "Pclass            \n",
       "1          80  136\n",
       "2          97   87\n",
       "3         372  119"
      ]
     },
     "execution_count": 12,
     "metadata": {},
     "output_type": "execute_result"
    }
   ],
   "source": [
    "pd.crosstab(train.Pclass, train.Survived)"
   ]
  },
  {
   "cell_type": "code",
   "execution_count": 13,
   "id": "medieval-catch",
   "metadata": {
    "execution": {
     "iopub.execute_input": "2021-05-14T15:56:59.866762Z",
     "iopub.status.busy": "2021-05-14T15:56:59.865684Z",
     "iopub.status.idle": "2021-05-14T15:57:00.036792Z",
     "shell.execute_reply": "2021-05-14T15:57:00.037336Z"
    },
    "papermill": {
     "duration": 0.254602,
     "end_time": "2021-05-14T15:57:00.037510",
     "exception": false,
     "start_time": "2021-05-14T15:56:59.782908",
     "status": "completed"
    },
    "tags": []
   },
   "outputs": [
    {
     "data": {
      "image/png": "[encoded data removed]",
      "text/plain": [
       "<Figure size 432x288 with 1 Axes>"
      ]
     },
     "metadata": {
      "needs_background": "light"
     },
     "output_type": "display_data"
    }
   ],
   "source": [
    "pd.crosstab(train.Pclass, train.Survived).plot(kind = 'bar', color = ['slategray', 'lightcoral']);"
   ]
  },
  {
   "cell_type": "markdown",
   "id": "anonymous-warner",
   "metadata": {
    "papermill": {
     "duration": 0.0616,
     "end_time": "2021-05-14T15:57:00.165721",
     "exception": false,
     "start_time": "2021-05-14T15:57:00.104121",
     "status": "completed"
    },
    "tags": []
   },
   "source": [
    "Let's check the Port of Embarkation"
   ]
  },
  {
   "cell_type": "code",
   "execution_count": 14,
   "id": "thirty-riverside",
   "metadata": {
    "execution": {
     "iopub.execute_input": "2021-05-14T15:57:00.309004Z",
     "iopub.status.busy": "2021-05-14T15:57:00.307970Z",
     "iopub.status.idle": "2021-05-14T15:57:00.313036Z",
     "shell.execute_reply": "2021-05-14T15:57:00.312580Z"
    },
    "papermill": {
     "duration": 0.079485,
     "end_time": "2021-05-14T15:57:00.313187",
     "exception": false,
     "start_time": "2021-05-14T15:57:00.233702",
     "status": "completed"
    },
    "tags": []
   },
   "outputs": [
    {
     "data": {
      "text/plain": [
       "S    644\n",
       "C    168\n",
       "Q     77\n",
       "Name: Embarked, dtype: int64"
      ]
     },
     "execution_count": 14,
     "metadata": {},
     "output_type": "execute_result"
    }
   ],
   "source": [
    "train.Embarked.value_counts()"
   ]
  },
  {
   "cell_type": "code",
   "execution_count": 15,
   "id": "stylish-waterproof",
   "metadata": {
    "execution": {
     "iopub.execute_input": "2021-05-14T15:57:00.454677Z",
     "iopub.status.busy": "2021-05-14T15:57:00.453695Z",
     "iopub.status.idle": "2021-05-14T15:57:00.570522Z",
     "shell.execute_reply": "2021-05-14T15:57:00.570992Z"
    },
    "papermill": {
     "duration": 0.191939,
     "end_time": "2021-05-14T15:57:00.571168",
     "exception": false,
     "start_time": "2021-05-14T15:57:00.379229",
     "status": "completed"
    },
    "tags": []
   },
   "outputs": [
    {
     "data": {
      "image/png": "[encoded data removed]",
      "text/plain": [
       "<Figure size 432x288 with 1 Axes>"
      ]
     },
     "metadata": {
      "needs_background": "light"
     },
     "output_type": "display_data"
    }
   ],
   "source": [
    "sns.countplot(x = 'Embarked', data = train);"
   ]
  },
  {
   "cell_type": "markdown",
   "id": "killing-heart",
   "metadata": {
    "papermill": {
     "duration": 0.06959,
     "end_time": "2021-05-14T15:57:00.709404",
     "exception": false,
     "start_time": "2021-05-14T15:57:00.639814",
     "status": "completed"
    },
    "tags": []
   },
   "source": [
    "Let's look at our age column"
   ]
  },
  {
   "cell_type": "code",
   "execution_count": 16,
   "id": "fancy-compiler",
   "metadata": {
    "execution": {
     "iopub.execute_input": "2021-05-14T15:57:00.890927Z",
     "iopub.status.busy": "2021-05-14T15:57:00.888886Z",
     "iopub.status.idle": "2021-05-14T15:57:01.186719Z",
     "shell.execute_reply": "2021-05-14T15:57:01.186277Z"
    },
    "papermill": {
     "duration": 0.408488,
     "end_time": "2021-05-14T15:57:01.186843",
     "exception": false,
     "start_time": "2021-05-14T15:57:00.778355",
     "status": "completed"
    },
    "tags": []
   },
   "outputs": [
    {
     "data": {
      "image/png": "[encoded data removed]",
      "text/plain": [
       "<Figure size 360x360 with 1 Axes>"
      ]
     },
     "metadata": {
      "needs_background": "light"
     },
     "output_type": "display_data"
    }
   ],
   "source": [
    "sns.displot(x = 'Age', data = train, color = 'cadetblue', kde = True);"
   ]
  },
  {
   "cell_type": "markdown",
   "id": "speaking-merchant",
   "metadata": {
    "papermill": {
     "duration": 0.066024,
     "end_time": "2021-05-14T15:57:01.318772",
     "exception": false,
     "start_time": "2021-05-14T15:57:01.252748",
     "status": "completed"
    },
    "tags": []
   },
   "source": [
    "Let's now find a relation among age, survived and pclass columns"
   ]
  },
  {
   "cell_type": "code",
   "execution_count": 17,
   "id": "powered-making",
   "metadata": {
    "execution": {
     "iopub.execute_input": "2021-05-14T15:57:01.480422Z",
     "iopub.status.busy": "2021-05-14T15:57:01.463103Z",
     "iopub.status.idle": "2021-05-14T15:57:02.375385Z",
     "shell.execute_reply": "2021-05-14T15:57:02.375891Z"
    },
    "papermill": {
     "duration": 0.987837,
     "end_time": "2021-05-14T15:57:02.376091",
     "exception": false,
     "start_time": "2021-05-14T15:57:01.388254",
     "status": "completed"
    },
    "tags": []
   },
   "outputs": [
    {
     "data": {
      "image/png": "[encoded data removed]",
      "text/plain": [
       "<Figure size 402.375x360 with 1 Axes>"
      ]
     },
     "metadata": {
      "needs_background": "light"
     },
     "output_type": "display_data"
    }
   ],
   "source": [
    "sns.lmplot(x = 'Age', y = 'Survived', hue = 'Pclass', data = train);"
   ]
  },
  {
   "cell_type": "markdown",
   "id": "occupied-selection",
   "metadata": {
    "papermill": {
     "duration": 0.077836,
     "end_time": "2021-05-14T15:57:02.530542",
     "exception": false,
     "start_time": "2021-05-14T15:57:02.452706",
     "status": "completed"
    },
    "tags": []
   },
   "source": [
    "# Preparing data to train Model"
   ]
  },
  {
   "cell_type": "markdown",
   "id": "minus-citizen",
   "metadata": {
    "papermill": {
     "duration": 0.074432,
     "end_time": "2021-05-14T15:57:02.683289",
     "exception": false,
     "start_time": "2021-05-14T15:57:02.608857",
     "status": "completed"
    },
    "tags": []
   },
   "source": [
    "Removing columns that we don't need"
   ]
  },
  {
   "cell_type": "code",
   "execution_count": 18,
   "id": "ethical-windows",
   "metadata": {
    "execution": {
     "iopub.execute_input": "2021-05-14T15:57:02.849962Z",
     "iopub.status.busy": "2021-05-14T15:57:02.848887Z",
     "iopub.status.idle": "2021-05-14T15:57:02.852070Z",
     "shell.execute_reply": "2021-05-14T15:57:02.851571Z"
    },
    "papermill": {
     "duration": 0.089375,
     "end_time": "2021-05-14T15:57:02.852208",
     "exception": false,
     "start_time": "2021-05-14T15:57:02.762833",
     "status": "completed"
    },
    "tags": []
   },
   "outputs": [],
   "source": [
    "new_train = train.drop(['PassengerId', 'Name', 'Ticket', 'Cabin'], axis = 1)"
   ]
  },
  {
   "cell_type": "code",
   "execution_count": 19,
   "id": "certain-alliance",
   "metadata": {
    "execution": {
     "iopub.execute_input": "2021-05-14T15:57:03.015638Z",
     "iopub.status.busy": "2021-05-14T15:57:03.014553Z",
     "iopub.status.idle": "2021-05-14T15:57:03.018926Z",
     "shell.execute_reply": "2021-05-14T15:57:03.019516Z"
    },
    "papermill": {
     "duration": 0.088937,
     "end_time": "2021-05-14T15:57:03.019696",
     "exception": false,
     "start_time": "2021-05-14T15:57:02.930759",
     "status": "completed"
    },
    "tags": []
   },
   "outputs": [
    {
     "data": {
      "text/html": [
       "<div>\n",
       "<style scoped>\n",
       "    .dataframe tbody tr th:only-of-type {\n",
       "        vertical-align: middle;\n",
       "    }\n",
       "\n",
       "    .dataframe tbody tr th {\n",
       "        vertical-align: top;\n",
       "    }\n",
       "\n",
       "    .dataframe thead th {\n",
       "        text-align: right;\n",
       "    }\n",
       "</style>\n",
       "<table border=\"1\" class=\"dataframe\">\n",
       "  <thead>\n",
       "    <tr style=\"text-align: right;\">\n",
       "      <th></th>\n",
       "      <th>Survived</th>\n",
       "      <th>Pclass</th>\n",
       "      <th>Sex</th>\n",
       "      <th>Age</th>\n",
       "      <th>SibSp</th>\n",
       "      <th>Parch</th>\n",
       "      <th>Fare</th>\n",
       "      <th>Embarked</th>\n",
       "    </tr>\n",
       "  </thead>\n",
       "  <tbody>\n",
       "    <tr>\n",
       "      <th>0</th>\n",
       "      <td>0</td>\n",
       "      <td>3</td>\n",
       "      <td>male</td>\n",
       "      <td>22.0</td>\n",
       "      <td>1</td>\n",
       "      <td>0</td>\n",
       "      <td>7.2500</td>\n",
       "      <td>S</td>\n",
       "    </tr>\n",
       "    <tr>\n",
       "      <th>1</th>\n",
       "      <td>1</td>\n",
       "      <td>1</td>\n",
       "      <td>female</td>\n",
       "      <td>38.0</td>\n",
       "      <td>1</td>\n",
       "      <td>0</td>\n",
       "      <td>71.2833</td>\n",
       "      <td>C</td>\n",
       "    </tr>\n",
       "    <tr>\n",
       "      <th>2</th>\n",
       "      <td>1</td>\n",
       "      <td>3</td>\n",
       "      <td>female</td>\n",
       "      <td>26.0</td>\n",
       "      <td>0</td>\n",
       "      <td>0</td>\n",
       "      <td>7.9250</td>\n",
       "      <td>S</td>\n",
       "    </tr>\n",
       "    <tr>\n",
       "      <th>3</th>\n",
       "      <td>1</td>\n",
       "      <td>1</td>\n",
       "      <td>female</td>\n",
       "      <td>35.0</td>\n",
       "      <td>1</td>\n",
       "      <td>0</td>\n",
       "      <td>53.1000</td>\n",
       "      <td>S</td>\n",
       "    </tr>\n",
       "    <tr>\n",
       "      <th>4</th>\n",
       "      <td>0</td>\n",
       "      <td>3</td>\n",
       "      <td>male</td>\n",
       "      <td>35.0</td>\n",
       "      <td>0</td>\n",
       "      <td>0</td>\n",
       "      <td>8.0500</td>\n",
       "      <td>S</td>\n",
       "    </tr>\n",
       "  </tbody>\n",
       "</table>\n",
       "</div>"
      ],
      "text/plain": [
       "   Survived  Pclass     Sex   Age  SibSp  Parch     Fare Embarked\n",
       "0         0       3    male  22.0      1      0   7.2500        S\n",
       "1         1       1  female  38.0      1      0  71.2833        C\n",
       "2         1       3  female  26.0      0      0   7.9250        S\n",
       "3         1       1  female  35.0      1      0  53.1000        S\n",
       "4         0       3    male  35.0      0      0   8.0500        S"
      ]
     },
     "execution_count": 19,
     "metadata": {},
     "output_type": "execute_result"
    }
   ],
   "source": [
    "new_train.head()"
   ]
  },
  {
   "cell_type": "code",
   "execution_count": 20,
   "id": "sacred-shipping",
   "metadata": {
    "execution": {
     "iopub.execute_input": "2021-05-14T15:57:03.188498Z",
     "iopub.status.busy": "2021-05-14T15:57:03.187487Z",
     "iopub.status.idle": "2021-05-14T15:57:03.191845Z",
     "shell.execute_reply": "2021-05-14T15:57:03.192428Z"
    },
    "papermill": {
     "duration": 0.091838,
     "end_time": "2021-05-14T15:57:03.192630",
     "exception": false,
     "start_time": "2021-05-14T15:57:03.100792",
     "status": "completed"
    },
    "tags": []
   },
   "outputs": [
    {
     "data": {
      "text/plain": [
       "(891, 8)"
      ]
     },
     "execution_count": 20,
     "metadata": {},
     "output_type": "execute_result"
    }
   ],
   "source": [
    "new_train.shape"
   ]
  },
  {
   "cell_type": "markdown",
   "id": "rough-italian",
   "metadata": {
    "papermill": {
     "duration": 0.072588,
     "end_time": "2021-05-14T15:57:03.341378",
     "exception": false,
     "start_time": "2021-05-14T15:57:03.268790",
     "status": "completed"
    },
    "tags": []
   },
   "source": [
    "Checking for null values in dataset"
   ]
  },
  {
   "cell_type": "code",
   "execution_count": 21,
   "id": "particular-knock",
   "metadata": {
    "execution": {
     "iopub.execute_input": "2021-05-14T15:57:03.496773Z",
     "iopub.status.busy": "2021-05-14T15:57:03.495880Z",
     "iopub.status.idle": "2021-05-14T15:57:03.499801Z",
     "shell.execute_reply": "2021-05-14T15:57:03.500253Z"
    },
    "papermill": {
     "duration": 0.08516,
     "end_time": "2021-05-14T15:57:03.500415",
     "exception": false,
     "start_time": "2021-05-14T15:57:03.415255",
     "status": "completed"
    },
    "tags": []
   },
   "outputs": [
    {
     "data": {
      "text/plain": [
       "Survived      0\n",
       "Pclass        0\n",
       "Sex           0\n",
       "Age         177\n",
       "SibSp         0\n",
       "Parch         0\n",
       "Fare          0\n",
       "Embarked      2\n",
       "dtype: int64"
      ]
     },
     "execution_count": 21,
     "metadata": {},
     "output_type": "execute_result"
    }
   ],
   "source": [
    "new_train.isna().sum()"
   ]
  },
  {
   "cell_type": "markdown",
   "id": "measured-fetish",
   "metadata": {
    "papermill": {
     "duration": 0.069454,
     "end_time": "2021-05-14T15:57:03.641212",
     "exception": false,
     "start_time": "2021-05-14T15:57:03.571758",
     "status": "completed"
    },
    "tags": []
   },
   "source": [
    "We have null values in two columns. Let's take care of this problem"
   ]
  },
  {
   "cell_type": "markdown",
   "id": "international-dietary",
   "metadata": {
    "papermill": {
     "duration": 0.076881,
     "end_time": "2021-05-14T15:57:03.790805",
     "exception": false,
     "start_time": "2021-05-14T15:57:03.713924",
     "status": "completed"
    },
    "tags": []
   },
   "source": [
    "Filling the null values of age columns with the mean values"
   ]
  },
  {
   "cell_type": "code",
   "execution_count": 22,
   "id": "earlier-executive",
   "metadata": {
    "execution": {
     "iopub.execute_input": "2021-05-14T15:57:03.940747Z",
     "iopub.status.busy": "2021-05-14T15:57:03.939836Z",
     "iopub.status.idle": "2021-05-14T15:57:03.942503Z",
     "shell.execute_reply": "2021-05-14T15:57:03.942070Z"
    },
    "papermill": {
     "duration": 0.079803,
     "end_time": "2021-05-14T15:57:03.942633",
     "exception": false,
     "start_time": "2021-05-14T15:57:03.862830",
     "status": "completed"
    },
    "tags": []
   },
   "outputs": [],
   "source": [
    "new_train['Age'].fillna(new_train['Age'].mean(), inplace = True)"
   ]
  },
  {
   "cell_type": "markdown",
   "id": "boxed-quebec",
   "metadata": {
    "papermill": {
     "duration": 0.073438,
     "end_time": "2021-05-14T15:57:04.086616",
     "exception": false,
     "start_time": "2021-05-14T15:57:04.013178",
     "status": "completed"
    },
    "tags": []
   },
   "source": [
    "Now we have to take care of null values of Embarked column"
   ]
  },
  {
   "cell_type": "markdown",
   "id": "norwegian-galaxy",
   "metadata": {
    "papermill": {
     "duration": 0.069493,
     "end_time": "2021-05-14T15:57:04.227547",
     "exception": false,
     "start_time": "2021-05-14T15:57:04.158054",
     "status": "completed"
    },
    "tags": []
   },
   "source": [
    "Let's first check which embarkation port we have most in our dataset."
   ]
  },
  {
   "cell_type": "code",
   "execution_count": 23,
   "id": "british-senate",
   "metadata": {
    "execution": {
     "iopub.execute_input": "2021-05-14T15:57:04.377085Z",
     "iopub.status.busy": "2021-05-14T15:57:04.376192Z",
     "iopub.status.idle": "2021-05-14T15:57:04.379845Z",
     "shell.execute_reply": "2021-05-14T15:57:04.380378Z"
    },
    "papermill": {
     "duration": 0.082673,
     "end_time": "2021-05-14T15:57:04.380547",
     "exception": false,
     "start_time": "2021-05-14T15:57:04.297874",
     "status": "completed"
    },
    "tags": []
   },
   "outputs": [
    {
     "data": {
      "text/plain": [
       "S    644\n",
       "C    168\n",
       "Q     77\n",
       "Name: Embarked, dtype: int64"
      ]
     },
     "execution_count": 23,
     "metadata": {},
     "output_type": "execute_result"
    }
   ],
   "source": [
    "new_train.Embarked.value_counts()"
   ]
  },
  {
   "cell_type": "markdown",
   "id": "logical-reader",
   "metadata": {
    "papermill": {
     "duration": 0.070405,
     "end_time": "2021-05-14T15:57:04.521848",
     "exception": false,
     "start_time": "2021-05-14T15:57:04.451443",
     "status": "completed"
    },
    "tags": []
   },
   "source": [
    "`Southampton` is the top port of embarkation. So we are fill the null values with `S`"
   ]
  },
  {
   "cell_type": "code",
   "execution_count": 24,
   "id": "inappropriate-animation",
   "metadata": {
    "execution": {
     "iopub.execute_input": "2021-05-14T15:57:04.671460Z",
     "iopub.status.busy": "2021-05-14T15:57:04.670793Z",
     "iopub.status.idle": "2021-05-14T15:57:04.675184Z",
     "shell.execute_reply": "2021-05-14T15:57:04.674723Z"
    },
    "papermill": {
     "duration": 0.081346,
     "end_time": "2021-05-14T15:57:04.675332",
     "exception": false,
     "start_time": "2021-05-14T15:57:04.593986",
     "status": "completed"
    },
    "tags": []
   },
   "outputs": [],
   "source": [
    "new_train['Embarked'].fillna('S', inplace = True)"
   ]
  },
  {
   "cell_type": "markdown",
   "id": "brilliant-sailing",
   "metadata": {
    "papermill": {
     "duration": 0.071697,
     "end_time": "2021-05-14T15:57:04.819098",
     "exception": false,
     "start_time": "2021-05-14T15:57:04.747401",
     "status": "completed"
    },
    "tags": []
   },
   "source": [
    "Let's check again for null values"
   ]
  },
  {
   "cell_type": "code",
   "execution_count": 25,
   "id": "described-timer",
   "metadata": {
    "execution": {
     "iopub.execute_input": "2021-05-14T15:57:04.972202Z",
     "iopub.status.busy": "2021-05-14T15:57:04.971441Z",
     "iopub.status.idle": "2021-05-14T15:57:04.974492Z",
     "shell.execute_reply": "2021-05-14T15:57:04.975040Z"
    },
    "papermill": {
     "duration": 0.082566,
     "end_time": "2021-05-14T15:57:04.975187",
     "exception": false,
     "start_time": "2021-05-14T15:57:04.892621",
     "status": "completed"
    },
    "tags": []
   },
   "outputs": [
    {
     "data": {
      "text/plain": [
       "Survived    0\n",
       "Pclass      0\n",
       "Sex         0\n",
       "Age         0\n",
       "SibSp       0\n",
       "Parch       0\n",
       "Fare        0\n",
       "Embarked    0\n",
       "dtype: int64"
      ]
     },
     "execution_count": 25,
     "metadata": {},
     "output_type": "execute_result"
    }
   ],
   "source": [
    "new_train.isna().sum()"
   ]
  },
  {
   "cell_type": "markdown",
   "id": "rising-proposal",
   "metadata": {
    "papermill": {
     "duration": 0.079441,
     "end_time": "2021-05-14T15:57:05.124091",
     "exception": false,
     "start_time": "2021-05-14T15:57:05.044650",
     "status": "completed"
    },
    "tags": []
   },
   "source": [
    "**Nice!**\n",
    "\n",
    "We don't any null values now"
   ]
  },
  {
   "cell_type": "markdown",
   "id": "surface-silicon",
   "metadata": {
    "papermill": {
     "duration": 0.072017,
     "end_time": "2021-05-14T15:57:05.266591",
     "exception": false,
     "start_time": "2021-05-14T15:57:05.194574",
     "status": "completed"
    },
    "tags": []
   },
   "source": [
    "Let's create x and y matrix of features"
   ]
  },
  {
   "cell_type": "code",
   "execution_count": 26,
   "id": "normal-schema",
   "metadata": {
    "execution": {
     "iopub.execute_input": "2021-05-14T15:57:05.422334Z",
     "iopub.status.busy": "2021-05-14T15:57:05.421359Z",
     "iopub.status.idle": "2021-05-14T15:57:05.423756Z",
     "shell.execute_reply": "2021-05-14T15:57:05.424200Z"
    },
    "papermill": {
     "duration": 0.082866,
     "end_time": "2021-05-14T15:57:05.424357",
     "exception": false,
     "start_time": "2021-05-14T15:57:05.341491",
     "status": "completed"
    },
    "tags": []
   },
   "outputs": [],
   "source": [
    "x = new_train.drop('Survived',  axis = 1)\n",
    "y = new_train['Survived']"
   ]
  },
  {
   "cell_type": "code",
   "execution_count": 27,
   "id": "decent-mapping",
   "metadata": {
    "execution": {
     "iopub.execute_input": "2021-05-14T15:57:05.576613Z",
     "iopub.status.busy": "2021-05-14T15:57:05.575771Z",
     "iopub.status.idle": "2021-05-14T15:57:05.579249Z",
     "shell.execute_reply": "2021-05-14T15:57:05.579914Z"
    },
    "papermill": {
     "duration": 0.081296,
     "end_time": "2021-05-14T15:57:05.580114",
     "exception": false,
     "start_time": "2021-05-14T15:57:05.498818",
     "status": "completed"
    },
    "tags": []
   },
   "outputs": [
    {
     "data": {
      "text/plain": [
       "(891, 7)"
      ]
     },
     "execution_count": 27,
     "metadata": {},
     "output_type": "execute_result"
    }
   ],
   "source": [
    "x.shape"
   ]
  },
  {
   "cell_type": "code",
   "execution_count": 28,
   "id": "previous-joyce",
   "metadata": {
    "execution": {
     "iopub.execute_input": "2021-05-14T15:57:05.856811Z",
     "iopub.status.busy": "2021-05-14T15:57:05.855816Z",
     "iopub.status.idle": "2021-05-14T15:57:05.860078Z",
     "shell.execute_reply": "2021-05-14T15:57:05.860551Z"
    },
    "papermill": {
     "duration": 0.204881,
     "end_time": "2021-05-14T15:57:05.860709",
     "exception": false,
     "start_time": "2021-05-14T15:57:05.655828",
     "status": "completed"
    },
    "tags": []
   },
   "outputs": [
    {
     "data": {
      "text/html": [
       "<div>\n",
       "<style scoped>\n",
       "    .dataframe tbody tr th:only-of-type {\n",
       "        vertical-align: middle;\n",
       "    }\n",
       "\n",
       "    .dataframe tbody tr th {\n",
       "        vertical-align: top;\n",
       "    }\n",
       "\n",
       "    .dataframe thead th {\n",
       "        text-align: right;\n",
       "    }\n",
       "</style>\n",
       "<table border=\"1\" class=\"dataframe\">\n",
       "  <thead>\n",
       "    <tr style=\"text-align: right;\">\n",
       "      <th></th>\n",
       "      <th>Pclass</th>\n",
       "      <th>Sex</th>\n",
       "      <th>Age</th>\n",
       "      <th>SibSp</th>\n",
       "      <th>Parch</th>\n",
       "      <th>Fare</th>\n",
       "      <th>Embarked</th>\n",
       "    </tr>\n",
       "  </thead>\n",
       "  <tbody>\n",
       "    <tr>\n",
       "      <th>0</th>\n",
       "      <td>3</td>\n",
       "      <td>male</td>\n",
       "      <td>22.0</td>\n",
       "      <td>1</td>\n",
       "      <td>0</td>\n",
       "      <td>7.2500</td>\n",
       "      <td>S</td>\n",
       "    </tr>\n",
       "    <tr>\n",
       "      <th>1</th>\n",
       "      <td>1</td>\n",
       "      <td>female</td>\n",
       "      <td>38.0</td>\n",
       "      <td>1</td>\n",
       "      <td>0</td>\n",
       "      <td>71.2833</td>\n",
       "      <td>C</td>\n",
       "    </tr>\n",
       "    <tr>\n",
       "      <th>2</th>\n",
       "      <td>3</td>\n",
       "      <td>female</td>\n",
       "      <td>26.0</td>\n",
       "      <td>0</td>\n",
       "      <td>0</td>\n",
       "      <td>7.9250</td>\n",
       "      <td>S</td>\n",
       "    </tr>\n",
       "    <tr>\n",
       "      <th>3</th>\n",
       "      <td>1</td>\n",
       "      <td>female</td>\n",
       "      <td>35.0</td>\n",
       "      <td>1</td>\n",
       "      <td>0</td>\n",
       "      <td>53.1000</td>\n",
       "      <td>S</td>\n",
       "    </tr>\n",
       "    <tr>\n",
       "      <th>4</th>\n",
       "      <td>3</td>\n",
       "      <td>male</td>\n",
       "      <td>35.0</td>\n",
       "      <td>0</td>\n",
       "      <td>0</td>\n",
       "      <td>8.0500</td>\n",
       "      <td>S</td>\n",
       "    </tr>\n",
       "  </tbody>\n",
       "</table>\n",
       "</div>"
      ],
      "text/plain": [
       "   Pclass     Sex   Age  SibSp  Parch     Fare Embarked\n",
       "0       3    male  22.0      1      0   7.2500        S\n",
       "1       1  female  38.0      1      0  71.2833        C\n",
       "2       3  female  26.0      0      0   7.9250        S\n",
       "3       1  female  35.0      1      0  53.1000        S\n",
       "4       3    male  35.0      0      0   8.0500        S"
      ]
     },
     "execution_count": 28,
     "metadata": {},
     "output_type": "execute_result"
    }
   ],
   "source": [
    "x.head()"
   ]
  },
  {
   "cell_type": "markdown",
   "id": "taken-venue",
   "metadata": {
    "papermill": {
     "duration": 0.074713,
     "end_time": "2021-05-14T15:57:06.017896",
     "exception": false,
     "start_time": "2021-05-14T15:57:05.943183",
     "status": "completed"
    },
    "tags": []
   },
   "source": [
    "We have two `categorical` columns. Let's take care of them now."
   ]
  },
  {
   "cell_type": "code",
   "execution_count": 29,
   "id": "educated-phrase",
   "metadata": {
    "execution": {
     "iopub.execute_input": "2021-05-14T15:57:06.174227Z",
     "iopub.status.busy": "2021-05-14T15:57:06.173528Z",
     "iopub.status.idle": "2021-05-14T15:57:06.294964Z",
     "shell.execute_reply": "2021-05-14T15:57:06.294443Z"
    },
    "papermill": {
     "duration": 0.200774,
     "end_time": "2021-05-14T15:57:06.295123",
     "exception": false,
     "start_time": "2021-05-14T15:57:06.094349",
     "status": "completed"
    },
    "tags": []
   },
   "outputs": [],
   "source": [
    "from sklearn.preprocessing import OneHotEncoder\n",
    "from sklearn.compose import ColumnTransformer\n",
    "\n",
    "categorical_features = ['Sex', 'Embarked']\n",
    "onehotencode = OneHotEncoder()\n",
    "\n",
    "transformer = ColumnTransformer([('Encoder', onehotencode, categorical_features)], remainder = 'passthrough')\n",
    "\n",
    "encoded_x = transformer.fit_transform(x)"
   ]
  },
  {
   "cell_type": "code",
   "execution_count": 30,
   "id": "acute-wheel",
   "metadata": {
    "execution": {
     "iopub.execute_input": "2021-05-14T15:57:06.459860Z",
     "iopub.status.busy": "2021-05-14T15:57:06.458890Z",
     "iopub.status.idle": "2021-05-14T15:57:06.462685Z",
     "shell.execute_reply": "2021-05-14T15:57:06.463284Z"
    },
    "papermill": {
     "duration": 0.096237,
     "end_time": "2021-05-14T15:57:06.463461",
     "exception": false,
     "start_time": "2021-05-14T15:57:06.367224",
     "status": "completed"
    },
    "tags": []
   },
   "outputs": [
    {
     "data": {
      "text/html": [
       "<div>\n",
       "<style scoped>\n",
       "    .dataframe tbody tr th:only-of-type {\n",
       "        vertical-align: middle;\n",
       "    }\n",
       "\n",
       "    .dataframe tbody tr th {\n",
       "        vertical-align: top;\n",
       "    }\n",
       "\n",
       "    .dataframe thead th {\n",
       "        text-align: right;\n",
       "    }\n",
       "</style>\n",
       "<table border=\"1\" class=\"dataframe\">\n",
       "  <thead>\n",
       "    <tr style=\"text-align: right;\">\n",
       "      <th></th>\n",
       "      <th>0</th>\n",
       "      <th>1</th>\n",
       "      <th>2</th>\n",
       "      <th>3</th>\n",
       "      <th>4</th>\n",
       "      <th>5</th>\n",
       "      <th>6</th>\n",
       "      <th>7</th>\n",
       "      <th>8</th>\n",
       "      <th>9</th>\n",
       "    </tr>\n",
       "  </thead>\n",
       "  <tbody>\n",
       "    <tr>\n",
       "      <th>0</th>\n",
       "      <td>0.0</td>\n",
       "      <td>1.0</td>\n",
       "      <td>0.0</td>\n",
       "      <td>0.0</td>\n",
       "      <td>1.0</td>\n",
       "      <td>3.0</td>\n",
       "      <td>22.0</td>\n",
       "      <td>1.0</td>\n",
       "      <td>0.0</td>\n",
       "      <td>7.2500</td>\n",
       "    </tr>\n",
       "    <tr>\n",
       "      <th>1</th>\n",
       "      <td>1.0</td>\n",
       "      <td>0.0</td>\n",
       "      <td>1.0</td>\n",
       "      <td>0.0</td>\n",
       "      <td>0.0</td>\n",
       "      <td>1.0</td>\n",
       "      <td>38.0</td>\n",
       "      <td>1.0</td>\n",
       "      <td>0.0</td>\n",
       "      <td>71.2833</td>\n",
       "    </tr>\n",
       "    <tr>\n",
       "      <th>2</th>\n",
       "      <td>1.0</td>\n",
       "      <td>0.0</td>\n",
       "      <td>0.0</td>\n",
       "      <td>0.0</td>\n",
       "      <td>1.0</td>\n",
       "      <td>3.0</td>\n",
       "      <td>26.0</td>\n",
       "      <td>0.0</td>\n",
       "      <td>0.0</td>\n",
       "      <td>7.9250</td>\n",
       "    </tr>\n",
       "    <tr>\n",
       "      <th>3</th>\n",
       "      <td>1.0</td>\n",
       "      <td>0.0</td>\n",
       "      <td>0.0</td>\n",
       "      <td>0.0</td>\n",
       "      <td>1.0</td>\n",
       "      <td>1.0</td>\n",
       "      <td>35.0</td>\n",
       "      <td>1.0</td>\n",
       "      <td>0.0</td>\n",
       "      <td>53.1000</td>\n",
       "    </tr>\n",
       "    <tr>\n",
       "      <th>4</th>\n",
       "      <td>0.0</td>\n",
       "      <td>1.0</td>\n",
       "      <td>0.0</td>\n",
       "      <td>0.0</td>\n",
       "      <td>1.0</td>\n",
       "      <td>3.0</td>\n",
       "      <td>35.0</td>\n",
       "      <td>0.0</td>\n",
       "      <td>0.0</td>\n",
       "      <td>8.0500</td>\n",
       "    </tr>\n",
       "  </tbody>\n",
       "</table>\n",
       "</div>"
      ],
      "text/plain": [
       "     0    1    2    3    4    5     6    7    8        9\n",
       "0  0.0  1.0  0.0  0.0  1.0  3.0  22.0  1.0  0.0   7.2500\n",
       "1  1.0  0.0  1.0  0.0  0.0  1.0  38.0  1.0  0.0  71.2833\n",
       "2  1.0  0.0  0.0  0.0  1.0  3.0  26.0  0.0  0.0   7.9250\n",
       "3  1.0  0.0  0.0  0.0  1.0  1.0  35.0  1.0  0.0  53.1000\n",
       "4  0.0  1.0  0.0  0.0  1.0  3.0  35.0  0.0  0.0   8.0500"
      ]
     },
     "execution_count": 30,
     "metadata": {},
     "output_type": "execute_result"
    }
   ],
   "source": [
    "pd.DataFrame(encoded_x).head()"
   ]
  },
  {
   "cell_type": "code",
   "execution_count": 31,
   "id": "iraqi-christmas",
   "metadata": {
    "execution": {
     "iopub.execute_input": "2021-05-14T15:57:06.628666Z",
     "iopub.status.busy": "2021-05-14T15:57:06.627828Z",
     "iopub.status.idle": "2021-05-14T15:57:06.631104Z",
     "shell.execute_reply": "2021-05-14T15:57:06.631640Z"
    },
    "papermill": {
     "duration": 0.084898,
     "end_time": "2021-05-14T15:57:06.631788",
     "exception": false,
     "start_time": "2021-05-14T15:57:06.546890",
     "status": "completed"
    },
    "tags": []
   },
   "outputs": [
    {
     "data": {
      "text/plain": [
       "(891, 10)"
      ]
     },
     "execution_count": 31,
     "metadata": {},
     "output_type": "execute_result"
    }
   ],
   "source": [
    "encoded_x.shape"
   ]
  },
  {
   "cell_type": "code",
   "execution_count": 32,
   "id": "educated-heaven",
   "metadata": {
    "execution": {
     "iopub.execute_input": "2021-05-14T15:57:06.788354Z",
     "iopub.status.busy": "2021-05-14T15:57:06.787575Z",
     "iopub.status.idle": "2021-05-14T15:57:06.790772Z",
     "shell.execute_reply": "2021-05-14T15:57:06.791237Z"
    },
    "papermill": {
     "duration": 0.084599,
     "end_time": "2021-05-14T15:57:06.791402",
     "exception": false,
     "start_time": "2021-05-14T15:57:06.706803",
     "status": "completed"
    },
    "tags": []
   },
   "outputs": [
    {
     "data": {
      "text/plain": [
       "(891,)"
      ]
     },
     "execution_count": 32,
     "metadata": {},
     "output_type": "execute_result"
    }
   ],
   "source": [
    "y.shape"
   ]
  },
  {
   "cell_type": "markdown",
   "id": "breeding-division",
   "metadata": {
    "papermill": {
     "duration": 0.074445,
     "end_time": "2021-05-14T15:57:06.942550",
     "exception": false,
     "start_time": "2021-05-14T15:57:06.868105",
     "status": "completed"
    },
    "tags": []
   },
   "source": [
    "Let's now check wheather our dataset is imbalanced or not"
   ]
  },
  {
   "cell_type": "code",
   "execution_count": 33,
   "id": "surprising-induction",
   "metadata": {
    "execution": {
     "iopub.execute_input": "2021-05-14T15:57:07.101947Z",
     "iopub.status.busy": "2021-05-14T15:57:07.101000Z",
     "iopub.status.idle": "2021-05-14T15:57:07.213468Z",
     "shell.execute_reply": "2021-05-14T15:57:07.213967Z"
    },
    "papermill": {
     "duration": 0.197977,
     "end_time": "2021-05-14T15:57:07.214153",
     "exception": false,
     "start_time": "2021-05-14T15:57:07.016176",
     "status": "completed"
    },
    "tags": []
   },
   "outputs": [
    {
     "data": {
      "image/png": "[encoded data removed]",
      "text/plain": [
       "<Figure size 432x288 with 1 Axes>"
      ]
     },
     "metadata": {
      "needs_background": "light"
     },
     "output_type": "display_data"
    }
   ],
   "source": [
    "y.value_counts().plot(kind = 'bar', color = ['thistle', 'salmon']);"
   ]
  },
  {
   "cell_type": "markdown",
   "id": "eight-aggregate",
   "metadata": {
    "papermill": {
     "duration": 0.076311,
     "end_time": "2021-05-14T15:57:07.364288",
     "exception": false,
     "start_time": "2021-05-14T15:57:07.287977",
     "status": "completed"
    },
    "tags": []
   },
   "source": [
    "We have slight imbalance. Let's balance this to get good result"
   ]
  },
  {
   "cell_type": "code",
   "execution_count": 34,
   "id": "vertical-navigator",
   "metadata": {
    "execution": {
     "iopub.execute_input": "2021-05-14T15:57:07.521799Z",
     "iopub.status.busy": "2021-05-14T15:57:07.521030Z",
     "iopub.status.idle": "2021-05-14T15:57:07.901269Z",
     "shell.execute_reply": "2021-05-14T15:57:07.899899Z"
    },
    "papermill": {
     "duration": 0.459463,
     "end_time": "2021-05-14T15:57:07.901425",
     "exception": false,
     "start_time": "2021-05-14T15:57:07.441962",
     "status": "completed"
    },
    "tags": []
   },
   "outputs": [],
   "source": [
    "from imblearn.over_sampling import SMOTE\n",
    "\n",
    "#Instanciating a object of SMOTE Class\n",
    "smote = SMOTE()\n",
    "\n",
    "# fit predictor and target variables\n",
    "x_smote, y_smote = smote.fit_resample(encoded_x, y)"
   ]
  },
  {
   "cell_type": "code",
   "execution_count": 35,
   "id": "experimental-blind",
   "metadata": {
    "execution": {
     "iopub.execute_input": "2021-05-14T15:57:08.077423Z",
     "iopub.status.busy": "2021-05-14T15:57:08.076413Z",
     "iopub.status.idle": "2021-05-14T15:57:08.080478Z",
     "shell.execute_reply": "2021-05-14T15:57:08.078205Z"
    },
    "papermill": {
     "duration": 0.092492,
     "end_time": "2021-05-14T15:57:08.080655",
     "exception": false,
     "start_time": "2021-05-14T15:57:07.988163",
     "status": "completed"
    },
    "tags": []
   },
   "outputs": [
    {
     "data": {
      "text/plain": [
       "(1098, 10)"
      ]
     },
     "execution_count": 35,
     "metadata": {},
     "output_type": "execute_result"
    }
   ],
   "source": [
    "x_smote.shape"
   ]
  },
  {
   "cell_type": "code",
   "execution_count": 36,
   "id": "curious-transsexual",
   "metadata": {
    "execution": {
     "iopub.execute_input": "2021-05-14T15:57:08.351540Z",
     "iopub.status.busy": "2021-05-14T15:57:08.350576Z",
     "iopub.status.idle": "2021-05-14T15:57:08.555660Z",
     "shell.execute_reply": "2021-05-14T15:57:08.556624Z"
    },
    "papermill": {
     "duration": 0.337517,
     "end_time": "2021-05-14T15:57:08.556873",
     "exception": false,
     "start_time": "2021-05-14T15:57:08.219356",
     "status": "completed"
    },
    "tags": []
   },
   "outputs": [
    {
     "data": {
      "image/png": "[encoded data removed]",
      "text/plain": [
       "<Figure size 432x288 with 1 Axes>"
      ]
     },
     "metadata": {
      "needs_background": "light"
     },
     "output_type": "display_data"
    }
   ],
   "source": [
    "y_smote.value_counts().plot(kind = 'bar', color = ['thistle', 'salmon']);"
   ]
  },
  {
   "cell_type": "markdown",
   "id": "technical-proxy",
   "metadata": {
    "papermill": {
     "duration": 0.120248,
     "end_time": "2021-05-14T15:57:08.823627",
     "exception": false,
     "start_time": "2021-05-14T15:57:08.703379",
     "status": "completed"
    },
    "tags": []
   },
   "source": [
    "**Now it is perfectly balanced as all things should be.**"
   ]
  },
  {
   "cell_type": "markdown",
   "id": "later-canada",
   "metadata": {
    "papermill": {
     "duration": 0.079858,
     "end_time": "2021-05-14T15:57:08.981101",
     "exception": false,
     "start_time": "2021-05-14T15:57:08.901243",
     "status": "completed"
    },
    "tags": []
   },
   "source": [
    "# Preparing the test dataset"
   ]
  },
  {
   "cell_type": "code",
   "execution_count": 37,
   "id": "continental-conference",
   "metadata": {
    "execution": {
     "iopub.execute_input": "2021-05-14T15:57:09.153237Z",
     "iopub.status.busy": "2021-05-14T15:57:09.152093Z",
     "iopub.status.idle": "2021-05-14T15:57:09.157052Z",
     "shell.execute_reply": "2021-05-14T15:57:09.157527Z"
    },
    "papermill": {
     "duration": 0.09756,
     "end_time": "2021-05-14T15:57:09.157700",
     "exception": false,
     "start_time": "2021-05-14T15:57:09.060140",
     "status": "completed"
    },
    "tags": []
   },
   "outputs": [
    {
     "data": {
      "text/html": [
       "<div>\n",
       "<style scoped>\n",
       "    .dataframe tbody tr th:only-of-type {\n",
       "        vertical-align: middle;\n",
       "    }\n",
       "\n",
       "    .dataframe tbody tr th {\n",
       "        vertical-align: top;\n",
       "    }\n",
       "\n",
       "    .dataframe thead th {\n",
       "        text-align: right;\n",
       "    }\n",
       "</style>\n",
       "<table border=\"1\" class=\"dataframe\">\n",
       "  <thead>\n",
       "    <tr style=\"text-align: right;\">\n",
       "      <th></th>\n",
       "      <th>PassengerId</th>\n",
       "      <th>Pclass</th>\n",
       "      <th>Name</th>\n",
       "      <th>Sex</th>\n",
       "      <th>Age</th>\n",
       "      <th>SibSp</th>\n",
       "      <th>Parch</th>\n",
       "      <th>Ticket</th>\n",
       "      <th>Fare</th>\n",
       "      <th>Cabin</th>\n",
       "      <th>Embarked</th>\n",
       "    </tr>\n",
       "  </thead>\n",
       "  <tbody>\n",
       "    <tr>\n",
       "      <th>0</th>\n",
       "      <td>892</td>\n",
       "      <td>3</td>\n",
       "      <td>Kelly, Mr. James</td>\n",
       "      <td>male</td>\n",
       "      <td>34.5</td>\n",
       "      <td>0</td>\n",
       "      <td>0</td>\n",
       "      <td>330911</td>\n",
       "      <td>7.8292</td>\n",
       "      <td>NaN</td>\n",
       "      <td>Q</td>\n",
       "    </tr>\n",
       "    <tr>\n",
       "      <th>1</th>\n",
       "      <td>893</td>\n",
       "      <td>3</td>\n",
       "      <td>Wilkes, Mrs. James (Ellen Needs)</td>\n",
       "      <td>female</td>\n",
       "      <td>47.0</td>\n",
       "      <td>1</td>\n",
       "      <td>0</td>\n",
       "      <td>363272</td>\n",
       "      <td>7.0000</td>\n",
       "      <td>NaN</td>\n",
       "      <td>S</td>\n",
       "    </tr>\n",
       "    <tr>\n",
       "      <th>2</th>\n",
       "      <td>894</td>\n",
       "      <td>2</td>\n",
       "      <td>Myles, Mr. Thomas Francis</td>\n",
       "      <td>male</td>\n",
       "      <td>62.0</td>\n",
       "      <td>0</td>\n",
       "      <td>0</td>\n",
       "      <td>240276</td>\n",
       "      <td>9.6875</td>\n",
       "      <td>NaN</td>\n",
       "      <td>Q</td>\n",
       "    </tr>\n",
       "    <tr>\n",
       "      <th>3</th>\n",
       "      <td>895</td>\n",
       "      <td>3</td>\n",
       "      <td>Wirz, Mr. Albert</td>\n",
       "      <td>male</td>\n",
       "      <td>27.0</td>\n",
       "      <td>0</td>\n",
       "      <td>0</td>\n",
       "      <td>315154</td>\n",
       "      <td>8.6625</td>\n",
       "      <td>NaN</td>\n",
       "      <td>S</td>\n",
       "    </tr>\n",
       "    <tr>\n",
       "      <th>4</th>\n",
       "      <td>896</td>\n",
       "      <td>3</td>\n",
       "      <td>Hirvonen, Mrs. Alexander (Helga E Lindqvist)</td>\n",
       "      <td>female</td>\n",
       "      <td>22.0</td>\n",
       "      <td>1</td>\n",
       "      <td>1</td>\n",
       "      <td>3101298</td>\n",
       "      <td>12.2875</td>\n",
       "      <td>NaN</td>\n",
       "      <td>S</td>\n",
       "    </tr>\n",
       "  </tbody>\n",
       "</table>\n",
       "</div>"
      ],
      "text/plain": [
       "   PassengerId  Pclass                                          Name     Sex  \\\n",
       "0          892       3                              Kelly, Mr. James    male   \n",
       "1          893       3              Wilkes, Mrs. James (Ellen Needs)  female   \n",
       "2          894       2                     Myles, Mr. Thomas Francis    male   \n",
       "3          895       3                              Wirz, Mr. Albert    male   \n",
       "4          896       3  Hirvonen, Mrs. Alexander (Helga E Lindqvist)  female   \n",
       "\n",
       "    Age  SibSp  Parch   Ticket     Fare Cabin Embarked  \n",
       "0  34.5      0      0   330911   7.8292   NaN        Q  \n",
       "1  47.0      1      0   363272   7.0000   NaN        S  \n",
       "2  62.0      0      0   240276   9.6875   NaN        Q  \n",
       "3  27.0      0      0   315154   8.6625   NaN        S  \n",
       "4  22.0      1      1  3101298  12.2875   NaN        S  "
      ]
     },
     "execution_count": 37,
     "metadata": {},
     "output_type": "execute_result"
    }
   ],
   "source": [
    "test.head()"
   ]
  },
  {
   "cell_type": "code",
   "execution_count": 38,
   "id": "geographic-heath",
   "metadata": {
    "execution": {
     "iopub.execute_input": "2021-05-14T15:57:09.327754Z",
     "iopub.status.busy": "2021-05-14T15:57:09.327133Z",
     "iopub.status.idle": "2021-05-14T15:57:09.333926Z",
     "shell.execute_reply": "2021-05-14T15:57:09.333415Z"
    },
    "papermill": {
     "duration": 0.091388,
     "end_time": "2021-05-14T15:57:09.334069",
     "exception": false,
     "start_time": "2021-05-14T15:57:09.242681",
     "status": "completed"
    },
    "tags": []
   },
   "outputs": [
    {
     "data": {
      "text/plain": [
       "(418, 11)"
      ]
     },
     "execution_count": 38,
     "metadata": {},
     "output_type": "execute_result"
    }
   ],
   "source": [
    "test.shape"
   ]
  },
  {
   "cell_type": "markdown",
   "id": "altered-grave",
   "metadata": {
    "papermill": {
     "duration": 0.126554,
     "end_time": "2021-05-14T15:57:09.539788",
     "exception": false,
     "start_time": "2021-05-14T15:57:09.413234",
     "status": "completed"
    },
    "tags": []
   },
   "source": [
    "Now, make a new version of test dataset removing unwanted columns"
   ]
  },
  {
   "cell_type": "code",
   "execution_count": 39,
   "id": "persistent-carbon",
   "metadata": {
    "execution": {
     "iopub.execute_input": "2021-05-14T15:57:09.703286Z",
     "iopub.status.busy": "2021-05-14T15:57:09.702673Z",
     "iopub.status.idle": "2021-05-14T15:57:09.707486Z",
     "shell.execute_reply": "2021-05-14T15:57:09.706996Z"
    },
    "papermill": {
     "duration": 0.088817,
     "end_time": "2021-05-14T15:57:09.707619",
     "exception": false,
     "start_time": "2021-05-14T15:57:09.618802",
     "status": "completed"
    },
    "tags": []
   },
   "outputs": [],
   "source": [
    "new_test = test.drop(['PassengerId', 'Name', 'Ticket', 'Cabin'], axis = 1)"
   ]
  },
  {
   "cell_type": "code",
   "execution_count": 40,
   "id": "fewer-unknown",
   "metadata": {
    "execution": {
     "iopub.execute_input": "2021-05-14T15:57:09.875689Z",
     "iopub.status.busy": "2021-05-14T15:57:09.874883Z",
     "iopub.status.idle": "2021-05-14T15:57:09.881449Z",
     "shell.execute_reply": "2021-05-14T15:57:09.880933Z"
    },
    "papermill": {
     "duration": 0.096355,
     "end_time": "2021-05-14T15:57:09.881573",
     "exception": false,
     "start_time": "2021-05-14T15:57:09.785218",
     "status": "completed"
    },
    "tags": []
   },
   "outputs": [
    {
     "data": {
      "text/html": [
       "<div>\n",
       "<style scoped>\n",
       "    .dataframe tbody tr th:only-of-type {\n",
       "        vertical-align: middle;\n",
       "    }\n",
       "\n",
       "    .dataframe tbody tr th {\n",
       "        vertical-align: top;\n",
       "    }\n",
       "\n",
       "    .dataframe thead th {\n",
       "        text-align: right;\n",
       "    }\n",
       "</style>\n",
       "<table border=\"1\" class=\"dataframe\">\n",
       "  <thead>\n",
       "    <tr style=\"text-align: right;\">\n",
       "      <th></th>\n",
       "      <th>Pclass</th>\n",
       "      <th>Sex</th>\n",
       "      <th>Age</th>\n",
       "      <th>SibSp</th>\n",
       "      <th>Parch</th>\n",
       "      <th>Fare</th>\n",
       "      <th>Embarked</th>\n",
       "    </tr>\n",
       "  </thead>\n",
       "  <tbody>\n",
       "    <tr>\n",
       "      <th>0</th>\n",
       "      <td>3</td>\n",
       "      <td>male</td>\n",
       "      <td>34.5</td>\n",
       "      <td>0</td>\n",
       "      <td>0</td>\n",
       "      <td>7.8292</td>\n",
       "      <td>Q</td>\n",
       "    </tr>\n",
       "    <tr>\n",
       "      <th>1</th>\n",
       "      <td>3</td>\n",
       "      <td>female</td>\n",
       "      <td>47.0</td>\n",
       "      <td>1</td>\n",
       "      <td>0</td>\n",
       "      <td>7.0000</td>\n",
       "      <td>S</td>\n",
       "    </tr>\n",
       "    <tr>\n",
       "      <th>2</th>\n",
       "      <td>2</td>\n",
       "      <td>male</td>\n",
       "      <td>62.0</td>\n",
       "      <td>0</td>\n",
       "      <td>0</td>\n",
       "      <td>9.6875</td>\n",
       "      <td>Q</td>\n",
       "    </tr>\n",
       "    <tr>\n",
       "      <th>3</th>\n",
       "      <td>3</td>\n",
       "      <td>male</td>\n",
       "      <td>27.0</td>\n",
       "      <td>0</td>\n",
       "      <td>0</td>\n",
       "      <td>8.6625</td>\n",
       "      <td>S</td>\n",
       "    </tr>\n",
       "    <tr>\n",
       "      <th>4</th>\n",
       "      <td>3</td>\n",
       "      <td>female</td>\n",
       "      <td>22.0</td>\n",
       "      <td>1</td>\n",
       "      <td>1</td>\n",
       "      <td>12.2875</td>\n",
       "      <td>S</td>\n",
       "    </tr>\n",
       "  </tbody>\n",
       "</table>\n",
       "</div>"
      ],
      "text/plain": [
       "   Pclass     Sex   Age  SibSp  Parch     Fare Embarked\n",
       "0       3    male  34.5      0      0   7.8292        Q\n",
       "1       3  female  47.0      1      0   7.0000        S\n",
       "2       2    male  62.0      0      0   9.6875        Q\n",
       "3       3    male  27.0      0      0   8.6625        S\n",
       "4       3  female  22.0      1      1  12.2875        S"
      ]
     },
     "execution_count": 40,
     "metadata": {},
     "output_type": "execute_result"
    }
   ],
   "source": [
    "new_test.head()"
   ]
  },
  {
   "cell_type": "markdown",
   "id": "cognitive-astronomy",
   "metadata": {
    "papermill": {
     "duration": 0.077851,
     "end_time": "2021-05-14T15:57:10.037441",
     "exception": false,
     "start_time": "2021-05-14T15:57:09.959590",
     "status": "completed"
    },
    "tags": []
   },
   "source": [
    "Ckecking for null values"
   ]
  },
  {
   "cell_type": "code",
   "execution_count": 41,
   "id": "general-bacon",
   "metadata": {
    "execution": {
     "iopub.execute_input": "2021-05-14T15:57:10.204749Z",
     "iopub.status.busy": "2021-05-14T15:57:10.203708Z",
     "iopub.status.idle": "2021-05-14T15:57:10.210835Z",
     "shell.execute_reply": "2021-05-14T15:57:10.210317Z"
    },
    "papermill": {
     "duration": 0.093755,
     "end_time": "2021-05-14T15:57:10.210964",
     "exception": false,
     "start_time": "2021-05-14T15:57:10.117209",
     "status": "completed"
    },
    "tags": []
   },
   "outputs": [
    {
     "data": {
      "text/plain": [
       "Pclass       0\n",
       "Sex          0\n",
       "Age         86\n",
       "SibSp        0\n",
       "Parch        0\n",
       "Fare         1\n",
       "Embarked     0\n",
       "dtype: int64"
      ]
     },
     "execution_count": 41,
     "metadata": {},
     "output_type": "execute_result"
    }
   ],
   "source": [
    "new_test.isna().sum()"
   ]
  },
  {
   "cell_type": "markdown",
   "id": "inclusive-harvard",
   "metadata": {
    "papermill": {
     "duration": 0.081643,
     "end_time": "2021-05-14T15:57:10.374512",
     "exception": false,
     "start_time": "2021-05-14T15:57:10.292869",
     "status": "completed"
    },
    "tags": []
   },
   "source": [
    "Filling the null values with mean values"
   ]
  },
  {
   "cell_type": "code",
   "execution_count": 42,
   "id": "ultimate-mozambique",
   "metadata": {
    "execution": {
     "iopub.execute_input": "2021-05-14T15:57:10.541644Z",
     "iopub.status.busy": "2021-05-14T15:57:10.540823Z",
     "iopub.status.idle": "2021-05-14T15:57:10.544714Z",
     "shell.execute_reply": "2021-05-14T15:57:10.544276Z"
    },
    "papermill": {
     "duration": 0.089086,
     "end_time": "2021-05-14T15:57:10.544841",
     "exception": false,
     "start_time": "2021-05-14T15:57:10.455755",
     "status": "completed"
    },
    "tags": []
   },
   "outputs": [],
   "source": [
    "new_test['Age'].fillna(new_train['Age'].mean(), inplace = True)"
   ]
  },
  {
   "cell_type": "code",
   "execution_count": 43,
   "id": "known-gasoline",
   "metadata": {
    "execution": {
     "iopub.execute_input": "2021-05-14T15:57:10.711124Z",
     "iopub.status.busy": "2021-05-14T15:57:10.710487Z",
     "iopub.status.idle": "2021-05-14T15:57:10.715431Z",
     "shell.execute_reply": "2021-05-14T15:57:10.714901Z"
    },
    "papermill": {
     "duration": 0.090717,
     "end_time": "2021-05-14T15:57:10.715591",
     "exception": false,
     "start_time": "2021-05-14T15:57:10.624874",
     "status": "completed"
    },
    "tags": []
   },
   "outputs": [],
   "source": [
    "new_test['Fare'].fillna(new_train['Fare'].mean(), inplace = True)"
   ]
  },
  {
   "cell_type": "markdown",
   "id": "phantom-sustainability",
   "metadata": {
    "papermill": {
     "duration": 0.080951,
     "end_time": "2021-05-14T15:57:10.877184",
     "exception": false,
     "start_time": "2021-05-14T15:57:10.796233",
     "status": "completed"
    },
    "tags": []
   },
   "source": [
    "As before we now have to take care of `categorical columns`"
   ]
  },
  {
   "cell_type": "code",
   "execution_count": 44,
   "id": "future-innocent",
   "metadata": {
    "execution": {
     "iopub.execute_input": "2021-05-14T15:57:11.050099Z",
     "iopub.status.busy": "2021-05-14T15:57:11.047618Z",
     "iopub.status.idle": "2021-05-14T15:57:11.052477Z",
     "shell.execute_reply": "2021-05-14T15:57:11.052954Z"
    },
    "papermill": {
     "duration": 0.09474,
     "end_time": "2021-05-14T15:57:11.053130",
     "exception": false,
     "start_time": "2021-05-14T15:57:10.958390",
     "status": "completed"
    },
    "tags": []
   },
   "outputs": [],
   "source": [
    "categorical_features = ['Sex', 'Embarked']\n",
    "onehotencode = OneHotEncoder()\n",
    "\n",
    "transformer = ColumnTransformer([('Encoder', onehotencode, categorical_features)], remainder = 'passthrough')\n",
    "\n",
    "encoded_test_x = transformer.fit_transform(new_test)"
   ]
  },
  {
   "cell_type": "code",
   "execution_count": 45,
   "id": "copyrighted-jacksonville",
   "metadata": {
    "execution": {
     "iopub.execute_input": "2021-05-14T15:57:11.234184Z",
     "iopub.status.busy": "2021-05-14T15:57:11.233295Z",
     "iopub.status.idle": "2021-05-14T15:57:11.237646Z",
     "shell.execute_reply": "2021-05-14T15:57:11.238182Z"
    },
    "papermill": {
     "duration": 0.104138,
     "end_time": "2021-05-14T15:57:11.238374",
     "exception": false,
     "start_time": "2021-05-14T15:57:11.134236",
     "status": "completed"
    },
    "tags": []
   },
   "outputs": [
    {
     "data": {
      "text/html": [
       "<div>\n",
       "<style scoped>\n",
       "    .dataframe tbody tr th:only-of-type {\n",
       "        vertical-align: middle;\n",
       "    }\n",
       "\n",
       "    .dataframe tbody tr th {\n",
       "        vertical-align: top;\n",
       "    }\n",
       "\n",
       "    .dataframe thead th {\n",
       "        text-align: right;\n",
       "    }\n",
       "</style>\n",
       "<table border=\"1\" class=\"dataframe\">\n",
       "  <thead>\n",
       "    <tr style=\"text-align: right;\">\n",
       "      <th></th>\n",
       "      <th>0</th>\n",
       "      <th>1</th>\n",
       "      <th>2</th>\n",
       "      <th>3</th>\n",
       "      <th>4</th>\n",
       "      <th>5</th>\n",
       "      <th>6</th>\n",
       "      <th>7</th>\n",
       "      <th>8</th>\n",
       "      <th>9</th>\n",
       "    </tr>\n",
       "  </thead>\n",
       "  <tbody>\n",
       "    <tr>\n",
       "      <th>0</th>\n",
       "      <td>0.0</td>\n",
       "      <td>1.0</td>\n",
       "      <td>0.0</td>\n",
       "      <td>1.0</td>\n",
       "      <td>0.0</td>\n",
       "      <td>3.0</td>\n",
       "      <td>34.5</td>\n",
       "      <td>0.0</td>\n",
       "      <td>0.0</td>\n",
       "      <td>7.8292</td>\n",
       "    </tr>\n",
       "    <tr>\n",
       "      <th>1</th>\n",
       "      <td>1.0</td>\n",
       "      <td>0.0</td>\n",
       "      <td>0.0</td>\n",
       "      <td>0.0</td>\n",
       "      <td>1.0</td>\n",
       "      <td>3.0</td>\n",
       "      <td>47.0</td>\n",
       "      <td>1.0</td>\n",
       "      <td>0.0</td>\n",
       "      <td>7.0000</td>\n",
       "    </tr>\n",
       "    <tr>\n",
       "      <th>2</th>\n",
       "      <td>0.0</td>\n",
       "      <td>1.0</td>\n",
       "      <td>0.0</td>\n",
       "      <td>1.0</td>\n",
       "      <td>0.0</td>\n",
       "      <td>2.0</td>\n",
       "      <td>62.0</td>\n",
       "      <td>0.0</td>\n",
       "      <td>0.0</td>\n",
       "      <td>9.6875</td>\n",
       "    </tr>\n",
       "    <tr>\n",
       "      <th>3</th>\n",
       "      <td>0.0</td>\n",
       "      <td>1.0</td>\n",
       "      <td>0.0</td>\n",
       "      <td>0.0</td>\n",
       "      <td>1.0</td>\n",
       "      <td>3.0</td>\n",
       "      <td>27.0</td>\n",
       "      <td>0.0</td>\n",
       "      <td>0.0</td>\n",
       "      <td>8.6625</td>\n",
       "    </tr>\n",
       "    <tr>\n",
       "      <th>4</th>\n",
       "      <td>1.0</td>\n",
       "      <td>0.0</td>\n",
       "      <td>0.0</td>\n",
       "      <td>0.0</td>\n",
       "      <td>1.0</td>\n",
       "      <td>3.0</td>\n",
       "      <td>22.0</td>\n",
       "      <td>1.0</td>\n",
       "      <td>1.0</td>\n",
       "      <td>12.2875</td>\n",
       "    </tr>\n",
       "  </tbody>\n",
       "</table>\n",
       "</div>"
      ],
      "text/plain": [
       "     0    1    2    3    4    5     6    7    8        9\n",
       "0  0.0  1.0  0.0  1.0  0.0  3.0  34.5  0.0  0.0   7.8292\n",
       "1  1.0  0.0  0.0  0.0  1.0  3.0  47.0  1.0  0.0   7.0000\n",
       "2  0.0  1.0  0.0  1.0  0.0  2.0  62.0  0.0  0.0   9.6875\n",
       "3  0.0  1.0  0.0  0.0  1.0  3.0  27.0  0.0  0.0   8.6625\n",
       "4  1.0  0.0  0.0  0.0  1.0  3.0  22.0  1.0  1.0  12.2875"
      ]
     },
     "execution_count": 45,
     "metadata": {},
     "output_type": "execute_result"
    }
   ],
   "source": [
    "pd.DataFrame(encoded_test_x).head()"
   ]
  },
  {
   "cell_type": "code",
   "execution_count": 46,
   "id": "disturbed-appreciation",
   "metadata": {
    "execution": {
     "iopub.execute_input": "2021-05-14T15:57:11.415578Z",
     "iopub.status.busy": "2021-05-14T15:57:11.414740Z",
     "iopub.status.idle": "2021-05-14T15:57:11.418009Z",
     "shell.execute_reply": "2021-05-14T15:57:11.418612Z"
    },
    "papermill": {
     "duration": 0.09017,
     "end_time": "2021-05-14T15:57:11.418771",
     "exception": false,
     "start_time": "2021-05-14T15:57:11.328601",
     "status": "completed"
    },
    "tags": []
   },
   "outputs": [
    {
     "data": {
      "text/plain": [
       "(418, 10)"
      ]
     },
     "execution_count": 46,
     "metadata": {},
     "output_type": "execute_result"
    }
   ],
   "source": [
    "encoded_test_x.shape"
   ]
  },
  {
   "cell_type": "markdown",
   "id": "hourly-czech",
   "metadata": {
    "papermill": {
     "duration": 0.082257,
     "end_time": "2021-05-14T15:57:11.581692",
     "exception": false,
     "start_time": "2021-05-14T15:57:11.499435",
     "status": "completed"
    },
    "tags": []
   },
   "source": [
    "Now let's create `y_test`"
   ]
  },
  {
   "cell_type": "code",
   "execution_count": 47,
   "id": "polish-editor",
   "metadata": {
    "execution": {
     "iopub.execute_input": "2021-05-14T15:57:11.751567Z",
     "iopub.status.busy": "2021-05-14T15:57:11.750866Z",
     "iopub.status.idle": "2021-05-14T15:57:11.760691Z",
     "shell.execute_reply": "2021-05-14T15:57:11.759986Z"
    },
    "papermill": {
     "duration": 0.098979,
     "end_time": "2021-05-14T15:57:11.760824",
     "exception": false,
     "start_time": "2021-05-14T15:57:11.661845",
     "status": "completed"
    },
    "tags": []
   },
   "outputs": [],
   "source": [
    "gender_sub = pd.read_csv('../input/titanic/gender_submission.csv')\n",
    "y_test = gender_sub['Survived']"
   ]
  },
  {
   "cell_type": "code",
   "execution_count": 48,
   "id": "desperate-scout",
   "metadata": {
    "execution": {
     "iopub.execute_input": "2021-05-14T15:57:11.930772Z",
     "iopub.status.busy": "2021-05-14T15:57:11.929851Z",
     "iopub.status.idle": "2021-05-14T15:57:11.934035Z",
     "shell.execute_reply": "2021-05-14T15:57:11.934537Z"
    },
    "papermill": {
     "duration": 0.091341,
     "end_time": "2021-05-14T15:57:11.934722",
     "exception": false,
     "start_time": "2021-05-14T15:57:11.843381",
     "status": "completed"
    },
    "tags": []
   },
   "outputs": [
    {
     "data": {
      "text/plain": [
       "(418,)"
      ]
     },
     "execution_count": 48,
     "metadata": {},
     "output_type": "execute_result"
    }
   ],
   "source": [
    "y_test.shape"
   ]
  },
  {
   "cell_type": "markdown",
   "id": "spanish-forestry",
   "metadata": {
    "papermill": {
     "duration": 0.084215,
     "end_time": "2021-05-14T15:57:12.102067",
     "exception": false,
     "start_time": "2021-05-14T15:57:12.017852",
     "status": "completed"
    },
    "tags": []
   },
   "source": [
    "# Applying Machine Learning"
   ]
  },
  {
   "cell_type": "markdown",
   "id": "specialized-sheriff",
   "metadata": {
    "papermill": {
     "duration": 0.081254,
     "end_time": "2021-05-14T15:57:12.267495",
     "exception": false,
     "start_time": "2021-05-14T15:57:12.186241",
     "status": "completed"
    },
    "tags": []
   },
   "source": [
    "# Logistic Regression"
   ]
  },
  {
   "cell_type": "code",
   "execution_count": 49,
   "id": "reliable-holly",
   "metadata": {
    "execution": {
     "iopub.execute_input": "2021-05-14T15:57:12.438650Z",
     "iopub.status.busy": "2021-05-14T15:57:12.437705Z",
     "iopub.status.idle": "2021-05-14T15:57:12.596747Z",
     "shell.execute_reply": "2021-05-14T15:57:12.595786Z"
    },
    "papermill": {
     "duration": 0.248361,
     "end_time": "2021-05-14T15:57:12.596987",
     "exception": false,
     "start_time": "2021-05-14T15:57:12.348626",
     "status": "completed"
    },
    "tags": []
   },
   "outputs": [
    {
     "data": {
      "text/plain": [
       "0.9090909090909091"
      ]
     },
     "execution_count": 49,
     "metadata": {},
     "output_type": "execute_result"
    }
   ],
   "source": [
    "from sklearn.linear_model import LogisticRegression\n",
    "log_clf = LogisticRegression(max_iter = 1000, random_state = 7)\n",
    "log_clf.fit(x_smote, y_smote)\n",
    "log_score = log_clf.score(encoded_test_x, y_test)\n",
    "log_score"
   ]
  },
  {
   "cell_type": "markdown",
   "id": "referenced-extraction",
   "metadata": {
    "papermill": {
     "duration": 0.095623,
     "end_time": "2021-05-14T15:57:12.837708",
     "exception": false,
     "start_time": "2021-05-14T15:57:12.742085",
     "status": "completed"
    },
    "tags": []
   },
   "source": [
    "# Logistic Regression Hyperparameter Tuning"
   ]
  },
  {
   "cell_type": "code",
   "execution_count": 50,
   "id": "affiliated-crack",
   "metadata": {
    "execution": {
     "iopub.execute_input": "2021-05-14T15:57:13.033150Z",
     "iopub.status.busy": "2021-05-14T15:57:13.032049Z",
     "iopub.status.idle": "2021-05-14T15:57:13.035161Z",
     "shell.execute_reply": "2021-05-14T15:57:13.034647Z"
    },
    "papermill": {
     "duration": 0.102953,
     "end_time": "2021-05-14T15:57:13.035299",
     "exception": false,
     "start_time": "2021-05-14T15:57:12.932346",
     "status": "completed"
    },
    "tags": []
   },
   "outputs": [],
   "source": [
    "from sklearn.model_selection import GridSearchCV, RandomizedSearchCV"
   ]
  },
  {
   "cell_type": "code",
   "execution_count": 51,
   "id": "painted-residence",
   "metadata": {
    "execution": {
     "iopub.execute_input": "2021-05-14T15:57:13.216249Z",
     "iopub.status.busy": "2021-05-14T15:57:13.215272Z",
     "iopub.status.idle": "2021-05-14T15:58:24.454092Z",
     "shell.execute_reply": "2021-05-14T15:58:24.454624Z"
    },
    "papermill": {
     "duration": 71.329197,
     "end_time": "2021-05-14T15:58:24.454837",
     "exception": false,
     "start_time": "2021-05-14T15:57:13.125640",
     "status": "completed"
    },
    "tags": []
   },
   "outputs": [
    {
     "name": "stdout",
     "output_type": "stream",
     "text": [
      "Fitting 5 folds for each of 1900 candidates, totalling 9500 fits\n"
     ]
    },
    {
     "data": {
      "text/plain": [
       "0.9090909090909091"
      ]
     },
     "execution_count": 51,
     "metadata": {},
     "output_type": "execute_result"
    }
   ],
   "source": [
    "log_grid = {'C': np.logspace(-4, 4),\n",
    "            'solver': ['liblinear'],\n",
    "            'max_iter': np.arange(100, 2000, 100),\n",
    "            'penalty':['l1', 'l2']\n",
    "           }\n",
    "\n",
    "log_gscv = GridSearchCV(LogisticRegression(random_state = 7),\n",
    "                          param_grid=log_grid,\n",
    "                          cv=5,\n",
    "                          verbose=True)\n",
    "\n",
    "log_gscv.fit(x_smote, y_smote)\n",
    "log_tuned_score = log_gscv.score(encoded_test_x, y_test)\n",
    "log_tuned_score"
   ]
  },
  {
   "cell_type": "code",
   "execution_count": 52,
   "id": "fantastic-residence",
   "metadata": {
    "execution": {
     "iopub.execute_input": "2021-05-14T15:58:24.649195Z",
     "iopub.status.busy": "2021-05-14T15:58:24.648220Z",
     "iopub.status.idle": "2021-05-14T15:58:24.651882Z",
     "shell.execute_reply": "2021-05-14T15:58:24.652432Z"
    },
    "papermill": {
     "duration": 0.105238,
     "end_time": "2021-05-14T15:58:24.652601",
     "exception": false,
     "start_time": "2021-05-14T15:58:24.547363",
     "status": "completed"
    },
    "tags": []
   },
   "outputs": [
    {
     "data": {
      "text/plain": [
       "{'C': 0.5689866029018293,\n",
       " 'max_iter': 100,\n",
       " 'penalty': 'l2',\n",
       " 'solver': 'liblinear'}"
      ]
     },
     "execution_count": 52,
     "metadata": {},
     "output_type": "execute_result"
    }
   ],
   "source": [
    "log_gscv.best_params_"
   ]
  },
  {
   "cell_type": "markdown",
   "id": "naughty-compression",
   "metadata": {
    "papermill": {
     "duration": 0.085105,
     "end_time": "2021-05-14T15:58:24.823195",
     "exception": false,
     "start_time": "2021-05-14T15:58:24.738090",
     "status": "completed"
    },
    "tags": []
   },
   "source": [
    "# Linear SVC"
   ]
  },
  {
   "cell_type": "code",
   "execution_count": 53,
   "id": "minor-fluid",
   "metadata": {
    "execution": {
     "iopub.execute_input": "2021-05-14T15:58:25.004274Z",
     "iopub.status.busy": "2021-05-14T15:58:25.003256Z",
     "iopub.status.idle": "2021-05-14T15:58:25.115645Z",
     "shell.execute_reply": "2021-05-14T15:58:25.116977Z"
    },
    "papermill": {
     "duration": 0.207619,
     "end_time": "2021-05-14T15:58:25.117251",
     "exception": false,
     "start_time": "2021-05-14T15:58:24.909632",
     "status": "completed"
    },
    "tags": []
   },
   "outputs": [
    {
     "data": {
      "text/plain": [
       "0.638755980861244"
      ]
     },
     "execution_count": 53,
     "metadata": {},
     "output_type": "execute_result"
    }
   ],
   "source": [
    "from sklearn import svm\n",
    "svc_clf = svm.SVC(random_state = 7)\n",
    "svc_clf.fit(x_smote, y_smote)\n",
    "svc_score = svc_clf.score(encoded_test_x, y_test)\n",
    "svc_score"
   ]
  },
  {
   "cell_type": "markdown",
   "id": "portuguese-three",
   "metadata": {
    "papermill": {
     "duration": 0.140313,
     "end_time": "2021-05-14T15:58:25.402353",
     "exception": false,
     "start_time": "2021-05-14T15:58:25.262040",
     "status": "completed"
    },
    "tags": []
   },
   "source": [
    "# SVC Hyperparameter tuning"
   ]
  },
  {
   "cell_type": "code",
   "execution_count": 54,
   "id": "olive-check",
   "metadata": {
    "execution": {
     "iopub.execute_input": "2021-05-14T15:58:25.693301Z",
     "iopub.status.busy": "2021-05-14T15:58:25.692362Z",
     "iopub.status.idle": "2021-05-14T16:01:07.727633Z",
     "shell.execute_reply": "2021-05-14T16:01:07.728119Z"
    },
    "papermill": {
     "duration": 162.184292,
     "end_time": "2021-05-14T16:01:07.728288",
     "exception": false,
     "start_time": "2021-05-14T15:58:25.543996",
     "status": "completed"
    },
    "tags": []
   },
   "outputs": [
    {
     "name": "stdout",
     "output_type": "stream",
     "text": [
      "Fitting 5 folds for each of 60 candidates, totalling 300 fits\n"
     ]
    },
    {
     "data": {
      "text/plain": [
       "0.9090909090909091"
      ]
     },
     "execution_count": 54,
     "metadata": {},
     "output_type": "execute_result"
    }
   ],
   "source": [
    "svc_grid = {'C': np.logspace(-5, 5, 20),\n",
    "            'kernel': ['rbf'],\n",
    "            'degree': [2,3,4]\n",
    "           }\n",
    "\n",
    "svc_gscv = GridSearchCV(svm.SVC(random_state = 31),\n",
    "                        param_grid=svc_grid,\n",
    "                        cv=5,\n",
    "                        verbose=True)\n",
    "\n",
    "svc_gscv.fit(x_smote, y_smote)\n",
    "svc_tuned_score = log_gscv.score(encoded_test_x, y_test)\n",
    "svc_tuned_score"
   ]
  },
  {
   "cell_type": "code",
   "execution_count": 55,
   "id": "included-penetration",
   "metadata": {
    "execution": {
     "iopub.execute_input": "2021-05-14T16:01:07.906842Z",
     "iopub.status.busy": "2021-05-14T16:01:07.906278Z",
     "iopub.status.idle": "2021-05-14T16:01:07.912424Z",
     "shell.execute_reply": "2021-05-14T16:01:07.912867Z"
    },
    "papermill": {
     "duration": 0.097794,
     "end_time": "2021-05-14T16:01:07.913046",
     "exception": false,
     "start_time": "2021-05-14T16:01:07.815252",
     "status": "completed"
    },
    "tags": []
   },
   "outputs": [
    {
     "data": {
      "text/plain": [
       "{'C': 8858.667904100832, 'degree': 2, 'kernel': 'rbf'}"
      ]
     },
     "execution_count": 55,
     "metadata": {},
     "output_type": "execute_result"
    }
   ],
   "source": [
    "svc_gscv.best_params_"
   ]
  },
  {
   "cell_type": "markdown",
   "id": "suited-mustang",
   "metadata": {
    "papermill": {
     "duration": 0.082878,
     "end_time": "2021-05-14T16:01:08.084570",
     "exception": false,
     "start_time": "2021-05-14T16:01:08.001692",
     "status": "completed"
    },
    "tags": []
   },
   "source": [
    "# KNeighbors Classifier"
   ]
  },
  {
   "cell_type": "code",
   "execution_count": 56,
   "id": "imported-nelson",
   "metadata": {
    "execution": {
     "iopub.execute_input": "2021-05-14T16:01:08.263301Z",
     "iopub.status.busy": "2021-05-14T16:01:08.262417Z",
     "iopub.status.idle": "2021-05-14T16:01:08.290049Z",
     "shell.execute_reply": "2021-05-14T16:01:08.289509Z"
    },
    "papermill": {
     "duration": 0.118917,
     "end_time": "2021-05-14T16:01:08.290191",
     "exception": false,
     "start_time": "2021-05-14T16:01:08.171274",
     "status": "completed"
    },
    "tags": []
   },
   "outputs": [
    {
     "data": {
      "text/plain": [
       "0.6626794258373205"
      ]
     },
     "execution_count": 56,
     "metadata": {},
     "output_type": "execute_result"
    }
   ],
   "source": [
    "from sklearn.neighbors import KNeighborsClassifier\n",
    "\n",
    "knn_clf = KNeighborsClassifier()\n",
    "knn_clf.fit(x_smote, y_smote)\n",
    "knn_score = knn_clf.score(encoded_test_x, y_test)\n",
    "knn_score"
   ]
  },
  {
   "cell_type": "markdown",
   "id": "helpful-proposition",
   "metadata": {
    "papermill": {
     "duration": 0.086927,
     "end_time": "2021-05-14T16:01:08.462771",
     "exception": false,
     "start_time": "2021-05-14T16:01:08.375844",
     "status": "completed"
    },
    "tags": []
   },
   "source": [
    "# KNeighbors Classifier Hyperparameter Tuning"
   ]
  },
  {
   "cell_type": "code",
   "execution_count": 57,
   "id": "iraqi-paint",
   "metadata": {
    "execution": {
     "iopub.execute_input": "2021-05-14T16:01:08.644189Z",
     "iopub.status.busy": "2021-05-14T16:01:08.643300Z",
     "iopub.status.idle": "2021-05-14T16:04:48.211990Z",
     "shell.execute_reply": "2021-05-14T16:04:48.212622Z"
    },
    "papermill": {
     "duration": 219.663638,
     "end_time": "2021-05-14T16:04:48.212813",
     "exception": false,
     "start_time": "2021-05-14T16:01:08.549175",
     "status": "completed"
    },
    "tags": []
   },
   "outputs": [
    {
     "name": "stdout",
     "output_type": "stream",
     "text": [
      "Fitting 5 folds for each of 1755 candidates, totalling 8775 fits\n"
     ]
    },
    {
     "data": {
      "text/plain": [
       "0.6913875598086124"
      ]
     },
     "execution_count": 57,
     "metadata": {},
     "output_type": "execute_result"
    }
   ],
   "source": [
    "knn_grid = {'n_neighbors': np.arange(2, 15),\n",
    "            'leaf_size': [10, 15, 20, 25, 30, 35, 40, 45, 50],\n",
    "            'p':[1,2,3,4,5], \n",
    "            'algorithm': ['auto', 'ball_tree', 'kd_tree']}\n",
    "\n",
    "knn_gscv = GridSearchCV(KNeighborsClassifier(),\n",
    "                        param_grid=knn_grid,\n",
    "                        cv=5,\n",
    "                        verbose=True)\n",
    "\n",
    "knn_gscv.fit(x_smote, y_smote)\n",
    "knn_tuned_score = knn_gscv.score(encoded_test_x, y_test)\n",
    "knn_tuned_score"
   ]
  },
  {
   "cell_type": "code",
   "execution_count": 58,
   "id": "republican-apparel",
   "metadata": {
    "execution": {
     "iopub.execute_input": "2021-05-14T16:04:48.400609Z",
     "iopub.status.busy": "2021-05-14T16:04:48.399663Z",
     "iopub.status.idle": "2021-05-14T16:04:48.403135Z",
     "shell.execute_reply": "2021-05-14T16:04:48.403563Z"
    },
    "papermill": {
     "duration": 0.099758,
     "end_time": "2021-05-14T16:04:48.403706",
     "exception": false,
     "start_time": "2021-05-14T16:04:48.303948",
     "status": "completed"
    },
    "tags": []
   },
   "outputs": [
    {
     "data": {
      "text/plain": [
       "{'algorithm': 'ball_tree', 'leaf_size': 30, 'n_neighbors': 3, 'p': 1}"
      ]
     },
     "execution_count": 58,
     "metadata": {},
     "output_type": "execute_result"
    }
   ],
   "source": [
    "knn_gscv.best_params_"
   ]
  },
  {
   "cell_type": "markdown",
   "id": "welcome-inclusion",
   "metadata": {
    "papermill": {
     "duration": 0.097512,
     "end_time": "2021-05-14T16:04:48.591546",
     "exception": false,
     "start_time": "2021-05-14T16:04:48.494034",
     "status": "completed"
    },
    "tags": []
   },
   "source": [
    "# Random Forest"
   ]
  },
  {
   "cell_type": "code",
   "execution_count": 59,
   "id": "danish-calgary",
   "metadata": {
    "execution": {
     "iopub.execute_input": "2021-05-14T16:04:48.783157Z",
     "iopub.status.busy": "2021-05-14T16:04:48.782206Z",
     "iopub.status.idle": "2021-05-14T16:04:51.668380Z",
     "shell.execute_reply": "2021-05-14T16:04:51.667848Z"
    },
    "papermill": {
     "duration": 2.983751,
     "end_time": "2021-05-14T16:04:51.668521",
     "exception": false,
     "start_time": "2021-05-14T16:04:48.684770",
     "status": "completed"
    },
    "tags": []
   },
   "outputs": [
    {
     "data": {
      "text/plain": [
       "0.8277511961722488"
      ]
     },
     "execution_count": 59,
     "metadata": {},
     "output_type": "execute_result"
    }
   ],
   "source": [
    "from sklearn.ensemble import RandomForestClassifier\n",
    "\n",
    "rand_clf = RandomForestClassifier(n_estimators=1000, random_state = 35)\n",
    "rand_clf.fit(x_smote, y_smote)\n",
    "ranf_score = rand_clf.score(encoded_test_x, y_test)\n",
    "ranf_score"
   ]
  },
  {
   "cell_type": "markdown",
   "id": "colonial-brighton",
   "metadata": {
    "papermill": {
     "duration": 0.143114,
     "end_time": "2021-05-14T16:04:51.972838",
     "exception": false,
     "start_time": "2021-05-14T16:04:51.829724",
     "status": "completed"
    },
    "tags": []
   },
   "source": [
    "# Random Forest hyperparameter tuning"
   ]
  },
  {
   "cell_type": "code",
   "execution_count": 60,
   "id": "entire-financing",
   "metadata": {
    "execution": {
     "iopub.execute_input": "2021-05-14T16:04:52.268902Z",
     "iopub.status.busy": "2021-05-14T16:04:52.267863Z",
     "iopub.status.idle": "2021-05-14T16:16:09.065458Z",
     "shell.execute_reply": "2021-05-14T16:16:09.066122Z"
    },
    "papermill": {
     "duration": 676.947348,
     "end_time": "2021-05-14T16:16:09.066331",
     "exception": false,
     "start_time": "2021-05-14T16:04:52.118983",
     "status": "completed"
    },
    "tags": []
   },
   "outputs": [
    {
     "name": "stdout",
     "output_type": "stream",
     "text": [
      "Fitting 5 folds for each of 50 candidates, totalling 250 fits\n"
     ]
    },
    {
     "data": {
      "text/plain": [
       "0.8995215311004785"
      ]
     },
     "execution_count": 60,
     "metadata": {},
     "output_type": "execute_result"
    }
   ],
   "source": [
    "rfcv_grid = {\"n_estimators\": np.arange(500, 2000, 100),\n",
    "           \"max_depth\": [None, 3, 5, 10],\n",
    "           \"min_samples_split\": np.arange(2, 20, 2),\n",
    "           \"min_samples_leaf\": np.arange(1, 20, 2)}\n",
    "\n",
    "rfcv_clf = RandomizedSearchCV(RandomForestClassifier(),\n",
    "                           param_distributions = rfcv_grid,\n",
    "                           cv=5,\n",
    "                           n_iter = 50,\n",
    "                           verbose=True)\n",
    "\n",
    "rfcv_clf.fit(x_smote, y_smote)\n",
    "ranf_tuned_score = rfcv_clf.score(encoded_test_x, y_test)\n",
    "ranf_tuned_score"
   ]
  },
  {
   "cell_type": "code",
   "execution_count": 61,
   "id": "signal-logistics",
   "metadata": {
    "execution": {
     "iopub.execute_input": "2021-05-14T16:16:09.250928Z",
     "iopub.status.busy": "2021-05-14T16:16:09.250285Z",
     "iopub.status.idle": "2021-05-14T16:16:09.256508Z",
     "shell.execute_reply": "2021-05-14T16:16:09.255953Z"
    },
    "papermill": {
     "duration": 0.101723,
     "end_time": "2021-05-14T16:16:09.256638",
     "exception": false,
     "start_time": "2021-05-14T16:16:09.154915",
     "status": "completed"
    },
    "tags": []
   },
   "outputs": [
    {
     "data": {
      "text/plain": [
       "{'n_estimators': 1300,\n",
       " 'min_samples_split': 16,\n",
       " 'min_samples_leaf': 1,\n",
       " 'max_depth': None}"
      ]
     },
     "execution_count": 61,
     "metadata": {},
     "output_type": "execute_result"
    }
   ],
   "source": [
    "rfcv_clf.best_params_"
   ]
  },
  {
   "cell_type": "markdown",
   "id": "neither-warrior",
   "metadata": {
    "papermill": {
     "duration": 0.090518,
     "end_time": "2021-05-14T16:16:09.439105",
     "exception": false,
     "start_time": "2021-05-14T16:16:09.348587",
     "status": "completed"
    },
    "tags": []
   },
   "source": [
    "Let's make a dictionary of all models and accuracy"
   ]
  },
  {
   "cell_type": "code",
   "execution_count": 62,
   "id": "professional-continent",
   "metadata": {
    "execution": {
     "iopub.execute_input": "2021-05-14T16:16:09.627430Z",
     "iopub.status.busy": "2021-05-14T16:16:09.626427Z",
     "iopub.status.idle": "2021-05-14T16:16:09.629440Z",
     "shell.execute_reply": "2021-05-14T16:16:09.628917Z"
    },
    "papermill": {
     "duration": 0.099488,
     "end_time": "2021-05-14T16:16:09.629569",
     "exception": false,
     "start_time": "2021-05-14T16:16:09.530081",
     "status": "completed"
    },
    "tags": []
   },
   "outputs": [],
   "source": [
    "score = [{'Model':'Logistic Regression', 'Score': log_score, 'Tuned_score': log_tuned_score}, \n",
    "         {'Model':'SVC', 'Score': svc_score, 'Tuned_score': svc_tuned_score},\n",
    "         {'Model':'KNN', 'Score': knn_score, 'Tuned_score': knn_tuned_score},\n",
    "         {'Model':'Random Forest', 'Score': ranf_score, 'Tuned_score': ranf_tuned_score}]"
   ]
  },
  {
   "cell_type": "markdown",
   "id": "smart-tourism",
   "metadata": {
    "papermill": {
     "duration": 0.090802,
     "end_time": "2021-05-14T16:16:09.812045",
     "exception": false,
     "start_time": "2021-05-14T16:16:09.721243",
     "status": "completed"
    },
    "tags": []
   },
   "source": [
    "Let's view all model score as a dataframe to get a good overview"
   ]
  },
  {
   "cell_type": "code",
   "execution_count": 63,
   "id": "standard-budapest",
   "metadata": {
    "execution": {
     "iopub.execute_input": "2021-05-14T16:16:10.004816Z",
     "iopub.status.busy": "2021-05-14T16:16:10.003918Z",
     "iopub.status.idle": "2021-05-14T16:16:10.007573Z",
     "shell.execute_reply": "2021-05-14T16:16:10.008126Z"
    },
    "papermill": {
     "duration": 0.104652,
     "end_time": "2021-05-14T16:16:10.008291",
     "exception": false,
     "start_time": "2021-05-14T16:16:09.903639",
     "status": "completed"
    },
    "tags": []
   },
   "outputs": [
    {
     "data": {
      "text/html": [
       "<div>\n",
       "<style scoped>\n",
       "    .dataframe tbody tr th:only-of-type {\n",
       "        vertical-align: middle;\n",
       "    }\n",
       "\n",
       "    .dataframe tbody tr th {\n",
       "        vertical-align: top;\n",
       "    }\n",
       "\n",
       "    .dataframe thead th {\n",
       "        text-align: right;\n",
       "    }\n",
       "</style>\n",
       "<table border=\"1\" class=\"dataframe\">\n",
       "  <thead>\n",
       "    <tr style=\"text-align: right;\">\n",
       "      <th></th>\n",
       "      <th>Model</th>\n",
       "      <th>Score</th>\n",
       "      <th>Tuned_score</th>\n",
       "    </tr>\n",
       "  </thead>\n",
       "  <tbody>\n",
       "    <tr>\n",
       "      <th>0</th>\n",
       "      <td>Logistic Regression</td>\n",
       "      <td>0.909091</td>\n",
       "      <td>0.909091</td>\n",
       "    </tr>\n",
       "    <tr>\n",
       "      <th>1</th>\n",
       "      <td>SVC</td>\n",
       "      <td>0.638756</td>\n",
       "      <td>0.909091</td>\n",
       "    </tr>\n",
       "    <tr>\n",
       "      <th>2</th>\n",
       "      <td>KNN</td>\n",
       "      <td>0.662679</td>\n",
       "      <td>0.691388</td>\n",
       "    </tr>\n",
       "    <tr>\n",
       "      <th>3</th>\n",
       "      <td>Random Forest</td>\n",
       "      <td>0.827751</td>\n",
       "      <td>0.899522</td>\n",
       "    </tr>\n",
       "  </tbody>\n",
       "</table>\n",
       "</div>"
      ],
      "text/plain": [
       "                 Model     Score  Tuned_score\n",
       "0  Logistic Regression  0.909091     0.909091\n",
       "1                  SVC  0.638756     0.909091\n",
       "2                  KNN  0.662679     0.691388\n",
       "3        Random Forest  0.827751     0.899522"
      ]
     },
     "execution_count": 63,
     "metadata": {},
     "output_type": "execute_result"
    }
   ],
   "source": [
    "pd.DataFrame(score, columns=['Model','Score','Tuned_score'])"
   ]
  },
  {
   "cell_type": "markdown",
   "id": "periodic-excitement",
   "metadata": {
    "papermill": {
     "duration": 0.089826,
     "end_time": "2021-05-14T16:16:10.191448",
     "exception": false,
     "start_time": "2021-05-14T16:16:10.101622",
     "status": "completed"
    },
    "tags": []
   },
   "source": [
    "`tuned logistic regression` and `tuned svc` has the highest accuracy.\n",
    "\n",
    "We can use one of them to predict"
   ]
  },
  {
   "cell_type": "markdown",
   "id": "civic-ottawa",
   "metadata": {
    "papermill": {
     "duration": 0.087025,
     "end_time": "2021-05-14T16:16:10.365605",
     "exception": false,
     "start_time": "2021-05-14T16:16:10.278580",
     "status": "completed"
    },
    "tags": []
   },
   "source": [
    "**let's predict using `Logistic regression`**"
   ]
  },
  {
   "cell_type": "code",
   "execution_count": 64,
   "id": "funky-scottish",
   "metadata": {
    "execution": {
     "iopub.execute_input": "2021-05-14T16:16:10.555080Z",
     "iopub.status.busy": "2021-05-14T16:16:10.553912Z",
     "iopub.status.idle": "2021-05-14T16:16:10.557277Z",
     "shell.execute_reply": "2021-05-14T16:16:10.556718Z"
    },
    "papermill": {
     "duration": 0.099988,
     "end_time": "2021-05-14T16:16:10.557445",
     "exception": false,
     "start_time": "2021-05-14T16:16:10.457457",
     "status": "completed"
    },
    "tags": []
   },
   "outputs": [],
   "source": [
    "y_preds = log_gscv.predict(encoded_test_x)"
   ]
  },
  {
   "cell_type": "markdown",
   "id": "bound-jones",
   "metadata": {
    "papermill": {
     "duration": 0.091304,
     "end_time": "2021-05-14T16:16:10.747399",
     "exception": false,
     "start_time": "2021-05-14T16:16:10.656095",
     "status": "completed"
    },
    "tags": []
   },
   "source": [
    "Check the result"
   ]
  },
  {
   "cell_type": "code",
   "execution_count": 65,
   "id": "changed-sydney",
   "metadata": {
    "execution": {
     "iopub.execute_input": "2021-05-14T16:16:10.943585Z",
     "iopub.status.busy": "2021-05-14T16:16:10.936384Z",
     "iopub.status.idle": "2021-05-14T16:16:10.957432Z",
     "shell.execute_reply": "2021-05-14T16:16:10.957954Z"
    },
    "papermill": {
     "duration": 0.120154,
     "end_time": "2021-05-14T16:16:10.958150",
     "exception": false,
     "start_time": "2021-05-14T16:16:10.837996",
     "status": "completed"
    },
    "tags": []
   },
   "outputs": [
    {
     "data": {
      "text/html": [
       "<div>\n",
       "<style scoped>\n",
       "    .dataframe tbody tr th:only-of-type {\n",
       "        vertical-align: middle;\n",
       "    }\n",
       "\n",
       "    .dataframe tbody tr th {\n",
       "        vertical-align: top;\n",
       "    }\n",
       "\n",
       "    .dataframe thead th {\n",
       "        text-align: right;\n",
       "    }\n",
       "</style>\n",
       "<table border=\"1\" class=\"dataframe\">\n",
       "  <thead>\n",
       "    <tr style=\"text-align: right;\">\n",
       "      <th>Predicted Label</th>\n",
       "      <th>0</th>\n",
       "      <th>1</th>\n",
       "    </tr>\n",
       "    <tr>\n",
       "      <th>Actual Label</th>\n",
       "      <th></th>\n",
       "      <th></th>\n",
       "    </tr>\n",
       "  </thead>\n",
       "  <tbody>\n",
       "    <tr>\n",
       "      <th>0</th>\n",
       "      <td>232</td>\n",
       "      <td>34</td>\n",
       "    </tr>\n",
       "    <tr>\n",
       "      <th>1</th>\n",
       "      <td>4</td>\n",
       "      <td>148</td>\n",
       "    </tr>\n",
       "  </tbody>\n",
       "</table>\n",
       "</div>"
      ],
      "text/plain": [
       "Predicted Label    0    1\n",
       "Actual Label             \n",
       "0                232   34\n",
       "1                  4  148"
      ]
     },
     "execution_count": 65,
     "metadata": {},
     "output_type": "execute_result"
    }
   ],
   "source": [
    "pd.crosstab(y_test, y_preds, rownames=[\"Actual Label\"], colnames=[\"Predicted Label\"])"
   ]
  },
  {
   "cell_type": "markdown",
   "id": "administrative-farmer",
   "metadata": {
    "papermill": {
     "duration": 0.098979,
     "end_time": "2021-05-14T16:16:11.150271",
     "exception": false,
     "start_time": "2021-05-14T16:16:11.051292",
     "status": "completed"
    },
    "tags": []
   },
   "source": [
    "Let's now check the classification report"
   ]
  },
  {
   "cell_type": "code",
   "execution_count": 66,
   "id": "portable-nashville",
   "metadata": {
    "execution": {
     "iopub.execute_input": "2021-05-14T16:16:11.342621Z",
     "iopub.status.busy": "2021-05-14T16:16:11.341561Z",
     "iopub.status.idle": "2021-05-14T16:16:11.351576Z",
     "shell.execute_reply": "2021-05-14T16:16:11.351109Z"
    },
    "papermill": {
     "duration": 0.106409,
     "end_time": "2021-05-14T16:16:11.351711",
     "exception": false,
     "start_time": "2021-05-14T16:16:11.245302",
     "status": "completed"
    },
    "tags": []
   },
   "outputs": [
    {
     "name": "stdout",
     "output_type": "stream",
     "text": [
      "              precision    recall  f1-score   support\n",
      "\n",
      "           0       0.98      0.87      0.92       266\n",
      "           1       0.81      0.97      0.89       152\n",
      "\n",
      "    accuracy                           0.91       418\n",
      "   macro avg       0.90      0.92      0.91       418\n",
      "weighted avg       0.92      0.91      0.91       418\n",
      "\n"
     ]
    }
   ],
   "source": [
    "from sklearn.metrics import classification_report\n",
    "print(classification_report(y_test, y_preds))"
   ]
  },
  {
   "cell_type": "markdown",
   "id": "pursuant-appearance",
   "metadata": {
    "papermill": {
     "duration": 0.087855,
     "end_time": "2021-05-14T16:16:11.529908",
     "exception": false,
     "start_time": "2021-05-14T16:16:11.442053",
     "status": "completed"
    },
    "tags": []
   },
   "source": [
    "Now, check the `ROC` curve"
   ]
  },
  {
   "cell_type": "code",
   "execution_count": 67,
   "id": "generous-chambers",
   "metadata": {
    "execution": {
     "iopub.execute_input": "2021-05-14T16:16:11.721171Z",
     "iopub.status.busy": "2021-05-14T16:16:11.720098Z",
     "iopub.status.idle": "2021-05-14T16:16:11.885816Z",
     "shell.execute_reply": "2021-05-14T16:16:11.886314Z"
    },
    "papermill": {
     "duration": 0.264927,
     "end_time": "2021-05-14T16:16:11.886468",
     "exception": false,
     "start_time": "2021-05-14T16:16:11.621541",
     "status": "completed"
    },
    "tags": []
   },
   "outputs": [
    {
     "data": {
      "image/png": "[encoded data removed]",
      "text/plain": [
       "<Figure size 432x288 with 1 Axes>"
      ]
     },
     "metadata": {
      "needs_background": "light"
     },
     "output_type": "display_data"
    }
   ],
   "source": [
    "from sklearn.metrics import plot_roc_curve\n",
    "plot_roc_curve(log_gscv, encoded_test_x, y_test)\n",
    "plt.xlabel('False Positive Rate')\n",
    "plt.ylabel('True Positive Rate')\n",
    "plt.title('Receiver Operating Characteristic Curve');"
   ]
  },
  {
   "cell_type": "markdown",
   "id": "positive-institute",
   "metadata": {
    "papermill": {
     "duration": 0.094382,
     "end_time": "2021-05-14T16:16:12.072256",
     "exception": false,
     "start_time": "2021-05-14T16:16:11.977874",
     "status": "completed"
    },
    "tags": []
   },
   "source": [
    "# Creating file for submission "
   ]
  },
  {
   "cell_type": "code",
   "execution_count": 68,
   "id": "liable-holder",
   "metadata": {
    "execution": {
     "iopub.execute_input": "2021-05-14T16:16:12.391082Z",
     "iopub.status.busy": "2021-05-14T16:16:12.390141Z",
     "iopub.status.idle": "2021-05-14T16:16:12.629904Z",
     "shell.execute_reply": "2021-05-14T16:16:12.630547Z"
    },
    "papermill": {
     "duration": 0.400084,
     "end_time": "2021-05-14T16:16:12.630708",
     "exception": false,
     "start_time": "2021-05-14T16:16:12.230624",
     "status": "completed"
    },
    "tags": []
   },
   "outputs": [],
   "source": [
    "final_data = {'PassengerId': test.PassengerId, 'Survived': y_preds}\n",
    "final_submission = pd.DataFrame(data=final_data)\n",
    "final_submission.to_csv('submission_file.csv',index =False)"
   ]
  }
 ],
 "metadata": {
  "kernelspec": {
   "display_name": "Python 3",
   "language": "python",
   "name": "python3"
  },
  "language_info": {
   "codemirror_mode": {
    "name": "ipython",
    "version": 3
   },
   "file_extension": ".py",
   "mimetype": "text/x-python",
   "name": "python",
   "nbconvert_exporter": "python",
   "pygments_lexer": "ipython3",
   "version": "3.7.6"
  },
  "papermill": {
   "default_parameters": {},
   "duration": 1166.320085,
   "end_time": "2021-05-14T16:16:14.208008",
   "environment_variables": {},
   "exception": null,
   "input_path": "__notebook__.ipynb",
   "output_path": "__notebook__.ipynb",
   "parameters": {},
   "start_time": "2021-05-14T15:56:47.887923",
   "version": "2.3.3"
  }
 },
 "nbformat": 4,
 "nbformat_minor": 5
}
